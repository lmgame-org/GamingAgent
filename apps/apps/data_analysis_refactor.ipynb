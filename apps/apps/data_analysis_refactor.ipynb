{
 "cells": [
  {
   "cell_type": "code",
   "execution_count": null,
   "metadata": {},
   "outputs": [],
   "source": [
    "import plotly.express as px\n",
    "import pandas as pd\n",
    "import numpy as np\n",
    "from leaderboard_utils import GAME_ORDER\n",
    "\n",
    "\n",
    "# Load the rank data\n",
    "with open('rank_data_03_25_2025.json', 'r') as f:\n",
    "    rank_data = json.load(f)\n",
    "\n",
    "# Get combined leaderboard with all games\n",
    "selected_games = {game: True for game in GAME_ORDER}\n",
    "df = get_combined_leaderboard(rank_data, selected_games)\n",
    "\n",
    "def create_group_bar_chart(df):\n",
    "    \"\"\"\n",
    "    Create an interactive grouped bar chart comparing AI model performance across different games\n",
    "    \n",
    "    Args:\n",
    "        df (pd.DataFrame): DataFrame containing the combined leaderboard data\n",
    "        \n",
    "    Returns:\n",
    "        plotly.graph_objects.Figure: The generated interactive group bar chart figure\n",
    "    \"\"\"\n",
    "    # Get active games (those that have score columns in the DataFrame)\n",
    "    active_games = []\n",
    "    for game in GAME_ORDER:\n",
    "        score_col = f\"{game} Score\"\n",
    "        if score_col in df.columns:\n",
    "            active_games.append(game)\n",
    "    \n",
    "    if not active_games:\n",
    "        return None  # Return None if no games are selected\n",
    "\n",
    "    # Prepare data for plotting\n",
    "    plot_data = []\n",
    "    \n",
    "    for game in active_games:\n",
    "        score_col = f\"{game} Score\"\n",
    "        for _, row in df.iterrows():\n",
    "            model = row['Player']\n",
    "            score = row[score_col]\n",
    "            \n",
    "            if score != '_' and float(score) > 0:  # Only include non-zero scores\n",
    "                plot_data.append({\n",
    "                    'Game': game,\n",
    "                    'Model': model,\n",
    "                    'Score': float(score)\n",
    "                })\n",
    "    \n",
    "    # Create DataFrame for plotting\n",
    "    plot_df = pd.DataFrame(plot_data)\n",
    "    \n",
    "    # Calculate normalized scores for each game\n",
    "    normalized_scores = []\n",
    "    for game in active_games:\n",
    "        game_scores = plot_df[plot_df['Game'] == game]['Score']\n",
    "        mean = game_scores.mean()\n",
    "        std = game_scores.std()\n",
    "        \n",
    "        # Normalize scores using z-score and scale to 0-100 range\n",
    "        if std == 0:\n",
    "            normalized = [50 if s > 0 else 0 for s in game_scores]\n",
    "        else:\n",
    "            z_scores = [(s - mean) / std for s in game_scores]\n",
    "            normalized = [max(0, min(100, (z * 30) + 50)) for z in z_scores]\n",
    "        \n",
    "        normalized_scores.extend(normalized)\n",
    "    \n",
    "    plot_df['Normalized Score'] = normalized_scores\n",
    "    \n",
    "    # Create the interactive bar chart\n",
    "    fig = px.bar(plot_df,\n",
    "                 x='Game',\n",
    "                 y='Normalized Score',\n",
    "                 color='Model',\n",
    "                 title='AI Model Performance Across Games',\n",
    "                 labels={\n",
    "                     'Normalized Score': 'Normalized Performance Score',\n",
    "                     'Game': 'Game',\n",
    "                     'Model': 'AI Models'\n",
    "                 },\n",
    "                 template='plotly_white',\n",
    "                 barmode='group',\n",
    "                 height=600)\n",
    "    \n",
    "    # Customize the layout\n",
    "    fig.update_layout(\n",
    "        title_x=0.5,\n",
    "        title_font_size=20,\n",
    "        xaxis_title_font_size=14,\n",
    "        yaxis_title_font_size=14,\n",
    "        legend_title_font_size=14,\n",
    "        legend_font_size=12,\n",
    "        xaxis_tickangle=45,\n",
    "        margin=dict(l=50, r=50, t=80, b=50),\n",
    "        hovermode='x unified'\n",
    "    )\n",
    "    \n",
    "    # Add hover template\n",
    "    fig.update_traces(\n",
    "        hovertemplate='<b>%{x}</b><br>' +\n",
    "                     'Model: %{fullData.name}<br>' +\n",
    "                     'Normalized Score: %{y:.1f}<br>' +\n",
    "                     'Raw Score: %{customdata[0]:.1f}<extra></extra>',\n",
    "        customdata=plot_df[['Score']].values\n",
    "    )\n",
    "    \n",
    "    return fig\n",
    "\n",
    "fig = create_group_bar_chart(df)\n",
    "fig.show()"
   ]
  },
  {
   "cell_type": "code",
   "execution_count": null,
   "metadata": {},
   "outputs": [],
   "source": [
    "import pandas as pd\n",
    "import plotly.graph_objects as go\n",
    "import json\n",
    "import numpy as np\n",
    "from leaderboard_utils import (\n",
    "    get_sokoban_leaderboard,\n",
    "    get_candy_leaderboard,\n",
    "    get_ace_attorney_leaderboard,\n",
    "    get_2048_leaderboard\n",
    ")\n",
    "\n",
    "# Load rank data\n",
    "with open('rank_data_03_25_2025.json', 'r') as f:\n",
    "    rank_data = json.load(f)\n",
    "\n",
    "# Load model colors\n",
    "with open('assets/model_color.json', 'r') as f:\n",
    "    MODEL_COLORS = json.load(f)\n",
    "\n",
    "def normalize_values(values, mean, std):\n",
    "    \"\"\"\n",
    "    Normalize values using z-score and scale to 0-100 range\n",
    "    \"\"\"\n",
    "    if std == 0:\n",
    "        return [50 if v > 0 else 0 for v in values]  # Handle zero std case\n",
    "    z_scores = [(v - mean) / std for v in values]\n",
    "    # Scale z-scores to 0-100 range, with mean at 50\n",
    "    scaled_values = [max(0, min(100, (z * 30) + 35)) for z in z_scores]\n",
    "    return scaled_values\n",
    "\n",
    "def create_comparison_bar_chart():\n",
    "    # Models to compare\n",
    "    models = ['o3', 'o4-mini', 'gemini-2.5-flash-preview-04-17']\n",
    "    games = ['Sokoban', 'Candy Crush', 'Ace Attorney', '2048']\n",
    "    \n",
    "    # Get data for each game\n",
    "    game_data = {\n",
    "        'Sokoban': get_sokoban_leaderboard(rank_data),\n",
    "        'Candy Crush': get_candy_leaderboard(rank_data),\n",
    "        'Ace Attorney': get_ace_attorney_leaderboard(rank_data),\n",
    "        '2048': get_2048_leaderboard(rank_data)\n",
    "    }\n",
    "    \n",
    "    # Extract and normalize scores for each game\n",
    "    normalized_scores = {model: [] for model in models}\n",
    "    raw_scores = {model: [] for model in models}\n",
    "    \n",
    "    for game in games:\n",
    "        df = game_data[game]\n",
    "        game_scores = []\n",
    "        \n",
    "        # First collect all scores for the game to calculate mean and std\n",
    "        for model in df['Player'].unique():\n",
    "            if game == 'Sokoban':\n",
    "                levels_str = df[df['Player'] == model]['Levels Cracked'].iloc[0]\n",
    "                try:\n",
    "                    levels = [int(x.strip()) for x in levels_str.split(\";\") if x.strip()]\n",
    "                    score = max(levels) if levels else 0\n",
    "                except:\n",
    "                    score = 0\n",
    "            else:\n",
    "                score_col = 'Average Score' if game == 'Candy Crush' else 'Score'\n",
    "                score = df[df['Player'] == model][score_col].iloc[0]\n",
    "            game_scores.append(score)\n",
    "        \n",
    "        # Calculate mean and std for normalization\n",
    "        mean = np.mean(game_scores)\n",
    "        std = np.std(game_scores)\n",
    "        \n",
    "        # Get and normalize scores for our selected models\n",
    "        for model in models:\n",
    "            if game == 'Sokoban':\n",
    "                if model in df['Player'].values:\n",
    "                    levels_str = df[df['Player'] == model]['Levels Cracked'].iloc[0]\n",
    "                    try:\n",
    "                        levels = [int(x.strip()) for x in levels_str.split(\";\") if x.strip()]\n",
    "                        raw_score = max(levels) if levels else 0\n",
    "                    except:\n",
    "                        raw_score = 0\n",
    "                else:\n",
    "                    raw_score = 0\n",
    "            else:\n",
    "                score_col = 'Average Score' if game == 'Candy Crush' else 'Score'\n",
    "                raw_score = df[df['Player'] == model][score_col].iloc[0] if model in df['Player'].values else 0\n",
    "            \n",
    "            # Store raw score\n",
    "            raw_scores[model].append(raw_score)\n",
    "            \n",
    "            # Normalize score\n",
    "            norm_score = normalize_values([raw_score], mean, std)[0]\n",
    "            normalized_scores[model].append(norm_score)\n",
    "    \n",
    "    # Create the grouped bar chart\n",
    "    fig = go.Figure()\n",
    "    \n",
    "    bar_width = 0.25  # Width of each bar\n",
    "    positions = list(range(len(games)))\n",
    "    \n",
    "    for i, (model, model_scores) in enumerate(normalized_scores.items()):\n",
    "        # Get model color from MODEL_COLORS, default to gray if not found\n",
    "        color = MODEL_COLORS.get(model, '#808080')\n",
    "        \n",
    "        # Create bar trace for each model\n",
    "        fig.add_trace(go.Bar(\n",
    "            name=model.lower(),  # Convert to lowercase for consistency\n",
    "            x=[pos + (i - 1) * bar_width for pos in positions],  # Adjust x position for grouping\n",
    "            y=model_scores,\n",
    "            width=bar_width,\n",
    "            marker_color=color,\n",
    "            text=[f\"{score:.1f}\" for score in model_scores],  # Show normalized scores\n",
    "            textposition='auto',\n",
    "            hovertemplate=\"<b>%{x}</b><br>\" +\n",
    "                         \"Model: \" + model.lower() + \"<br>\" +\n",
    "                         \"Normalized Score: %{y:.1f}<br>\" +\n",
    "                         \"Raw Score: \" + \"<br>\".join([f\"{s:.1f}\" if g == 'Candy Crush' else f\"{int(s)}\" \n",
    "                                                    for g, s in zip(games, raw_scores[model])]) +\n",
    "                         \"<extra></extra>\"\n",
    "        ))\n",
    "    \n",
    "    # Update layout\n",
    "    fig.update_layout(\n",
    "        title=\"Normalized Model Performance Comparison Across Games\",\n",
    "        xaxis=dict(\n",
    "            ticktext=games,\n",
    "            tickvals=positions,\n",
    "            title=\"Games\"\n",
    "        ),\n",
    "        yaxis=dict(\n",
    "            title=\"Normalized Score (0-100)\",\n",
    "            gridcolor='lightgray',\n",
    "            range=[0, 100]  # Set fixed range for normalized scores\n",
    "        ),\n",
    "        barmode='group',\n",
    "        bargap=0.15,\n",
    "        bargroupgap=0.1,\n",
    "        legend=dict(\n",
    "            yanchor=\"top\",\n",
    "            y=0.99,\n",
    "            xanchor=\"right\",\n",
    "            x=0.99\n",
    "        ),\n",
    "        width=1000,\n",
    "        height=600,\n",
    "        template=\"plotly_white\",\n",
    "        showlegend=True,\n",
    "        legend_title=\"Models\"\n",
    "    )\n",
    "    \n",
    "    return fig\n",
    "\n",
    "if __name__ == \"__main__\":\n",
    "    # Generate and show the chart\n",
    "    fig = create_comparison_bar_chart()\n",
    "    fig.show() "
   ]
  },
  {
   "cell_type": "code",
   "execution_count": null,
   "metadata": {},
   "outputs": [],
   "source": [
    "import json\n",
    "import pandas as pd\n",
    "from data_visualization import (\n",
    "    get_combined_leaderboard,\n",
    "    create_single_radar_chart,\n",
    "    GAME_ORDER\n",
    ")\n",
    "\n",
    "# Load the rank data\n",
    "with open('./rank_data_03_25_2025.json', 'r') as f:\n",
    "    rank_data = json.load(f)\n",
    "\n",
    "# Select only the four specific games\n",
    "selected_games = {\n",
    "    '2048': True,\n",
    "    'Sokoban': True,\n",
    "    'Candy Crush': True,\n",
    "    'Ace Attorney': True\n",
    "}\n",
    "\n",
    "# Get combined leaderboard\n",
    "df = get_combined_leaderboard(rank_data, selected_games)\n",
    "\n",
    "# Create radar chart with grok-3-mini-beta highlighted\n",
    "fig = create_single_radar_chart(\n",
    "    df,\n",
    "    selected_games=selected_games,\n",
    "    highlight_models=['grok-3-mini-beta']\n",
    ")\n",
    "\n",
    "# Show the figure\n",
    "fig.show()\n",
    "\n",
    "# Optionally save the figure\n",
    "# fig.write_image(\"grok_radar_chart.png\")"
   ]
  },
  {
   "cell_type": "code",
   "execution_count": null,
   "metadata": {},
   "outputs": [],
   "source": [
    "import json\n",
    "import pandas as pd\n",
    "from data_visualization import (\n",
    "    get_combined_leaderboard,\n",
    "    create_single_radar_chart,\n",
    "    GAME_ORDER\n",
    ")\n",
    "\n",
    "# Load the rank data\n",
    "with open('./rank_data_03_25_2025.json', 'r') as f:\n",
    "    rank_data = json.load(f)\n",
    "\n",
    "# Select only the four specific games\n",
    "selected_games = {\n",
    "    '2048': True,\n",
    "    'Sokoban': True,\n",
    "    'Candy Crush': True,\n",
    "    'Ace Attorney': True\n",
    "}\n",
    "\n",
    "# Get combined leaderboard\n",
    "df = get_combined_leaderboard(rank_data, selected_games)\n",
    "\n",
    "# Create radar chart with grok-3-mini-beta highlighted\n",
    "fig = create_single_radar_chart(\n",
    "    df,\n",
    "    selected_games=selected_games,\n",
    "    highlight_models=['grok-3-mini-beta']\n",
    ")\n",
    "\n",
    "# Show the figure\n",
    "fig.show()\n",
    "\n",
    "# Optionally save the figure\n",
    "# fig.write_image(\"grok_radar_chart.png\")"
   ]
  },
  {
   "cell_type": "code",
   "execution_count": 9,
   "metadata": {},
   "outputs": [
    {
     "name": "stderr",
     "output_type": "stream",
     "text": [
      "c:\\Users\\yuxua\\OneDrive - UC San Diego\\Desktop\\academic_career\\haoai_lab\\LocalGenie\\apps\\data_visualization.py:337: FutureWarning: Downcasting behavior in `replace` is deprecated and will be removed in a future version. To retain the old behavior, explicitly call `result.infer_objects(copy=False)`. To opt-in to the future behavior, set `pd.set_option('future.no_silent_downcasting', True)`\n",
      "  vals = df[col].replace(\"n/a\", 0).infer_objects(copy=False).astype(float)\n",
      "c:\\Users\\yuxua\\OneDrive - UC San Diego\\Desktop\\academic_career\\haoai_lab\\LocalGenie\\apps\\data_visualization.py:337: FutureWarning: Downcasting behavior in `replace` is deprecated and will be removed in a future version. To retain the old behavior, explicitly call `result.infer_objects(copy=False)`. To opt-in to the future behavior, set `pd.set_option('future.no_silent_downcasting', True)`\n",
      "  vals = df[col].replace(\"n/a\", 0).infer_objects(copy=False).astype(float)\n",
      "c:\\Users\\yuxua\\OneDrive - UC San Diego\\Desktop\\academic_career\\haoai_lab\\LocalGenie\\apps\\data_visualization.py:337: FutureWarning: Downcasting behavior in `replace` is deprecated and will be removed in a future version. To retain the old behavior, explicitly call `result.infer_objects(copy=False)`. To opt-in to the future behavior, set `pd.set_option('future.no_silent_downcasting', True)`\n",
      "  vals = df[col].replace(\"n/a\", 0).infer_objects(copy=False).astype(float)\n",
      "c:\\Users\\yuxua\\OneDrive - UC San Diego\\Desktop\\academic_career\\haoai_lab\\LocalGenie\\apps\\data_visualization.py:337: FutureWarning: Downcasting behavior in `replace` is deprecated and will be removed in a future version. To retain the old behavior, explicitly call `result.infer_objects(copy=False)`. To opt-in to the future behavior, set `pd.set_option('future.no_silent_downcasting', True)`\n",
      "  vals = df[col].replace(\"n/a\", 0).infer_objects(copy=False).astype(float)\n"
     ]
    },
    {
     "data": {
      "application/vnd.plotly.v1+json": {
       "config": {
        "plotlyServerURL": "https://plot.ly"
       },
       "data": [
        {
         "fill": "toself",
         "fillcolor": "rgba(26, 76, 124, 0.2)",
         "hovertemplate": "<b>%{fullData.name}</b><br>Game: %{theta}<br>Score: %{r:.1f}<extra></extra>",
         "line": {
          "color": "#1A4C7C",
          "width": 2
         },
         "marker": {
          "color": "#1A4C7C",
          "size": 6
         },
         "mode": "lines+markers",
         "name": "claude-3-5-sonnet-20241022",
         "opacity": 0.7,
         "r": [
          16.49340390147661,
          10.37807097738752,
          9.354450239915352,
          35.96143750501463,
          16.49340390147661
         ],
         "theta": [
          "2048",
          "Sokoban",
          "Candy Crush",
          "Ace Attorney",
          "2048"
         ],
         "type": "scatterpolar"
        },
        {
         "fill": "toself",
         "fillcolor": "rgba(74, 144, 226, 0.2)",
         "hovertemplate": "<b>%{fullData.name}</b><br>Game: %{theta}<br>Score: %{r:.1f}<extra></extra>",
         "line": {
          "color": "#4A90E2",
          "width": 2
         },
         "marker": {
          "color": "#4A90E2",
          "size": 6
         },
         "mode": "lines+markers",
         "name": "claude-3-7-sonnet-20250219",
         "opacity": 0.7,
         "r": [
          72.65984530531466,
          10.37807097738752,
          8.742945344967104,
          14.040662390681124,
          72.65984530531466
         ],
         "theta": [
          "2048",
          "Sokoban",
          "Candy Crush",
          "Ace Attorney",
          "2048"
         ],
         "type": "scatterpolar"
        },
        {
         "fill": "toself",
         "fillcolor": "rgba(46, 92, 138, 0.2)",
         "hovertemplate": "<b>%{fullData.name}</b><br>Game: %{theta}<br>Score: %{r:.1f}<extra></extra>",
         "line": {
          "color": "#2E5C8A",
          "width": 2
         },
         "marker": {
          "color": "#2E5C8A",
          "size": 6
         },
         "mode": "lines+markers",
         "name": "claude-3-7-sonnet-20250219(thinking)",
         "opacity": 0.7,
         "r": [
          72.65984530531466,
          51.05777979735596,
          30.347413283488528,
          43.2683625431258,
          72.65984530531466
         ],
         "theta": [
          "2048",
          "Sokoban",
          "Candy Crush",
          "Ace Attorney",
          "2048"
         ],
         "type": "scatterpolar"
        },
        {
         "fill": "toself",
         "fillcolor": "rgba(255, 160, 0, 0.2)",
         "hovertemplate": "<b>%{fullData.name}</b><br>Game: %{theta}<br>Score: %{r:.1f}<extra></extra>",
         "line": {
          "color": "#FFA000",
          "width": 2
         },
         "marker": {
          "color": "#FFA000",
          "size": 6
         },
         "mode": "lines+markers",
         "name": "deepseek-r1",
         "opacity": 0.7,
         "r": [
          0,
          30.717925387371743,
          64.79959906487254,
          28.654512466903462,
          0
         ],
         "theta": [
          "2048",
          "Sokoban",
          "Candy Crush",
          "Ace Attorney",
          "2048"
         ],
         "type": "scatterpolar"
        },
        {
         "fill": "toself",
         "fillcolor": "rgba(255, 193, 7, 0.2)",
         "hovertemplate": "<b>%{fullData.name}</b><br>Game: %{theta}<br>Score: %{r:.1f}<extra></extra>",
         "line": {
          "color": "#FFC107",
          "width": 2
         },
         "marker": {
          "color": "#FFC107",
          "size": 6
         },
         "mode": "lines+markers",
         "name": "deepseek-v3",
         "opacity": 0.7,
         "r": [
          72.65984530531466,
          10.37807097738752,
          8.742945344967104,
          14.040662390681124,
          72.65984530531466
         ],
         "theta": [
          "2048",
          "Sokoban",
          "Candy Crush",
          "Ace Attorney",
          "2048"
         ],
         "type": "scatterpolar"
        },
        {
         "fill": "toself",
         "fillcolor": "rgba(255, 64, 129, 0.2)",
         "hovertemplate": "<b>%{fullData.name}</b><br>Game: %{theta}<br>Score: %{r:.1f}<extra></extra>",
         "line": {
          "color": "#FF4081",
          "width": 2
         },
         "marker": {
          "color": "#FF4081",
          "size": 6
         },
         "mode": "lines+markers",
         "name": "gemini-2.0-flash",
         "opacity": 0.7,
         "r": [
          35.215551036089295,
          10.37807097738752,
          8.742945344967104,
          14.040662390681124,
          35.215551036089295
         ],
         "theta": [
          "2048",
          "Sokoban",
          "Candy Crush",
          "Ace Attorney",
          "2048"
         ],
         "type": "scatterpolar"
        },
        {
         "fill": "toself",
         "fillcolor": "rgba(194, 24, 91, 0.2)",
         "hovertemplate": "<b>%{fullData.name}</b><br>Game: %{theta}<br>Score: %{r:.1f}<extra></extra>",
         "line": {
          "color": "#C2185B",
          "width": 2
         },
         "marker": {
          "color": "#C2185B",
          "size": 6
         },
         "mode": "lines+markers",
         "name": "gemini-2.0-flash-thinking-exp-1219",
         "opacity": 0.7,
         "r": [
          35.215551036089295,
          10.37807097738752,
          19.75003345403548,
          28.654512466903462,
          35.215551036089295
         ],
         "theta": [
          "2048",
          "Sokoban",
          "Candy Crush",
          "Ace Attorney",
          "2048"
         ],
         "type": "scatterpolar"
        },
        {
         "fill": "toself",
         "fillcolor": "rgba(240, 98, 146, 0.2)",
         "hovertemplate": "<b>%{fullData.name}</b><br>Game: %{theta}<br>Score: %{r:.1f}<extra></extra>",
         "line": {
          "color": "#F06292",
          "width": 2
         },
         "marker": {
          "color": "#F06292",
          "size": 6
         },
         "mode": "lines+markers",
         "name": "gemini-2.5-flash-preview-04-17",
         "opacity": 0.7,
         "r": [
          35.215551036089295,
          51.05777979735596,
          44.82173414691344,
          28.654512466903462,
          35.215551036089295
         ],
         "theta": [
          "2048",
          "Sokoban",
          "Candy Crush",
          "Ace Attorney",
          "2048"
         ],
         "type": "scatterpolar"
        },
        {
         "fill": "toself",
         "fillcolor": "rgba(255, 128, 171, 0.2)",
         "hovertemplate": "<b>%{fullData.name}</b><br>Game: %{theta}<br>Score: %{r:.1f}<extra></extra>",
         "line": {
          "color": "#FF80AB",
          "width": 2
         },
         "marker": {
          "color": "#FF80AB",
          "size": 6
         },
         "mode": "lines+markers",
         "name": "gemini-2.5-pro-exp-03-25",
         "opacity": 0.7,
         "r": [
          35.215551036089295,
          71.39763420734019,
          40.13149160266042,
          87.1099127717928,
          35.215551036089295
         ],
         "theta": [
          "2048",
          "Sokoban",
          "Candy Crush",
          "Ace Attorney",
          "2048"
         ],
         "type": "scatterpolar"
        },
        {
         "fill": "toself",
         "fillcolor": "rgba(0, 137, 123, 0.2)",
         "hovertemplate": "<b>%{fullData.name}</b><br>Game: %{theta}<br>Score: %{r:.1f}<extra></extra>",
         "line": {
          "color": "#00897B",
          "width": 2
         },
         "marker": {
          "color": "#00897B",
          "size": 6
         },
         "mode": "lines+markers",
         "name": "gpt-4.1-2025-04-14",
         "opacity": 0.7,
         "r": [
          0,
          10.37807097738752,
          9.965955134863592,
          35.96143750501463,
          0
         ],
         "theta": [
          "2048",
          "Sokoban",
          "Candy Crush",
          "Ace Attorney",
          "2048"
         ],
         "type": "scatterpolar"
        },
        {
         "fill": "toself",
         "fillcolor": "rgba(0, 121, 107, 0.2)",
         "hovertemplate": "<b>%{fullData.name}</b><br>Game: %{theta}<br>Score: %{r:.1f}<extra></extra>",
         "line": {
          "color": "#00796B",
          "width": 2
         },
         "marker": {
          "color": "#00796B",
          "size": 6
         },
         "mode": "lines+markers",
         "name": "gpt-4.5-preview-2025-02-27",
         "opacity": 0.7,
         "r": [
          7.717397432126916,
          10.37807097738752,
          8.742945344967104,
          14.040662390681124,
          7.717397432126916
         ],
         "theta": [
          "2048",
          "Sokoban",
          "Candy Crush",
          "Ace Attorney",
          "2048"
         ],
         "type": "scatterpolar"
        },
        {
         "fill": "toself",
         "fillcolor": "rgba(0, 191, 165, 0.2)",
         "hovertemplate": "<b>%{fullData.name}</b><br>Game: %{theta}<br>Score: %{r:.1f}<extra></extra>",
         "line": {
          "color": "#00BFA5",
          "width": 2
         },
         "marker": {
          "color": "#00BFA5",
          "size": 6
         },
         "mode": "lines+markers",
         "name": "gpt-4o-2024-11-20",
         "opacity": 0.7,
         "r": [
          2.4517935505170954,
          10.37807097738752,
          8.742945344967104,
          14.040662390681124,
          2.4517935505170954
         ],
         "theta": [
          "2048",
          "Sokoban",
          "Candy Crush",
          "Ace Attorney",
          "2048"
         ],
         "type": "scatterpolar"
        },
        {
         "fill": "toself",
         "fillcolor": "rgba(255, 0, 0, 0.4)",
         "hovertemplate": "<b>%{fullData.name}</b><br>Game: %{theta}<br>Score: %{r:.1f}<extra></extra>",
         "line": {
          "color": "red",
          "width": 6
         },
         "marker": {
          "color": "red",
          "size": 10
         },
         "mode": "lines+markers",
         "name": "grok-3-mini-beta",
         "opacity": 1,
         "r": [
          72.65984530531466,
          71.39763420734019,
          73.56246420948085,
          39.61490002407021,
          72.65984530531466
         ],
         "theta": [
          "2048",
          "Sokoban",
          "Candy Crush",
          "Ace Attorney",
          "2048"
         ],
         "type": "scatterpolar"
        },
        {
         "fill": "toself",
         "fillcolor": "rgba(128, 128, 128, 0.2)",
         "hovertemplate": "<b>%{fullData.name}</b><br>Game: %{theta}<br>Score: %{r:.1f}<extra></extra>",
         "line": {
          "color": "#808080",
          "width": 2
         },
         "marker": {
          "color": "#808080",
          "size": 6
         },
         "mode": "lines+markers",
         "name": "llama-4-maverick-17b-128e-instruct-fp8",
         "opacity": 0.7,
         "r": [
          35.215551036089295,
          10.37807097738752,
          9.965955134863592,
          14.040662390681124,
          35.215551036089295
         ],
         "theta": [
          "2048",
          "Sokoban",
          "Candy Crush",
          "Ace Attorney",
          "2048"
         ],
         "type": "scatterpolar"
        },
        {
         "fill": "toself",
         "fillcolor": "rgba(77, 182, 172, 0.2)",
         "hovertemplate": "<b>%{fullData.name}</b><br>Game: %{theta}<br>Score: %{r:.1f}<extra></extra>",
         "line": {
          "color": "#4DB6AC",
          "width": 2
         },
         "marker": {
          "color": "#4DB6AC",
          "size": 6
         },
         "mode": "lines+markers",
         "name": "o1-2024-12-17",
         "opacity": 0.7,
         "r": [
          72.65984530531466,
          30.717925387371743,
          68.46862843456199,
          100,
          72.65984530531466
         ],
         "theta": [
          "2048",
          "Sokoban",
          "Candy Crush",
          "Ace Attorney",
          "2048"
         ],
         "type": "scatterpolar"
        },
        {
         "fill": "toself",
         "fillcolor": "rgba(38, 166, 154, 0.2)",
         "hovertemplate": "<b>%{fullData.name}</b><br>Game: %{theta}<br>Score: %{r:.1f}<extra></extra>",
         "line": {
          "color": "#26A69A",
          "width": 2
         },
         "marker": {
          "color": "#26A69A",
          "size": 6
         },
         "mode": "lines+markers",
         "name": "o1-mini-2024-09-12",
         "opacity": 0.7,
         "r": [
          0,
          30.717925387371743,
          8.742945344967104,
          14.040662390681124,
          0
         ],
         "theta": [
          "2048",
          "Sokoban",
          "Candy Crush",
          "Ace Attorney",
          "2048"
         ],
         "type": "scatterpolar"
        },
        {
         "fill": "toself",
         "fillcolor": "rgba(38, 198, 218, 0.2)",
         "hovertemplate": "<b>%{fullData.name}</b><br>Game: %{theta}<br>Score: %{r:.1f}<extra></extra>",
         "line": {
          "color": "#26C6DA",
          "width": 2
         },
         "marker": {
          "color": "#26C6DA",
          "size": 6
         },
         "mode": "lines+markers",
         "name": "o3-2025-04-16",
         "opacity": 0.7,
         "r": [
          72.65984530531466,
          100,
          81.2062753963339,
          98.07030032895955,
          72.65984530531466
         ],
         "theta": [
          "2048",
          "Sokoban",
          "Candy Crush",
          "Ace Attorney",
          "2048"
         ],
         "type": "scatterpolar"
        },
        {
         "fill": "toself",
         "fillcolor": "rgba(128, 203, 196, 0.2)",
         "hovertemplate": "<b>%{fullData.name}</b><br>Game: %{theta}<br>Score: %{r:.1f}<extra></extra>",
         "line": {
          "color": "#80CBC4",
          "width": 2
         },
         "marker": {
          "color": "#80CBC4",
          "size": 6
         },
         "mode": "lines+markers",
         "name": "o3-mini-2025-01-31(medium)",
         "opacity": 0.7,
         "r": [
          0,
          71.39763420734019,
          73.76426082481377,
          14.040662390681124,
          0
         ],
         "theta": [
          "2048",
          "Sokoban",
          "Candy Crush",
          "Ace Attorney",
          "2048"
         ],
         "type": "scatterpolar"
        },
        {
         "fill": "toself",
         "fillcolor": "rgba(0, 172, 193, 0.2)",
         "hovertemplate": "<b>%{fullData.name}</b><br>Game: %{theta}<br>Score: %{r:.1f}<extra></extra>",
         "line": {
          "color": "#00ACC1",
          "width": 2
         },
         "marker": {
          "color": "#00ACC1",
          "size": 6
         },
         "mode": "lines+markers",
         "name": "o4-mini-2025-04-16",
         "opacity": 0.7,
         "r": [
          35.215551036089295,
          51.05777979735596,
          86.40406700339395,
          17.69412490973671,
          35.215551036089295
         ],
         "theta": [
          "2048",
          "Sokoban",
          "Candy Crush",
          "Ace Attorney",
          "2048"
         ],
         "type": "scatterpolar"
        }
       ],
       "layout": {
        "autosize": false,
        "height": 620,
        "legend": {
         "bgcolor": "rgba(255,255,255,0.6)",
         "bordercolor": "gray",
         "borderwidth": 1,
         "font": {
          "size": 12
         },
         "itemclick": "toggleothers",
         "itemdoubleclick": "toggle",
         "itemsizing": "trace",
         "title": {
          "text": "Choose your model 💡 (click / double-click)"
         },
         "x": -1.4,
         "xanchor": "left",
         "y": 0.8,
         "yanchor": "top"
        },
        "margin": {
         "b": 20,
         "l": 400,
         "r": 200,
         "t": 20
        },
        "polar": {
         "angularaxis": {
          "tickangle": 0,
          "tickfont": {
           "size": 14,
           "weight": "bold"
          }
         },
         "radialaxis": {
          "angle": 45,
          "gridcolor": "lightgray",
          "gridwidth": 1,
          "range": [
           0,
           100
          ],
          "tickangle": 45,
          "tickfont": {
           "size": 12
          },
          "visible": true
         }
        },
        "template": {
         "data": {
          "bar": [
           {
            "error_x": {
             "color": "#2a3f5f"
            },
            "error_y": {
             "color": "#2a3f5f"
            },
            "marker": {
             "line": {
              "color": "#E5ECF6",
              "width": 0.5
             },
             "pattern": {
              "fillmode": "overlay",
              "size": 10,
              "solidity": 0.2
             }
            },
            "type": "bar"
           }
          ],
          "barpolar": [
           {
            "marker": {
             "line": {
              "color": "#E5ECF6",
              "width": 0.5
             },
             "pattern": {
              "fillmode": "overlay",
              "size": 10,
              "solidity": 0.2
             }
            },
            "type": "barpolar"
           }
          ],
          "carpet": [
           {
            "aaxis": {
             "endlinecolor": "#2a3f5f",
             "gridcolor": "white",
             "linecolor": "white",
             "minorgridcolor": "white",
             "startlinecolor": "#2a3f5f"
            },
            "baxis": {
             "endlinecolor": "#2a3f5f",
             "gridcolor": "white",
             "linecolor": "white",
             "minorgridcolor": "white",
             "startlinecolor": "#2a3f5f"
            },
            "type": "carpet"
           }
          ],
          "choropleth": [
           {
            "colorbar": {
             "outlinewidth": 0,
             "ticks": ""
            },
            "type": "choropleth"
           }
          ],
          "contour": [
           {
            "colorbar": {
             "outlinewidth": 0,
             "ticks": ""
            },
            "colorscale": [
             [
              0,
              "#0d0887"
             ],
             [
              0.1111111111111111,
              "#46039f"
             ],
             [
              0.2222222222222222,
              "#7201a8"
             ],
             [
              0.3333333333333333,
              "#9c179e"
             ],
             [
              0.4444444444444444,
              "#bd3786"
             ],
             [
              0.5555555555555556,
              "#d8576b"
             ],
             [
              0.6666666666666666,
              "#ed7953"
             ],
             [
              0.7777777777777778,
              "#fb9f3a"
             ],
             [
              0.8888888888888888,
              "#fdca26"
             ],
             [
              1,
              "#f0f921"
             ]
            ],
            "type": "contour"
           }
          ],
          "contourcarpet": [
           {
            "colorbar": {
             "outlinewidth": 0,
             "ticks": ""
            },
            "type": "contourcarpet"
           }
          ],
          "heatmap": [
           {
            "colorbar": {
             "outlinewidth": 0,
             "ticks": ""
            },
            "colorscale": [
             [
              0,
              "#0d0887"
             ],
             [
              0.1111111111111111,
              "#46039f"
             ],
             [
              0.2222222222222222,
              "#7201a8"
             ],
             [
              0.3333333333333333,
              "#9c179e"
             ],
             [
              0.4444444444444444,
              "#bd3786"
             ],
             [
              0.5555555555555556,
              "#d8576b"
             ],
             [
              0.6666666666666666,
              "#ed7953"
             ],
             [
              0.7777777777777778,
              "#fb9f3a"
             ],
             [
              0.8888888888888888,
              "#fdca26"
             ],
             [
              1,
              "#f0f921"
             ]
            ],
            "type": "heatmap"
           }
          ],
          "histogram": [
           {
            "marker": {
             "pattern": {
              "fillmode": "overlay",
              "size": 10,
              "solidity": 0.2
             }
            },
            "type": "histogram"
           }
          ],
          "histogram2d": [
           {
            "colorbar": {
             "outlinewidth": 0,
             "ticks": ""
            },
            "colorscale": [
             [
              0,
              "#0d0887"
             ],
             [
              0.1111111111111111,
              "#46039f"
             ],
             [
              0.2222222222222222,
              "#7201a8"
             ],
             [
              0.3333333333333333,
              "#9c179e"
             ],
             [
              0.4444444444444444,
              "#bd3786"
             ],
             [
              0.5555555555555556,
              "#d8576b"
             ],
             [
              0.6666666666666666,
              "#ed7953"
             ],
             [
              0.7777777777777778,
              "#fb9f3a"
             ],
             [
              0.8888888888888888,
              "#fdca26"
             ],
             [
              1,
              "#f0f921"
             ]
            ],
            "type": "histogram2d"
           }
          ],
          "histogram2dcontour": [
           {
            "colorbar": {
             "outlinewidth": 0,
             "ticks": ""
            },
            "colorscale": [
             [
              0,
              "#0d0887"
             ],
             [
              0.1111111111111111,
              "#46039f"
             ],
             [
              0.2222222222222222,
              "#7201a8"
             ],
             [
              0.3333333333333333,
              "#9c179e"
             ],
             [
              0.4444444444444444,
              "#bd3786"
             ],
             [
              0.5555555555555556,
              "#d8576b"
             ],
             [
              0.6666666666666666,
              "#ed7953"
             ],
             [
              0.7777777777777778,
              "#fb9f3a"
             ],
             [
              0.8888888888888888,
              "#fdca26"
             ],
             [
              1,
              "#f0f921"
             ]
            ],
            "type": "histogram2dcontour"
           }
          ],
          "mesh3d": [
           {
            "colorbar": {
             "outlinewidth": 0,
             "ticks": ""
            },
            "type": "mesh3d"
           }
          ],
          "parcoords": [
           {
            "line": {
             "colorbar": {
              "outlinewidth": 0,
              "ticks": ""
             }
            },
            "type": "parcoords"
           }
          ],
          "pie": [
           {
            "automargin": true,
            "type": "pie"
           }
          ],
          "scatter": [
           {
            "fillpattern": {
             "fillmode": "overlay",
             "size": 10,
             "solidity": 0.2
            },
            "type": "scatter"
           }
          ],
          "scatter3d": [
           {
            "line": {
             "colorbar": {
              "outlinewidth": 0,
              "ticks": ""
             }
            },
            "marker": {
             "colorbar": {
              "outlinewidth": 0,
              "ticks": ""
             }
            },
            "type": "scatter3d"
           }
          ],
          "scattercarpet": [
           {
            "marker": {
             "colorbar": {
              "outlinewidth": 0,
              "ticks": ""
             }
            },
            "type": "scattercarpet"
           }
          ],
          "scattergeo": [
           {
            "marker": {
             "colorbar": {
              "outlinewidth": 0,
              "ticks": ""
             }
            },
            "type": "scattergeo"
           }
          ],
          "scattergl": [
           {
            "marker": {
             "colorbar": {
              "outlinewidth": 0,
              "ticks": ""
             }
            },
            "type": "scattergl"
           }
          ],
          "scattermap": [
           {
            "marker": {
             "colorbar": {
              "outlinewidth": 0,
              "ticks": ""
             }
            },
            "type": "scattermap"
           }
          ],
          "scattermapbox": [
           {
            "marker": {
             "colorbar": {
              "outlinewidth": 0,
              "ticks": ""
             }
            },
            "type": "scattermapbox"
           }
          ],
          "scatterpolar": [
           {
            "marker": {
             "colorbar": {
              "outlinewidth": 0,
              "ticks": ""
             }
            },
            "type": "scatterpolar"
           }
          ],
          "scatterpolargl": [
           {
            "marker": {
             "colorbar": {
              "outlinewidth": 0,
              "ticks": ""
             }
            },
            "type": "scatterpolargl"
           }
          ],
          "scatterternary": [
           {
            "marker": {
             "colorbar": {
              "outlinewidth": 0,
              "ticks": ""
             }
            },
            "type": "scatterternary"
           }
          ],
          "surface": [
           {
            "colorbar": {
             "outlinewidth": 0,
             "ticks": ""
            },
            "colorscale": [
             [
              0,
              "#0d0887"
             ],
             [
              0.1111111111111111,
              "#46039f"
             ],
             [
              0.2222222222222222,
              "#7201a8"
             ],
             [
              0.3333333333333333,
              "#9c179e"
             ],
             [
              0.4444444444444444,
              "#bd3786"
             ],
             [
              0.5555555555555556,
              "#d8576b"
             ],
             [
              0.6666666666666666,
              "#ed7953"
             ],
             [
              0.7777777777777778,
              "#fb9f3a"
             ],
             [
              0.8888888888888888,
              "#fdca26"
             ],
             [
              1,
              "#f0f921"
             ]
            ],
            "type": "surface"
           }
          ],
          "table": [
           {
            "cells": {
             "fill": {
              "color": "#EBF0F8"
             },
             "line": {
              "color": "white"
             }
            },
            "header": {
             "fill": {
              "color": "#C8D4E3"
             },
             "line": {
              "color": "white"
             }
            },
            "type": "table"
           }
          ]
         },
         "layout": {
          "annotationdefaults": {
           "arrowcolor": "#2a3f5f",
           "arrowhead": 0,
           "arrowwidth": 1
          },
          "autotypenumbers": "strict",
          "coloraxis": {
           "colorbar": {
            "outlinewidth": 0,
            "ticks": ""
           }
          },
          "colorscale": {
           "diverging": [
            [
             0,
             "#8e0152"
            ],
            [
             0.1,
             "#c51b7d"
            ],
            [
             0.2,
             "#de77ae"
            ],
            [
             0.3,
             "#f1b6da"
            ],
            [
             0.4,
             "#fde0ef"
            ],
            [
             0.5,
             "#f7f7f7"
            ],
            [
             0.6,
             "#e6f5d0"
            ],
            [
             0.7,
             "#b8e186"
            ],
            [
             0.8,
             "#7fbc41"
            ],
            [
             0.9,
             "#4d9221"
            ],
            [
             1,
             "#276419"
            ]
           ],
           "sequential": [
            [
             0,
             "#0d0887"
            ],
            [
             0.1111111111111111,
             "#46039f"
            ],
            [
             0.2222222222222222,
             "#7201a8"
            ],
            [
             0.3333333333333333,
             "#9c179e"
            ],
            [
             0.4444444444444444,
             "#bd3786"
            ],
            [
             0.5555555555555556,
             "#d8576b"
            ],
            [
             0.6666666666666666,
             "#ed7953"
            ],
            [
             0.7777777777777778,
             "#fb9f3a"
            ],
            [
             0.8888888888888888,
             "#fdca26"
            ],
            [
             1,
             "#f0f921"
            ]
           ],
           "sequentialminus": [
            [
             0,
             "#0d0887"
            ],
            [
             0.1111111111111111,
             "#46039f"
            ],
            [
             0.2222222222222222,
             "#7201a8"
            ],
            [
             0.3333333333333333,
             "#9c179e"
            ],
            [
             0.4444444444444444,
             "#bd3786"
            ],
            [
             0.5555555555555556,
             "#d8576b"
            ],
            [
             0.6666666666666666,
             "#ed7953"
            ],
            [
             0.7777777777777778,
             "#fb9f3a"
            ],
            [
             0.8888888888888888,
             "#fdca26"
            ],
            [
             1,
             "#f0f921"
            ]
           ]
          },
          "colorway": [
           "#636efa",
           "#EF553B",
           "#00cc96",
           "#ab63fa",
           "#FFA15A",
           "#19d3f3",
           "#FF6692",
           "#B6E880",
           "#FF97FF",
           "#FECB52"
          ],
          "font": {
           "color": "#2a3f5f"
          },
          "geo": {
           "bgcolor": "white",
           "lakecolor": "white",
           "landcolor": "#E5ECF6",
           "showlakes": true,
           "showland": true,
           "subunitcolor": "white"
          },
          "hoverlabel": {
           "align": "left"
          },
          "hovermode": "closest",
          "mapbox": {
           "style": "light"
          },
          "paper_bgcolor": "white",
          "plot_bgcolor": "#E5ECF6",
          "polar": {
           "angularaxis": {
            "gridcolor": "white",
            "linecolor": "white",
            "ticks": ""
           },
           "bgcolor": "#E5ECF6",
           "radialaxis": {
            "gridcolor": "white",
            "linecolor": "white",
            "ticks": ""
           }
          },
          "scene": {
           "xaxis": {
            "backgroundcolor": "#E5ECF6",
            "gridcolor": "white",
            "gridwidth": 2,
            "linecolor": "white",
            "showbackground": true,
            "ticks": "",
            "zerolinecolor": "white"
           },
           "yaxis": {
            "backgroundcolor": "#E5ECF6",
            "gridcolor": "white",
            "gridwidth": 2,
            "linecolor": "white",
            "showbackground": true,
            "ticks": "",
            "zerolinecolor": "white"
           },
           "zaxis": {
            "backgroundcolor": "#E5ECF6",
            "gridcolor": "white",
            "gridwidth": 2,
            "linecolor": "white",
            "showbackground": true,
            "ticks": "",
            "zerolinecolor": "white"
           }
          },
          "shapedefaults": {
           "line": {
            "color": "#2a3f5f"
           }
          },
          "ternary": {
           "aaxis": {
            "gridcolor": "white",
            "linecolor": "white",
            "ticks": ""
           },
           "baxis": {
            "gridcolor": "white",
            "linecolor": "white",
            "ticks": ""
           },
           "bgcolor": "#E5ECF6",
           "caxis": {
            "gridcolor": "white",
            "linecolor": "white",
            "ticks": ""
           }
          },
          "title": {
           "x": 0.05
          },
          "xaxis": {
           "automargin": true,
           "gridcolor": "white",
           "linecolor": "white",
           "ticks": "",
           "title": {
            "standoff": 15
           },
           "zerolinecolor": "white",
           "zerolinewidth": 2
          },
          "yaxis": {
           "automargin": true,
           "gridcolor": "white",
           "linecolor": "white",
           "ticks": "",
           "title": {
            "standoff": 15
           },
           "zerolinecolor": "white",
           "zerolinewidth": 2
          }
         }
        },
        "title": {
         "font": {
          "size": 20
         },
         "pad": {
          "b": 20
         },
         "text": "AI Normalized Performance Across Games",
         "x": 0.5,
         "xanchor": "center",
         "y": 0.95,
         "yanchor": "top"
        },
        "width": 1000
       }
      }
     },
     "metadata": {},
     "output_type": "display_data"
    }
   ],
   "source": [
    "import json\n",
    "import pandas as pd\n",
    "from data_visualization import (\n",
    "    get_combined_leaderboard,\n",
    "    create_single_radar_chart,\n",
    "    GAME_ORDER\n",
    ")\n",
    "\n",
    "# Load the rank data\n",
    "with open('./rank_data_03_25_2025.json', 'r') as f:\n",
    "    rank_data = json.load(f)\n",
    "\n",
    "# Select only the four specific games\n",
    "selected_games = {\n",
    "    '2048': True,\n",
    "    'Sokoban': True,\n",
    "    'Candy Crush': True,\n",
    "    'Ace Attorney': True\n",
    "}\n",
    "\n",
    "# Get combined leaderboard\n",
    "df = get_combined_leaderboard(rank_data, selected_games)\n",
    "\n",
    "# Create radar chart with grok-3-mini-beta highlighted\n",
    "fig = create_single_radar_chart(\n",
    "    df,\n",
    "    selected_games=selected_games,\n",
    "    highlight_models=['grok-3-mini-beta']\n",
    ")\n",
    "\n",
    "# Show the figure\n",
    "fig.show()\n",
    "\n",
    "# Optionally save the figure\n",
    "# fig.write_image(\"grok_radar_chart.png\")"
   ]
  },
  {
   "cell_type": "code",
   "execution_count": 17,
   "metadata": {},
   "outputs": [
    {
     "name": "stdout",
     "output_type": "stream",
     "text": [
      "Debug: Raw data for specific models\n",
      "\n",
      "Game: 2048\n",
      "Model: claude-3-7-sonnet-20250219(thinking), Raw Score: 256.0\n",
      "Model: grok-3-mini-beta, Raw Score: 256.0\n",
      "Model: o1-2024-12-17, Raw Score: 256.0\n",
      "Model: gemini-2.5-flash-preview-04-17, Raw Score: 128.0\n",
      "Model: gemini-2.5-pro-exp-03-25, Raw Score: 128.0\n",
      "\n",
      "Game: Sokoban\n",
      "Model: grok-3-mini-beta, Raw Score: 3\n",
      "Model: gemini-2.5-pro-exp-03-25, Raw Score: 3\n",
      "Model: gemini-2.5-flash-preview-04-17, Raw Score: 2\n",
      "Model: claude-3-7-sonnet-20250219(thinking), Raw Score: 2\n",
      "Model: o1-2024-12-17, Raw Score: 1\n",
      "\n",
      "Game: Candy Crush\n",
      "Model: grok-3-mini-beta, Raw Score: 106.0\n",
      "Model: o1-2024-12-17, Raw Score: 97.67\n",
      "Model: gemini-2.5-flash-preview-04-17, Raw Score: 59.0\n",
      "Model: gemini-2.5-pro-exp-03-25, Raw Score: 51.33\n",
      "Model: claude-3-7-sonnet-20250219(thinking), Raw Score: 35.33\n",
      "\n",
      "Game: Ace Attorney\n",
      "Model: o1-2024-12-17, Raw Score: 26.0\n",
      "Model: gemini-2.5-pro-exp-03-25, Raw Score: 20.0\n",
      "Model: claude-3-7-sonnet-20250219(thinking), Raw Score: 8.0\n",
      "Model: grok-3-mini-beta, Raw Score: 7.0\n",
      "Model: gemini-2.5-flash-preview-04-17, Raw Score: 4.0\n",
      "\n",
      "Debug: Normalization stats\n",
      "\n",
      "Game: 2048\n",
      "Mean: 204.80\n",
      "Std: 62.71\n",
      "All scores: [256.0, 256.0, 256.0, 128.0, 128.0]\n",
      "\n",
      "Game: Sokoban\n",
      "Mean: 2.20\n",
      "Std: 0.75\n",
      "All scores: [3, 3, 2, 2, 1]\n",
      "\n",
      "Game: Candy Crush\n",
      "Mean: 69.87\n",
      "Std: 27.32\n",
      "All scores: [106.0, 97.67, 59.0, 51.33, 35.33]\n",
      "\n",
      "Game: Ace Attorney\n",
      "Mean: 13.00\n",
      "Std: 8.49\n",
      "All scores: [26.0, 20.0, 8.0, 7.0, 4.0]\n",
      "Model: claude-3-7-sonnet-20250219(thinking), Game: 2048, Raw: 256.0, Normalized: 59.49\n",
      "Model: claude-3-7-sonnet-20250219(thinking), Game: Sokoban, Raw: 2, Normalized: 26.98\n",
      "Model: claude-3-7-sonnet-20250219(thinking), Game: Candy Crush, Raw: 35.33, Normalized: 0.00\n",
      "Model: claude-3-7-sonnet-20250219(thinking), Game: Ace Attorney, Raw: 8.0, Normalized: 17.32\n",
      "Model: gemini-2.5-flash-preview-04-17, Game: 2048, Raw: 128.0, Normalized: 0.00\n",
      "Model: gemini-2.5-flash-preview-04-17, Game: Sokoban, Raw: 2, Normalized: 26.98\n",
      "Model: gemini-2.5-flash-preview-04-17, Game: Candy Crush, Raw: 59.0, Normalized: 23.07\n",
      "Model: gemini-2.5-flash-preview-04-17, Game: Ace Attorney, Raw: 4.0, Normalized: 3.18\n",
      "Model: gemini-2.5-pro-exp-03-25, Game: 2048, Raw: 128.0, Normalized: 0.00\n",
      "Model: gemini-2.5-pro-exp-03-25, Game: Sokoban, Raw: 3, Normalized: 67.07\n",
      "Model: gemini-2.5-pro-exp-03-25, Game: Candy Crush, Raw: 51.33, Normalized: 14.65\n",
      "Model: gemini-2.5-pro-exp-03-25, Game: Ace Attorney, Raw: 20.0, Normalized: 59.75\n",
      "Model: o1-2024-12-17, Game: 2048, Raw: 256.0, Normalized: 59.49\n",
      "Model: o1-2024-12-17, Game: Sokoban, Raw: 1, Normalized: 0.00\n",
      "Model: o1-2024-12-17, Game: Candy Crush, Raw: 97.67, Normalized: 65.53\n",
      "Model: o1-2024-12-17, Game: Ace Attorney, Raw: 26.0, Normalized: 80.96\n",
      "Model: grok-3-mini-beta, Game: 2048, Raw: 256.0, Normalized: 59.49\n",
      "Model: grok-3-mini-beta, Game: Sokoban, Raw: 3, Normalized: 67.07\n",
      "Model: grok-3-mini-beta, Game: Candy Crush, Raw: 106.0, Normalized: 74.67\n",
      "Model: grok-3-mini-beta, Game: Ace Attorney, Raw: 7.0, Normalized: 13.79\n"
     ]
    },
    {
     "data": {
      "image/png": "[encoded data removed]",
      "text/plain": [
       "<Figure size 1200x600 with 1 Axes>"
      ]
     },
     "metadata": {},
     "output_type": "display_data"
    }
   ],
   "source": [
    "import json\n",
    "import pandas as pd\n",
    "import numpy as np\n",
    "import matplotlib.pyplot as plt\n",
    "\n",
    "# Load model colors\n",
    "with open('./assets/model_color.json', 'r') as f:\n",
    "    MODEL_COLORS = json.load(f)\n",
    "\n",
    "# Load rank data\n",
    "with open('./rank_data_03_25_2025.json', 'r') as f:\n",
    "    rank_data = json.load(f)\n",
    "\n",
    "# Define games\n",
    "games = ['2048', 'Sokoban', 'Candy Crush', 'Ace Attorney']\n",
    "\n",
    "# Selected models\n",
    "selected_models = [\n",
    "    'claude-3-7-sonnet-20250219(thinking)',\n",
    "    'gemini-2.5-flash-preview-04-17',\n",
    "    'gemini-2.5-pro-exp-03-25',\n",
    "    'o1-2024-12-17',\n",
    "    'grok-3-mini-beta'\n",
    "]\n",
    "\n",
    "# Debug: Print raw data for specific models\n",
    "print(\"Debug: Raw data for specific models\")\n",
    "for game in games:\n",
    "    print(f\"\\nGame: {game}\")\n",
    "    game_data = rank_data.get(game, {}).get('results', [])\n",
    "    for item in game_data:\n",
    "        if item['model'] in selected_models:\n",
    "            if game == 'Candy Crush':\n",
    "                score = float(item.get('average_score', 0))\n",
    "            elif game == 'Sokoban':\n",
    "                levels = item.get('levels_cracked', '0').split(';')\n",
    "                score = max([int(level.strip()) for level in levels if level.strip()])\n",
    "            elif game == 'Ace Attorney':\n",
    "                score = float(item.get('score', 0))\n",
    "            else:  # 2048\n",
    "                score = float(item.get('score', 0))\n",
    "            print(f\"Model: {item['model']}, Raw Score: {score}\")\n",
    "\n",
    "def normalize_values(values, mean, std):\n",
    "    \"\"\"\n",
    "    Normalize values using z-score and scale to 0-100 range\n",
    "    \"\"\"\n",
    "    if std == 0:\n",
    "        return [50 if v > 0 else 0 for v in values]  # Handle zero std case\n",
    "    z_scores = [(v - mean) / std for v in values]\n",
    "    # Scale z-scores to 0-100 range, with mean at 50\n",
    "    scaled_values = [max(0, min(100, (z * 30) + 35)) for z in z_scores]\n",
    "    return scaled_values\n",
    "\n",
    "# First collect all scores for normalization\n",
    "all_scores = {game: [] for game in games}\n",
    "for game in games:\n",
    "    game_data = rank_data.get(game, {}).get('results', [])\n",
    "    for item in game_data:\n",
    "        if item['model'] in selected_models:\n",
    "            if game == 'Candy Crush':\n",
    "                score = float(item.get('average_score', 0))\n",
    "            elif game == 'Sokoban':\n",
    "                levels = item.get('levels_cracked', '0').split(';')\n",
    "                score = max([int(level.strip()) for level in levels if level.strip()])\n",
    "            elif game == 'Ace Attorney':\n",
    "                score = float(item.get('score', 0))\n",
    "            else:  # 2048\n",
    "                score = float(item.get('score', 0))\n",
    "            all_scores[game].append(score)\n",
    "\n",
    "# Debug: Print normalization stats\n",
    "print(\"\\nDebug: Normalization stats\")\n",
    "for game in games:\n",
    "    scores = all_scores[game]\n",
    "    if scores:\n",
    "        mean = np.mean(scores)\n",
    "        std = np.std(scores) if len(scores) > 1 else 1\n",
    "        print(f\"\\nGame: {game}\")\n",
    "        print(f\"Mean: {mean:.2f}\")\n",
    "        print(f\"Std: {std:.2f}\")\n",
    "        print(f\"All scores: {scores}\")\n",
    "\n",
    "# Calculate mean and std for each game\n",
    "game_stats = {}\n",
    "for game in games:\n",
    "    scores = all_scores[game]\n",
    "    if scores:\n",
    "        game_stats[game] = {\n",
    "            'mean': np.mean(scores),\n",
    "            'std': np.std(scores) if len(scores) > 1 else 1\n",
    "        }\n",
    "    else:\n",
    "        game_stats[game] = {'mean': 0, 'std': 1}\n",
    "\n",
    "# Create figure and axis\n",
    "fig, ax = plt.subplots(figsize=(12, 6))\n",
    "\n",
    "# Set width of bars\n",
    "barWidth = 0.12\n",
    "\n",
    "# Set positions of the bars on X axis\n",
    "r = np.arange(len(games))\n",
    "positions = [r + i*barWidth for i in range(len(selected_models))]\n",
    "\n",
    "# Extract and normalize data for each model\n",
    "for idx, model in enumerate(selected_models):\n",
    "    scores = []\n",
    "    for game in games:\n",
    "        game_data = rank_data.get(game, {}).get('results', [])\n",
    "        model_result = next((item for item in game_data if item['model'] == model), None)\n",
    "        \n",
    "        if model_result:\n",
    "            if game == 'Candy Crush':\n",
    "                raw_score = float(model_result.get('average_score', 0))\n",
    "            elif game == 'Sokoban':\n",
    "                levels = model_result.get('levels_cracked', '0').split(';')\n",
    "                raw_score = max([int(level.strip()) for level in levels if level.strip()])\n",
    "            elif game == 'Ace Attorney':\n",
    "                raw_score = float(model_result.get('score', 0))\n",
    "            else:  # 2048\n",
    "                raw_score = float(model_result.get('score', 0))\n",
    "            # Normalize the score\n",
    "            normalized_score = normalize_values(\n",
    "                [raw_score], \n",
    "                game_stats[game]['mean'], \n",
    "                game_stats[game]['std']\n",
    "            )[0]\n",
    "            print(f\"Model: {model}, Game: {game}, Raw: {raw_score}, Normalized: {normalized_score:.2f}\")\n",
    "        else:\n",
    "            normalized_score = 0\n",
    "            print(f\"Model: {model}, Game: {game}, No data found\")\n",
    "        scores.append(normalized_score)\n",
    "    \n",
    "    # Create bars\n",
    "    ax.bar(positions[idx], scores, width=barWidth, \n",
    "           color=MODEL_COLORS.get(model, '#808080'),\n",
    "           label=model)\n",
    "\n",
    "# Add labels and title\n",
    "ax.set_xlabel('Games')\n",
    "ax.set_ylabel('Normalized Score (0-100)')\n",
    "ax.set_title('Normalized Model Performance Across Games')\n",
    "ax.set_xticks(r + barWidth * (len(selected_models)-1)/2)\n",
    "ax.set_xticklabels(games)\n",
    "ax.set_ylim(0, 100)\n",
    "\n",
    "# Add grid\n",
    "ax.grid(True, axis='y', linestyle='--', alpha=0.7)\n",
    "\n",
    "# Add legend\n",
    "ax.legend(bbox_to_anchor=(1.05, 1), loc='upper left')\n",
    "\n",
    "# Adjust layout to prevent label cutoff\n",
    "plt.tight_layout()\n",
    "\n",
    "# Show the plot\n",
    "plt.show()"
   ]
  },
  {
   "cell_type": "code",
   "execution_count": 8,
   "metadata": {},
   "outputs": [
    {
     "name": "stdout",
     "output_type": "stream",
     "text": [
      "Debug: Raw data for specific models\n",
      "\n",
      "Game: 2048\n",
      "Model: claude-3-7-sonnet-20250219(thinking), Raw Score: 256.0\n",
      "Model: grok-3-mini-beta, Raw Score: 256.0\n",
      "Model: o1-2024-12-17, Raw Score: 256.0\n",
      "Model: gemini-2.5-flash-preview-04-17, Raw Score: 128.0\n",
      "Model: gemini-2.5-pro-exp-03-25, Raw Score: 128.0\n",
      "\n",
      "Game: Sokoban\n",
      "Model: grok-3-mini-beta, Raw Score: 3\n",
      "Model: gemini-2.5-pro-exp-03-25, Raw Score: 3\n",
      "Model: gemini-2.5-flash-preview-04-17, Raw Score: 2\n",
      "Model: claude-3-7-sonnet-20250219(thinking), Raw Score: 2\n",
      "Model: o1-2024-12-17, Raw Score: 1\n",
      "\n",
      "Game: Candy Crush\n",
      "Model: grok-3-mini-beta, Raw Score: 106.0\n",
      "Model: o1-2024-12-17, Raw Score: 97.67\n",
      "Model: gemini-2.5-flash-preview-04-17, Raw Score: 59.0\n",
      "Model: gemini-2.5-pro-exp-03-25, Raw Score: 51.33\n",
      "Model: claude-3-7-sonnet-20250219(thinking), Raw Score: 35.33\n",
      "\n",
      "Game: Ace Attorney\n",
      "Model: o1-2024-12-17, Raw Score: 26.0\n",
      "Model: gemini-2.5-pro-exp-03-25, Raw Score: 20.0\n",
      "Model: claude-3-7-sonnet-20250219(thinking), Raw Score: 8.0\n",
      "Model: grok-3-mini-beta, Raw Score: 7.0\n",
      "Model: gemini-2.5-flash-preview-04-17, Raw Score: 4.0\n",
      "\n",
      "Debug: Normalization stats\n",
      "\n",
      "Game: 2048\n",
      "Mean: 204.80\n",
      "Std: 62.71\n",
      "All scores: [256.0, 256.0, 256.0, 128.0, 128.0]\n",
      "\n",
      "Game: Sokoban\n",
      "Mean: 2.20\n",
      "Std: 0.75\n",
      "All scores: [3, 3, 2, 2, 1]\n",
      "\n",
      "Game: Candy Crush\n",
      "Mean: 69.87\n",
      "Std: 27.32\n",
      "All scores: [106.0, 97.67, 59.0, 51.33, 35.33]\n",
      "\n",
      "Game: Ace Attorney\n",
      "Mean: 13.00\n",
      "Std: 8.49\n",
      "All scores: [26.0, 20.0, 8.0, 7.0, 4.0]\n",
      "Model: claude-3-7-sonnet-20250219(thinking), Game: 2048, Raw: 256.0, Normalized: 66.33\n",
      "Model: claude-3-7-sonnet-20250219(thinking), Game: Sokoban, Raw: 2, Normalized: 44.65\n",
      "Model: claude-3-7-sonnet-20250219(thinking), Game: Candy Crush, Raw: 35.33, Normalized: 24.72\n",
      "Model: claude-3-7-sonnet-20250219(thinking), Game: Ace Attorney, Raw: 8.0, Normalized: 38.21\n",
      "Model: gemini-2.5-flash-preview-04-17, Game: 2048, Raw: 128.0, Normalized: 25.51\n",
      "Model: gemini-2.5-flash-preview-04-17, Game: Sokoban, Raw: 2, Normalized: 44.65\n",
      "Model: gemini-2.5-flash-preview-04-17, Game: Candy Crush, Raw: 59.0, Normalized: 42.05\n",
      "Model: gemini-2.5-flash-preview-04-17, Game: Ace Attorney, Raw: 4.0, Normalized: 28.79\n",
      "Model: gemini-2.5-pro-exp-03-25, Game: 2048, Raw: 128.0, Normalized: 25.51\n",
      "Model: gemini-2.5-pro-exp-03-25, Game: Sokoban, Raw: 3, Normalized: 71.38\n",
      "Model: gemini-2.5-pro-exp-03-25, Game: Candy Crush, Raw: 51.33, Normalized: 36.43\n",
      "Model: gemini-2.5-pro-exp-03-25, Game: Ace Attorney, Raw: 20.0, Normalized: 66.50\n",
      "Model: o1-2024-12-17, Game: 2048, Raw: 256.0, Normalized: 66.33\n",
      "Model: o1-2024-12-17, Game: Sokoban, Raw: 1, Normalized: 17.93\n",
      "Model: o1-2024-12-17, Game: Candy Crush, Raw: 97.67, Normalized: 70.35\n",
      "Model: o1-2024-12-17, Game: Ace Attorney, Raw: 26.0, Normalized: 80.64\n",
      "Model: grok-3-mini-beta, Game: 2048, Raw: 256.0, Normalized: 66.33\n",
      "Model: grok-3-mini-beta, Game: Sokoban, Raw: 3, Normalized: 71.38\n",
      "Model: grok-3-mini-beta, Game: Candy Crush, Raw: 106.0, Normalized: 76.45\n",
      "Model: grok-3-mini-beta, Game: Ace Attorney, Raw: 7.0, Normalized: 35.86\n"
     ]
    },
    {
     "data": {
      "image/png": "[encoded data removed]",
      "text/plain": [
       "<Figure size 1200x600 with 1 Axes>"
      ]
     },
     "metadata": {},
     "output_type": "display_data"
    }
   ],
   "source": [
    "import json\n",
    "import pandas as pd\n",
    "import numpy as np\n",
    "import matplotlib.pyplot as plt\n",
    "\n",
    "# Load model colors\n",
    "with open('./assets/model_color.json', 'r') as f:\n",
    "    MODEL_COLORS = json.load(f)\n",
    "\n",
    "# Load rank data\n",
    "with open('./rank_data_03_25_2025.json', 'r') as f:\n",
    "    rank_data = json.load(f)\n",
    "\n",
    "# Define games\n",
    "games = ['2048', 'Sokoban', 'Candy Crush', 'Ace Attorney']\n",
    "\n",
    "# Selected models\n",
    "selected_models = [\n",
    "    'claude-3-7-sonnet-20250219(thinking)',\n",
    "    'gemini-2.5-flash-preview-04-17',\n",
    "    'gemini-2.5-pro-exp-03-25',\n",
    "    'o1-2024-12-17',\n",
    "    'grok-3-mini-beta'\n",
    "]\n",
    "\n",
    "# Debug: Print raw data for specific models\n",
    "print(\"Debug: Raw data for specific models\")\n",
    "for game in games:\n",
    "    print(f\"\\nGame: {game}\")\n",
    "    game_data = rank_data.get(game, {}).get('results', [])\n",
    "    for item in game_data:\n",
    "        if item['model'] in selected_models:\n",
    "            if game == 'Candy Crush':\n",
    "                score = float(item.get('average_score', 0))\n",
    "            elif game == 'Sokoban':\n",
    "                levels = item.get('levels_cracked', '0').split(';')\n",
    "                score = max([int(level.strip()) for level in levels if level.strip()])\n",
    "            elif game == 'Ace Attorney':\n",
    "                score = float(item.get('score', 0))\n",
    "            else:  # 2048\n",
    "                score = float(item.get('score', 0))\n",
    "            print(f\"Model: {item['model']}, Raw Score: {score}\")\n",
    "\n",
    "def normalize_values(values, mean, std):\n",
    "    \"\"\"\n",
    "    Normalize values using z-score and scale to 0-100 range with better preservation of relative differences\n",
    "    \"\"\"\n",
    "    if std == 0:\n",
    "        return [50 if v > 0 else 0 for v in values]  # Handle zero std case\n",
    "    \n",
    "    # Calculate z-scores\n",
    "    z_scores = [(v - mean) / std for v in values]\n",
    "    \n",
    "    # Scale z-scores to 0-100 range with better distribution\n",
    "    # Using a more gradual scaling that preserves differences\n",
    "    scaled_values = []\n",
    "    for z in z_scores:\n",
    "        # Map z-scores to 0-100 range with better distribution\n",
    "        # z-score of -2 maps to ~10, 0 maps to 50, +2 maps to ~90\n",
    "        scaled = max(0, min(100, (z * 20) + 50))\n",
    "        scaled_values.append(scaled)\n",
    "    \n",
    "    return scaled_values\n",
    "\n",
    "# First collect all scores for normalization\n",
    "all_scores = {game: [] for game in games}\n",
    "for game in games:\n",
    "    game_data = rank_data.get(game, {}).get('results', [])\n",
    "    for item in game_data:\n",
    "        if item['model'] in selected_models:\n",
    "            if game == 'Candy Crush':\n",
    "                score = float(item.get('average_score', 0))\n",
    "            elif game == 'Sokoban':\n",
    "                levels = item.get('levels_cracked', '0').split(';')\n",
    "                score = max([int(level.strip()) for level in levels if level.strip()])\n",
    "            elif game == 'Ace Attorney':\n",
    "                score = float(item.get('score', 0))\n",
    "            else:  # 2048\n",
    "                score = float(item.get('score', 0))\n",
    "            all_scores[game].append(score)\n",
    "\n",
    "# Debug: Print normalization stats\n",
    "print(\"\\nDebug: Normalization stats\")\n",
    "for game in games:\n",
    "    scores = all_scores[game]\n",
    "    if scores:\n",
    "        mean = np.mean(scores)\n",
    "        std = np.std(scores) if len(scores) > 1 else 1\n",
    "        print(f\"\\nGame: {game}\")\n",
    "        print(f\"Mean: {mean:.2f}\")\n",
    "        print(f\"Std: {std:.2f}\")\n",
    "        print(f\"All scores: {scores}\")\n",
    "\n",
    "# Calculate mean and std for each game\n",
    "game_stats = {}\n",
    "for game in games:\n",
    "    scores = all_scores[game]\n",
    "    if scores:\n",
    "        game_stats[game] = {\n",
    "            'mean': np.mean(scores),\n",
    "            'std': np.std(scores) if len(scores) > 1 else 1\n",
    "        }\n",
    "    else:\n",
    "        game_stats[game] = {'mean': 0, 'std': 1}\n",
    "\n",
    "# Create figure and axis\n",
    "fig, ax = plt.subplots(figsize=(12, 6))\n",
    "\n",
    "# Set width of bars\n",
    "barWidth = 0.12\n",
    "\n",
    "# Set positions of the bars on X axis\n",
    "r = np.arange(len(games))\n",
    "positions = [r + i*barWidth for i in range(len(selected_models))]\n",
    "\n",
    "# Extract and normalize data for each model\n",
    "for idx, model in enumerate(selected_models):\n",
    "    scores = []\n",
    "    for game in games:\n",
    "        game_data = rank_data.get(game, {}).get('results', [])\n",
    "        model_result = next((item for item in game_data if item['model'] == model), None)\n",
    "        \n",
    "        if model_result:\n",
    "            if game == 'Candy Crush':\n",
    "                raw_score = float(model_result.get('average_score', 0))\n",
    "            elif game == 'Sokoban':\n",
    "                levels = model_result.get('levels_cracked', '0').split(';')\n",
    "                raw_score = max([int(level.strip()) for level in levels if level.strip()])\n",
    "            elif game == 'Ace Attorney':\n",
    "                raw_score = float(model_result.get('score', 0))\n",
    "            else:  # 2048\n",
    "                raw_score = float(model_result.get('score', 0))\n",
    "            # Normalize the score\n",
    "            normalized_score = normalize_values(\n",
    "                [raw_score], \n",
    "                game_stats[game]['mean'], \n",
    "                game_stats[game]['std']\n",
    "            )[0]\n",
    "            print(f\"Model: {model}, Game: {game}, Raw: {raw_score}, Normalized: {normalized_score:.2f}\")\n",
    "        else:\n",
    "            normalized_score = 0\n",
    "            print(f\"Model: {model}, Game: {game}, No data found\")\n",
    "        scores.append(normalized_score)\n",
    "    \n",
    "    # Create bars with red outline for grok-3-mini-beta\n",
    "    if model == 'grok-3-mini-beta':\n",
    "        ax.bar(positions[idx], scores, width=barWidth, \n",
    "               color=MODEL_COLORS.get(model, '#808080'),\n",
    "               label=model,\n",
    "               edgecolor='red',\n",
    "               linewidth=2)\n",
    "    else:\n",
    "        ax.bar(positions[idx], scores, width=barWidth, \n",
    "               color=MODEL_COLORS.get(model, '#808080'),\n",
    "               label=model)\n",
    "\n",
    "# Add labels and title\n",
    "ax.set_xlabel('Games')\n",
    "ax.set_ylabel('Normalized Score (0-100)')\n",
    "ax.set_title('Normalized Model Performance Across Games (Highlighted: grok-3-mini-beta)')\n",
    "ax.set_xticks(r + barWidth * (len(selected_models)-1)/2)\n",
    "ax.set_xticklabels(games)\n",
    "ax.set_ylim(0, 100)\n",
    "\n",
    "# Add grid\n",
    "ax.grid(True, axis='y', linestyle='--', alpha=0.7)\n",
    "\n",
    "# Add legend\n",
    "ax.legend(bbox_to_anchor=(1.05, 1), loc='upper left')\n",
    "\n",
    "# Adjust layout to prevent label cutoff\n",
    "plt.tight_layout()\n",
    "\n",
    "# Show the plot\n",
    "plt.show()"
   ]
  }
 ],
 "metadata": {
  "kernelspec": {
   "display_name": "local_cua",
   "language": "python",
   "name": "python3"
  },
  "language_info": {
   "codemirror_mode": {
    "name": "ipython",
    "version": 3
   },
   "file_extension": ".py",
   "mimetype": "text/x-python",
   "name": "python",
   "nbconvert_exporter": "python",
   "pygments_lexer": "ipython3",
   "version": "3.10.16"
  }
 },
 "nbformat": 4,
 "nbformat_minor": 2
}
