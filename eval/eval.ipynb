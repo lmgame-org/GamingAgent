{
 "cells": [
  {
   "cell_type": "markdown",
   "metadata": {},
   "source": [
    "# Introduction\n",
    "\n",
    "We provide an evaluation pipeline to analyze results on **lmgame-Bench**. 🎮\n",
    "\n",
    "- **Code:** <https://github.com/lmgame-org/GamingAgent>  \n",
    "- **Leaderboard:** <https://huggingface.co/spaces/lmgame/game_arena_bench>  \n",
    "- **Paper:** <https://arxiv.org/abs/2505.15146>\n",
    "\n",
    "You can evaluate your model in on run 📊:\n",
    "\n",
    "1. **Entire cache directory:** Submit the entire cache directory or cache zip file containing all cached episodes to obtain aggregate performance across all games  in colab local directory.\n",
    "\n",
    "run benchmark;\n",
    "download cache directory sample \n",
    "intruction heavy"
   ]
  },
  {
   "cell_type": "markdown",
   "metadata": {},
   "source": [
    "## Data Preparation\n",
    "1. Extract local data\n",
    "2. Load online benchmark data\n",
    "3. Update local benchmark data with local data "
   ]
  },
  {
   "cell_type": "code",
   "execution_count": 1,
   "metadata": {},
   "outputs": [],
   "source": [
    "import os\n",
    "import glob\n",
    "import zipfile \n",
    "import requests\n",
    "import json\n",
    "import pandas as pd\n",
    "import shutil\n",
    "\n",
    "# Default Constants: our online benchmark data, model colors, other benchmark ranks, polynomial model results_save_path\n",
    "MODEL_PERF_RANK_URL = \"https://raw.githubusercontent.com/lmgame-org/GamingAgent/refs/heads/codebase_refactor_eval_dev/eval/perf/model_perf_rank.json\"\n",
    "MODEL_COLORS_URL = \"https://raw.githubusercontent.com/lmgame-org/GamingAgent/refs/heads/codebase_refactor_eval_dev/eval/assets/model_colors.json\"\n",
    "OTHER_TASK_RANK_URL = \"https://raw.githubusercontent.com/lmgame-org/GamingAgent/codebase_refactor_eval_dev/eval/perf/other_task_rank.json\"\n",
    "POLYNOMIAL_MODEL_RESULTS_JSON_PATH = \"polynomial_model_results.json\""
   ]
  },
  {
   "cell_type": "code",
   "execution_count": 2,
   "metadata": {},
   "outputs": [
    {
     "name": "stdout",
     "output_type": "stream",
     "text": [
      "--- Step 1: Checking evaluation files ---\n",
      "Using existing cache directory: 'cache'\n",
      "\n",
      "--- Step 2: Generating evaluation map ---\n",
      "Info: Attempting to generate map from cache location: cache\n",
      "Info: Processing cache directory: cache\n",
      "  Mapped in dir 'cache/twenty_forty_eight/gemini_2.0_flas/20250525_175229': 'cache/twenty_forty_eight/gemini_2.0_flas/20250525_175229/agent_config.json' to 1 log(s)\n",
      "  Mapped in dir 'cache/tetris/gemini_2.0_flas/20250525_175225': 'cache/tetris/gemini_2.0_flas/20250525_175225/agent_config.json' to 1 log(s)\n",
      "  Mapped in dir 'cache/sokoban/gemini_2.0_flas/20250525_175223': 'cache/sokoban/gemini_2.0_flas/20250525_175223/agent_config.json' to 1 log(s)\n",
      "  Mapped in dir 'cache/super_mario_bros/gemini_2.0_flas/20250529_003233': 'cache/super_mario_bros/gemini_2.0_flas/20250529_003233/agent_config.json' to 1 log(s)\n",
      "  Mapped in dir 'cache/super_mario_bros/gemini_2.0_flas/20250529_004456': 'cache/super_mario_bros/gemini_2.0_flas/20250529_004456/agent_config.json' to 2 log(s)\n",
      "  Mapped in dir 'cache/candy_crush/gemini_2.0_flas/20250525_175227': 'cache/candy_crush/gemini_2.0_flas/20250525_175227/agent_config.json' to 1 log(s)\n",
      "Info: Map generation from cache completed.\n",
      "\n",
      "--- Step 3: Extracting results from evaluation map ---\n",
      "\n",
      "--- Step 4: Generating averaged results ---\n",
      "\n",
      "--- Averaged Results ---\n",
      "Game: twenty_forty_eight, Model: gemini-2.0-flash, Observation Mode: both, Harness: True\n",
      "  Number of Episodes: 1\n",
      "  Average Total Steps: 18.0\n",
      "  Average Total Reward: 20.0\n",
      "  Average Total Perf Score: 20.0\n",
      "  Average Total Time Taken: 366.6378812789917\n",
      "\n",
      "\n",
      "Game: tetris, Model: gemini-2.0-flash, Observation Mode: both, Harness: True\n",
      "  Number of Episodes: 1\n",
      "  Average Total Steps: 107.0\n",
      "  Average Total Reward: 11.0\n",
      "  Average Total Perf Score: 11.0\n",
      "  Average Total Time Taken: 2211.2396671772003\n",
      "\n",
      "\n",
      "Game: sokoban, Model: gemini-2.0-flash, Observation Mode: both, Harness: True\n",
      "  Number of Episodes: 1\n",
      "  Average Total Steps: 8.0\n",
      "  Average Total Reward: -0.7999999999999999\n",
      "  Average Total Perf Score: 0.0\n",
      "  Average Total Time Taken: 104.5174171924591\n",
      "\n",
      "\n",
      "Game: super_mario_bros, Model: gemini-2.0-flash, Observation Mode: vision, Harness: False\n",
      "  Number of Episodes: 3\n",
      "  Average Total Steps: 1854.6666666666667\n",
      "  Average Total Reward: 918.0\n",
      "  Average Total Perf Score: 619.6666666666666\n",
      "  Average Total Time Taken: 641.7903391520182\n",
      "\n",
      "\n",
      "Game: candy_crush, Model: gemini-2.0-flash, Observation Mode: both, Harness: True\n",
      "  Number of Episodes: 1\n",
      "  Average Total Steps: 50.0\n",
      "  Average Total Reward: 0.0\n",
      "  Average Total Perf Score: 0.0\n",
      "  Average Total Time Taken: 2843.886850118637\n",
      "\n",
      "\n"
     ]
    }
   ],
   "source": [
    "### Extract local data\n",
    "def check_evaluation_files(cache_dir_status):\n",
    "    report = {}\n",
    "\n",
    "    if cache_dir_status:\n",
    "        cache_dir_path_to_check = \"cache\"\n",
    "        cache_zip_file_to_check = \"cache.zip\"\n",
    "\n",
    "        if os.path.isdir(cache_dir_path_to_check):\n",
    "            report[\"cache_directory\"] = cache_dir_path_to_check\n",
    "            print(f\"Using existing cache directory: '{cache_dir_path_to_check}'\")\n",
    "        elif os.path.isfile(cache_zip_file_to_check):\n",
    "            print(f\"Found cache zip file: '{cache_zip_file_to_check}'. Attempting to unzip.\")\n",
    "\n",
    "            # Prepare for unzipping: remove existing 'cache' directory if it's a directory\n",
    "            if os.path.isdir(cache_dir_path_to_check):\n",
    "                print(f\"Removing existing directory '{cache_dir_path_to_check}' before unzipping.\")\n",
    "                try:\n",
    "                    shutil.rmtree(cache_dir_path_to_check)\n",
    "                except OSError as e:\n",
    "                    print(f\"Error removing directory {cache_dir_path_to_check}: {e}\")\n",
    "                    report[\"cache_directory\"] = None\n",
    "                    return report # Exit if we can't prepare the directory\n",
    "            try:\n",
    "                with zipfile.ZipFile(cache_zip_file_to_check, 'r') as zip_ref:\n",
    "                    zip_ref.extractall(cache_dir_path_to_check)\n",
    "                if os.path.isdir(cache_dir_path_to_check):\n",
    "                    report[\"cache_directory\"] = cache_dir_path_to_check\n",
    "                    print(f\"Successfully unzipped '{cache_zip_file_to_check}' to '{cache_dir_path_to_check}' using Python's zipfile module.\")\n",
    "                else:\n",
    "                    print(f\"Error: Failed to unzip '{cache_zip_file_to_check}' or directory not found after unzipping (using Python's zipfile).\")\n",
    "                    report[\"cache_directory\"] = None\n",
    "            except zipfile.BadZipFile:\n",
    "                print(f\"Error: '{cache_zip_file_to_check}' is not a valid zip file or is corrupted.\")\n",
    "                report[\"cache_directory\"] = None\n",
    "            except Exception as e:\n",
    "                print(f\"An error occurred during unzipping with Python's zipfile: {e}\")\n",
    "                report[\"cache_directory\"] = None\n",
    "\n",
    "        else:\n",
    "            report[\"cache_directory\"] = None\n",
    "            print(f\"Error: Cache directory '{cache_dir_path_to_check}' or cache file '{cache_zip_file_to_check}' not found.\")\n",
    "    else: # If cache_dir_status is False\n",
    "        report[\"cache_directory\"] = None\n",
    "        print(\"Info: Cache directory status is False. No cache will be checked.\")\n",
    "\n",
    "    return report\n",
    "\n",
    "\n",
    "def generate_evaluation_map(file_info, cache_dir_status): # Removed single_json_status\n",
    "    \"\"\"\n",
    "    Generates a map from agent_config.json paths to a list of corresponding episode_*.jsonl paths,\n",
    "    handling nested subdirectories in cache. Now only processes cache.\n",
    "\n",
    "    Args:\n",
    "        file_info (dict): The report from check_evaluation_files.\n",
    "        cache_dir_status (bool): Flag indicating if cache directory/zip processing is enabled.\n",
    "\n",
    "    Returns:\n",
    "        dict: A map where keys are paths to agent_config.json files and\n",
    "              values are lists of paths to corresponding episode_*.jsonl files.\n",
    "    \"\"\"\n",
    "    run_map = {}\n",
    "\n",
    "    if cache_dir_status and file_info.get(\"cache_directory\"):\n",
    "        cache_location = file_info[\"cache_directory\"]\n",
    "        print(f\"Info: Attempting to generate map from cache location: {cache_location}\")\n",
    "\n",
    "        if os.path.isdir(cache_location):\n",
    "            print(f\"Info: Processing cache directory: {cache_location}\")\n",
    "            for dirpath, dirnames, filenames in os.walk(cache_location):\n",
    "                if \"agent_config.json\" in filenames:\n",
    "                    current_agent_config = os.path.join(dirpath, \"agent_config.json\")\n",
    "                    episode_log_pattern = os.path.join(dirpath, \"episode_*.jsonl\")\n",
    "                    episode_logs = sorted(glob.glob(episode_log_pattern))\n",
    "                    \n",
    "                    if episode_logs:\n",
    "                        run_map[current_agent_config] = episode_logs\n",
    "                        print(f\"  Mapped in dir '{dirpath}': '{current_agent_config}' to {len(episode_logs)} log(s)\")\n",
    "        \n",
    "        elif os.path.isfile(cache_location) and cache_location.endswith(\".zip\"):\n",
    "            print(f\"Info: Processing cache zip file: {cache_location}\")\n",
    "            files_by_internal_dir = {}\n",
    "            try:\n",
    "                with zipfile.ZipFile(cache_location, 'r') as zip_f:\n",
    "                    for item_name_in_zip in zip_f.namelist():\n",
    "                        normalized_item_path = item_name_in_zip.replace('\\\\\\\\', '/')\n",
    "                        if normalized_item_path.endswith('/'): \n",
    "                            continue\n",
    "\n",
    "                        internal_dir_path = os.path.dirname(normalized_item_path)\n",
    "                        internal_filename = os.path.basename(normalized_item_path)\n",
    "                        \n",
    "                        if internal_dir_path not in files_by_internal_dir:\n",
    "                            files_by_internal_dir[internal_dir_path] = []\n",
    "                        files_by_internal_dir[internal_dir_path].append(internal_filename)\n",
    "                \n",
    "                for internal_dir, filenames_in_dir in files_by_internal_dir.items():\n",
    "                    if \"agent_config.json\" in filenames_in_dir:\n",
    "                        agent_config_zip_path = f\"{internal_dir}/agent_config.json\" if internal_dir else \"agent_config.json\"\n",
    "                        episode_logs_zip_paths = []\n",
    "                        for fname in filenames_in_dir:\n",
    "                            if fname.startswith(\"episode_\") and fname.endswith(\".jsonl\"):\n",
    "                                log_path_in_zip = f\"{internal_dir}/{fname}\" if internal_dir else fname\n",
    "                                episode_logs_zip_paths.append(log_path_in_zip)\n",
    "                        \n",
    "                        if episode_logs_zip_paths:\n",
    "                            run_map[agent_config_zip_path] = sorted(episode_logs_zip_paths)\n",
    "                            print(f\"  Mapped in zip (dir '{internal_dir}'): '{agent_config_zip_path}' to {len(episode_logs_zip_paths)} log(s)\")\n",
    "\n",
    "            except zipfile.BadZipFile:\n",
    "                print(f\"Error: Could not read zip file {cache_location}. It may be corrupted.\")\n",
    "            except Exception as e:\n",
    "                print(f\"An error occurred while processing zip file {cache_location}: {e}\")\n",
    "        \n",
    "        if run_map:\n",
    "             print(f\"Info: Map generation from cache completed.\")\n",
    "        else:\n",
    "            print(f\"Warning: Cache processing was enabled for '{cache_location}', but no valid agent_config to episode_log mappings were found.\")\n",
    "    elif cache_dir_status and not file_info.get(\"cache_directory\"):\n",
    "        print(\"Info: Cache processing was enabled, but no cache directory or file was found by check_evaluation_files.\")\n",
    "    elif not cache_dir_status:\n",
    "        print(\"Info: Cache processing is disabled. No map will be generated from cache.\")\n",
    "\n",
    "\n",
    "    if not run_map:\n",
    "        print(\"Warning: No evaluation map could be generated with the current settings and files.\")\n",
    "        \n",
    "    return run_map\n",
    "\n",
    "\n",
    "# Extract results from evaluation run map\n",
    "def _try_parse_json_string_for_function(value, field_name_for_error, log_file_basename, line_num_str):\n",
    "    \"\"\"\n",
    "    Helper to parse a field that might be a JSON string.\n",
    "    Used by the process_evaluation_run_map function.\n",
    "    \"\"\"\n",
    "    if isinstance(value, str):\n",
    "        try:\n",
    "            return json.loads(value)\n",
    "        except json.JSONDecodeError:\n",
    "            return value # Return original string if parsing fails\n",
    "    return value # Return as is if not a string\n",
    "\n",
    "def process_evaluation_run_map(evaluation_run_map):\n",
    "    \"\"\"\n",
    "    Processes an evaluation_run_map to extract and structure data from\n",
    "    agent_config.json and episode_*.jsonl files.\n",
    "\n",
    "    Args:\n",
    "        evaluation_run_map (dict): A map where keys are paths to agent_config.json\n",
    "                                   files and values are lists of paths to\n",
    "                                   corresponding episode_*.jsonl files.\n",
    "\n",
    "    Returns:\n",
    "        dict: A dictionary where keys are tuples (game_name, model_name,\n",
    "              observation_mode, harness_bool) and values are lists of\n",
    "              dictionaries, each representing a processed episode.\n",
    "              Each episode dictionary contains:\n",
    "              'episode_id', 'total_steps', 'total_reward',\n",
    "              'total_perf_score', 'total_time_taken',\n",
    "              'agent_observations' (list), 'infos' (list).\n",
    "    \"\"\"\n",
    "    grouped_results = {}\n",
    "\n",
    "    if not evaluation_run_map:\n",
    "        print(\"Warning: The provided evaluation_run_map is empty. No processing will occur.\")\n",
    "        return grouped_results\n",
    "\n",
    "    for agent_config_filepath, episode_log_filepaths in evaluation_run_map.items():\n",
    "        # 1. Read and parse agent_config.json\n",
    "        game_name = None\n",
    "        model_name = None\n",
    "        observation_mode = None\n",
    "        harness_bool = None # Store harness as boolean\n",
    "\n",
    "        if not os.path.isfile(agent_config_filepath):\n",
    "            print(f\"Error: Agent config file not found at '{agent_config_filepath}'. Skipping associated logs.\")\n",
    "            continue\n",
    "        \n",
    "        try:\n",
    "            with open(agent_config_filepath, 'r') as f_agent_config:\n",
    "                agent_config_data = json.load(f_agent_config)\n",
    "            \n",
    "            game_name = agent_config_data.get(\"game_name\")\n",
    "            model_name = agent_config_data.get(\"model_name\")\n",
    "            observation_mode = agent_config_data.get(\"observation_mode\")\n",
    "            harness_bool = agent_config_data.get(\"harness\") # This should ideally be boolean (True/False)\n",
    "            \n",
    "            if harness_bool is None: # Handle if 'harness' key is missing\n",
    "                print(f\"Warning: 'harness' key missing in {agent_config_filepath}. Assuming False.\")\n",
    "                harness_bool = False\n",
    "\n",
    "        except json.JSONDecodeError:\n",
    "            print(f\"Error: Could not decode JSON from agent config: '{agent_config_filepath}'. Skipping.\")\n",
    "            continue\n",
    "        except Exception as e:\n",
    "            print(f\"Error reading agent config '{agent_config_filepath}': {e}. Skipping.\")\n",
    "            continue\n",
    "\n",
    "        # Create the grouping key\n",
    "        # Ensure all parts of the key are actual values to avoid issues with None in dict keys\n",
    "        if game_name is None or model_name is None or observation_mode is None:\n",
    "            print(f\"Warning: Missing one or more key identifiers (game_name, model_name, observation_mode) in '{agent_config_filepath}'. Skipping this config and its logs.\")\n",
    "            continue\n",
    "            \n",
    "        group_key = (game_name, model_name, observation_mode, harness_bool)\n",
    "\n",
    "        if group_key not in grouped_results:\n",
    "            grouped_results[group_key] = []\n",
    "\n",
    "        # 2. Process corresponding episode logs\n",
    "        if not episode_log_filepaths:\n",
    "            print(f\"Info: No episode logs listed for agent config: '{agent_config_filepath}'.\")\n",
    "            continue\n",
    "\n",
    "        for episode_log_path in episode_log_filepaths:\n",
    "            if not os.path.isfile(episode_log_path):\n",
    "                print(f\"Warning: Episode log file not found: '{episode_log_path}'. Skipping.\")\n",
    "                continue\n",
    "\n",
    "            log_basename = os.path.basename(episode_log_path)\n",
    "            try:\n",
    "                episode_id_str = log_basename.replace(\"episode_\", \"\").replace(\"_log.jsonl\", \"\")\n",
    "            except Exception:\n",
    "                episode_id_str = log_basename # Fallback\n",
    "\n",
    "            ep_total_steps = 0\n",
    "            ep_total_reward = 0\n",
    "            ep_total_perf_score = 0.0\n",
    "            ep_infos_list = []\n",
    "            ep_agent_observations_list = []\n",
    "            \n",
    "            episode_lines_data = []\n",
    "            sum_step_time_taken_s = 0.0\n",
    "            found_step_time_taken_s_in_episode = False\n",
    "            final_total_time_taken_from_last_step_info = None\n",
    "\n",
    "            try:\n",
    "                with open(episode_log_path, 'r') as f_episode_log:\n",
    "                    for line_num, line in enumerate(f_episode_log):\n",
    "                        try:\n",
    "                            step_data = json.loads(line)\n",
    "                            episode_lines_data.append(step_data)\n",
    "                        except json.JSONDecodeError:\n",
    "                            # print(f\"Warning: Could not decode JSON from line {line_num + 1} in '{log_basename}'. Skipping line.\")\n",
    "                            continue\n",
    "                \n",
    "                if not episode_lines_data:\n",
    "                    # print(f\"Warning: No valid JSON lines found in '{log_basename}'. Skipping this log.\")\n",
    "                    continue\n",
    "\n",
    "                ep_total_steps = len(episode_lines_data)\n",
    "\n",
    "                for step_idx, step_data_dict in enumerate(episode_lines_data):\n",
    "                    ep_total_reward += step_data_dict.get(\"reward\", 0)\n",
    "                    ep_total_perf_score += step_data_dict.get(\"perf_score\", 0.0)\n",
    "                    \n",
    "                    raw_obs = step_data_dict.get(\"agent_observation\")\n",
    "                    parsed_obs = _try_parse_json_string_for_function(raw_obs, \"agent_observation\", log_basename, str(step_idx+1))\n",
    "                    ep_agent_observations_list.append(parsed_obs)\n",
    "\n",
    "                    raw_info = step_data_dict.get(\"info\")\n",
    "                    parsed_info = _try_parse_json_string_for_function(raw_info, \"info\", log_basename, str(step_idx+1))\n",
    "                    ep_infos_list.append(parsed_info)\n",
    "\n",
    "                    if \"time_taken_s\" in step_data_dict:\n",
    "                        try:\n",
    "                            sum_step_time_taken_s += float(step_data_dict[\"time_taken_s\"])\n",
    "                            found_step_time_taken_s_in_episode = True\n",
    "                        except (ValueError, TypeError):\n",
    "                            pass \n",
    "\n",
    "                    if step_idx == ep_total_steps - 1: # Last step\n",
    "                        if isinstance(parsed_info, dict) and \"total_time_taken\" in parsed_info:\n",
    "                            try:\n",
    "                                final_total_time_taken_from_last_step_info = float(parsed_info[\"total_time_taken\"])\n",
    "                            except (ValueError, TypeError):\n",
    "                                pass # Keep it None if not a valid float\n",
    "\n",
    "                ep_total_time_taken = None\n",
    "                if final_total_time_taken_from_last_step_info is not None:\n",
    "                    ep_total_time_taken = final_total_time_taken_from_last_step_info\n",
    "                elif found_step_time_taken_s_in_episode:\n",
    "                    ep_total_time_taken = sum_step_time_taken_s\n",
    "                \n",
    "                episode_data_point = {\n",
    "                    \"episode_id\": episode_id_str,\n",
    "                    \"total_steps\": ep_total_steps,\n",
    "                    \"total_reward\": ep_total_reward,\n",
    "                    \"total_perf_score\": ep_total_perf_score,\n",
    "                    \"total_time_taken\": ep_total_time_taken,\n",
    "                    \"agent_observations\": ep_agent_observations_list,\n",
    "                    \"infos\": ep_infos_list\n",
    "                }\n",
    "                grouped_results[group_key].append(episode_data_point)\n",
    "\n",
    "            except Exception as e:\n",
    "                print(f\"Error processing episode log '{episode_log_path}': {e}\")\n",
    "                continue # Skip to next episode log file\n",
    "                \n",
    "    return grouped_results\n",
    "\n",
    "def calculate_average_performance(extracted_results_map):\n",
    "    \"\"\"\n",
    "    Calculates average performance metrics from the extracted_results_map.\n",
    "\n",
    "    Args:\n",
    "        extracted_results_map (dict): The output from process_evaluation_run_map,\n",
    "                                      where keys are tuples (game_name, model_name,\n",
    "                                      observation_mode, harness_bool) and values are\n",
    "                                      lists of episode data dictionaries.\n",
    "\n",
    "    Returns:\n",
    "        list: A list of dictionaries, where each dictionary represents a group\n",
    "              and its averaged 'total_steps', 'total_reward', 'total_perf_score',\n",
    "              along with the group identifiers and 'num_episodes'.\n",
    "    \"\"\"\n",
    "    averaged_data_list = []\n",
    "\n",
    "    if not extracted_results_map:\n",
    "        print(\"Warning: The provided extracted_results_map is empty. No averages will be calculated.\")\n",
    "        return averaged_data_list\n",
    "\n",
    "    for group_key, episodes_list in extracted_results_map.items():\n",
    "        game_name, model_name, observation_mode, harness = group_key\n",
    "        \n",
    "        if not episodes_list:\n",
    "            print(f\"Info: No episodes found for group: {group_key}. Skipping averaging for this group.\")\n",
    "            # Optionally, you could add an entry with 0 episodes and NaN/0 averages\n",
    "            averaged_data_list.append({\n",
    "                \"game_name\": game_name,\n",
    "                \"model_name\": model_name,\n",
    "                \"observation_mode\": observation_mode,\n",
    "                \"harness\": harness,\n",
    "                \"num_episodes\": 0,\n",
    "                \"avg_total_steps\": 0, # or float('nan')\n",
    "                \"avg_total_reward\": 0, # or float('nan')\n",
    "                \"avg_total_perf_score\": 0, # or float('nan')\n",
    "                \"avg_total_time_taken\": 0 # or float('nan')\n",
    "            })\n",
    "            continue\n",
    "\n",
    "        num_episodes = len(episodes_list)\n",
    "        sum_steps = 0\n",
    "        sum_reward = 0\n",
    "        sum_perf_score = 0\n",
    "        sum_time_taken = 0\n",
    "        episodes_with_time = 0\n",
    "\n",
    "\n",
    "        for episode_data in episodes_list:\n",
    "            sum_steps += episode_data.get(\"total_steps\", 0)\n",
    "            sum_reward += episode_data.get(\"total_reward\", 0)\n",
    "            sum_perf_score += episode_data.get(\"total_perf_score\", 0.0)\n",
    "            \n",
    "            time_taken = episode_data.get(\"total_time_taken\")\n",
    "            if time_taken is not None:\n",
    "                sum_time_taken += time_taken\n",
    "                episodes_with_time += 1\n",
    "        \n",
    "        avg_steps = sum_steps / num_episodes if num_episodes > 0 else 0\n",
    "        avg_reward = sum_reward / num_episodes if num_episodes > 0 else 0\n",
    "        avg_perf_score = sum_perf_score / num_episodes if num_episodes > 0 else 0\n",
    "        avg_time_taken = sum_time_taken / episodes_with_time if episodes_with_time > 0 else None\n",
    "\n",
    "\n",
    "        averaged_data_list.append({\n",
    "            \"game_name\": game_name,\n",
    "            \"model_name\": model_name,\n",
    "            \"observation_mode\": observation_mode,\n",
    "            \"harness\": harness, # This is already boolean from the group_key\n",
    "            \"num_episodes\": num_episodes,\n",
    "            \"avg_total_steps\": avg_steps,\n",
    "            \"avg_total_reward\": avg_reward,\n",
    "            \"avg_total_perf_score\": avg_perf_score,\n",
    "            \"avg_total_time_taken\": avg_time_taken\n",
    "        })\n",
    "        \n",
    "    return averaged_data_list\n",
    "\n",
    "\n",
    "\n",
    "# --- Example Usage ---\n",
    "# Now, you only need to decide if you want to use cache processing or not.\n",
    "# The single_json_processing flag is no longer used by the functions.\n",
    "use_cache_dir_processing = True \n",
    "\n",
    "print(\"--- Step 1: Checking evaluation files ---\")\n",
    "# Call check_evaluation_files without single_json_status argument\n",
    "initial_file_report = check_evaluation_files(use_cache_dir_processing)\n",
    "\n",
    "print(\"\\n--- Step 2: Generating evaluation map ---\")\n",
    "# Call generate_evaluation_map without single_json_status argument\n",
    "evaluation_run_map = generate_evaluation_map(initial_file_report, use_cache_dir_processing)\n",
    "\n",
    "print(\"\\n--- Step 3: Extracting results from evaluation map ---\")\n",
    "\n",
    "extracted_results = process_evaluation_run_map(evaluation_run_map=evaluation_run_map)\n",
    "\n",
    "print(\"\\n--- Step 4: Generating averaged results ---\")\n",
    "averaged_results = calculate_average_performance(extracted_results)\n",
    "\n",
    "print(\"\\n--- Averaged Results ---\")\n",
    "for result in averaged_results:\n",
    "    print(f\"Game: {result['game_name']}, Model: {result['model_name']}, Observation Mode: {result['observation_mode']}, Harness: {result['harness']}\")\n",
    "    print(f\"  Number of Episodes: {result['num_episodes']}\")\n",
    "    print(f\"  Average Total Steps: {result['avg_total_steps']}\")\n",
    "    print(f\"  Average Total Reward: {result['avg_total_reward']}\")\n",
    "    print(f\"  Average Total Perf Score: {result['avg_total_perf_score']}\")\n",
    "    print(f\"  Average Total Time Taken: {result['avg_total_time_taken']}\")\n",
    "    print(\"\\n\")"
   ]
  },
  {
   "cell_type": "code",
   "execution_count": 3,
   "metadata": {},
   "outputs": [
    {
     "name": "stdout",
     "output_type": "stream",
     "text": [
      "Created DataFrame from local averaged results with 5 rows and columns: ['model_name', 'harness', 'game_name', 'avg_score_from_rank']\n",
      "Attempting to download benchmark data from: https://raw.githubusercontent.com/lmgame-org/GamingAgent/refs/heads/codebase_refactor_eval_dev/eval/perf/model_perf_rank.json\n",
      "Benchmark data successfully downloaded and parsed.\n",
      "Created DataFrame from benchmark rank averages with 158 rows.\n",
      "Combined DataFrame created. Local updates took priority. Final rows: 163\n"
     ]
    },
    {
     "data": {
      "text/html": [
       "<div>\n",
       "<style scoped>\n",
       "    .dataframe tbody tr th:only-of-type {\n",
       "        vertical-align: middle;\n",
       "    }\n",
       "\n",
       "    .dataframe tbody tr th {\n",
       "        vertical-align: top;\n",
       "    }\n",
       "\n",
       "    .dataframe thead th {\n",
       "        text-align: right;\n",
       "    }\n",
       "</style>\n",
       "<table border=\"1\" class=\"dataframe\">\n",
       "  <thead>\n",
       "    <tr style=\"text-align: right;\">\n",
       "      <th></th>\n",
       "      <th>model_name</th>\n",
       "      <th>harness</th>\n",
       "      <th>game_name</th>\n",
       "      <th>avg_score_from_rank</th>\n",
       "    </tr>\n",
       "  </thead>\n",
       "  <tbody>\n",
       "    <tr>\n",
       "      <th>0</th>\n",
       "      <td>gemini-2.0-flash</td>\n",
       "      <td>True</td>\n",
       "      <td>twenty_forty_eight</td>\n",
       "      <td>20.0</td>\n",
       "    </tr>\n",
       "    <tr>\n",
       "      <th>1</th>\n",
       "      <td>gemini-2.0-flash</td>\n",
       "      <td>True</td>\n",
       "      <td>tetris</td>\n",
       "      <td>11.0</td>\n",
       "    </tr>\n",
       "    <tr>\n",
       "      <th>2</th>\n",
       "      <td>gemini-2.0-flash</td>\n",
       "      <td>True</td>\n",
       "      <td>sokoban</td>\n",
       "      <td>0.0</td>\n",
       "    </tr>\n",
       "    <tr>\n",
       "      <th>3</th>\n",
       "      <td>gemini-2.0-flash</td>\n",
       "      <td>False</td>\n",
       "      <td>super_mario_bros</td>\n",
       "      <td>619.666667</td>\n",
       "    </tr>\n",
       "    <tr>\n",
       "      <th>4</th>\n",
       "      <td>gemini-2.0-flash</td>\n",
       "      <td>True</td>\n",
       "      <td>candy_crush</td>\n",
       "      <td>0.0</td>\n",
       "    </tr>\n",
       "    <tr>\n",
       "      <th>...</th>\n",
       "      <td>...</td>\n",
       "      <td>...</td>\n",
       "      <td>...</td>\n",
       "      <td>...</td>\n",
       "    </tr>\n",
       "    <tr>\n",
       "      <th>158</th>\n",
       "      <td>o4-mini-2025-04-16</td>\n",
       "      <td>False</td>\n",
       "      <td>twenty_forty_eight</td>\n",
       "      <td>19.511276</td>\n",
       "    </tr>\n",
       "    <tr>\n",
       "      <th>159</th>\n",
       "      <td>o4-mini-2025-04-16</td>\n",
       "      <td>False</td>\n",
       "      <td>candy_crush</td>\n",
       "      <td>110.666667</td>\n",
       "    </tr>\n",
       "    <tr>\n",
       "      <th>160</th>\n",
       "      <td>o4-mini-2025-04-16</td>\n",
       "      <td>False</td>\n",
       "      <td>ace_attorney</td>\n",
       "      <td>2.0</td>\n",
       "    </tr>\n",
       "    <tr>\n",
       "      <th>161</th>\n",
       "      <td>claude-3-haiku-20240307</td>\n",
       "      <td>False</td>\n",
       "      <td>twenty_forty_eight</td>\n",
       "      <td>27.69098</td>\n",
       "    </tr>\n",
       "    <tr>\n",
       "      <th>162</th>\n",
       "      <td>claude-3-haiku-20240307</td>\n",
       "      <td>True</td>\n",
       "      <td>twenty_forty_eight</td>\n",
       "      <td>6.0</td>\n",
       "    </tr>\n",
       "  </tbody>\n",
       "</table>\n",
       "<p>163 rows × 4 columns</p>\n",
       "</div>"
      ],
      "text/plain": [
       "                  model_name  harness           game_name avg_score_from_rank\n",
       "0           gemini-2.0-flash     True  twenty_forty_eight                20.0\n",
       "1           gemini-2.0-flash     True              tetris                11.0\n",
       "2           gemini-2.0-flash     True             sokoban                 0.0\n",
       "3           gemini-2.0-flash    False    super_mario_bros          619.666667\n",
       "4           gemini-2.0-flash     True         candy_crush                 0.0\n",
       "..                       ...      ...                 ...                 ...\n",
       "158       o4-mini-2025-04-16    False  twenty_forty_eight           19.511276\n",
       "159       o4-mini-2025-04-16    False         candy_crush          110.666667\n",
       "160       o4-mini-2025-04-16    False        ace_attorney                 2.0\n",
       "161  claude-3-haiku-20240307    False  twenty_forty_eight            27.69098\n",
       "162  claude-3-haiku-20240307     True  twenty_forty_eight                 6.0\n",
       "\n",
       "[163 rows x 4 columns]"
      ]
     },
     "execution_count": 3,
     "metadata": {},
     "output_type": "execute_result"
    }
   ],
   "source": [
    "### Load online benchmark data and update benchmark data with local data\n",
    "def convert_local_averages_to_dataframe(local_averaged_results_list: list) -> pd.DataFrame:\n",
    "    \"\"\"\n",
    "    Converts a list of local averaged results (dictionaries) into a Pandas DataFrame\n",
    "    with columns 'model_name', 'harness', 'game_name', and 'avg_score_from_rank'.\n",
    "    The 'avg_score_from_rank' column is populated from the 'avg_total_perf_score'\n",
    "    field of the input dictionaries.\n",
    "    \"\"\"\n",
    "    if not local_averaged_results_list:\n",
    "        print(\"Warning: The local_averaged_results_list is empty. Returning an empty DataFrame.\")\n",
    "        return pd.DataFrame(columns=['model_name', 'harness', 'game_name', 'avg_score_from_rank'])\n",
    "\n",
    "    # Create a list of dictionaries with only the desired columns and new key name\n",
    "    formatted_list_for_df = []\n",
    "    for item in local_averaged_results_list:\n",
    "        if not isinstance(item, dict):\n",
    "            print(f\"Warning: Skipping an item in local_averaged_results_list as it's not a dictionary: {item}\")\n",
    "            continue\n",
    "        \n",
    "        # Ensure all necessary keys are present in the item before trying to access them\n",
    "        required_keys = ['model_name', 'harness', 'game_name', 'avg_total_perf_score']\n",
    "        if not all(key in item for key in required_keys):\n",
    "            print(f\"Warning: Skipping an item due to missing one or more required keys ({', '.join(required_keys)}): {item}\")\n",
    "            continue\n",
    "            \n",
    "        formatted_list_for_df.append({\n",
    "            \"model_name\": item['model_name'],\n",
    "            \"harness\": item['harness'],  # Assuming this is already boolean\n",
    "            \"game_name\": item['game_name'],\n",
    "            \"avg_score_from_rank\": item['avg_total_perf_score'] # Mapping local score to this new column name\n",
    "        })\n",
    "    \n",
    "    if not formatted_list_for_df:\n",
    "        print(\"Warning: No valid data could be extracted from local_averaged_results_list. Returning an empty DataFrame.\")\n",
    "        return pd.DataFrame(columns=['model_name', 'harness', 'game_name', 'avg_score_from_rank'])\n",
    "\n",
    "    df_local_formatted = pd.DataFrame(formatted_list_for_df)\n",
    "    print(f\"Created DataFrame from local averaged results with {len(df_local_formatted)} rows and columns: {list(df_local_formatted.columns)}\")\n",
    "    return df_local_formatted\n",
    "\n",
    "def load_and_average_benchmark_rank_data(url: str) -> pd.DataFrame:\n",
    "    \"\"\"\n",
    "    Fetches benchmark rank data from a URL, calculates average scores,\n",
    "    and returns it as a Pandas DataFrame.\n",
    "    The 'harness' column in the output DataFrame will be boolean.\n",
    "    'avg_score_from_rank' is the column with the calculated average from the benchmark file.\n",
    "    \"\"\"\n",
    "    benchmark_rank_data_dict = {}\n",
    "    print(f\"Attempting to download benchmark data from: {url}\")\n",
    "    try:\n",
    "        response = requests.get(url)\n",
    "        response.raise_for_status()  # Raise an HTTPError for bad responses (4xx or 5xx)\n",
    "        benchmark_rank_data_dict = response.json() # requests can directly parse to dict\n",
    "        print(\"Benchmark data successfully downloaded and parsed.\")\n",
    "    except requests.exceptions.RequestException as e:\n",
    "        print(f\"Error: Could not download data from {url}. Exception: {e}\")\n",
    "        return pd.DataFrame() # Return empty DataFrame on error\n",
    "    except json.JSONDecodeError as e: # response.json() can also raise this if content is not valid JSON\n",
    "        print(f\"Error: Could not parse JSON from the URL response. Exception: {e}\")\n",
    "        return pd.DataFrame() # Return empty DataFrame on error\n",
    "    except Exception as e: # Catch any other unexpected errors\n",
    "        print(f\"An unexpected error occurred while fetching or loading benchmark data: {e}\")\n",
    "        return pd.DataFrame()\n",
    "\n",
    "    # Calculate averages\n",
    "    rank_averages_list_of_dicts = []\n",
    "    if not benchmark_rank_data_dict:\n",
    "        print(\"Warning: Empty benchmark_rank_data_dict received. Cannot calculate averages from it.\")\n",
    "        return pd.DataFrame()\n",
    "\n",
    "    for model_name, harness_data in benchmark_rank_data_dict.items():\n",
    "        if not isinstance(harness_data, dict):\n",
    "            # print(f\"Skipping model '{model_name}' in benchmark data: harness_data is not a dict.\")\n",
    "            continue\n",
    "        for harness_status_str, game_data in harness_data.items():\n",
    "            if not isinstance(game_data, dict):\n",
    "                # print(f\"Skipping harness '{harness_status_str}' for model '{model_name}': game_data is not a dict.\")\n",
    "                continue\n",
    "            \n",
    "            # Convert harness status string to boolean for consistent merging\n",
    "            harness_bool = True if harness_status_str == \"harness_true\" else False\n",
    "            \n",
    "            for game_name, scores_list in game_data.items():\n",
    "                avg_score = pd.NA # Use pd.NA for missing numeric data\n",
    "                if scores_list and isinstance(scores_list, list):\n",
    "                    # Filter out non-numeric scores before averaging\n",
    "                    numeric_scores = [s for s in scores_list if isinstance(s, (int, float))]\n",
    "                    if numeric_scores: # Ensure there's at least one numeric score\n",
    "                        avg_score = sum(numeric_scores) / len(numeric_scores)\n",
    "                    # else:\n",
    "                        # print(f\"No numeric scores found for {model_name}/{harness_status_str}/{game_name} in benchmark.\")\n",
    "                # else:\n",
    "                    # print(f\"Scores_list is empty or not a list for {model_name}/{harness_status_str}/{game_name} in benchmark.\")\n",
    "                    \n",
    "                rank_averages_list_of_dicts.append({\n",
    "                    \"model_name\": model_name,\n",
    "                    \"harness\": harness_bool, \n",
    "                    \"game_name\": game_name,\n",
    "                    \"avg_score_from_rank\": avg_score  # This will be the averaged score from the rank file\n",
    "                })\n",
    "    \n",
    "    if not rank_averages_list_of_dicts:\n",
    "        print(\"No averages could be calculated from the benchmark rank data (list is empty).\")\n",
    "        return pd.DataFrame()\n",
    "        \n",
    "    df_benchmark_avg = pd.DataFrame(rank_averages_list_of_dicts)\n",
    "    print(f\"Created DataFrame from benchmark rank averages with {len(df_benchmark_avg)} rows.\")\n",
    "    return df_benchmark_avg\n",
    "\n",
    "def combine_and_update_averages(df_benchmark: pd.DataFrame, df_local_updates: pd.DataFrame) -> pd.DataFrame:\n",
    "    \"\"\"\n",
    "    Combines benchmark averages with local update averages.\n",
    "    Local updates will override benchmark data for the same (model_name, harness, game_name) keys.\n",
    "    All unique entries from both DataFrames will be included.\n",
    "\n",
    "    Args:\n",
    "        df_benchmark: DataFrame with columns ['model_name', 'harness', 'game_name', 'avg_score_from_rank']\n",
    "                      from the benchmark data.\n",
    "        df_local_updates: DataFrame with columns ['model_name', 'harness', 'game_name', 'avg_score_from_rank']\n",
    "                          from the local averaged data (where 'avg_score_from_rank' holds local scores).\n",
    "\n",
    "    Returns:\n",
    "        A Pandas DataFrame with the combined and updated averages.\n",
    "    \"\"\"\n",
    "    if df_local_updates.empty and df_benchmark.empty:\n",
    "        print(\"Both benchmark and local update DataFrames are empty. Returning an empty DataFrame.\")\n",
    "        return pd.DataFrame(columns=['model_name', 'harness', 'game_name', 'avg_score_from_rank'])\n",
    "\n",
    "    if df_local_updates.empty:\n",
    "        print(\"Local updates DataFrame is empty. Returning benchmark DataFrame as is.\")\n",
    "        return df_benchmark.copy() # Return a copy to avoid modifying the original\n",
    "\n",
    "    if df_benchmark.empty:\n",
    "        print(\"Benchmark DataFrame is empty. Returning local updates DataFrame as is.\")\n",
    "        return df_local_updates.copy()\n",
    "\n",
    "    # Set the multi-index for both DataFrames to easily update and combine\n",
    "    keys = ['model_name', 'harness', 'game_name']\n",
    "    \n",
    "    # Ensure keys are present in both dataframes\n",
    "    for key_col in keys:\n",
    "        if key_col not in df_benchmark.columns:\n",
    "            print(f\"Warning: Key column '{key_col}' not found in benchmark DataFrame. Returning local updates.\")\n",
    "            return df_local_updates.copy()\n",
    "        if key_col not in df_local_updates.columns:\n",
    "            print(f\"Warning: Key column '{key_col}' not found in local updates DataFrame. Returning benchmark data.\")\n",
    "            return df_benchmark.copy()\n",
    "            \n",
    "    df_benchmark_indexed = df_benchmark.set_index(keys)\n",
    "    df_local_updates_indexed = df_local_updates.set_index(keys)\n",
    "\n",
    "    # Update the benchmark data with local data.\n",
    "    # Rows in local_updates will overwrite rows in benchmark_indexed if the index matches.\n",
    "    # Rows in local_updates not in benchmark_indexed will be added.\n",
    "    df_combined_indexed = df_benchmark_indexed.copy() # Start with a copy of benchmark\n",
    "    df_combined_indexed.update(df_local_updates_indexed) # Update with local, overwrites existing, does not add new from local\n",
    "\n",
    "    # Add new rows from local_updates_indexed that were not in df_benchmark_indexed\n",
    "    # This requires finding rows in local that are not in benchmark and concatenating.\n",
    "    # A more straightforward way for 'outer join' like behavior with local priority is:\n",
    "    \n",
    "    # Re-think: A simpler approach for \"local overrides, then add unique from benchmark\"\n",
    "    # 1. Take all local data.\n",
    "    # 2. Find benchmark data that is NOT in local (based on keys) and append it.\n",
    "\n",
    "    # Set index on local updates\n",
    "    df_local_final = df_local_updates.set_index(keys)\n",
    "\n",
    "    # Filter benchmark data to get only rows NOT present in local updates\n",
    "    # This uses the index of df_local_final to exclude matching rows from df_benchmark\n",
    "    df_benchmark_only = df_benchmark.set_index(keys)[~df_benchmark.set_index(keys).index.isin(df_local_final.index)]\n",
    "    \n",
    "    # Concatenate local data (which has priority) with the unique benchmark data\n",
    "    df_final_combined = pd.concat([df_local_final, df_benchmark_only])\n",
    "    \n",
    "    # Reset index to get 'model_name', 'harness', 'game_name' back as columns\n",
    "    df_final_combined = df_final_combined.reset_index()\n",
    "\n",
    "    print(f\"Combined DataFrame created. Local updates took priority. Final rows: {len(df_final_combined)}\")\n",
    "    return df_final_combined\n",
    "\n",
    "# --- Example of how to call this function ---\n",
    "# You can run this in your notebook cell to see the output of this first step:\n",
    "update_model_averages = convert_local_averages_to_dataframe(averaged_results)\n",
    "df_benchmark_averages = load_and_average_benchmark_rank_data(MODEL_PERF_RANK_URL)\n",
    "final_updated_df = combine_and_update_averages(df_benchmark_averages, update_model_averages)\n",
    "final_updated_df\n"
   ]
  },
  {
   "cell_type": "markdown",
   "metadata": {},
   "source": [
    "### Game Performance Visualization\n",
    "1. Radar Chart\n",
    "2. Group Bar Chart"
   ]
  },
  {
   "cell_type": "code",
   "execution_count": 4,
   "metadata": {},
   "outputs": [
    {
     "name": "stdout",
     "output_type": "stream",
     "text": [
      "Attempting to load model colors from URL: https://raw.githubusercontent.com/lmgame-org/GamingAgent/refs/heads/codebase_refactor_eval_dev/eval/assets/model_colors.json\n",
      "Successfully loaded model colors from URL. 25 colors loaded.\n",
      "Models to highlight (from 'update_model_averages' DataFrame): ['gemini-2.0-flash']\n",
      "\n",
      "--- Generating plots for Harness True ---\n",
      "Displaying Radar Chart for Harness True:\n"
     ]
    },
    {
     "data": {
      "application/vnd.plotly.v1+json": {
       "config": {
        "plotlyServerURL": "https://plot.ly"
       },
       "data": [
        {
         "fill": "toself",
         "fillcolor": "rgba(26, 76, 124, 0.2)",
         "hovertemplate": "<b>claude-3-5-sonnet-20241022</b><br>Game: %{theta}<br>Normalized Score (1-10): %{r:.2f} <extra></extra>",
         "line": {
          "color": "#1A4C7C",
          "width": 1.5
         },
         "marker": {
          "color": "#1A4C7C",
          "line": {
           "color": "#B0B0B0",
           "width": 1
          },
          "size": 4
         },
         "mode": "lines+markers",
         "name": "claude-3-5-sonnet-20241022",
         "opacity": 0.7,
         "r": [
          1,
          2.433976833976834,
          2.231578947368421,
          8.118908327542236,
          2.474497681607419,
          2.125,
          1
         ],
         "theta": [
          "Sokoban",
          "Super Mario",
          "Tetris",
          "2048",
          "Candy Crush",
          "Ace Attorney",
          "Sokoban"
         ],
         "type": "scatterpolar"
        },
        {
         "fill": "toself",
         "fillcolor": "rgba(46, 92, 138, 0.2)",
         "hovertemplate": "<b>claude-3-7-sonnet-20250219 (thinking)</b><br>Game: %{theta}<br>Normalized Score (1-10): %{r:.2f} <extra></extra>",
         "line": {
          "color": "#2E5C8A",
          "width": 1.5
         },
         "marker": {
          "color": "#2E5C8A",
          "line": {
           "color": "#B0B0B0",
           "width": 1
          },
          "size": 4
         },
         "mode": "lines+markers",
         "name": "claude-3-7-sonnet-20250219 (thinking)",
         "opacity": 0.7,
         "r": [
          3.625,
          2.958687258687259,
          2.7052631578947364,
          8.586321389999643,
          7.732612055641422,
          4.9375,
          3.625
         ],
         "theta": [
          "Sokoban",
          "Super Mario",
          "Tetris",
          "2048",
          "Candy Crush",
          "Ace Attorney",
          "Sokoban"
         ],
         "type": "scatterpolar"
        },
        {
         "fill": "toself",
         "fillcolor": "rgba(41, 169, 130, 0.2)",
         "hovertemplate": "<b>claude-3-haiku-20240307</b><br>Game: %{theta}<br>Normalized Score (1-10): %{r:.2f} <extra></extra>",
         "line": {
          "color": "#29a982",
          "width": 1.5
         },
         "marker": {
          "color": "#29a982",
          "line": {
           "color": "#B0B0B0",
           "width": 1
          },
          "size": 4
         },
         "mode": "lines+markers",
         "name": "claude-3-haiku-20240307",
         "opacity": 0.7,
         "r": [
          1,
          1,
          1,
          1,
          1,
          1,
          1
         ],
         "theta": [
          "Sokoban",
          "Super Mario",
          "Tetris",
          "2048",
          "Candy Crush",
          "Ace Attorney",
          "Sokoban"
         ],
         "type": "scatterpolar"
        },
        {
         "fill": "toself",
         "fillcolor": "rgba(255, 160, 0, 0.2)",
         "hovertemplate": "<b>deepseek-r1</b><br>Game: %{theta}<br>Normalized Score (1-10): %{r:.2f} <extra></extra>",
         "line": {
          "color": "#FFA000",
          "width": 1.5
         },
         "marker": {
          "color": "#FFA000",
          "line": {
           "color": "#B0B0B0",
           "width": 1
          },
          "size": 4
         },
         "mode": "lines+markers",
         "name": "deepseek-r1",
         "opacity": 0.7,
         "r": [
          2.5,
          1,
          2.136842105263158,
          7.8485638215050875,
          7.222565687789799,
          1,
          2.5
         ],
         "theta": [
          "Sokoban",
          "Super Mario",
          "Tetris",
          "2048",
          "Candy Crush",
          "Ace Attorney",
          "Sokoban"
         ],
         "type": "scatterpolar"
        },
        {
         "fill": "toself",
         "fillcolor": "rgba(255,0,0,0.4)",
         "hovertemplate": "<b>gemini-2.0-flash</b><br>Game: %{theta}<br>Normalized Score (1-10): %{r:.2f} <extra></extra>",
         "line": {
          "color": "red",
          "width": 3
         },
         "marker": {
          "color": "red",
          "line": {
           "color": "darkred",
           "width": 2
          },
          "size": 8
         },
         "mode": "lines+markers",
         "name": "gemini-2.0-flash",
         "opacity": 0.9,
         "r": [
          1,
          1,
          1.1894736842105262,
          7.371370735933304,
          1,
          1,
          1
         ],
         "theta": [
          "Sokoban",
          "Super Mario",
          "Tetris",
          "2048",
          "Candy Crush",
          "Ace Attorney",
          "Sokoban"
         ],
         "type": "scatterpolar"
        },
        {
         "fill": "toself",
         "fillcolor": "rgba(240, 98, 146, 0.2)",
         "hovertemplate": "<b>gemini-2.5-flash-preview-04-17</b><br>Game: %{theta}<br>Normalized Score (1-10): %{r:.2f} <extra></extra>",
         "line": {
          "color": "#F06292",
          "width": 1.5
         },
         "marker": {
          "color": "#F06292",
          "line": {
           "color": "#B0B0B0",
           "width": 1
          },
          "size": 4
         },
         "mode": "lines+markers",
         "name": "gemini-2.5-flash-preview-04-17",
         "opacity": 0.7,
         "r": [
          2.875,
          2.8764478764478767,
          2.7052631578947364,
          7.972747719385921,
          5.655332302936631,
          3.25,
          2.875
         ],
         "theta": [
          "Sokoban",
          "Super Mario",
          "Tetris",
          "2048",
          "Candy Crush",
          "Ace Attorney",
          "Sokoban"
         ],
         "type": "scatterpolar"
        },
        {
         "fill": "toself",
         "fillcolor": "rgba(208, 31, 41, 0.2)",
         "hovertemplate": "<b>gemini-2.5-pro-preview-05-06</b><br>Game: %{theta}<br>Normalized Score (1-10): %{r:.2f} <extra></extra>",
         "line": {
          "color": "#d01f29",
          "width": 1.5
         },
         "marker": {
          "color": "#d01f29",
          "line": {
           "color": "#B0B0B0",
           "width": 1
          },
          "size": 4
         },
         "mode": "lines+markers",
         "name": "gemini-2.5-pro-preview-05-06",
         "opacity": 0.7,
         "r": [
          5.875,
          3.2355212355212353,
          4.694736842105263,
          8.942948597637516,
          6.7913446676970635,
          4.9375,
          5.875
         ],
         "theta": [
          "Sokoban",
          "Super Mario",
          "Tetris",
          "2048",
          "Candy Crush",
          "Ace Attorney",
          "Sokoban"
         ],
         "type": "scatterpolar"
        },
        {
         "fill": "toself",
         "fillcolor": "rgba(0, 137, 123, 0.2)",
         "hovertemplate": "<b>gpt-4.1-2025-04-14</b><br>Game: %{theta}<br>Normalized Score (1-10): %{r:.2f} <extra></extra>",
         "line": {
          "color": "#00897B",
          "width": 1.5
         },
         "marker": {
          "color": "#00897B",
          "line": {
           "color": "#B0B0B0",
           "width": 1
          },
          "size": 4
         },
         "mode": "lines+markers",
         "name": "gpt-4.1-2025-04-14",
         "opacity": 0.7,
         "r": [
          1,
          5.417760617760618,
          1.9473684210526314,
          7.892976950359944,
          3.5316846986089643,
          2.125,
          1
         ],
         "theta": [
          "Sokoban",
          "Super Mario",
          "Tetris",
          "2048",
          "Candy Crush",
          "Ace Attorney",
          "Sokoban"
         ],
         "type": "scatterpolar"
        },
        {
         "fill": "toself",
         "fillcolor": "rgba(0, 191, 165, 0.2)",
         "hovertemplate": "<b>gpt-4o-2024-11-20</b><br>Game: %{theta}<br>Normalized Score (1-10): %{r:.2f} <extra></extra>",
         "line": {
          "color": "#00BFA5",
          "width": 1.5
         },
         "marker": {
          "color": "#00BFA5",
          "line": {
           "color": "#B0B0B0",
           "width": 1
          },
          "size": 4
         },
         "mode": "lines+markers",
         "name": "gpt-4o-2024-11-20",
         "opacity": 0.7,
         "r": [
          1,
          5.1432432432432424,
          2.042105263157895,
          7.977031941549241,
          3.0494590417310667,
          1,
          1
         ],
         "theta": [
          "Sokoban",
          "Super Mario",
          "Tetris",
          "2048",
          "Candy Crush",
          "Ace Attorney",
          "Sokoban"
         ],
         "type": "scatterpolar"
        },
        {
         "fill": "toself",
         "fillcolor": "rgba(245, 124, 0, 0.2)",
         "hovertemplate": "<b>grok-3-mini-beta (thinking)</b><br>Game: %{theta}<br>Normalized Score (1-10): %{r:.2f} <extra></extra>",
         "line": {
          "color": "#F57C00",
          "width": 1.5
         },
         "marker": {
          "color": "#F57C00",
          "line": {
           "color": "#B0B0B0",
           "width": 1
          },
          "size": 4
         },
         "mode": "lines+markers",
         "name": "grok-3-mini-beta (thinking)",
         "opacity": 0.7,
         "r": [
          7.375,
          1,
          4.126315789473684,
          9.062910653955816,
          4.53323029366306,
          1,
          7.375
         ],
         "theta": [
          "Sokoban",
          "Super Mario",
          "Tetris",
          "2048",
          "Candy Crush",
          "Ace Attorney",
          "Sokoban"
         ],
         "type": "scatterpolar"
        },
        {
         "fill": "toself",
         "fillcolor": "rgba(142, 36, 170, 0.2)",
         "hovertemplate": "<b>llama-4-maverick-17b-128e-instruct-fp8</b><br>Game: %{theta}<br>Normalized Score (1-10): %{r:.2f} <extra></extra>",
         "line": {
          "color": "#8E24AA",
          "width": 1.5
         },
         "marker": {
          "color": "#8E24AA",
          "line": {
           "color": "#B0B0B0",
           "width": 1
          },
          "size": 4
         },
         "mode": "lines+markers",
         "name": "llama-4-maverick-17b-128e-instruct-fp8",
         "opacity": 0.7,
         "r": [
          1,
          3.1324324324324326,
          1,
          7.915470547321027,
          2.7897990726429676,
          1,
          1
         ],
         "theta": [
          "Sokoban",
          "Super Mario",
          "Tetris",
          "2048",
          "Candy Crush",
          "Ace Attorney",
          "Sokoban"
         ],
         "type": "scatterpolar"
        },
        {
         "fill": "toself",
         "fillcolor": "rgba(77, 182, 172, 0.2)",
         "hovertemplate": "<b>o1-2024-12-17</b><br>Game: %{theta}<br>Normalized Score (1-10): %{r:.2f} <extra></extra>",
         "line": {
          "color": "#4DB6AC",
          "width": 1.5
         },
         "marker": {
          "color": "#4DB6AC",
          "line": {
           "color": "#B0B0B0",
           "width": 1
          },
          "size": 4
         },
         "mode": "lines+markers",
         "name": "o1-2024-12-17",
         "opacity": 0.7,
         "r": [
          3.625,
          1,
          8.010526315789473,
          10,
          3.2117465224111283,
          10,
          3.625
         ],
         "theta": [
          "Sokoban",
          "Super Mario",
          "Tetris",
          "2048",
          "Candy Crush",
          "Ace Attorney",
          "Sokoban"
         ],
         "type": "scatterpolar"
        },
        {
         "fill": "toself",
         "fillcolor": "rgba(38, 166, 154, 0.2)",
         "hovertemplate": "<b>o1-mini-2024-09-12</b><br>Game: %{theta}<br>Normalized Score (1-10): %{r:.2f} <extra></extra>",
         "line": {
          "color": "#26A69A",
          "width": 1.5
         },
         "marker": {
          "color": "#26A69A",
          "line": {
           "color": "#B0B0B0",
           "width": 1
          },
          "size": 4
         },
         "mode": "lines+markers",
         "name": "o1-mini-2024-09-12",
         "opacity": 0.7,
         "r": [
          2.5,
          1,
          1.3789473684210523,
          8.644505662190552,
          1.6676970633693973,
          1,
          2.5
         ],
         "theta": [
          "Sokoban",
          "Super Mario",
          "Tetris",
          "2048",
          "Candy Crush",
          "Ace Attorney",
          "Sokoban"
         ],
         "type": "scatterpolar"
        },
        {
         "fill": "toself",
         "fillcolor": "rgba(38, 198, 218, 0.2)",
         "hovertemplate": "<b>o3-2025-04-16</b><br>Game: %{theta}<br>Normalized Score (1-10): %{r:.2f} <extra></extra>",
         "line": {
          "color": "#26C6DA",
          "width": 1.5
         },
         "marker": {
          "color": "#26C6DA",
          "line": {
           "color": "#B0B0B0",
           "width": 1
          },
          "size": 4
         },
         "mode": "lines+markers",
         "name": "o3-2025-04-16",
         "opacity": 0.7,
         "r": [
          10,
          10,
          10,
          9.917790560914899,
          10,
          10,
          10
         ],
         "theta": [
          "Sokoban",
          "Super Mario",
          "Tetris",
          "2048",
          "Candy Crush",
          "Ace Attorney",
          "Sokoban"
         ],
         "type": "scatterpolar"
        },
        {
         "fill": "toself",
         "fillcolor": "rgba(0, 172, 193, 0.2)",
         "hovertemplate": "<b>o4-mini-2025-04-16</b><br>Game: %{theta}<br>Normalized Score (1-10): %{r:.2f} <extra></extra>",
         "line": {
          "color": "#00ACC1",
          "width": 1.5
         },
         "marker": {
          "color": "#00ACC1",
          "line": {
           "color": "#B0B0B0",
           "width": 1
          },
          "size": 4
         },
         "mode": "lines+markers",
         "name": "o4-mini-2025-04-16",
         "opacity": 0.7,
         "r": [
          7,
          3.0606177606177605,
          5.263157894736842,
          9.248864756445968,
          7.778979907264297,
          3.25,
          7
         ],
         "theta": [
          "Sokoban",
          "Super Mario",
          "Tetris",
          "2048",
          "Candy Crush",
          "Ace Attorney",
          "Sokoban"
         ],
         "type": "scatterpolar"
        }
       ],
       "layout": {
        "height": 600,
        "legend": {
         "orientation": "v",
         "title": {
          "text": "Models"
         },
         "x": 1.05,
         "xanchor": "left",
         "y": 1.02,
         "yanchor": "top"
        },
        "margin": {
         "b": 50,
         "l": 100,
         "r": 200,
         "t": 100
        },
        "polar": {
         "angularaxis": {
          "gridcolor": "lightgray",
          "tickfont": {
           "size": 10
          }
         },
         "radialaxis": {
          "gridcolor": "lightgray",
          "range": [
           1,
           10
          ],
          "tickformat": ".0f",
          "tickvals": [
           1,
           2,
           3,
           4,
           5,
           6,
           7,
           8,
           9,
           10
          ],
          "visible": true
         }
        },
        "template": {
         "data": {
          "bar": [
           {
            "error_x": {
             "color": "#2a3f5f"
            },
            "error_y": {
             "color": "#2a3f5f"
            },
            "marker": {
             "line": {
              "color": "#E5ECF6",
              "width": 0.5
             },
             "pattern": {
              "fillmode": "overlay",
              "size": 10,
              "solidity": 0.2
             }
            },
            "type": "bar"
           }
          ],
          "barpolar": [
           {
            "marker": {
             "line": {
              "color": "#E5ECF6",
              "width": 0.5
             },
             "pattern": {
              "fillmode": "overlay",
              "size": 10,
              "solidity": 0.2
             }
            },
            "type": "barpolar"
           }
          ],
          "carpet": [
           {
            "aaxis": {
             "endlinecolor": "#2a3f5f",
             "gridcolor": "white",
             "linecolor": "white",
             "minorgridcolor": "white",
             "startlinecolor": "#2a3f5f"
            },
            "baxis": {
             "endlinecolor": "#2a3f5f",
             "gridcolor": "white",
             "linecolor": "white",
             "minorgridcolor": "white",
             "startlinecolor": "#2a3f5f"
            },
            "type": "carpet"
           }
          ],
          "choropleth": [
           {
            "colorbar": {
             "outlinewidth": 0,
             "ticks": ""
            },
            "type": "choropleth"
           }
          ],
          "contour": [
           {
            "colorbar": {
             "outlinewidth": 0,
             "ticks": ""
            },
            "colorscale": [
             [
              0,
              "#0d0887"
             ],
             [
              0.1111111111111111,
              "#46039f"
             ],
             [
              0.2222222222222222,
              "#7201a8"
             ],
             [
              0.3333333333333333,
              "#9c179e"
             ],
             [
              0.4444444444444444,
              "#bd3786"
             ],
             [
              0.5555555555555556,
              "#d8576b"
             ],
             [
              0.6666666666666666,
              "#ed7953"
             ],
             [
              0.7777777777777778,
              "#fb9f3a"
             ],
             [
              0.8888888888888888,
              "#fdca26"
             ],
             [
              1,
              "#f0f921"
             ]
            ],
            "type": "contour"
           }
          ],
          "contourcarpet": [
           {
            "colorbar": {
             "outlinewidth": 0,
             "ticks": ""
            },
            "type": "contourcarpet"
           }
          ],
          "heatmap": [
           {
            "colorbar": {
             "outlinewidth": 0,
             "ticks": ""
            },
            "colorscale": [
             [
              0,
              "#0d0887"
             ],
             [
              0.1111111111111111,
              "#46039f"
             ],
             [
              0.2222222222222222,
              "#7201a8"
             ],
             [
              0.3333333333333333,
              "#9c179e"
             ],
             [
              0.4444444444444444,
              "#bd3786"
             ],
             [
              0.5555555555555556,
              "#d8576b"
             ],
             [
              0.6666666666666666,
              "#ed7953"
             ],
             [
              0.7777777777777778,
              "#fb9f3a"
             ],
             [
              0.8888888888888888,
              "#fdca26"
             ],
             [
              1,
              "#f0f921"
             ]
            ],
            "type": "heatmap"
           }
          ],
          "histogram": [
           {
            "marker": {
             "pattern": {
              "fillmode": "overlay",
              "size": 10,
              "solidity": 0.2
             }
            },
            "type": "histogram"
           }
          ],
          "histogram2d": [
           {
            "colorbar": {
             "outlinewidth": 0,
             "ticks": ""
            },
            "colorscale": [
             [
              0,
              "#0d0887"
             ],
             [
              0.1111111111111111,
              "#46039f"
             ],
             [
              0.2222222222222222,
              "#7201a8"
             ],
             [
              0.3333333333333333,
              "#9c179e"
             ],
             [
              0.4444444444444444,
              "#bd3786"
             ],
             [
              0.5555555555555556,
              "#d8576b"
             ],
             [
              0.6666666666666666,
              "#ed7953"
             ],
             [
              0.7777777777777778,
              "#fb9f3a"
             ],
             [
              0.8888888888888888,
              "#fdca26"
             ],
             [
              1,
              "#f0f921"
             ]
            ],
            "type": "histogram2d"
           }
          ],
          "histogram2dcontour": [
           {
            "colorbar": {
             "outlinewidth": 0,
             "ticks": ""
            },
            "colorscale": [
             [
              0,
              "#0d0887"
             ],
             [
              0.1111111111111111,
              "#46039f"
             ],
             [
              0.2222222222222222,
              "#7201a8"
             ],
             [
              0.3333333333333333,
              "#9c179e"
             ],
             [
              0.4444444444444444,
              "#bd3786"
             ],
             [
              0.5555555555555556,
              "#d8576b"
             ],
             [
              0.6666666666666666,
              "#ed7953"
             ],
             [
              0.7777777777777778,
              "#fb9f3a"
             ],
             [
              0.8888888888888888,
              "#fdca26"
             ],
             [
              1,
              "#f0f921"
             ]
            ],
            "type": "histogram2dcontour"
           }
          ],
          "mesh3d": [
           {
            "colorbar": {
             "outlinewidth": 0,
             "ticks": ""
            },
            "type": "mesh3d"
           }
          ],
          "parcoords": [
           {
            "line": {
             "colorbar": {
              "outlinewidth": 0,
              "ticks": ""
             }
            },
            "type": "parcoords"
           }
          ],
          "pie": [
           {
            "automargin": true,
            "type": "pie"
           }
          ],
          "scatter": [
           {
            "fillpattern": {
             "fillmode": "overlay",
             "size": 10,
             "solidity": 0.2
            },
            "type": "scatter"
           }
          ],
          "scatter3d": [
           {
            "line": {
             "colorbar": {
              "outlinewidth": 0,
              "ticks": ""
             }
            },
            "marker": {
             "colorbar": {
              "outlinewidth": 0,
              "ticks": ""
             }
            },
            "type": "scatter3d"
           }
          ],
          "scattercarpet": [
           {
            "marker": {
             "colorbar": {
              "outlinewidth": 0,
              "ticks": ""
             }
            },
            "type": "scattercarpet"
           }
          ],
          "scattergeo": [
           {
            "marker": {
             "colorbar": {
              "outlinewidth": 0,
              "ticks": ""
             }
            },
            "type": "scattergeo"
           }
          ],
          "scattergl": [
           {
            "marker": {
             "colorbar": {
              "outlinewidth": 0,
              "ticks": ""
             }
            },
            "type": "scattergl"
           }
          ],
          "scattermap": [
           {
            "marker": {
             "colorbar": {
              "outlinewidth": 0,
              "ticks": ""
             }
            },
            "type": "scattermap"
           }
          ],
          "scattermapbox": [
           {
            "marker": {
             "colorbar": {
              "outlinewidth": 0,
              "ticks": ""
             }
            },
            "type": "scattermapbox"
           }
          ],
          "scatterpolar": [
           {
            "marker": {
             "colorbar": {
              "outlinewidth": 0,
              "ticks": ""
             }
            },
            "type": "scatterpolar"
           }
          ],
          "scatterpolargl": [
           {
            "marker": {
             "colorbar": {
              "outlinewidth": 0,
              "ticks": ""
             }
            },
            "type": "scatterpolargl"
           }
          ],
          "scatterternary": [
           {
            "marker": {
             "colorbar": {
              "outlinewidth": 0,
              "ticks": ""
             }
            },
            "type": "scatterternary"
           }
          ],
          "surface": [
           {
            "colorbar": {
             "outlinewidth": 0,
             "ticks": ""
            },
            "colorscale": [
             [
              0,
              "#0d0887"
             ],
             [
              0.1111111111111111,
              "#46039f"
             ],
             [
              0.2222222222222222,
              "#7201a8"
             ],
             [
              0.3333333333333333,
              "#9c179e"
             ],
             [
              0.4444444444444444,
              "#bd3786"
             ],
             [
              0.5555555555555556,
              "#d8576b"
             ],
             [
              0.6666666666666666,
              "#ed7953"
             ],
             [
              0.7777777777777778,
              "#fb9f3a"
             ],
             [
              0.8888888888888888,
              "#fdca26"
             ],
             [
              1,
              "#f0f921"
             ]
            ],
            "type": "surface"
           }
          ],
          "table": [
           {
            "cells": {
             "fill": {
              "color": "#EBF0F8"
             },
             "line": {
              "color": "white"
             }
            },
            "header": {
             "fill": {
              "color": "#C8D4E3"
             },
             "line": {
              "color": "white"
             }
            },
            "type": "table"
           }
          ]
         },
         "layout": {
          "annotationdefaults": {
           "arrowcolor": "#2a3f5f",
           "arrowhead": 0,
           "arrowwidth": 1
          },
          "autotypenumbers": "strict",
          "coloraxis": {
           "colorbar": {
            "outlinewidth": 0,
            "ticks": ""
           }
          },
          "colorscale": {
           "diverging": [
            [
             0,
             "#8e0152"
            ],
            [
             0.1,
             "#c51b7d"
            ],
            [
             0.2,
             "#de77ae"
            ],
            [
             0.3,
             "#f1b6da"
            ],
            [
             0.4,
             "#fde0ef"
            ],
            [
             0.5,
             "#f7f7f7"
            ],
            [
             0.6,
             "#e6f5d0"
            ],
            [
             0.7,
             "#b8e186"
            ],
            [
             0.8,
             "#7fbc41"
            ],
            [
             0.9,
             "#4d9221"
            ],
            [
             1,
             "#276419"
            ]
           ],
           "sequential": [
            [
             0,
             "#0d0887"
            ],
            [
             0.1111111111111111,
             "#46039f"
            ],
            [
             0.2222222222222222,
             "#7201a8"
            ],
            [
             0.3333333333333333,
             "#9c179e"
            ],
            [
             0.4444444444444444,
             "#bd3786"
            ],
            [
             0.5555555555555556,
             "#d8576b"
            ],
            [
             0.6666666666666666,
             "#ed7953"
            ],
            [
             0.7777777777777778,
             "#fb9f3a"
            ],
            [
             0.8888888888888888,
             "#fdca26"
            ],
            [
             1,
             "#f0f921"
            ]
           ],
           "sequentialminus": [
            [
             0,
             "#0d0887"
            ],
            [
             0.1111111111111111,
             "#46039f"
            ],
            [
             0.2222222222222222,
             "#7201a8"
            ],
            [
             0.3333333333333333,
             "#9c179e"
            ],
            [
             0.4444444444444444,
             "#bd3786"
            ],
            [
             0.5555555555555556,
             "#d8576b"
            ],
            [
             0.6666666666666666,
             "#ed7953"
            ],
            [
             0.7777777777777778,
             "#fb9f3a"
            ],
            [
             0.8888888888888888,
             "#fdca26"
            ],
            [
             1,
             "#f0f921"
            ]
           ]
          },
          "colorway": [
           "#636efa",
           "#EF553B",
           "#00cc96",
           "#ab63fa",
           "#FFA15A",
           "#19d3f3",
           "#FF6692",
           "#B6E880",
           "#FF97FF",
           "#FECB52"
          ],
          "font": {
           "color": "#2a3f5f"
          },
          "geo": {
           "bgcolor": "white",
           "lakecolor": "white",
           "landcolor": "#E5ECF6",
           "showlakes": true,
           "showland": true,
           "subunitcolor": "white"
          },
          "hoverlabel": {
           "align": "left"
          },
          "hovermode": "closest",
          "mapbox": {
           "style": "light"
          },
          "paper_bgcolor": "white",
          "plot_bgcolor": "#E5ECF6",
          "polar": {
           "angularaxis": {
            "gridcolor": "white",
            "linecolor": "white",
            "ticks": ""
           },
           "bgcolor": "#E5ECF6",
           "radialaxis": {
            "gridcolor": "white",
            "linecolor": "white",
            "ticks": ""
           }
          },
          "scene": {
           "xaxis": {
            "backgroundcolor": "#E5ECF6",
            "gridcolor": "white",
            "gridwidth": 2,
            "linecolor": "white",
            "showbackground": true,
            "ticks": "",
            "zerolinecolor": "white"
           },
           "yaxis": {
            "backgroundcolor": "#E5ECF6",
            "gridcolor": "white",
            "gridwidth": 2,
            "linecolor": "white",
            "showbackground": true,
            "ticks": "",
            "zerolinecolor": "white"
           },
           "zaxis": {
            "backgroundcolor": "#E5ECF6",
            "gridcolor": "white",
            "gridwidth": 2,
            "linecolor": "white",
            "showbackground": true,
            "ticks": "",
            "zerolinecolor": "white"
           }
          },
          "shapedefaults": {
           "line": {
            "color": "#2a3f5f"
           }
          },
          "ternary": {
           "aaxis": {
            "gridcolor": "white",
            "linecolor": "white",
            "ticks": ""
           },
           "baxis": {
            "gridcolor": "white",
            "linecolor": "white",
            "ticks": ""
           },
           "bgcolor": "#E5ECF6",
           "caxis": {
            "gridcolor": "white",
            "linecolor": "white",
            "ticks": ""
           }
          },
          "title": {
           "x": 0.05
          },
          "xaxis": {
           "automargin": true,
           "gridcolor": "white",
           "linecolor": "white",
           "ticks": "",
           "title": {
            "standoff": 15
           },
           "zerolinecolor": "white",
           "zerolinewidth": 2
          },
          "yaxis": {
           "automargin": true,
           "gridcolor": "white",
           "linecolor": "white",
           "ticks": "",
           "title": {
            "standoff": 15
           },
           "zerolinecolor": "white",
           "zerolinewidth": 2
          }
         }
        },
        "title": {
         "text": "Model Performance Radar (Harness True) - Normalized Scores (1-10 Scale)",
         "x": 0.5
        },
        "width": 800
       }
      }
     },
     "metadata": {},
     "output_type": "display_data"
    },
    {
     "name": "stdout",
     "output_type": "stream",
     "text": [
      "Displaying Bar Chart for Harness True:\n"
     ]
    },
    {
     "data": {
      "application/vnd.plotly.v1+json": {
       "config": {
        "plotlyServerURL": "https://plot.ly"
       },
       "data": [
        {
         "hovertemplate": "<b>claude-3-5-sonnet-20241022</b><br>Game: %{x}<br>Normalized Score (1-10): %{y:.2f} <extra></extra>",
         "marker": {
          "color": "#1A4C7C",
          "line": {
           "color": "#333333",
           "width": 0
          }
         },
         "name": "claude-3-5-sonnet-20241022",
         "opacity": 0.7,
         "type": "bar",
         "x": [
          "Sokoban",
          "Super Mario",
          "Tetris",
          "2048",
          "Candy Crush",
          "Ace Attorney"
         ],
         "y": [
          1,
          2.433976833976834,
          2.231578947368421,
          8.118908327542236,
          2.474497681607419,
          2.125
         ]
        },
        {
         "hovertemplate": "<b>claude-3-7-sonnet-20250219 (thinking)</b><br>Game: %{x}<br>Normalized Score (1-10): %{y:.2f} <extra></extra>",
         "marker": {
          "color": "#2E5C8A",
          "line": {
           "color": "#333333",
           "width": 0
          }
         },
         "name": "claude-3-7-sonnet-20250219 (thinking)",
         "opacity": 0.7,
         "type": "bar",
         "x": [
          "Sokoban",
          "Super Mario",
          "Tetris",
          "2048",
          "Candy Crush",
          "Ace Attorney"
         ],
         "y": [
          3.625,
          2.958687258687259,
          2.7052631578947364,
          8.586321389999643,
          7.732612055641422,
          4.9375
         ]
        },
        {
         "hovertemplate": "<b>claude-3-haiku-20240307</b><br>Game: %{x}<br>Normalized Score (1-10): %{y:.2f} <extra></extra>",
         "marker": {
          "color": "#29a982",
          "line": {
           "color": "#333333",
           "width": 0
          }
         },
         "name": "claude-3-haiku-20240307",
         "opacity": 0.7,
         "type": "bar",
         "x": [
          "Sokoban",
          "Super Mario",
          "Tetris",
          "2048",
          "Candy Crush",
          "Ace Attorney"
         ],
         "y": [
          1,
          1,
          1,
          1,
          1,
          1
         ]
        },
        {
         "hovertemplate": "<b>deepseek-r1</b><br>Game: %{x}<br>Normalized Score (1-10): %{y:.2f} <extra></extra>",
         "marker": {
          "color": "#FFA000",
          "line": {
           "color": "#333333",
           "width": 0
          }
         },
         "name": "deepseek-r1",
         "opacity": 0.7,
         "type": "bar",
         "x": [
          "Sokoban",
          "Super Mario",
          "Tetris",
          "2048",
          "Candy Crush",
          "Ace Attorney"
         ],
         "y": [
          2.5,
          1,
          2.136842105263158,
          7.8485638215050875,
          7.222565687789799,
          1
         ]
        },
        {
         "hovertemplate": "<b>gemini-2.0-flash</b><br>Game: %{x}<br>Normalized Score (1-10): %{y:.2f} <extra></extra>",
         "marker": {
          "color": "#FF4081",
          "line": {
           "color": "red",
           "width": 2
          }
         },
         "name": "gemini-2.0-flash",
         "opacity": 1,
         "type": "bar",
         "x": [
          "Sokoban",
          "Super Mario",
          "Tetris",
          "2048",
          "Candy Crush",
          "Ace Attorney"
         ],
         "y": [
          1,
          1,
          1.1894736842105262,
          7.371370735933304,
          1,
          1
         ]
        },
        {
         "hovertemplate": "<b>gemini-2.5-flash-preview-04-17</b><br>Game: %{x}<br>Normalized Score (1-10): %{y:.2f} <extra></extra>",
         "marker": {
          "color": "#F06292",
          "line": {
           "color": "#333333",
           "width": 0
          }
         },
         "name": "gemini-2.5-flash-preview-04-17",
         "opacity": 0.7,
         "type": "bar",
         "x": [
          "Sokoban",
          "Super Mario",
          "Tetris",
          "2048",
          "Candy Crush",
          "Ace Attorney"
         ],
         "y": [
          2.875,
          2.8764478764478767,
          2.7052631578947364,
          7.972747719385921,
          5.655332302936631,
          3.25
         ]
        },
        {
         "hovertemplate": "<b>gemini-2.5-pro-preview-05-06</b><br>Game: %{x}<br>Normalized Score (1-10): %{y:.2f} <extra></extra>",
         "marker": {
          "color": "#d01f29",
          "line": {
           "color": "#333333",
           "width": 0
          }
         },
         "name": "gemini-2.5-pro-preview-05-06",
         "opacity": 0.7,
         "type": "bar",
         "x": [
          "Sokoban",
          "Super Mario",
          "Tetris",
          "2048",
          "Candy Crush",
          "Ace Attorney"
         ],
         "y": [
          5.875,
          3.2355212355212353,
          4.694736842105263,
          8.942948597637516,
          6.7913446676970635,
          4.9375
         ]
        },
        {
         "hovertemplate": "<b>gpt-4.1-2025-04-14</b><br>Game: %{x}<br>Normalized Score (1-10): %{y:.2f} <extra></extra>",
         "marker": {
          "color": "#00897B",
          "line": {
           "color": "#333333",
           "width": 0
          }
         },
         "name": "gpt-4.1-2025-04-14",
         "opacity": 0.7,
         "type": "bar",
         "x": [
          "Sokoban",
          "Super Mario",
          "Tetris",
          "2048",
          "Candy Crush",
          "Ace Attorney"
         ],
         "y": [
          1,
          5.417760617760618,
          1.9473684210526314,
          7.892976950359944,
          3.5316846986089643,
          2.125
         ]
        },
        {
         "hovertemplate": "<b>gpt-4o-2024-11-20</b><br>Game: %{x}<br>Normalized Score (1-10): %{y:.2f} <extra></extra>",
         "marker": {
          "color": "#00BFA5",
          "line": {
           "color": "#333333",
           "width": 0
          }
         },
         "name": "gpt-4o-2024-11-20",
         "opacity": 0.7,
         "type": "bar",
         "x": [
          "Sokoban",
          "Super Mario",
          "Tetris",
          "2048",
          "Candy Crush",
          "Ace Attorney"
         ],
         "y": [
          1,
          5.1432432432432424,
          2.042105263157895,
          7.977031941549241,
          3.0494590417310667,
          1
         ]
        },
        {
         "hovertemplate": "<b>grok-3-mini-beta (thinking)</b><br>Game: %{x}<br>Normalized Score (1-10): %{y:.2f} <extra></extra>",
         "marker": {
          "color": "#F57C00",
          "line": {
           "color": "#333333",
           "width": 0
          }
         },
         "name": "grok-3-mini-beta (thinking)",
         "opacity": 0.7,
         "type": "bar",
         "x": [
          "Sokoban",
          "Super Mario",
          "Tetris",
          "2048",
          "Candy Crush",
          "Ace Attorney"
         ],
         "y": [
          7.375,
          1,
          4.126315789473684,
          9.062910653955816,
          4.53323029366306,
          1
         ]
        },
        {
         "hovertemplate": "<b>llama-4-maverick-17b-128e-instruct-fp8</b><br>Game: %{x}<br>Normalized Score (1-10): %{y:.2f} <extra></extra>",
         "marker": {
          "color": "#8E24AA",
          "line": {
           "color": "#333333",
           "width": 0
          }
         },
         "name": "llama-4-maverick-17b-128e-instruct-fp8",
         "opacity": 0.7,
         "type": "bar",
         "x": [
          "Sokoban",
          "Super Mario",
          "Tetris",
          "2048",
          "Candy Crush",
          "Ace Attorney"
         ],
         "y": [
          1,
          3.1324324324324326,
          1,
          7.915470547321027,
          2.7897990726429676,
          1
         ]
        },
        {
         "hovertemplate": "<b>o1-2024-12-17</b><br>Game: %{x}<br>Normalized Score (1-10): %{y:.2f} <extra></extra>",
         "marker": {
          "color": "#4DB6AC",
          "line": {
           "color": "#333333",
           "width": 0
          }
         },
         "name": "o1-2024-12-17",
         "opacity": 0.7,
         "type": "bar",
         "x": [
          "Sokoban",
          "Super Mario",
          "Tetris",
          "2048",
          "Candy Crush",
          "Ace Attorney"
         ],
         "y": [
          3.625,
          1,
          8.010526315789473,
          10,
          3.2117465224111283,
          10
         ]
        },
        {
         "hovertemplate": "<b>o1-mini-2024-09-12</b><br>Game: %{x}<br>Normalized Score (1-10): %{y:.2f} <extra></extra>",
         "marker": {
          "color": "#26A69A",
          "line": {
           "color": "#333333",
           "width": 0
          }
         },
         "name": "o1-mini-2024-09-12",
         "opacity": 0.7,
         "type": "bar",
         "x": [
          "Sokoban",
          "Super Mario",
          "Tetris",
          "2048",
          "Candy Crush",
          "Ace Attorney"
         ],
         "y": [
          2.5,
          1,
          1.3789473684210523,
          8.644505662190552,
          1.6676970633693973,
          1
         ]
        },
        {
         "hovertemplate": "<b>o3-2025-04-16</b><br>Game: %{x}<br>Normalized Score (1-10): %{y:.2f} <extra></extra>",
         "marker": {
          "color": "#26C6DA",
          "line": {
           "color": "#333333",
           "width": 0
          }
         },
         "name": "o3-2025-04-16",
         "opacity": 0.7,
         "type": "bar",
         "x": [
          "Sokoban",
          "Super Mario",
          "Tetris",
          "2048",
          "Candy Crush",
          "Ace Attorney"
         ],
         "y": [
          10,
          10,
          10,
          9.917790560914899,
          10,
          10
         ]
        },
        {
         "hovertemplate": "<b>o4-mini-2025-04-16</b><br>Game: %{x}<br>Normalized Score (1-10): %{y:.2f} <extra></extra>",
         "marker": {
          "color": "#00ACC1",
          "line": {
           "color": "#333333",
           "width": 0
          }
         },
         "name": "o4-mini-2025-04-16",
         "opacity": 0.7,
         "type": "bar",
         "x": [
          "Sokoban",
          "Super Mario",
          "Tetris",
          "2048",
          "Candy Crush",
          "Ace Attorney"
         ],
         "y": [
          7,
          3.0606177606177605,
          5.263157894736842,
          9.248864756445968,
          7.778979907264297,
          3.25
         ]
        }
       ],
       "layout": {
        "barmode": "group",
        "height": 600,
        "legend": {
         "orientation": "v",
         "title": {
          "text": "Models"
         },
         "x": 1.02,
         "xanchor": "left",
         "y": 1.02,
         "yanchor": "top"
        },
        "margin": {
         "b": 50,
         "l": 50,
         "r": 200,
         "t": 100
        },
        "template": {
         "data": {
          "bar": [
           {
            "error_x": {
             "color": "#2a3f5f"
            },
            "error_y": {
             "color": "#2a3f5f"
            },
            "marker": {
             "line": {
              "color": "#E5ECF6",
              "width": 0.5
             },
             "pattern": {
              "fillmode": "overlay",
              "size": 10,
              "solidity": 0.2
             }
            },
            "type": "bar"
           }
          ],
          "barpolar": [
           {
            "marker": {
             "line": {
              "color": "#E5ECF6",
              "width": 0.5
             },
             "pattern": {
              "fillmode": "overlay",
              "size": 10,
              "solidity": 0.2
             }
            },
            "type": "barpolar"
           }
          ],
          "carpet": [
           {
            "aaxis": {
             "endlinecolor": "#2a3f5f",
             "gridcolor": "white",
             "linecolor": "white",
             "minorgridcolor": "white",
             "startlinecolor": "#2a3f5f"
            },
            "baxis": {
             "endlinecolor": "#2a3f5f",
             "gridcolor": "white",
             "linecolor": "white",
             "minorgridcolor": "white",
             "startlinecolor": "#2a3f5f"
            },
            "type": "carpet"
           }
          ],
          "choropleth": [
           {
            "colorbar": {
             "outlinewidth": 0,
             "ticks": ""
            },
            "type": "choropleth"
           }
          ],
          "contour": [
           {
            "colorbar": {
             "outlinewidth": 0,
             "ticks": ""
            },
            "colorscale": [
             [
              0,
              "#0d0887"
             ],
             [
              0.1111111111111111,
              "#46039f"
             ],
             [
              0.2222222222222222,
              "#7201a8"
             ],
             [
              0.3333333333333333,
              "#9c179e"
             ],
             [
              0.4444444444444444,
              "#bd3786"
             ],
             [
              0.5555555555555556,
              "#d8576b"
             ],
             [
              0.6666666666666666,
              "#ed7953"
             ],
             [
              0.7777777777777778,
              "#fb9f3a"
             ],
             [
              0.8888888888888888,
              "#fdca26"
             ],
             [
              1,
              "#f0f921"
             ]
            ],
            "type": "contour"
           }
          ],
          "contourcarpet": [
           {
            "colorbar": {
             "outlinewidth": 0,
             "ticks": ""
            },
            "type": "contourcarpet"
           }
          ],
          "heatmap": [
           {
            "colorbar": {
             "outlinewidth": 0,
             "ticks": ""
            },
            "colorscale": [
             [
              0,
              "#0d0887"
             ],
             [
              0.1111111111111111,
              "#46039f"
             ],
             [
              0.2222222222222222,
              "#7201a8"
             ],
             [
              0.3333333333333333,
              "#9c179e"
             ],
             [
              0.4444444444444444,
              "#bd3786"
             ],
             [
              0.5555555555555556,
              "#d8576b"
             ],
             [
              0.6666666666666666,
              "#ed7953"
             ],
             [
              0.7777777777777778,
              "#fb9f3a"
             ],
             [
              0.8888888888888888,
              "#fdca26"
             ],
             [
              1,
              "#f0f921"
             ]
            ],
            "type": "heatmap"
           }
          ],
          "histogram": [
           {
            "marker": {
             "pattern": {
              "fillmode": "overlay",
              "size": 10,
              "solidity": 0.2
             }
            },
            "type": "histogram"
           }
          ],
          "histogram2d": [
           {
            "colorbar": {
             "outlinewidth": 0,
             "ticks": ""
            },
            "colorscale": [
             [
              0,
              "#0d0887"
             ],
             [
              0.1111111111111111,
              "#46039f"
             ],
             [
              0.2222222222222222,
              "#7201a8"
             ],
             [
              0.3333333333333333,
              "#9c179e"
             ],
             [
              0.4444444444444444,
              "#bd3786"
             ],
             [
              0.5555555555555556,
              "#d8576b"
             ],
             [
              0.6666666666666666,
              "#ed7953"
             ],
             [
              0.7777777777777778,
              "#fb9f3a"
             ],
             [
              0.8888888888888888,
              "#fdca26"
             ],
             [
              1,
              "#f0f921"
             ]
            ],
            "type": "histogram2d"
           }
          ],
          "histogram2dcontour": [
           {
            "colorbar": {
             "outlinewidth": 0,
             "ticks": ""
            },
            "colorscale": [
             [
              0,
              "#0d0887"
             ],
             [
              0.1111111111111111,
              "#46039f"
             ],
             [
              0.2222222222222222,
              "#7201a8"
             ],
             [
              0.3333333333333333,
              "#9c179e"
             ],
             [
              0.4444444444444444,
              "#bd3786"
             ],
             [
              0.5555555555555556,
              "#d8576b"
             ],
             [
              0.6666666666666666,
              "#ed7953"
             ],
             [
              0.7777777777777778,
              "#fb9f3a"
             ],
             [
              0.8888888888888888,
              "#fdca26"
             ],
             [
              1,
              "#f0f921"
             ]
            ],
            "type": "histogram2dcontour"
           }
          ],
          "mesh3d": [
           {
            "colorbar": {
             "outlinewidth": 0,
             "ticks": ""
            },
            "type": "mesh3d"
           }
          ],
          "parcoords": [
           {
            "line": {
             "colorbar": {
              "outlinewidth": 0,
              "ticks": ""
             }
            },
            "type": "parcoords"
           }
          ],
          "pie": [
           {
            "automargin": true,
            "type": "pie"
           }
          ],
          "scatter": [
           {
            "fillpattern": {
             "fillmode": "overlay",
             "size": 10,
             "solidity": 0.2
            },
            "type": "scatter"
           }
          ],
          "scatter3d": [
           {
            "line": {
             "colorbar": {
              "outlinewidth": 0,
              "ticks": ""
             }
            },
            "marker": {
             "colorbar": {
              "outlinewidth": 0,
              "ticks": ""
             }
            },
            "type": "scatter3d"
           }
          ],
          "scattercarpet": [
           {
            "marker": {
             "colorbar": {
              "outlinewidth": 0,
              "ticks": ""
             }
            },
            "type": "scattercarpet"
           }
          ],
          "scattergeo": [
           {
            "marker": {
             "colorbar": {
              "outlinewidth": 0,
              "ticks": ""
             }
            },
            "type": "scattergeo"
           }
          ],
          "scattergl": [
           {
            "marker": {
             "colorbar": {
              "outlinewidth": 0,
              "ticks": ""
             }
            },
            "type": "scattergl"
           }
          ],
          "scattermap": [
           {
            "marker": {
             "colorbar": {
              "outlinewidth": 0,
              "ticks": ""
             }
            },
            "type": "scattermap"
           }
          ],
          "scattermapbox": [
           {
            "marker": {
             "colorbar": {
              "outlinewidth": 0,
              "ticks": ""
             }
            },
            "type": "scattermapbox"
           }
          ],
          "scatterpolar": [
           {
            "marker": {
             "colorbar": {
              "outlinewidth": 0,
              "ticks": ""
             }
            },
            "type": "scatterpolar"
           }
          ],
          "scatterpolargl": [
           {
            "marker": {
             "colorbar": {
              "outlinewidth": 0,
              "ticks": ""
             }
            },
            "type": "scatterpolargl"
           }
          ],
          "scatterternary": [
           {
            "marker": {
             "colorbar": {
              "outlinewidth": 0,
              "ticks": ""
             }
            },
            "type": "scatterternary"
           }
          ],
          "surface": [
           {
            "colorbar": {
             "outlinewidth": 0,
             "ticks": ""
            },
            "colorscale": [
             [
              0,
              "#0d0887"
             ],
             [
              0.1111111111111111,
              "#46039f"
             ],
             [
              0.2222222222222222,
              "#7201a8"
             ],
             [
              0.3333333333333333,
              "#9c179e"
             ],
             [
              0.4444444444444444,
              "#bd3786"
             ],
             [
              0.5555555555555556,
              "#d8576b"
             ],
             [
              0.6666666666666666,
              "#ed7953"
             ],
             [
              0.7777777777777778,
              "#fb9f3a"
             ],
             [
              0.8888888888888888,
              "#fdca26"
             ],
             [
              1,
              "#f0f921"
             ]
            ],
            "type": "surface"
           }
          ],
          "table": [
           {
            "cells": {
             "fill": {
              "color": "#EBF0F8"
             },
             "line": {
              "color": "white"
             }
            },
            "header": {
             "fill": {
              "color": "#C8D4E3"
             },
             "line": {
              "color": "white"
             }
            },
            "type": "table"
           }
          ]
         },
         "layout": {
          "annotationdefaults": {
           "arrowcolor": "#2a3f5f",
           "arrowhead": 0,
           "arrowwidth": 1
          },
          "autotypenumbers": "strict",
          "coloraxis": {
           "colorbar": {
            "outlinewidth": 0,
            "ticks": ""
           }
          },
          "colorscale": {
           "diverging": [
            [
             0,
             "#8e0152"
            ],
            [
             0.1,
             "#c51b7d"
            ],
            [
             0.2,
             "#de77ae"
            ],
            [
             0.3,
             "#f1b6da"
            ],
            [
             0.4,
             "#fde0ef"
            ],
            [
             0.5,
             "#f7f7f7"
            ],
            [
             0.6,
             "#e6f5d0"
            ],
            [
             0.7,
             "#b8e186"
            ],
            [
             0.8,
             "#7fbc41"
            ],
            [
             0.9,
             "#4d9221"
            ],
            [
             1,
             "#276419"
            ]
           ],
           "sequential": [
            [
             0,
             "#0d0887"
            ],
            [
             0.1111111111111111,
             "#46039f"
            ],
            [
             0.2222222222222222,
             "#7201a8"
            ],
            [
             0.3333333333333333,
             "#9c179e"
            ],
            [
             0.4444444444444444,
             "#bd3786"
            ],
            [
             0.5555555555555556,
             "#d8576b"
            ],
            [
             0.6666666666666666,
             "#ed7953"
            ],
            [
             0.7777777777777778,
             "#fb9f3a"
            ],
            [
             0.8888888888888888,
             "#fdca26"
            ],
            [
             1,
             "#f0f921"
            ]
           ],
           "sequentialminus": [
            [
             0,
             "#0d0887"
            ],
            [
             0.1111111111111111,
             "#46039f"
            ],
            [
             0.2222222222222222,
             "#7201a8"
            ],
            [
             0.3333333333333333,
             "#9c179e"
            ],
            [
             0.4444444444444444,
             "#bd3786"
            ],
            [
             0.5555555555555556,
             "#d8576b"
            ],
            [
             0.6666666666666666,
             "#ed7953"
            ],
            [
             0.7777777777777778,
             "#fb9f3a"
            ],
            [
             0.8888888888888888,
             "#fdca26"
            ],
            [
             1,
             "#f0f921"
            ]
           ]
          },
          "colorway": [
           "#636efa",
           "#EF553B",
           "#00cc96",
           "#ab63fa",
           "#FFA15A",
           "#19d3f3",
           "#FF6692",
           "#B6E880",
           "#FF97FF",
           "#FECB52"
          ],
          "font": {
           "color": "#2a3f5f"
          },
          "geo": {
           "bgcolor": "white",
           "lakecolor": "white",
           "landcolor": "#E5ECF6",
           "showlakes": true,
           "showland": true,
           "subunitcolor": "white"
          },
          "hoverlabel": {
           "align": "left"
          },
          "hovermode": "closest",
          "mapbox": {
           "style": "light"
          },
          "paper_bgcolor": "white",
          "plot_bgcolor": "#E5ECF6",
          "polar": {
           "angularaxis": {
            "gridcolor": "white",
            "linecolor": "white",
            "ticks": ""
           },
           "bgcolor": "#E5ECF6",
           "radialaxis": {
            "gridcolor": "white",
            "linecolor": "white",
            "ticks": ""
           }
          },
          "scene": {
           "xaxis": {
            "backgroundcolor": "#E5ECF6",
            "gridcolor": "white",
            "gridwidth": 2,
            "linecolor": "white",
            "showbackground": true,
            "ticks": "",
            "zerolinecolor": "white"
           },
           "yaxis": {
            "backgroundcolor": "#E5ECF6",
            "gridcolor": "white",
            "gridwidth": 2,
            "linecolor": "white",
            "showbackground": true,
            "ticks": "",
            "zerolinecolor": "white"
           },
           "zaxis": {
            "backgroundcolor": "#E5ECF6",
            "gridcolor": "white",
            "gridwidth": 2,
            "linecolor": "white",
            "showbackground": true,
            "ticks": "",
            "zerolinecolor": "white"
           }
          },
          "shapedefaults": {
           "line": {
            "color": "#2a3f5f"
           }
          },
          "ternary": {
           "aaxis": {
            "gridcolor": "white",
            "linecolor": "white",
            "ticks": ""
           },
           "baxis": {
            "gridcolor": "white",
            "linecolor": "white",
            "ticks": ""
           },
           "bgcolor": "#E5ECF6",
           "caxis": {
            "gridcolor": "white",
            "linecolor": "white",
            "ticks": ""
           }
          },
          "title": {
           "x": 0.05
          },
          "xaxis": {
           "automargin": true,
           "gridcolor": "white",
           "linecolor": "white",
           "ticks": "",
           "title": {
            "standoff": 15
           },
           "zerolinecolor": "white",
           "zerolinewidth": 2
          },
          "yaxis": {
           "automargin": true,
           "gridcolor": "white",
           "linecolor": "white",
           "ticks": "",
           "title": {
            "standoff": 15
           },
           "zerolinecolor": "white",
           "zerolinewidth": 2
          }
         }
        },
        "title": {
         "text": "Model Performance Comparison (Harness True) - Normalized Scores (1-10 Scale)",
         "x": 0.5
        },
        "width": 4750,
        "xaxis": {
         "title": {
          "text": "Game"
         }
        },
        "yaxis": {
         "range": [
          0,
          10.5
         ],
         "title": {
          "text": "Normalized Score (1-10)"
         }
        }
       }
      }
     },
     "metadata": {},
     "output_type": "display_data"
    },
    {
     "name": "stdout",
     "output_type": "stream",
     "text": [
      "\n",
      "--- Generating plots for Harness False ---\n",
      "Displaying Radar Chart for Harness False:\n"
     ]
    },
    {
     "data": {
      "application/vnd.plotly.v1+json": {
       "config": {
        "plotlyServerURL": "https://plot.ly"
       },
       "data": [
        {
         "fill": "toself",
         "fillcolor": "rgba(26, 76, 124, 0.2)",
         "hovertemplate": "<b>claude-3-5-sonnet-20241022</b><br>Game: %{theta}<br>Normalized Score (1-10): %{r:.2f} <extra></extra>",
         "line": {
          "color": "#1A4C7C",
          "width": 1.5
         },
         "marker": {
          "color": "#1A4C7C",
          "line": {
           "color": "#B0B0B0",
           "width": 1
          },
          "size": 4
         },
         "mode": "lines+markers",
         "name": "claude-3-5-sonnet-20241022",
         "opacity": 0.7,
         "r": [
          1,
          7.038639125151884,
          1.3103448275862073,
          2.2611031720244394,
          1,
          2.125,
          1
         ],
         "theta": [
          "Sokoban",
          "Super Mario",
          "Tetris",
          "2048",
          "Candy Crush",
          "Ace Attorney",
          "Sokoban"
         ],
         "type": "scatterpolar"
        },
        {
         "fill": "toself",
         "fillcolor": "rgba(46, 92, 138, 0.2)",
         "hovertemplate": "<b>claude-3-7-sonnet-20250219 (thinking)</b><br>Game: %{theta}<br>Normalized Score (1-10): %{r:.2f} <extra></extra>",
         "line": {
          "color": "#2E5C8A",
          "width": 1.5
         },
         "marker": {
          "color": "#2E5C8A",
          "line": {
           "color": "#B0B0B0",
           "width": 1
          },
          "size": 4
         },
         "mode": "lines+markers",
         "name": "claude-3-7-sonnet-20250219 (thinking)",
         "opacity": 0.7,
         "r": [
          1,
          6.316889428918592,
          1.6206896551724141,
          7.669953471547946,
          7.137214137214136,
          4.375,
          1
         ],
         "theta": [
          "Sokoban",
          "Super Mario",
          "Tetris",
          "2048",
          "Candy Crush",
          "Ace Attorney",
          "Sokoban"
         ],
         "type": "scatterpolar"
        },
        {
         "fill": "toself",
         "fillcolor": "rgba(41, 169, 130, 0.2)",
         "hovertemplate": "<b>claude-3-haiku-20240307</b><br>Game: %{theta}<br>Normalized Score (1-10): %{r:.2f} <extra></extra>",
         "line": {
          "color": "#29a982",
          "width": 1.5
         },
         "marker": {
          "color": "#29a982",
          "line": {
           "color": "#B0B0B0",
           "width": 1
          },
          "size": 4
         },
         "mode": "lines+markers",
         "name": "claude-3-haiku-20240307",
         "opacity": 0.7,
         "r": [
          1,
          1,
          1,
          10,
          1,
          1,
          1
         ],
         "theta": [
          "Sokoban",
          "Super Mario",
          "Tetris",
          "2048",
          "Candy Crush",
          "Ace Attorney",
          "Sokoban"
         ],
         "type": "scatterpolar"
        },
        {
         "fill": "toself",
         "fillcolor": "rgba(255,0,0,0.4)",
         "hovertemplate": "<b>gemini-2.0-flash</b><br>Game: %{theta}<br>Normalized Score (1-10): %{r:.2f} <extra></extra>",
         "line": {
          "color": "red",
          "width": 3
         },
         "marker": {
          "color": "red",
          "line": {
           "color": "darkred",
           "width": 2
          },
          "size": 8
         },
         "mode": "lines+markers",
         "name": "gemini-2.0-flash",
         "opacity": 0.9,
         "r": [
          1,
          1,
          1,
          1,
          1,
          1,
          1
         ],
         "theta": [
          "Sokoban",
          "Super Mario",
          "Tetris",
          "2048",
          "Candy Crush",
          "Ace Attorney",
          "Sokoban"
         ],
         "type": "scatterpolar"
        },
        {
         "fill": "toself",
         "fillcolor": "rgba(240, 98, 146, 0.2)",
         "hovertemplate": "<b>gemini-2.5-flash-preview-04-17</b><br>Game: %{theta}<br>Normalized Score (1-10): %{r:.2f} <extra></extra>",
         "line": {
          "color": "#F06292",
          "width": 1.5
         },
         "marker": {
          "color": "#F06292",
          "line": {
           "color": "#B0B0B0",
           "width": 1
          },
          "size": 4
         },
         "mode": "lines+markers",
         "name": "gemini-2.5-flash-preview-04-17",
         "opacity": 0.7,
         "r": [
          1,
          7.043013365735117,
          4.413793103448276,
          7.017014281075788,
          5.528066528066528,
          2.125,
          1
         ],
         "theta": [
          "Sokoban",
          "Super Mario",
          "Tetris",
          "2048",
          "Candy Crush",
          "Ace Attorney",
          "Sokoban"
         ],
         "type": "scatterpolar"
        },
        {
         "fill": "toself",
         "fillcolor": "rgba(208, 31, 41, 0.2)",
         "hovertemplate": "<b>gemini-2.5-pro-preview-05-06</b><br>Game: %{theta}<br>Normalized Score (1-10): %{r:.2f} <extra></extra>",
         "line": {
          "color": "#d01f29",
          "width": 1.5
         },
         "marker": {
          "color": "#d01f29",
          "line": {
           "color": "#B0B0B0",
           "width": 1
          },
          "size": 4
         },
         "mode": "lines+markers",
         "name": "gemini-2.5-pro-preview-05-06",
         "opacity": 0.7,
         "r": [
          5.5,
          3.6617253948967194,
          1.3103448275862073,
          8.275546474533824,
          10,
          10,
          5.5
         ],
         "theta": [
          "Sokoban",
          "Super Mario",
          "Tetris",
          "2048",
          "Candy Crush",
          "Ace Attorney",
          "Sokoban"
         ],
         "type": "scatterpolar"
        },
        {
         "fill": "toself",
         "fillcolor": "rgba(0, 137, 123, 0.2)",
         "hovertemplate": "<b>gpt-4.1-2025-04-14</b><br>Game: %{theta}<br>Normalized Score (1-10): %{r:.2f} <extra></extra>",
         "line": {
          "color": "#00897B",
          "width": 1.5
         },
         "marker": {
          "color": "#00897B",
          "line": {
           "color": "#B0B0B0",
           "width": 1
          },
          "size": 4
         },
         "mode": "lines+markers",
         "name": "gpt-4.1-2025-04-14",
         "opacity": 0.7,
         "r": [
          1,
          10,
          1.6206896551724141,
          5.78035356134694,
          5.715176715176715,
          1,
          1
         ],
         "theta": [
          "Sokoban",
          "Super Mario",
          "Tetris",
          "2048",
          "Candy Crush",
          "Ace Attorney",
          "Sokoban"
         ],
         "type": "scatterpolar"
        },
        {
         "fill": "toself",
         "fillcolor": "rgba(0, 191, 165, 0.2)",
         "hovertemplate": "<b>gpt-4o-2024-11-20</b><br>Game: %{theta}<br>Normalized Score (1-10): %{r:.2f} <extra></extra>",
         "line": {
          "color": "#00BFA5",
          "width": 1.5
         },
         "marker": {
          "color": "#00BFA5",
          "line": {
           "color": "#B0B0B0",
           "width": 1
          },
          "size": 4
         },
         "mode": "lines+markers",
         "name": "gpt-4o-2024-11-20",
         "opacity": 0.7,
         "r": [
          1,
          3.681409477521264,
          2.3965517241379306,
          3.473242180838606,
          3.3575883575883574,
          1,
          1
         ],
         "theta": [
          "Sokoban",
          "Super Mario",
          "Tetris",
          "2048",
          "Candy Crush",
          "Ace Attorney",
          "Sokoban"
         ],
         "type": "scatterpolar"
        },
        {
         "fill": "toself",
         "fillcolor": "rgba(142, 36, 170, 0.2)",
         "hovertemplate": "<b>llama-4-maverick-17b-128e-instruct-fp8</b><br>Game: %{theta}<br>Normalized Score (1-10): %{r:.2f} <extra></extra>",
         "line": {
          "color": "#8E24AA",
          "width": 1.5
         },
         "marker": {
          "color": "#8E24AA",
          "line": {
           "color": "#B0B0B0",
           "width": 1
          },
          "size": 4
         },
         "mode": "lines+markers",
         "name": "llama-4-maverick-17b-128e-instruct-fp8",
         "opacity": 0.7,
         "r": [
          1,
          2.091373025516404,
          1,
          1,
          1.8607068607068609,
          1,
          1
         ],
         "theta": [
          "Sokoban",
          "Super Mario",
          "Tetris",
          "2048",
          "Candy Crush",
          "Ace Attorney",
          "Sokoban"
         ],
         "type": "scatterpolar"
        },
        {
         "fill": "toself",
         "fillcolor": "rgba(77, 182, 172, 0.2)",
         "hovertemplate": "<b>o1-2024-12-17</b><br>Game: %{theta}<br>Normalized Score (1-10): %{r:.2f} <extra></extra>",
         "line": {
          "color": "#4DB6AC",
          "width": 1.5
         },
         "marker": {
          "color": "#4DB6AC",
          "line": {
           "color": "#B0B0B0",
           "width": 1
          },
          "size": 4
         },
         "mode": "lines+markers",
         "name": "o1-2024-12-17",
         "opacity": 0.7,
         "r": [
          1,
          6.343134872417984,
          1.6206896551724141,
          9.005612323060188,
          5.097713097713098,
          4.375,
          1
         ],
         "theta": [
          "Sokoban",
          "Super Mario",
          "Tetris",
          "2048",
          "Candy Crush",
          "Ace Attorney",
          "Sokoban"
         ],
         "type": "scatterpolar"
        },
        {
         "fill": "toself",
         "fillcolor": "rgba(38, 198, 218, 0.2)",
         "hovertemplate": "<b>o3-2025-04-16</b><br>Game: %{theta}<br>Normalized Score (1-10): %{r:.2f} <extra></extra>",
         "line": {
          "color": "#26C6DA",
          "width": 1.5
         },
         "marker": {
          "color": "#26C6DA",
          "line": {
           "color": "#B0B0B0",
           "width": 1
          },
          "size": 4
         },
         "mode": "lines+markers",
         "name": "o3-2025-04-16",
         "opacity": 0.7,
         "r": [
          10,
          9.761603888213854,
          10,
          9.014072750608893,
          5.995841995841996,
          10,
          10
         ],
         "theta": [
          "Sokoban",
          "Super Mario",
          "Tetris",
          "2048",
          "Candy Crush",
          "Ace Attorney",
          "Sokoban"
         ],
         "type": "scatterpolar"
        },
        {
         "fill": "toself",
         "fillcolor": "rgba(0, 172, 193, 0.2)",
         "hovertemplate": "<b>o4-mini-2025-04-16</b><br>Game: %{theta}<br>Normalized Score (1-10): %{r:.2f} <extra></extra>",
         "line": {
          "color": "#00ACC1",
          "width": 1.5
         },
         "marker": {
          "color": "#00ACC1",
          "line": {
           "color": "#B0B0B0",
           "width": 1
          },
          "size": 4
         },
         "mode": "lines+markers",
         "name": "o4-mini-2025-04-16",
         "opacity": 0.7,
         "r": [
          7,
          5.781044957472661,
          2.5517241379310347,
          6.076414134828309,
          6.257796257796258,
          3.25,
          7
         ],
         "theta": [
          "Sokoban",
          "Super Mario",
          "Tetris",
          "2048",
          "Candy Crush",
          "Ace Attorney",
          "Sokoban"
         ],
         "type": "scatterpolar"
        }
       ],
       "layout": {
        "height": 600,
        "legend": {
         "orientation": "v",
         "title": {
          "text": "Models"
         },
         "x": 1.05,
         "xanchor": "left",
         "y": 1.02,
         "yanchor": "top"
        },
        "margin": {
         "b": 50,
         "l": 100,
         "r": 200,
         "t": 100
        },
        "polar": {
         "angularaxis": {
          "gridcolor": "lightgray",
          "tickfont": {
           "size": 10
          }
         },
         "radialaxis": {
          "gridcolor": "lightgray",
          "range": [
           1,
           10
          ],
          "tickformat": ".0f",
          "tickvals": [
           1,
           2,
           3,
           4,
           5,
           6,
           7,
           8,
           9,
           10
          ],
          "visible": true
         }
        },
        "template": {
         "data": {
          "bar": [
           {
            "error_x": {
             "color": "#2a3f5f"
            },
            "error_y": {
             "color": "#2a3f5f"
            },
            "marker": {
             "line": {
              "color": "#E5ECF6",
              "width": 0.5
             },
             "pattern": {
              "fillmode": "overlay",
              "size": 10,
              "solidity": 0.2
             }
            },
            "type": "bar"
           }
          ],
          "barpolar": [
           {
            "marker": {
             "line": {
              "color": "#E5ECF6",
              "width": 0.5
             },
             "pattern": {
              "fillmode": "overlay",
              "size": 10,
              "solidity": 0.2
             }
            },
            "type": "barpolar"
           }
          ],
          "carpet": [
           {
            "aaxis": {
             "endlinecolor": "#2a3f5f",
             "gridcolor": "white",
             "linecolor": "white",
             "minorgridcolor": "white",
             "startlinecolor": "#2a3f5f"
            },
            "baxis": {
             "endlinecolor": "#2a3f5f",
             "gridcolor": "white",
             "linecolor": "white",
             "minorgridcolor": "white",
             "startlinecolor": "#2a3f5f"
            },
            "type": "carpet"
           }
          ],
          "choropleth": [
           {
            "colorbar": {
             "outlinewidth": 0,
             "ticks": ""
            },
            "type": "choropleth"
           }
          ],
          "contour": [
           {
            "colorbar": {
             "outlinewidth": 0,
             "ticks": ""
            },
            "colorscale": [
             [
              0,
              "#0d0887"
             ],
             [
              0.1111111111111111,
              "#46039f"
             ],
             [
              0.2222222222222222,
              "#7201a8"
             ],
             [
              0.3333333333333333,
              "#9c179e"
             ],
             [
              0.4444444444444444,
              "#bd3786"
             ],
             [
              0.5555555555555556,
              "#d8576b"
             ],
             [
              0.6666666666666666,
              "#ed7953"
             ],
             [
              0.7777777777777778,
              "#fb9f3a"
             ],
             [
              0.8888888888888888,
              "#fdca26"
             ],
             [
              1,
              "#f0f921"
             ]
            ],
            "type": "contour"
           }
          ],
          "contourcarpet": [
           {
            "colorbar": {
             "outlinewidth": 0,
             "ticks": ""
            },
            "type": "contourcarpet"
           }
          ],
          "heatmap": [
           {
            "colorbar": {
             "outlinewidth": 0,
             "ticks": ""
            },
            "colorscale": [
             [
              0,
              "#0d0887"
             ],
             [
              0.1111111111111111,
              "#46039f"
             ],
             [
              0.2222222222222222,
              "#7201a8"
             ],
             [
              0.3333333333333333,
              "#9c179e"
             ],
             [
              0.4444444444444444,
              "#bd3786"
             ],
             [
              0.5555555555555556,
              "#d8576b"
             ],
             [
              0.6666666666666666,
              "#ed7953"
             ],
             [
              0.7777777777777778,
              "#fb9f3a"
             ],
             [
              0.8888888888888888,
              "#fdca26"
             ],
             [
              1,
              "#f0f921"
             ]
            ],
            "type": "heatmap"
           }
          ],
          "histogram": [
           {
            "marker": {
             "pattern": {
              "fillmode": "overlay",
              "size": 10,
              "solidity": 0.2
             }
            },
            "type": "histogram"
           }
          ],
          "histogram2d": [
           {
            "colorbar": {
             "outlinewidth": 0,
             "ticks": ""
            },
            "colorscale": [
             [
              0,
              "#0d0887"
             ],
             [
              0.1111111111111111,
              "#46039f"
             ],
             [
              0.2222222222222222,
              "#7201a8"
             ],
             [
              0.3333333333333333,
              "#9c179e"
             ],
             [
              0.4444444444444444,
              "#bd3786"
             ],
             [
              0.5555555555555556,
              "#d8576b"
             ],
             [
              0.6666666666666666,
              "#ed7953"
             ],
             [
              0.7777777777777778,
              "#fb9f3a"
             ],
             [
              0.8888888888888888,
              "#fdca26"
             ],
             [
              1,
              "#f0f921"
             ]
            ],
            "type": "histogram2d"
           }
          ],
          "histogram2dcontour": [
           {
            "colorbar": {
             "outlinewidth": 0,
             "ticks": ""
            },
            "colorscale": [
             [
              0,
              "#0d0887"
             ],
             [
              0.1111111111111111,
              "#46039f"
             ],
             [
              0.2222222222222222,
              "#7201a8"
             ],
             [
              0.3333333333333333,
              "#9c179e"
             ],
             [
              0.4444444444444444,
              "#bd3786"
             ],
             [
              0.5555555555555556,
              "#d8576b"
             ],
             [
              0.6666666666666666,
              "#ed7953"
             ],
             [
              0.7777777777777778,
              "#fb9f3a"
             ],
             [
              0.8888888888888888,
              "#fdca26"
             ],
             [
              1,
              "#f0f921"
             ]
            ],
            "type": "histogram2dcontour"
           }
          ],
          "mesh3d": [
           {
            "colorbar": {
             "outlinewidth": 0,
             "ticks": ""
            },
            "type": "mesh3d"
           }
          ],
          "parcoords": [
           {
            "line": {
             "colorbar": {
              "outlinewidth": 0,
              "ticks": ""
             }
            },
            "type": "parcoords"
           }
          ],
          "pie": [
           {
            "automargin": true,
            "type": "pie"
           }
          ],
          "scatter": [
           {
            "fillpattern": {
             "fillmode": "overlay",
             "size": 10,
             "solidity": 0.2
            },
            "type": "scatter"
           }
          ],
          "scatter3d": [
           {
            "line": {
             "colorbar": {
              "outlinewidth": 0,
              "ticks": ""
             }
            },
            "marker": {
             "colorbar": {
              "outlinewidth": 0,
              "ticks": ""
             }
            },
            "type": "scatter3d"
           }
          ],
          "scattercarpet": [
           {
            "marker": {
             "colorbar": {
              "outlinewidth": 0,
              "ticks": ""
             }
            },
            "type": "scattercarpet"
           }
          ],
          "scattergeo": [
           {
            "marker": {
             "colorbar": {
              "outlinewidth": 0,
              "ticks": ""
             }
            },
            "type": "scattergeo"
           }
          ],
          "scattergl": [
           {
            "marker": {
             "colorbar": {
              "outlinewidth": 0,
              "ticks": ""
             }
            },
            "type": "scattergl"
           }
          ],
          "scattermap": [
           {
            "marker": {
             "colorbar": {
              "outlinewidth": 0,
              "ticks": ""
             }
            },
            "type": "scattermap"
           }
          ],
          "scattermapbox": [
           {
            "marker": {
             "colorbar": {
              "outlinewidth": 0,
              "ticks": ""
             }
            },
            "type": "scattermapbox"
           }
          ],
          "scatterpolar": [
           {
            "marker": {
             "colorbar": {
              "outlinewidth": 0,
              "ticks": ""
             }
            },
            "type": "scatterpolar"
           }
          ],
          "scatterpolargl": [
           {
            "marker": {
             "colorbar": {
              "outlinewidth": 0,
              "ticks": ""
             }
            },
            "type": "scatterpolargl"
           }
          ],
          "scatterternary": [
           {
            "marker": {
             "colorbar": {
              "outlinewidth": 0,
              "ticks": ""
             }
            },
            "type": "scatterternary"
           }
          ],
          "surface": [
           {
            "colorbar": {
             "outlinewidth": 0,
             "ticks": ""
            },
            "colorscale": [
             [
              0,
              "#0d0887"
             ],
             [
              0.1111111111111111,
              "#46039f"
             ],
             [
              0.2222222222222222,
              "#7201a8"
             ],
             [
              0.3333333333333333,
              "#9c179e"
             ],
             [
              0.4444444444444444,
              "#bd3786"
             ],
             [
              0.5555555555555556,
              "#d8576b"
             ],
             [
              0.6666666666666666,
              "#ed7953"
             ],
             [
              0.7777777777777778,
              "#fb9f3a"
             ],
             [
              0.8888888888888888,
              "#fdca26"
             ],
             [
              1,
              "#f0f921"
             ]
            ],
            "type": "surface"
           }
          ],
          "table": [
           {
            "cells": {
             "fill": {
              "color": "#EBF0F8"
             },
             "line": {
              "color": "white"
             }
            },
            "header": {
             "fill": {
              "color": "#C8D4E3"
             },
             "line": {
              "color": "white"
             }
            },
            "type": "table"
           }
          ]
         },
         "layout": {
          "annotationdefaults": {
           "arrowcolor": "#2a3f5f",
           "arrowhead": 0,
           "arrowwidth": 1
          },
          "autotypenumbers": "strict",
          "coloraxis": {
           "colorbar": {
            "outlinewidth": 0,
            "ticks": ""
           }
          },
          "colorscale": {
           "diverging": [
            [
             0,
             "#8e0152"
            ],
            [
             0.1,
             "#c51b7d"
            ],
            [
             0.2,
             "#de77ae"
            ],
            [
             0.3,
             "#f1b6da"
            ],
            [
             0.4,
             "#fde0ef"
            ],
            [
             0.5,
             "#f7f7f7"
            ],
            [
             0.6,
             "#e6f5d0"
            ],
            [
             0.7,
             "#b8e186"
            ],
            [
             0.8,
             "#7fbc41"
            ],
            [
             0.9,
             "#4d9221"
            ],
            [
             1,
             "#276419"
            ]
           ],
           "sequential": [
            [
             0,
             "#0d0887"
            ],
            [
             0.1111111111111111,
             "#46039f"
            ],
            [
             0.2222222222222222,
             "#7201a8"
            ],
            [
             0.3333333333333333,
             "#9c179e"
            ],
            [
             0.4444444444444444,
             "#bd3786"
            ],
            [
             0.5555555555555556,
             "#d8576b"
            ],
            [
             0.6666666666666666,
             "#ed7953"
            ],
            [
             0.7777777777777778,
             "#fb9f3a"
            ],
            [
             0.8888888888888888,
             "#fdca26"
            ],
            [
             1,
             "#f0f921"
            ]
           ],
           "sequentialminus": [
            [
             0,
             "#0d0887"
            ],
            [
             0.1111111111111111,
             "#46039f"
            ],
            [
             0.2222222222222222,
             "#7201a8"
            ],
            [
             0.3333333333333333,
             "#9c179e"
            ],
            [
             0.4444444444444444,
             "#bd3786"
            ],
            [
             0.5555555555555556,
             "#d8576b"
            ],
            [
             0.6666666666666666,
             "#ed7953"
            ],
            [
             0.7777777777777778,
             "#fb9f3a"
            ],
            [
             0.8888888888888888,
             "#fdca26"
            ],
            [
             1,
             "#f0f921"
            ]
           ]
          },
          "colorway": [
           "#636efa",
           "#EF553B",
           "#00cc96",
           "#ab63fa",
           "#FFA15A",
           "#19d3f3",
           "#FF6692",
           "#B6E880",
           "#FF97FF",
           "#FECB52"
          ],
          "font": {
           "color": "#2a3f5f"
          },
          "geo": {
           "bgcolor": "white",
           "lakecolor": "white",
           "landcolor": "#E5ECF6",
           "showlakes": true,
           "showland": true,
           "subunitcolor": "white"
          },
          "hoverlabel": {
           "align": "left"
          },
          "hovermode": "closest",
          "mapbox": {
           "style": "light"
          },
          "paper_bgcolor": "white",
          "plot_bgcolor": "#E5ECF6",
          "polar": {
           "angularaxis": {
            "gridcolor": "white",
            "linecolor": "white",
            "ticks": ""
           },
           "bgcolor": "#E5ECF6",
           "radialaxis": {
            "gridcolor": "white",
            "linecolor": "white",
            "ticks": ""
           }
          },
          "scene": {
           "xaxis": {
            "backgroundcolor": "#E5ECF6",
            "gridcolor": "white",
            "gridwidth": 2,
            "linecolor": "white",
            "showbackground": true,
            "ticks": "",
            "zerolinecolor": "white"
           },
           "yaxis": {
            "backgroundcolor": "#E5ECF6",
            "gridcolor": "white",
            "gridwidth": 2,
            "linecolor": "white",
            "showbackground": true,
            "ticks": "",
            "zerolinecolor": "white"
           },
           "zaxis": {
            "backgroundcolor": "#E5ECF6",
            "gridcolor": "white",
            "gridwidth": 2,
            "linecolor": "white",
            "showbackground": true,
            "ticks": "",
            "zerolinecolor": "white"
           }
          },
          "shapedefaults": {
           "line": {
            "color": "#2a3f5f"
           }
          },
          "ternary": {
           "aaxis": {
            "gridcolor": "white",
            "linecolor": "white",
            "ticks": ""
           },
           "baxis": {
            "gridcolor": "white",
            "linecolor": "white",
            "ticks": ""
           },
           "bgcolor": "#E5ECF6",
           "caxis": {
            "gridcolor": "white",
            "linecolor": "white",
            "ticks": ""
           }
          },
          "title": {
           "x": 0.05
          },
          "xaxis": {
           "automargin": true,
           "gridcolor": "white",
           "linecolor": "white",
           "ticks": "",
           "title": {
            "standoff": 15
           },
           "zerolinecolor": "white",
           "zerolinewidth": 2
          },
          "yaxis": {
           "automargin": true,
           "gridcolor": "white",
           "linecolor": "white",
           "ticks": "",
           "title": {
            "standoff": 15
           },
           "zerolinecolor": "white",
           "zerolinewidth": 2
          }
         }
        },
        "title": {
         "text": "Model Performance Radar (Harness False) - Normalized Scores (1-10 Scale)",
         "x": 0.5
        },
        "width": 800
       }
      }
     },
     "metadata": {},
     "output_type": "display_data"
    },
    {
     "name": "stdout",
     "output_type": "stream",
     "text": [
      "Displaying Bar Chart for Harness False:\n"
     ]
    },
    {
     "data": {
      "application/vnd.plotly.v1+json": {
       "config": {
        "plotlyServerURL": "https://plot.ly"
       },
       "data": [
        {
         "hovertemplate": "<b>claude-3-5-sonnet-20241022</b><br>Game: %{x}<br>Normalized Score (1-10): %{y:.2f} <extra></extra>",
         "marker": {
          "color": "#1A4C7C",
          "line": {
           "color": "#333333",
           "width": 0
          }
         },
         "name": "claude-3-5-sonnet-20241022",
         "opacity": 0.7,
         "type": "bar",
         "x": [
          "Sokoban",
          "Super Mario",
          "Tetris",
          "2048",
          "Candy Crush",
          "Ace Attorney"
         ],
         "y": [
          1,
          7.038639125151884,
          1.3103448275862073,
          2.2611031720244394,
          1,
          2.125
         ]
        },
        {
         "hovertemplate": "<b>claude-3-7-sonnet-20250219 (thinking)</b><br>Game: %{x}<br>Normalized Score (1-10): %{y:.2f} <extra></extra>",
         "marker": {
          "color": "#2E5C8A",
          "line": {
           "color": "#333333",
           "width": 0
          }
         },
         "name": "claude-3-7-sonnet-20250219 (thinking)",
         "opacity": 0.7,
         "type": "bar",
         "x": [
          "Sokoban",
          "Super Mario",
          "Tetris",
          "2048",
          "Candy Crush",
          "Ace Attorney"
         ],
         "y": [
          1,
          6.316889428918592,
          1.6206896551724141,
          7.669953471547946,
          7.137214137214136,
          4.375
         ]
        },
        {
         "hovertemplate": "<b>claude-3-haiku-20240307</b><br>Game: %{x}<br>Normalized Score (1-10): %{y:.2f} <extra></extra>",
         "marker": {
          "color": "#29a982",
          "line": {
           "color": "#333333",
           "width": 0
          }
         },
         "name": "claude-3-haiku-20240307",
         "opacity": 0.7,
         "type": "bar",
         "x": [
          "Sokoban",
          "Super Mario",
          "Tetris",
          "2048",
          "Candy Crush",
          "Ace Attorney"
         ],
         "y": [
          1,
          1,
          1,
          10,
          1,
          1
         ]
        },
        {
         "hovertemplate": "<b>gemini-2.0-flash</b><br>Game: %{x}<br>Normalized Score (1-10): %{y:.2f} <extra></extra>",
         "marker": {
          "color": "#FF4081",
          "line": {
           "color": "red",
           "width": 2
          }
         },
         "name": "gemini-2.0-flash",
         "opacity": 1,
         "type": "bar",
         "x": [
          "Sokoban",
          "Super Mario",
          "Tetris",
          "2048",
          "Candy Crush",
          "Ace Attorney"
         ],
         "y": [
          1,
          1,
          1,
          1,
          1,
          1
         ]
        },
        {
         "hovertemplate": "<b>gemini-2.5-flash-preview-04-17</b><br>Game: %{x}<br>Normalized Score (1-10): %{y:.2f} <extra></extra>",
         "marker": {
          "color": "#F06292",
          "line": {
           "color": "#333333",
           "width": 0
          }
         },
         "name": "gemini-2.5-flash-preview-04-17",
         "opacity": 0.7,
         "type": "bar",
         "x": [
          "Sokoban",
          "Super Mario",
          "Tetris",
          "2048",
          "Candy Crush",
          "Ace Attorney"
         ],
         "y": [
          1,
          7.043013365735117,
          4.413793103448276,
          7.017014281075788,
          5.528066528066528,
          2.125
         ]
        },
        {
         "hovertemplate": "<b>gemini-2.5-pro-preview-05-06</b><br>Game: %{x}<br>Normalized Score (1-10): %{y:.2f} <extra></extra>",
         "marker": {
          "color": "#d01f29",
          "line": {
           "color": "#333333",
           "width": 0
          }
         },
         "name": "gemini-2.5-pro-preview-05-06",
         "opacity": 0.7,
         "type": "bar",
         "x": [
          "Sokoban",
          "Super Mario",
          "Tetris",
          "2048",
          "Candy Crush",
          "Ace Attorney"
         ],
         "y": [
          5.5,
          3.6617253948967194,
          1.3103448275862073,
          8.275546474533824,
          10,
          10
         ]
        },
        {
         "hovertemplate": "<b>gpt-4.1-2025-04-14</b><br>Game: %{x}<br>Normalized Score (1-10): %{y:.2f} <extra></extra>",
         "marker": {
          "color": "#00897B",
          "line": {
           "color": "#333333",
           "width": 0
          }
         },
         "name": "gpt-4.1-2025-04-14",
         "opacity": 0.7,
         "type": "bar",
         "x": [
          "Sokoban",
          "Super Mario",
          "Tetris",
          "2048",
          "Candy Crush",
          "Ace Attorney"
         ],
         "y": [
          1,
          10,
          1.6206896551724141,
          5.78035356134694,
          5.715176715176715,
          1
         ]
        },
        {
         "hovertemplate": "<b>gpt-4o-2024-11-20</b><br>Game: %{x}<br>Normalized Score (1-10): %{y:.2f} <extra></extra>",
         "marker": {
          "color": "#00BFA5",
          "line": {
           "color": "#333333",
           "width": 0
          }
         },
         "name": "gpt-4o-2024-11-20",
         "opacity": 0.7,
         "type": "bar",
         "x": [
          "Sokoban",
          "Super Mario",
          "Tetris",
          "2048",
          "Candy Crush",
          "Ace Attorney"
         ],
         "y": [
          1,
          3.681409477521264,
          2.3965517241379306,
          3.473242180838606,
          3.3575883575883574,
          1
         ]
        },
        {
         "hovertemplate": "<b>llama-4-maverick-17b-128e-instruct-fp8</b><br>Game: %{x}<br>Normalized Score (1-10): %{y:.2f} <extra></extra>",
         "marker": {
          "color": "#8E24AA",
          "line": {
           "color": "#333333",
           "width": 0
          }
         },
         "name": "llama-4-maverick-17b-128e-instruct-fp8",
         "opacity": 0.7,
         "type": "bar",
         "x": [
          "Sokoban",
          "Super Mario",
          "Tetris",
          "2048",
          "Candy Crush",
          "Ace Attorney"
         ],
         "y": [
          1,
          2.091373025516404,
          1,
          1,
          1.8607068607068609,
          1
         ]
        },
        {
         "hovertemplate": "<b>o1-2024-12-17</b><br>Game: %{x}<br>Normalized Score (1-10): %{y:.2f} <extra></extra>",
         "marker": {
          "color": "#4DB6AC",
          "line": {
           "color": "#333333",
           "width": 0
          }
         },
         "name": "o1-2024-12-17",
         "opacity": 0.7,
         "type": "bar",
         "x": [
          "Sokoban",
          "Super Mario",
          "Tetris",
          "2048",
          "Candy Crush",
          "Ace Attorney"
         ],
         "y": [
          1,
          6.343134872417984,
          1.6206896551724141,
          9.005612323060188,
          5.097713097713098,
          4.375
         ]
        },
        {
         "hovertemplate": "<b>o3-2025-04-16</b><br>Game: %{x}<br>Normalized Score (1-10): %{y:.2f} <extra></extra>",
         "marker": {
          "color": "#26C6DA",
          "line": {
           "color": "#333333",
           "width": 0
          }
         },
         "name": "o3-2025-04-16",
         "opacity": 0.7,
         "type": "bar",
         "x": [
          "Sokoban",
          "Super Mario",
          "Tetris",
          "2048",
          "Candy Crush",
          "Ace Attorney"
         ],
         "y": [
          10,
          9.761603888213854,
          10,
          9.014072750608893,
          5.995841995841996,
          10
         ]
        },
        {
         "hovertemplate": "<b>o4-mini-2025-04-16</b><br>Game: %{x}<br>Normalized Score (1-10): %{y:.2f} <extra></extra>",
         "marker": {
          "color": "#00ACC1",
          "line": {
           "color": "#333333",
           "width": 0
          }
         },
         "name": "o4-mini-2025-04-16",
         "opacity": 0.7,
         "type": "bar",
         "x": [
          "Sokoban",
          "Super Mario",
          "Tetris",
          "2048",
          "Candy Crush",
          "Ace Attorney"
         ],
         "y": [
          7,
          5.781044957472661,
          2.5517241379310347,
          6.076414134828309,
          6.257796257796258,
          3.25
         ]
        }
       ],
       "layout": {
        "barmode": "group",
        "height": 600,
        "legend": {
         "orientation": "v",
         "title": {
          "text": "Models"
         },
         "x": 1.02,
         "xanchor": "left",
         "y": 1.02,
         "yanchor": "top"
        },
        "margin": {
         "b": 50,
         "l": 50,
         "r": 200,
         "t": 100
        },
        "template": {
         "data": {
          "bar": [
           {
            "error_x": {
             "color": "#2a3f5f"
            },
            "error_y": {
             "color": "#2a3f5f"
            },
            "marker": {
             "line": {
              "color": "#E5ECF6",
              "width": 0.5
             },
             "pattern": {
              "fillmode": "overlay",
              "size": 10,
              "solidity": 0.2
             }
            },
            "type": "bar"
           }
          ],
          "barpolar": [
           {
            "marker": {
             "line": {
              "color": "#E5ECF6",
              "width": 0.5
             },
             "pattern": {
              "fillmode": "overlay",
              "size": 10,
              "solidity": 0.2
             }
            },
            "type": "barpolar"
           }
          ],
          "carpet": [
           {
            "aaxis": {
             "endlinecolor": "#2a3f5f",
             "gridcolor": "white",
             "linecolor": "white",
             "minorgridcolor": "white",
             "startlinecolor": "#2a3f5f"
            },
            "baxis": {
             "endlinecolor": "#2a3f5f",
             "gridcolor": "white",
             "linecolor": "white",
             "minorgridcolor": "white",
             "startlinecolor": "#2a3f5f"
            },
            "type": "carpet"
           }
          ],
          "choropleth": [
           {
            "colorbar": {
             "outlinewidth": 0,
             "ticks": ""
            },
            "type": "choropleth"
           }
          ],
          "contour": [
           {
            "colorbar": {
             "outlinewidth": 0,
             "ticks": ""
            },
            "colorscale": [
             [
              0,
              "#0d0887"
             ],
             [
              0.1111111111111111,
              "#46039f"
             ],
             [
              0.2222222222222222,
              "#7201a8"
             ],
             [
              0.3333333333333333,
              "#9c179e"
             ],
             [
              0.4444444444444444,
              "#bd3786"
             ],
             [
              0.5555555555555556,
              "#d8576b"
             ],
             [
              0.6666666666666666,
              "#ed7953"
             ],
             [
              0.7777777777777778,
              "#fb9f3a"
             ],
             [
              0.8888888888888888,
              "#fdca26"
             ],
             [
              1,
              "#f0f921"
             ]
            ],
            "type": "contour"
           }
          ],
          "contourcarpet": [
           {
            "colorbar": {
             "outlinewidth": 0,
             "ticks": ""
            },
            "type": "contourcarpet"
           }
          ],
          "heatmap": [
           {
            "colorbar": {
             "outlinewidth": 0,
             "ticks": ""
            },
            "colorscale": [
             [
              0,
              "#0d0887"
             ],
             [
              0.1111111111111111,
              "#46039f"
             ],
             [
              0.2222222222222222,
              "#7201a8"
             ],
             [
              0.3333333333333333,
              "#9c179e"
             ],
             [
              0.4444444444444444,
              "#bd3786"
             ],
             [
              0.5555555555555556,
              "#d8576b"
             ],
             [
              0.6666666666666666,
              "#ed7953"
             ],
             [
              0.7777777777777778,
              "#fb9f3a"
             ],
             [
              0.8888888888888888,
              "#fdca26"
             ],
             [
              1,
              "#f0f921"
             ]
            ],
            "type": "heatmap"
           }
          ],
          "histogram": [
           {
            "marker": {
             "pattern": {
              "fillmode": "overlay",
              "size": 10,
              "solidity": 0.2
             }
            },
            "type": "histogram"
           }
          ],
          "histogram2d": [
           {
            "colorbar": {
             "outlinewidth": 0,
             "ticks": ""
            },
            "colorscale": [
             [
              0,
              "#0d0887"
             ],
             [
              0.1111111111111111,
              "#46039f"
             ],
             [
              0.2222222222222222,
              "#7201a8"
             ],
             [
              0.3333333333333333,
              "#9c179e"
             ],
             [
              0.4444444444444444,
              "#bd3786"
             ],
             [
              0.5555555555555556,
              "#d8576b"
             ],
             [
              0.6666666666666666,
              "#ed7953"
             ],
             [
              0.7777777777777778,
              "#fb9f3a"
             ],
             [
              0.8888888888888888,
              "#fdca26"
             ],
             [
              1,
              "#f0f921"
             ]
            ],
            "type": "histogram2d"
           }
          ],
          "histogram2dcontour": [
           {
            "colorbar": {
             "outlinewidth": 0,
             "ticks": ""
            },
            "colorscale": [
             [
              0,
              "#0d0887"
             ],
             [
              0.1111111111111111,
              "#46039f"
             ],
             [
              0.2222222222222222,
              "#7201a8"
             ],
             [
              0.3333333333333333,
              "#9c179e"
             ],
             [
              0.4444444444444444,
              "#bd3786"
             ],
             [
              0.5555555555555556,
              "#d8576b"
             ],
             [
              0.6666666666666666,
              "#ed7953"
             ],
             [
              0.7777777777777778,
              "#fb9f3a"
             ],
             [
              0.8888888888888888,
              "#fdca26"
             ],
             [
              1,
              "#f0f921"
             ]
            ],
            "type": "histogram2dcontour"
           }
          ],
          "mesh3d": [
           {
            "colorbar": {
             "outlinewidth": 0,
             "ticks": ""
            },
            "type": "mesh3d"
           }
          ],
          "parcoords": [
           {
            "line": {
             "colorbar": {
              "outlinewidth": 0,
              "ticks": ""
             }
            },
            "type": "parcoords"
           }
          ],
          "pie": [
           {
            "automargin": true,
            "type": "pie"
           }
          ],
          "scatter": [
           {
            "fillpattern": {
             "fillmode": "overlay",
             "size": 10,
             "solidity": 0.2
            },
            "type": "scatter"
           }
          ],
          "scatter3d": [
           {
            "line": {
             "colorbar": {
              "outlinewidth": 0,
              "ticks": ""
             }
            },
            "marker": {
             "colorbar": {
              "outlinewidth": 0,
              "ticks": ""
             }
            },
            "type": "scatter3d"
           }
          ],
          "scattercarpet": [
           {
            "marker": {
             "colorbar": {
              "outlinewidth": 0,
              "ticks": ""
             }
            },
            "type": "scattercarpet"
           }
          ],
          "scattergeo": [
           {
            "marker": {
             "colorbar": {
              "outlinewidth": 0,
              "ticks": ""
             }
            },
            "type": "scattergeo"
           }
          ],
          "scattergl": [
           {
            "marker": {
             "colorbar": {
              "outlinewidth": 0,
              "ticks": ""
             }
            },
            "type": "scattergl"
           }
          ],
          "scattermap": [
           {
            "marker": {
             "colorbar": {
              "outlinewidth": 0,
              "ticks": ""
             }
            },
            "type": "scattermap"
           }
          ],
          "scattermapbox": [
           {
            "marker": {
             "colorbar": {
              "outlinewidth": 0,
              "ticks": ""
             }
            },
            "type": "scattermapbox"
           }
          ],
          "scatterpolar": [
           {
            "marker": {
             "colorbar": {
              "outlinewidth": 0,
              "ticks": ""
             }
            },
            "type": "scatterpolar"
           }
          ],
          "scatterpolargl": [
           {
            "marker": {
             "colorbar": {
              "outlinewidth": 0,
              "ticks": ""
             }
            },
            "type": "scatterpolargl"
           }
          ],
          "scatterternary": [
           {
            "marker": {
             "colorbar": {
              "outlinewidth": 0,
              "ticks": ""
             }
            },
            "type": "scatterternary"
           }
          ],
          "surface": [
           {
            "colorbar": {
             "outlinewidth": 0,
             "ticks": ""
            },
            "colorscale": [
             [
              0,
              "#0d0887"
             ],
             [
              0.1111111111111111,
              "#46039f"
             ],
             [
              0.2222222222222222,
              "#7201a8"
             ],
             [
              0.3333333333333333,
              "#9c179e"
             ],
             [
              0.4444444444444444,
              "#bd3786"
             ],
             [
              0.5555555555555556,
              "#d8576b"
             ],
             [
              0.6666666666666666,
              "#ed7953"
             ],
             [
              0.7777777777777778,
              "#fb9f3a"
             ],
             [
              0.8888888888888888,
              "#fdca26"
             ],
             [
              1,
              "#f0f921"
             ]
            ],
            "type": "surface"
           }
          ],
          "table": [
           {
            "cells": {
             "fill": {
              "color": "#EBF0F8"
             },
             "line": {
              "color": "white"
             }
            },
            "header": {
             "fill": {
              "color": "#C8D4E3"
             },
             "line": {
              "color": "white"
             }
            },
            "type": "table"
           }
          ]
         },
         "layout": {
          "annotationdefaults": {
           "arrowcolor": "#2a3f5f",
           "arrowhead": 0,
           "arrowwidth": 1
          },
          "autotypenumbers": "strict",
          "coloraxis": {
           "colorbar": {
            "outlinewidth": 0,
            "ticks": ""
           }
          },
          "colorscale": {
           "diverging": [
            [
             0,
             "#8e0152"
            ],
            [
             0.1,
             "#c51b7d"
            ],
            [
             0.2,
             "#de77ae"
            ],
            [
             0.3,
             "#f1b6da"
            ],
            [
             0.4,
             "#fde0ef"
            ],
            [
             0.5,
             "#f7f7f7"
            ],
            [
             0.6,
             "#e6f5d0"
            ],
            [
             0.7,
             "#b8e186"
            ],
            [
             0.8,
             "#7fbc41"
            ],
            [
             0.9,
             "#4d9221"
            ],
            [
             1,
             "#276419"
            ]
           ],
           "sequential": [
            [
             0,
             "#0d0887"
            ],
            [
             0.1111111111111111,
             "#46039f"
            ],
            [
             0.2222222222222222,
             "#7201a8"
            ],
            [
             0.3333333333333333,
             "#9c179e"
            ],
            [
             0.4444444444444444,
             "#bd3786"
            ],
            [
             0.5555555555555556,
             "#d8576b"
            ],
            [
             0.6666666666666666,
             "#ed7953"
            ],
            [
             0.7777777777777778,
             "#fb9f3a"
            ],
            [
             0.8888888888888888,
             "#fdca26"
            ],
            [
             1,
             "#f0f921"
            ]
           ],
           "sequentialminus": [
            [
             0,
             "#0d0887"
            ],
            [
             0.1111111111111111,
             "#46039f"
            ],
            [
             0.2222222222222222,
             "#7201a8"
            ],
            [
             0.3333333333333333,
             "#9c179e"
            ],
            [
             0.4444444444444444,
             "#bd3786"
            ],
            [
             0.5555555555555556,
             "#d8576b"
            ],
            [
             0.6666666666666666,
             "#ed7953"
            ],
            [
             0.7777777777777778,
             "#fb9f3a"
            ],
            [
             0.8888888888888888,
             "#fdca26"
            ],
            [
             1,
             "#f0f921"
            ]
           ]
          },
          "colorway": [
           "#636efa",
           "#EF553B",
           "#00cc96",
           "#ab63fa",
           "#FFA15A",
           "#19d3f3",
           "#FF6692",
           "#B6E880",
           "#FF97FF",
           "#FECB52"
          ],
          "font": {
           "color": "#2a3f5f"
          },
          "geo": {
           "bgcolor": "white",
           "lakecolor": "white",
           "landcolor": "#E5ECF6",
           "showlakes": true,
           "showland": true,
           "subunitcolor": "white"
          },
          "hoverlabel": {
           "align": "left"
          },
          "hovermode": "closest",
          "mapbox": {
           "style": "light"
          },
          "paper_bgcolor": "white",
          "plot_bgcolor": "#E5ECF6",
          "polar": {
           "angularaxis": {
            "gridcolor": "white",
            "linecolor": "white",
            "ticks": ""
           },
           "bgcolor": "#E5ECF6",
           "radialaxis": {
            "gridcolor": "white",
            "linecolor": "white",
            "ticks": ""
           }
          },
          "scene": {
           "xaxis": {
            "backgroundcolor": "#E5ECF6",
            "gridcolor": "white",
            "gridwidth": 2,
            "linecolor": "white",
            "showbackground": true,
            "ticks": "",
            "zerolinecolor": "white"
           },
           "yaxis": {
            "backgroundcolor": "#E5ECF6",
            "gridcolor": "white",
            "gridwidth": 2,
            "linecolor": "white",
            "showbackground": true,
            "ticks": "",
            "zerolinecolor": "white"
           },
           "zaxis": {
            "backgroundcolor": "#E5ECF6",
            "gridcolor": "white",
            "gridwidth": 2,
            "linecolor": "white",
            "showbackground": true,
            "ticks": "",
            "zerolinecolor": "white"
           }
          },
          "shapedefaults": {
           "line": {
            "color": "#2a3f5f"
           }
          },
          "ternary": {
           "aaxis": {
            "gridcolor": "white",
            "linecolor": "white",
            "ticks": ""
           },
           "baxis": {
            "gridcolor": "white",
            "linecolor": "white",
            "ticks": ""
           },
           "bgcolor": "#E5ECF6",
           "caxis": {
            "gridcolor": "white",
            "linecolor": "white",
            "ticks": ""
           }
          },
          "title": {
           "x": 0.05
          },
          "xaxis": {
           "automargin": true,
           "gridcolor": "white",
           "linecolor": "white",
           "ticks": "",
           "title": {
            "standoff": 15
           },
           "zerolinecolor": "white",
           "zerolinewidth": 2
          },
          "yaxis": {
           "automargin": true,
           "gridcolor": "white",
           "linecolor": "white",
           "ticks": "",
           "title": {
            "standoff": 15
           },
           "zerolinecolor": "white",
           "zerolinewidth": 2
          }
         }
        },
        "title": {
         "text": "Model Performance Comparison (Harness False) - Normalized Scores (1-10 Scale)",
         "x": 0.5
        },
        "width": 4750,
        "xaxis": {
         "title": {
          "text": "Game"
         }
        },
        "yaxis": {
         "range": [
          0,
          10.5
         ],
         "title": {
          "text": "Normalized Score (1-10)"
         }
        }
       }
      }
     },
     "metadata": {},
     "output_type": "display_data"
    }
   ],
   "source": [
    "\n",
    "import plotly.graph_objects as go\n",
    "import numpy as np\n",
    "import pandas as pd\n",
    "import json\n",
    "import requests # Make sure this is imported\n",
    "import random   # Make sure this is imported\n",
    "from typing import Dict, List, Optional\n",
    "\n",
    "# Assume 'final_updated_df' (the result of combine_and_update_averages)\n",
    "# and 'update_model_averages' (the result of convert_local_averages_to_dataframe)\n",
    "# are already defined in your notebook from previous steps.\n",
    "\n",
    "# --- Helper functions ---\n",
    "def hex_to_rgba(hex_color, alpha=0.2):\n",
    "    hex_color = hex_color.lstrip('#')\n",
    "    r = int(hex_color[0:2], 16)\n",
    "    g = int(hex_color[2:4], 16)\n",
    "    b = int(hex_color[4:6], 16)\n",
    "    return f'rgba({r}, {g}, {b}, {alpha})'\n",
    "\n",
    "def _normalize_scores(scores_series: pd.Series) -> pd.Series:\n",
    "    \"\"\"Normalizes a series of game scores to a 0-9 scale.\"\"\"\n",
    "    if scores_series.notna().sum() == 0:\n",
    "        return scores_series\n",
    "    valid_scores = scores_series.dropna()\n",
    "    if valid_scores.empty:\n",
    "        return scores_series\n",
    "    min_score = valid_scores.min()\n",
    "    max_score = valid_scores.max()\n",
    "    if max_score == min_score:\n",
    "        return scores_series.apply(lambda x: 0.0 if pd.notna(x) else np.nan)\n",
    "    else:\n",
    "        return scores_series.apply(\n",
    "            lambda x: ((x - min_score) / (max_score - min_score)) * 9 if pd.notna(x) else np.nan\n",
    "        )\n",
    "\n",
    "# --- Revised prepare_dataframe_for_plots ---\n",
    "def prepare_dataframe_for_plots(\n",
    "    source_df: pd.DataFrame,\n",
    "    selected_games_internal_names: List[str],\n",
    "    game_specific_configs: Dict,\n",
    "    harness_bool_to_use: bool\n",
    ") -> pd.DataFrame:\n",
    "    if source_df.empty:\n",
    "        print(\"Input source_df is empty. Cannot prepare for plots.\")\n",
    "        return pd.DataFrame()\n",
    "    required_cols = ['model_name', 'harness', 'game_name', 'avg_score_from_rank']\n",
    "    if not all(col in source_df.columns for col in required_cols):\n",
    "        print(f\"Error: source_df is missing one or more required columns: {required_cols}\")\n",
    "        return pd.DataFrame()\n",
    "    df_filtered_by_harness = source_df[source_df['harness'] == harness_bool_to_use].copy()\n",
    "    if df_filtered_by_harness.empty:\n",
    "        print(f\"Warning: No data found in source_df for harness={harness_bool_to_use}.\")\n",
    "        return pd.DataFrame()\n",
    "    try:\n",
    "        df_pivot = df_filtered_by_harness.pivot_table(\n",
    "            index='model_name', columns='game_name', values='avg_score_from_rank'\n",
    "        ).reset_index().rename(columns={'model_name': 'Player'})\n",
    "    except Exception as e:\n",
    "        print(f\"Error during pivoting: {e}\")\n",
    "        return pd.DataFrame()\n",
    "    if df_pivot.empty:\n",
    "        print(f\"Pivoted DataFrame is empty for harness={harness_bool_to_use}.\")\n",
    "        return pd.DataFrame()\n",
    "    plot_data_renamed = {'Player': df_pivot['Player']}\n",
    "    has_any_selected_game_data = False\n",
    "    for game_name_internal in selected_games_internal_names:\n",
    "        display_game_name = game_specific_configs.get(game_name_internal, {}).get(\"display_name\", game_name_internal)\n",
    "        plot_col_name = f\"{display_game_name} Score\"\n",
    "        if game_name_internal in df_pivot.columns:\n",
    "            plot_data_renamed[plot_col_name] = df_pivot[game_name_internal]\n",
    "            has_any_selected_game_data = True\n",
    "        else:\n",
    "            plot_data_renamed[plot_col_name] = np.nan\n",
    "    if not has_any_selected_game_data:\n",
    "        print(f\"No data for selected games for harness={harness_bool_to_use} after pivot and rename.\")\n",
    "        return pd.DataFrame()\n",
    "    df_plot_ready = pd.DataFrame(plot_data_renamed)\n",
    "    for game_name_internal_for_norm in selected_games_internal_names:\n",
    "        display_game_name_for_norm = game_specific_configs.get(game_name_internal_for_norm, {}).get(\"display_name\", game_name_internal_for_norm)\n",
    "        score_col_to_normalize = f\"{display_game_name_for_norm} Score\"\n",
    "        if score_col_to_normalize in df_plot_ready.columns:\n",
    "            df_plot_ready[score_col_to_normalize] = _normalize_scores(df_plot_ready[score_col_to_normalize])\n",
    "            df_plot_ready[score_col_to_normalize] = df_plot_ready[score_col_to_normalize].apply(lambda x: x + 1 if pd.notna(x) else np.nan)\n",
    "    ordered_display_score_cols = [f\"{game_specific_configs.get(g, {}).get('display_name', g)} Score\" for g in selected_games_internal_names]\n",
    "    final_ordered_column_names = ['Player'] + [col for col in ordered_display_score_cols if col in df_plot_ready.columns]\n",
    "    df_plot_ready = df_plot_ready.reindex(columns=final_ordered_column_names)\n",
    "    return df_plot_ready\n",
    "\n",
    "# --- Radar Chart Function ---\n",
    "def create_comparison_radar_chart(\n",
    "    df: pd.DataFrame, model_colors: Dict, selected_games_display_names: List[str],\n",
    "    harness_status_str_for_title: str, highlight_models: Optional[List[str]] = None\n",
    ") -> go.Figure:\n",
    "    df_plot = df.copy()\n",
    "    if df_plot.empty: return go.Figure().update_layout(title_text=f\"No data for Radar Chart ({harness_status_str_for_title})\")\n",
    "    game_score_cols = [f\"{name} Score\" for name in selected_games_display_names if f\"{name} Score\" in df_plot.columns]\n",
    "    if not game_score_cols: return go.Figure().update_layout(title_text=f\"No game score columns for Radar Chart ({harness_status_str_for_title})\")\n",
    "    categories = [col.replace(\" Score\", \"\") for col in game_score_cols]\n",
    "    for col in game_score_cols: df_plot[col] = df_plot[col].fillna(1)\n",
    "    y_axis_title = \"Normalized Score (1-10)\"; radial_axis_range = [1, 10]; fig = go.Figure()\n",
    "    if 'Player' not in df_plot.columns: print(\"Error: 'Player' column not found for radar chart.\"); return fig\n",
    "    sorted_players = sorted(df_plot['Player'].unique())\n",
    "    for player in sorted_players:\n",
    "        player_row_df = df_plot[df_plot['Player'] == player]\n",
    "        if player_row_df.empty: continue\n",
    "        player_row = player_row_df.iloc[0]\n",
    "        r_values = [player_row.get(data_col, 1) for data_col in game_score_cols] # Default to 1 if somehow still missing\n",
    "        r_values = [val if pd.notna(val) else 1 for val in r_values]\n",
    "        is_highlighted = highlight_models and player in highlight_models\n",
    "        model_color_hex = model_colors.get(player, '#808080')\n",
    "        if not isinstance(model_color_hex, str) or not model_color_hex.startswith('#'): model_color_hex = '#808080'\n",
    "        line_props = dict(color='red',width=3) if is_highlighted else dict(color=model_color_hex,width=1.5)\n",
    "        marker_props = dict(color='red',size=8,line=dict(color='darkred',width=2)) if is_highlighted else dict(color=model_color_hex,size=4,line=dict(color='#B0B0B0',width=1))\n",
    "        fill_color = 'rgba(255,0,0,0.4)' if is_highlighted else hex_to_rgba(model_color_hex,0.2)\n",
    "        opacity = 0.9 if is_highlighted else 0.7\n",
    "        fig.add_trace(go.Scatterpolar(r=r_values+[r_values[0]], theta=categories+[categories[0]], mode='lines+markers', name=player, line=line_props, marker=marker_props, fill='toself', fillcolor=fill_color, opacity=opacity, hovertemplate=f'<b>{player}</b><br>Game: %{{theta}}<br>{y_axis_title}: %{{r:.2f}} <extra></extra>'))\n",
    "    fig.update_layout(title_text=f'Model Performance Radar ({harness_status_str_for_title}) - Normalized Scores (1-10 Scale)', title_x=0.5, polar=dict(radialaxis=dict(visible=True,range=radial_axis_range,gridcolor='lightgray',tickvals=list(range(1,11)),tickformat=\".0f\"), angularaxis=dict(tickfont=dict(size=10),gridcolor='lightgray')), legend=dict(title=\"Models\",orientation=\"v\",yanchor=\"top\",y=1.02,xanchor=\"left\",x=1.05),width=800,height=600,margin=dict(l=100,r=200,t=100,b=50))\n",
    "    return fig\n",
    "\n",
    "# --- Bar Chart Function ---\n",
    "def create_comparison_bar_chart(\n",
    "    df: pd.DataFrame, model_colors: Dict, selected_games_display_names: List[str],\n",
    "    harness_status_str_for_title: str, highlight_models: Optional[List[str]] = None\n",
    ") -> go.Figure:\n",
    "    df_plot = df.copy()\n",
    "    if df_plot.empty: return go.Figure().update_layout(title_text=f\"No data for Bar Chart ({harness_status_str_for_title})\")\n",
    "    y_axis_title=\"Normalized Score (1-10)\"; score_cols_to_use=[]; x_categories=[]\n",
    "    for name in selected_games_display_names:\n",
    "        data_col=f\"{name} Score\"\n",
    "        if data_col in df_plot.columns: df_plot[data_col]=df_plot[data_col].fillna(1); score_cols_to_use.append(data_col); x_categories.append(name)\n",
    "    if not score_cols_to_use: return go.Figure().update_layout(title_text=f\"No valid game columns for Bar Chart ({harness_status_str_for_title})\")\n",
    "    fig=go.Figure()\n",
    "    if 'Player' not in df_plot.columns: print(\"Error: 'Player' column not found for bar chart.\"); return fig\n",
    "    sorted_players = sorted(df_plot['Player'].unique())\n",
    "    for player_name in sorted_players:\n",
    "        player_row_df = df_plot[df_plot['Player'] == player_name]\n",
    "        if player_row_df.empty: continue\n",
    "        player_row = player_row_df.iloc[0]\n",
    "        y_values = [player_row.get(col, 1) for col in score_cols_to_use] # Default to 1\n",
    "        y_values = [val if pd.notna(val) else 1 for val in y_values]\n",
    "        model_color_hex = model_colors.get(player_name, '#808080')\n",
    "        if not isinstance(model_color_hex, str) or not model_color_hex.startswith('#'): model_color_hex = '#808080'\n",
    "        is_highlighted = highlight_models and player_name in highlight_models\n",
    "        opacity=1.0 if is_highlighted else 0.7; line_width=2 if is_highlighted else 0\n",
    "        fig.add_trace(go.Bar(name=player_name,x=x_categories,y=y_values,marker_color=model_color_hex,opacity=opacity,marker_line_width=line_width,marker_line_color='red' if is_highlighted else '#333333',hovertemplate=f'<b>{player_name}</b><br>Game: %{{x}}<br>{y_axis_title}: %{{y:.2f}} <extra></extra>'))\n",
    "    fig.update_layout(barmode='group',title_text=f'Model Performance Comparison ({harness_status_str_for_title}) - Normalized Scores (1-10 Scale)',title_x=0.5,xaxis_title=\"Game\",yaxis_title=y_axis_title,legend_title_text='Models',legend=dict(orientation=\"v\",yanchor=\"top\",y=1.02,xanchor=\"left\",x=1.02),width=max(800,150*len(x_categories)*min(5,df_plot['Player'].nunique() if 'Player' in df_plot else 1)+250),height=600,margin=dict(l=50,r=200,t=100,b=50))\n",
    "    fig.update_yaxes(range=[0,10.5])\n",
    "    return fig\n",
    "\n",
    "# --- Configuration for Plotting ---\n",
    "model_colors_for_plots = {}\n",
    "used_colors_from_json = set()\n",
    "\n",
    "print(f\"Attempting to load model colors from URL: {MODEL_COLORS_URL}\")\n",
    "try:\n",
    "    response = requests.get(MODEL_COLORS_URL)\n",
    "    response.raise_for_status()\n",
    "    model_colors_from_url = response.json()\n",
    "    model_colors_for_plots.update(model_colors_from_url)\n",
    "    used_colors_from_json.update(model_colors_from_url.values())\n",
    "    print(f\"Successfully loaded model colors from URL. {len(model_colors_for_plots)} colors loaded.\")\n",
    "except requests.exceptions.RequestException as e:\n",
    "    print(f\"Warning: Could not download model colors from {MODEL_COLORS_URL}. Exception: {e}. Will use random colors for all models.\")\n",
    "except json.JSONDecodeError as e:\n",
    "    print(f\"Warning: Could not parse JSON from model colors URL. Exception: {e}. Will use random colors for all models.\")\n",
    "except Exception as e:\n",
    "    print(f\"An unexpected error occurred while fetching or loading model colors: {e}. Will use random colors for all models.\")\n",
    "\n",
    "def get_random_color(existing_colors_hex: set) -> str:\n",
    "    \"\"\"Generates a random hex color string, trying to avoid existing ones.\"\"\"\n",
    "    attempts = 0\n",
    "    while attempts < 100: # Try a few times to find a unique color\n",
    "        r = random.randint(0, 255)\n",
    "        g = random.randint(0, 255)\n",
    "        b = random.randint(0, 255)\n",
    "        hex_color = f'#{r:02x}{g:02x}{b:02x}'\n",
    "        if hex_color not in existing_colors_hex:\n",
    "            return hex_color\n",
    "        attempts += 1\n",
    "    return f'#{random.randint(0,255):02x}{random.randint(0,255):02x}{random.randint(0,255):02x}' # Fallback if unique not found quickly\n",
    "\n",
    "SELECTED_GAMES_INTERNAL = ['sokoban', 'super_mario_bros', 'tetris', 'twenty_forty_eight', 'candy_crush', 'ace_attorney']\n",
    "GAME_SPECIFIC_CONFIGS_FOR_PLOTS = {\n",
    "    \"sokoban\": {\"display_name\": \"Sokoban\"}, \"super_mario_bros\": {\"display_name\": \"Super Mario\"},\n",
    "    \"tetris\": {\"display_name\": \"Tetris\"}, \"twenty_forty_eight\": {\"display_name\": \"2048\"},\n",
    "    \"candy_crush\": {\"display_name\": \"Candy Crush\"}, \"ace_attorney\": {\"display_name\": \"Ace Attorney\"}\n",
    "}\n",
    "selected_games_display_names_for_plot_title = [GAME_SPECIFIC_CONFIGS_FOR_PLOTS.get(g, {}).get(\"display_name\", g) for g in SELECTED_GAMES_INTERNAL]\n",
    "\n",
    "models_to_highlight = []\n",
    "if 'update_model_averages' in locals() and isinstance(update_model_averages, pd.DataFrame) and not update_model_averages.empty:\n",
    "    if 'model_name' in update_model_averages.columns:\n",
    "        models_to_highlight = update_model_averages['model_name'].unique().tolist()\n",
    "        print(f\"Models to highlight (from 'update_model_averages' DataFrame): {models_to_highlight}\")\n",
    "    else: print(\"Warning: 'model_name' column not found in 'update_model_averages'. No models will be highlighted.\")\n",
    "elif 'update_model_averages' not in locals(): print(\"Warning: 'update_model_averages' DataFrame not found. No models will be highlighted.\")\n",
    "else: print(\"Warning: 'update_model_averages' DataFrame is empty. No models will be highlighted.\")\n",
    "\n",
    "# --- Generate and Show Plots ---\n",
    "if 'final_updated_df' in locals() and isinstance(final_updated_df, pd.DataFrame) and not final_updated_df.empty:\n",
    "    all_models_in_data = final_updated_df['model_name'].unique()\n",
    "    for model_name_from_data in all_models_in_data:\n",
    "        if model_name_from_data not in model_colors_for_plots:\n",
    "            new_color = get_random_color(used_colors_from_json)\n",
    "            model_colors_for_plots[model_name_from_data] = new_color\n",
    "            used_colors_from_json.add(new_color)\n",
    "            # print(f\"Assigned random color {new_color} to model '{model_name_from_data}'\") # Optional: for debugging\n",
    "\n",
    "    for harness_boolean_val, harness_title_str in [(True, \"Harness True\"), (False, \"Harness False\")]:\n",
    "        print(f\"\\n--- Generating plots for {harness_title_str} ---\")\n",
    "        df_for_plotting = prepare_dataframe_for_plots(\n",
    "            source_df=final_updated_df, selected_games_internal_names=SELECTED_GAMES_INTERNAL,\n",
    "            game_specific_configs=GAME_SPECIFIC_CONFIGS_FOR_PLOTS, harness_bool_to_use=harness_boolean_val\n",
    "        )\n",
    "        if df_for_plotting.empty: print(f\"No data to plot for {harness_title_str}. Skipping.\"); continue\n",
    "        \n",
    "        fig_radar = create_comparison_radar_chart(\n",
    "            df=df_for_plotting, model_colors=model_colors_for_plots,\n",
    "            selected_games_display_names=selected_games_display_names_for_plot_title,\n",
    "            harness_status_str_for_title=harness_title_str, highlight_models=models_to_highlight)\n",
    "        print(f\"Displaying Radar Chart for {harness_title_str}:\")\n",
    "        fig_radar.show()\n",
    "\n",
    "        fig_bar = create_comparison_bar_chart(\n",
    "            df=df_for_plotting, model_colors=model_colors_for_plots,\n",
    "            selected_games_display_names=selected_games_display_names_for_plot_title,\n",
    "            harness_status_str_for_title=harness_title_str, highlight_models=models_to_highlight)\n",
    "        print(f\"Displaying Bar Chart for {harness_title_str}:\")\n",
    "        fig_bar.show()\n",
    "elif 'final_updated_df' not in locals(): print(\"\\n'final_updated_df' variable not found. Cannot generate plots.\")\n",
    "else: print(\"\\n'final_updated_df' is empty. Cannot generate plots.\")\n"
   ]
  },
  {
   "cell_type": "markdown",
   "metadata": {},
   "source": [
    "## Game Performance Analysis\n",
    "1. Polynomial model for our benchmark\n",
    "2. Correlation map between our benchmark and existing benchmarks"
   ]
  },
  {
   "cell_type": "markdown",
   "metadata": {},
   "source": [
    "### Polynomial Model\n",
    "1. run polynomial model\n",
    "2. visualize weight features"
   ]
  },
  {
   "cell_type": "code",
   "execution_count": 5,
   "metadata": {},
   "outputs": [
    {
     "name": "stdout",
     "output_type": "stream",
     "text": [
      "--- Running Polynomial Analysis for (up to) 8 models matching other_task_rank.json ---\n",
      "Results saved to polynomial_model_results.json\n",
      "\n",
      "--- Polynomial Analysis (Matched Models, Harness True, Degree 1) - Example Result ---\n",
      "Results for Game: ace_attorney, R_Combination: Comb1_KnowPuzVisMathCode, Entry: harness_true_deg1\n",
      "Evaluation: {\n",
      "  \"avg_residual_error\": 0.862762061062046,\n",
      "  \"avg_pearson_r\": 0.8369871409573059\n",
      "}\n"
     ]
    }
   ],
   "source": [
    "### Run Polynomial Model\n",
    "import numpy as np\n",
    "import json\n",
    "import requests\n",
    "import pandas as pd\n",
    "from itertools import product\n",
    "import os\n",
    "import random # Not strictly used in the provided snippets but often useful\n",
    "from scipy.stats import rankdata\n",
    "from sklearn.preprocessing import PolynomialFeatures\n",
    "\n",
    "# Constants\n",
    "DEFAULT_MODELS_FOR_OTHER_TASKS = [\n",
    "    \"claude-3-5-sonnet-20241022\",\n",
    "    \"claude-3-7-sonnet-20250219 (thinking)\",\n",
    "    \"gemini-2.5-pro-preview-05-06\",\n",
    "    \"llama-4-maverick-17b-128e-instruct-fp8\",\n",
    "    \"gpt-4o-2024-11-20\",\n",
    "    \"o1-2024-12-17\",\n",
    "    \"o3-2025-04-16\",\n",
    "    \"o4-mini-2025-04-16\"\n",
    "]\n",
    "\n",
    "\n",
    "\n",
    "# --- Helper Functions ---\n",
    "\n",
    "def build_batches(rank_matrices):\n",
    "    batches = []\n",
    "    valid_matrices = [m for m in rank_matrices if isinstance(m, np.ndarray) and m.shape[0] > 0]\n",
    "    if len(valid_matrices) != len(rank_matrices):\n",
    "        print(\"Warning: Invalid/empty rank matrices for build_batches. Using valid ones.\")\n",
    "        if not valid_matrices: return []\n",
    "        rank_matrices = valid_matrices\n",
    "    for row_idxs in product(*(range(m.shape[0]) for m in rank_matrices)):\n",
    "        batches.append(np.stack([m[i] for m, i in zip(rank_matrices, row_idxs)], axis=0).T)\n",
    "    return batches\n",
    "\n",
    "class RankingPredictor:\n",
    "    def __init__(self, degree: int, lr: float = 1e-4, epochs: int = 1000, shuffle: bool = True, scale: float = 8.0):\n",
    "        self.degree, self.lr, self.epochs, self.shuffle, self.scale = degree, lr, epochs, shuffle, scale\n",
    "        self._phi = PolynomialFeatures(degree=degree, include_bias=True)\n",
    "        self._w = None\n",
    "    def _transform(self, R, fit=False): return self._phi.fit_transform(R / self.scale) if fit else self._phi.transform(R / self.scale)\n",
    "    def fit(self, R_list, G_list):\n",
    "        if not isinstance(R_list, (list, tuple)): R_list, G_list = [R_list], [G_list]\n",
    "        valid_indices = [i for i, r_matrix in enumerate(R_list) if r_matrix.shape[0] > 0]\n",
    "        if not valid_indices:\n",
    "            print(\"Error: All R matrices in R_list are empty. Cannot fit PolynomialFeatures.\")\n",
    "            self._w = np.zeros(1) \n",
    "            return\n",
    "        R_list_filtered = [R_list[i] for i in valid_indices]\n",
    "        G_list_filtered = [G_list[i] for i in valid_indices]\n",
    "        if not R_list_filtered:\n",
    "            print(\"Error: R_list_filtered is empty after checking individual matrices. Cannot fit.\")\n",
    "            self._w = np.zeros(1)\n",
    "            return\n",
    "        X_list = [self._transform(R_list_filtered[0], fit=True)] + \\\n",
    "                 [self._transform(R) for R in R_list_filtered[1:]]\n",
    "        self._w = np.zeros(X_list[0].shape[1])\n",
    "        for _ in range(self.epochs):\n",
    "            order = np.random.permutation(len(X_list)) if self.shuffle else range(len(X_list))\n",
    "            for i in order:\n",
    "                X, G = X_list[i], G_list_filtered[i]\n",
    "                if X.shape[0] == 0: continue \n",
    "                self._w -= self.lr * (2.0 * X.T @ (X @ self._w - G))\n",
    "                self._w = np.maximum(self._w, 0.0)\n",
    "    def predict(self, R):\n",
    "        if self._w is None: raise ValueError(\"Predictor not fitted.\")\n",
    "        if R.shape[0] == 0: return np.array([])\n",
    "        return self._transform(R) @ self._w\n",
    "    def evaluate(self, R, G, norm_type='L2', normalization='mean'):\n",
    "        if R.shape[0] == 0 or G.shape[0] == 0: \n",
    "            return (np.nan, 0.0) if self.degree == 1 else np.nan\n",
    "        pred = self.predict(R)\n",
    "        if pred.shape[0] == 0 : \n",
    "             return (np.nan, 0.0) if self.degree == 1 else np.nan\n",
    "        min_len = min(len(pred), len(G))\n",
    "        pred = pred[:min_len]\n",
    "        G = G[:min_len]\n",
    "        if min_len == 0: \n",
    "            return (np.nan, 0.0) if self.degree == 1 else np.nan\n",
    "        if norm_type == 'L1': res = np.sum(np.abs(pred - G))\n",
    "        elif norm_type == 'Linf': res = np.max(np.abs(pred - G))\n",
    "        elif norm_type == 'L0.5': res = np.sum(np.abs(pred - G) ** 0.5) ** 2\n",
    "        else: res = np.linalg.norm(pred - G, ord=2)\n",
    "        eps = np.finfo(float).eps\n",
    "        if normalization == 'mean': factor = np.mean(G) + eps if len(G) > 0 else eps\n",
    "        elif normalization == 'max': factor = np.max(G) + eps if len(G) > 0 else eps\n",
    "        elif normalization == 'std': factor = np.std(G) + eps if len(G) > 1 else eps\n",
    "        elif normalization == 'range': factor = (np.max(G) - np.min(G)) + eps if len(G) > 0 else eps\n",
    "        else: factor = 1\n",
    "        norm_res = res / factor if factor != 0 else res \n",
    "        if self.degree == 1:\n",
    "            if len(pred) < 2 or len(G) < 2: r = np.nan\n",
    "            else:\n",
    "                pred_std, G_std = np.std(pred) + eps, np.std(G) + eps\n",
    "                r = 0.0 if pred_std * G_std == 0 else np.clip(np.corrcoef(pred, G)[0, 1], -1.0, 1.0)\n",
    "            return norm_res, r\n",
    "        return norm_res\n",
    "\n",
    "class NpEncoder(json.JSONEncoder):\n",
    "    def default(self, obj):\n",
    "        if isinstance(obj, np.integer): return int(obj)\n",
    "        if isinstance(obj, np.floating): return float(obj)\n",
    "        if isinstance(obj, np.ndarray): return obj.tolist()\n",
    "        return super(NpEncoder, self).default(obj)\n",
    "\n",
    "def _save_json(data, file_path):\n",
    "    try:\n",
    "        dir_name = os.path.dirname(file_path)\n",
    "        if dir_name:\n",
    "            os.makedirs(dir_name, exist_ok=True)\n",
    "        with open(file_path, 'w') as f:\n",
    "            json.dump(data, f, indent=2, cls=NpEncoder) \n",
    "        print(f\"Results saved to {file_path}\")\n",
    "    except Exception as e:\n",
    "        print(f\"Error saving JSON to {file_path}: {e}\")\n",
    "\n",
    "def _scores_to_ranks(scores_list, higher_is_better=True):\n",
    "    s = np.array(scores_list, dtype=float); m = np.isnan(s)\n",
    "    s[m] = -np.inf if higher_is_better else np.inf\n",
    "    if np.all(np.isinf(s)) or np.all(np.isnan(s)) or len(s[~np.isinf(s) & ~np.isnan(s)]) == 0 :\n",
    "        return np.full(len(s), np.nan)\n",
    "    ranks = rankdata(-s if higher_is_better else s, method='average')\n",
    "    return ranks\n",
    "\n",
    "def _get_ranks_for_game(game_name, model_names, model_perf_data, harness_status_str):\n",
    "    scores = []\n",
    "    for model_name in model_names:\n",
    "        try:\n",
    "            harness_key = harness_status_str\n",
    "            game_scores = model_perf_data.get(model_name, {}).get(harness_key, {}).get(game_name, [])\n",
    "            numeric_scores = [s for s in game_scores if isinstance(s, (int, float)) and pd.notna(s)]\n",
    "            scores.append(np.mean(numeric_scores) if numeric_scores else np.nan)\n",
    "        except Exception as e:\n",
    "            scores.append(np.nan)\n",
    "    raw_ranks = _scores_to_ranks(scores, higher_is_better=True)\n",
    "    return raw_ranks\n",
    "\n",
    "def load_other_task_ranks_from_url(url, model_names_list_for_matching):\n",
    "    try:\n",
    "        response = requests.get(url)\n",
    "        response.raise_for_status()\n",
    "        data = response.json()\n",
    "    except requests.exceptions.RequestException as e:\n",
    "        print(f\"Error fetching other_task_rank.json from {url}: {e}\")\n",
    "        return {}\n",
    "    except json.JSONDecodeError as e:\n",
    "        print(f\"Error decoding JSON from {url}: {e}\")\n",
    "        return {}\n",
    "    num_m_expected = len(model_names_list_for_matching)\n",
    "    if num_m_expected == 0:\n",
    "        print(\"Warning: model_names_list_for_matching is empty in load_other_task_ranks_from_url.\")\n",
    "        return {}\n",
    "    if not data: return {}\n",
    "    processed_ranks = {}\n",
    "    for category, rank_vectors in data.items():\n",
    "        if not isinstance(rank_vectors, list): continue\n",
    "        valid_category_vectors = []\n",
    "        for single_rank_vector in rank_vectors:\n",
    "            if isinstance(single_rank_vector, list) and len(single_rank_vector) == num_m_expected:\n",
    "                try:\n",
    "                    valid_category_vectors.append([float(x) for x in single_rank_vector])\n",
    "                except (ValueError, TypeError): pass\n",
    "        if valid_category_vectors:\n",
    "            processed_ranks[category] = np.array(valid_category_vectors, dtype=float)\n",
    "    if not processed_ranks:\n",
    "        print(f\"Warning: No categories from {url} had rank vectors matching {num_m_expected} models.\")\n",
    "    return processed_ranks\n",
    "\n",
    "def prepare_model_perf_data_from_df(df_input):\n",
    "    model_perf_data = {}\n",
    "    for _, row in df_input.iterrows():\n",
    "        model_name = row['model_name']\n",
    "        harness_status = bool(row['harness']) \n",
    "        game_name = row['game_name']\n",
    "        score = row['avg_score_from_rank'] \n",
    "        harness_key = 'harness_true' if harness_status else 'harness_false'\n",
    "        model_perf_data.setdefault(model_name, {})\n",
    "        model_perf_data[model_name].setdefault(harness_key, {})\n",
    "        model_perf_data[model_name][harness_key].setdefault(game_name, [])\n",
    "        if pd.notna(score):\n",
    "            model_perf_data[model_name][harness_key][game_name].append(float(score))\n",
    "        else:\n",
    "             model_perf_data[model_name][harness_key][game_name].append(np.nan)\n",
    "    return model_perf_data\n",
    "\n",
    "# --- Main Polynomial Analysis Function ---\n",
    "def run_polynomial_analysis_notebook(\n",
    "    final_df,\n",
    "    model_order_for_analysis: list | None = None,\n",
    "    other_task_rank_url: str = OTHER_TASK_RANK_URL,\n",
    "    target_game_for_G: str | None = None,\n",
    "    target_games_list_for_G: list[str] | None = None,\n",
    "    harness_status_for_G: str = \"harness_true\",\n",
    "    poly_degree: int = 1,\n",
    "    learning_rate: float = 5e-3,\n",
    "    epochs_multiplier: int = 1,\n",
    "    force_update_results: bool = False,\n",
    "    polynomial_model_results_output_path: str = POLYNOMIAL_MODEL_RESULTS_JSON_PATH\n",
    "):\n",
    "    working_df = final_df.copy()\n",
    "    \n",
    "    if model_order_for_analysis:\n",
    "        # print(f\"Using specified model order for analysis: {model_order_for_analysis}\")\n",
    "        working_df = working_df[working_df['model_name'].isin(model_order_for_analysis)].copy()\n",
    "        models_in_df = working_df['model_name'].unique()\n",
    "        missing_models = [m for m in model_order_for_analysis if m not in models_in_df]\n",
    "        # if missing_models:\n",
    "            # print(f\"Warning: Models in 'model_order_for_analysis' not in 'final_df': {missing_models}\")\n",
    "        current_model_order = model_order_for_analysis\n",
    "    else:\n",
    "        current_model_order = sorted(list(working_df['model_name'].unique()))\n",
    "        # print(f\"Using all unique models from final_df for analysis: {current_model_order}\")\n",
    "\n",
    "    if not current_model_order:\n",
    "        print(\"Error: No models selected for analysis. Exiting.\")\n",
    "        return None\n",
    "\n",
    "    all_model_perf_data = prepare_model_perf_data_from_df(working_df)\n",
    "    all_other_task_ranks = load_other_task_ranks_from_url(other_task_rank_url, current_model_order)\n",
    "\n",
    "    all_polynomial_results = {}\n",
    "    if os.path.exists(polynomial_model_results_output_path) and not force_update_results:\n",
    "        try:\n",
    "            with open(polynomial_model_results_output_path, 'r') as f: all_polynomial_results = json.load(f)\n",
    "        except Exception as e:\n",
    "            all_polynomial_results = {}\n",
    "\n",
    "    if not all_model_perf_data:\n",
    "        print(\"Error: Model performance data is empty. Exiting analysis.\")\n",
    "        return None\n",
    "    if not all_other_task_ranks:\n",
    "        print(\"Error: Other task ranks data is empty. Exiting analysis.\")\n",
    "        return None\n",
    "\n",
    "    target_games_to_process = []\n",
    "    if target_games_list_for_G:\n",
    "        target_games_to_process = target_games_list_for_G\n",
    "    elif target_game_for_G:\n",
    "        target_games_to_process = [target_game_for_G]\n",
    "    else:\n",
    "        available_games = set()\n",
    "        for model_name in all_model_perf_data:\n",
    "            if harness_status_for_G in all_model_perf_data.get(model_name, {}):\n",
    "                available_games.update(all_model_perf_data[model_name][harness_status_for_G].keys())\n",
    "        if not available_games:\n",
    "            print(f\"No games for harness '{harness_status_for_G}'. Exiting.\")\n",
    "            return None\n",
    "        target_games_to_process = sorted(list(available_games))\n",
    "\n",
    "    # Specific category combinations as requested\n",
    "    category_combinations = [\n",
    "        {\"name\": \"Comb1_KnowPuzVisMathCode\", \"keys\": [\"knowledge\", \"puzzle\", \"visual\", \"math\", \"coding\"]},\n",
    "        {\"name\": \"Comb2_KnowVisMathCode\", \"keys\": [\"knowledge\", \"visual\", \"math\", \"coding\"]},\n",
    "        {\"name\": \"Comb3_LangPhyVisMathCode\", \"keys\": [\"language\", \"physics\", \"visual\", \"math\", \"coding\"]},\n",
    "        {\"name\": \"Comb4_KnowMathCode\", \"keys\": [\"knowledge\", \"math\", \"coding\"]}\n",
    "    ]\n",
    "\n",
    "    valid_category_combinations = []\n",
    "    for comb in category_combinations:\n",
    "        if comb[\"keys\"] and all(key in all_other_task_ranks for key in comb[\"keys\"]):\n",
    "            valid_category_combinations.append(comb)\n",
    "    category_combinations = valid_category_combinations\n",
    "    if not category_combinations:\n",
    "        print(\"Error: No valid R category combinations. Check 'all_other_task_ranks'. Exiting.\")\n",
    "        return None\n",
    "\n",
    "    newly_computed_results = False\n",
    "    for target_game_name_for_G_loop in target_games_to_process:\n",
    "        G_current_ranks_float = _get_ranks_for_game(target_game_name_for_G_loop, current_model_order, all_model_perf_data, harness_status_for_G)\n",
    "\n",
    "        if G_current_ranks_float is None or len(G_current_ranks_float) != len(current_model_order):\n",
    "            print(f\"Error: G ranks for '{target_game_name_for_G_loop}'. Skipping.\"); continue\n",
    "        \n",
    "        valid_g_indices = ~np.isnan(G_current_ranks_float)\n",
    "        if not np.any(valid_g_indices): continue\n",
    "\n",
    "        G_final_for_fit = G_current_ranks_float[valid_g_indices].astype(int)\n",
    "        models_for_this_G_fit = [current_model_order[i] for i, is_valid in enumerate(valid_g_indices) if is_valid]\n",
    "        \n",
    "        all_polynomial_results.setdefault(target_game_name_for_G_loop, {})\n",
    "\n",
    "        for comb_info in category_combinations:\n",
    "            comb_name, comb_keys = comb_info[\"name\"], comb_info[\"keys\"]\n",
    "            \n",
    "            existing_entry_key = f\"{harness_status_for_G}_deg{poly_degree}\"\n",
    "            skip_computation = False\n",
    "            if not force_update_results and \\\n",
    "               target_game_name_for_G_loop in all_polynomial_results and \\\n",
    "               comb_name in all_polynomial_results[target_game_name_for_G_loop] and \\\n",
    "               existing_entry_key in all_polynomial_results[target_game_name_for_G_loop][comb_name]:\n",
    "                existing_config = all_polynomial_results[target_game_name_for_G_loop][comb_name][existing_entry_key].get(\"config\", {})\n",
    "                if existing_config.get(\"poly_degree\") == poly_degree and \\\n",
    "                   existing_config.get(\"learning_rate\") == learning_rate and \\\n",
    "                   existing_config.get(\"epochs_multiplier\") == epochs_multiplier and \\\n",
    "                   existing_config.get(\"model_order_used\") == models_for_this_G_fit and \\\n",
    "                   set(existing_config.get(\"R_categories_used\", [])) == set(comb_keys):\n",
    "                    skip_computation = True\n",
    "            \n",
    "            if skip_computation: continue\n",
    "            newly_computed_results = True\n",
    "            \n",
    "            R_sources_unfiltered_for_comb = [all_other_task_ranks[k] for k in comb_keys if k in all_other_task_ranks]\n",
    "            if len(R_sources_unfiltered_for_comb) != len(comb_keys): continue\n",
    "\n",
    "            R_sources_for_fit = []\n",
    "            valid_R_source_for_comb = True\n",
    "            for r_matrix_unfiltered in R_sources_unfiltered_for_comb:\n",
    "                if r_matrix_unfiltered.ndim == 1:\n",
    "                    if len(r_matrix_unfiltered) == len(current_model_order):\n",
    "                        filtered_r = r_matrix_unfiltered[valid_g_indices]\n",
    "                        if np.any(~np.isnan(filtered_r)): R_sources_for_fit.append(filtered_r.reshape(-1, 1))\n",
    "                        else: valid_R_source_for_comb = False; break\n",
    "                    else: valid_R_source_for_comb = False; break\n",
    "                elif r_matrix_unfiltered.ndim == 2:\n",
    "                    if r_matrix_unfiltered.shape[1] == len(current_model_order):\n",
    "                        filtered_r_matrix = r_matrix_unfiltered[:, valid_g_indices]\n",
    "                        if np.any(np.sum(~np.isnan(filtered_r_matrix), axis=1) > 0): R_sources_for_fit.append(filtered_r_matrix)\n",
    "                        else: valid_R_source_for_comb = False; break\n",
    "                    else: valid_R_source_for_comb = False; break\n",
    "                else: valid_R_source_for_comb = False; break\n",
    "            \n",
    "            if not valid_R_source_for_comb or len(R_sources_for_fit) != len(comb_keys): continue\n",
    "            \n",
    "            temp_R_sources = []\n",
    "            for r_mat in R_sources_for_fit:\n",
    "                if r_mat.ndim == 1: r_mat = r_mat.reshape(-1,1)\n",
    "                if r_mat.shape[0] > 0: temp_R_sources.append(r_mat)\n",
    "            R_sources_for_fit = temp_R_sources\n",
    "\n",
    "            if len(R_sources_for_fit) != len(comb_keys) : continue\n",
    "\n",
    "            R_batches = build_batches(R_sources_for_fit)\n",
    "            if not R_batches: continue\n",
    "            \n",
    "            G_targets_for_fit = [G_final_for_fit] * len(R_batches)\n",
    "            actual_epochs = epochs_multiplier * (len(R_batches) * 10)\n",
    "\n",
    "            predictor = RankingPredictor(degree=poly_degree, lr=learning_rate, epochs=actual_epochs, scale=float(len(models_for_this_G_fit)))\n",
    "            try:\n",
    "                predictor.fit(R_batches, G_targets_for_fit)\n",
    "            except Exception as e_fit:\n",
    "                print(f\"Error during predictor.fit for {target_game_name_for_G_loop}/{comb_name}: {e_fit}\")\n",
    "                continue\n",
    "\n",
    "            current_run_results = {\n",
    "                \"config\": {\n",
    "                    \"poly_degree\": poly_degree, \"learning_rate\": learning_rate,\n",
    "                    \"epochs_multiplier\": epochs_multiplier, \"epochs_actual\": actual_epochs,\n",
    "                    \"model_order_used\": models_for_this_G_fit,\n",
    "                    \"R_categories_used\": comb_keys,\n",
    "                    \"target_game_name\": target_game_name_for_G_loop,\n",
    "                    \"target_harness_status\": harness_status_for_G,\n",
    "                    \"predictor_scale\": predictor.scale\n",
    "                }, \"evaluation\": {}, \"feature_weights\": {}\n",
    "            }\n",
    "\n",
    "            eval_results = []\n",
    "            for Rb_idx, Rb_eval in enumerate(R_batches):\n",
    "                 if Rb_eval.shape[0] > 0 and G_final_for_fit.shape[0] > 0 and Rb_eval.shape[0] == G_final_for_fit.shape[0]:\n",
    "                    eval_results.append(predictor.evaluate(Rb_eval, G_final_for_fit))\n",
    "\n",
    "            if not eval_results:\n",
    "                current_run_results[\"evaluation\"][\"avg_residual_error\"] = np.nan\n",
    "                if poly_degree == 1: current_run_results[\"evaluation\"][\"avg_pearson_r\"] = np.nan\n",
    "            elif poly_degree == 1:\n",
    "                valid_evals = [e for e in eval_results if isinstance(e, tuple) and len(e) == 2 and pd.notna(e[0]) and pd.notna(e[1])]\n",
    "                if valid_evals:\n",
    "                    current_run_results[\"evaluation\"][\"avg_residual_error\"] = np.mean([e[0] for e in valid_evals])\n",
    "                    current_run_results[\"evaluation\"][\"avg_pearson_r\"] = np.mean([e[1] for e in valid_evals])\n",
    "                else: current_run_results[\"evaluation\"].update({\"avg_residual_error\": np.nan, \"avg_pearson_r\": np.nan})\n",
    "            else:\n",
    "                valid_evals = [e for e in eval_results if pd.notna(e)]\n",
    "                if valid_evals: current_run_results[\"evaluation\"][\"avg_residual_error\"] = np.mean(valid_evals)\n",
    "                else: current_run_results[\"evaluation\"][\"avg_residual_error\"] = np.nan\n",
    "            \n",
    "            w_vals = predictor._w\n",
    "            f_names = []\n",
    "            try:\n",
    "                if R_batches and R_batches[0].shape[1] == len(comb_keys):\n",
    "                     f_names = predictor._phi.get_feature_names_out(input_features=comb_keys)\n",
    "                elif w_vals is not None: f_names = [f\"feat_{j}\" for j in range(len(w_vals))]\n",
    "            except Exception:\n",
    "                if w_vals is not None: f_names = [f\"feat_{j}\" for j in range(len(w_vals))]\n",
    "            \n",
    "            if w_vals is not None:\n",
    "                current_run_results[\"feature_weights\"] = {f_names[i]: w_vals[i] for i in range(len(w_vals))}\n",
    "            \n",
    "            all_polynomial_results[target_game_name_for_G_loop].setdefault(comb_name, {})\n",
    "            all_polynomial_results[target_game_name_for_G_loop][comb_name][existing_entry_key] = current_run_results\n",
    "            \n",
    "    if newly_computed_results:\n",
    "        _save_json(all_polynomial_results, polynomial_model_results_output_path)\n",
    "\n",
    "    return all_polynomial_results\n",
    "# In your notebook cell, after final_updated_df is defined\n",
    "        \n",
    "models_to_match_other_tasks = DEFAULT_MODELS_FOR_OTHER_TASKS # Use the list of 8 models\n",
    "        \n",
    "print(f\"--- Running Polynomial Analysis for (up to) {len(models_to_match_other_tasks)} models matching other_task_rank.json ---\")\n",
    "poly_results_matched = run_polynomial_analysis_notebook(\n",
    "    final_df=final_updated_df,\n",
    "    model_order_for_analysis=models_to_match_other_tasks, # Pass the list of models\n",
    "    target_game_for_G=None,    # Analyze all available games for these models\n",
    "    harness_status_for_G=\"harness_true\",\n",
    "    poly_degree=1,\n",
    "    force_update_results=True \n",
    ")\n",
    "        \n",
    "if poly_results_matched:\n",
    "    print(\"\\n--- Polynomial Analysis (Matched Models, Harness True, Degree 1) - Example Result ---\")\n",
    "    first_game = next(iter(poly_results_matched), None)\n",
    "    if first_game and poly_results_matched[first_game]:\n",
    "        first_combo = next(iter(poly_results_matched[first_game]), None)\n",
    "        entry_key = f\"harness_true_deg1\"\n",
    "        if first_combo and poly_results_matched[first_game][first_combo].get(entry_key):\n",
    "                print(f\"Results for Game: {first_game}, R_Combination: {first_combo}, Entry: {entry_key}\")\n",
    "                print(\"Evaluation:\", json.dumps(poly_results_matched[first_game][first_combo][entry_key][\"evaluation\"], indent=2))\n",
    "                # print(\"Feature Weights:\", json.dumps(poly_results_matched[first_game][first_combo][entry_key][\"feature_weights\"], indent=2))\n",
    "        elif first_combo:\n",
    "                print(f\"No '{entry_key}' results found for {first_game}/{first_combo}\")\n",
    "        else:\n",
    "                print(f\"No combinations found for game {first_game}\")\n",
    "    else:\n",
    "        print(\"No results produced for matched models analysis.\")\n"
   ]
  },
  {
   "cell_type": "code",
   "execution_count": 6,
   "metadata": {},
   "outputs": [
    {
     "name": "stdout",
     "output_type": "stream",
     "text": [
      "Successfully loaded polynomial results from polynomial_model_results.json\n",
      "\n",
      "--- Visualizing Polynomial Weights for Game: ace_attorney ---\n"
     ]
    },
    {
     "data": {
      "application/vnd.plotly.v1+json": {
       "config": {
        "plotlyServerURL": "https://plot.ly"
       },
       "data": [
        {
         "name": "Comb1_KnowPuzVisMathCode",
         "text": [
          "2.50",
          "4.61",
          "0.00",
          "0.01",
          "0.00"
         ],
         "textposition": "auto",
         "type": "bar",
         "x": [
          "knowledge",
          "puzzle",
          "visual",
          "math",
          "coding"
         ],
         "xaxis": "x",
         "y": [
          2.4976329822999177,
          4.610967052311135,
          0.004296179816325102,
          0.00863141184157436,
          0
         ],
         "yaxis": "y"
        },
        {
         "name": "Comb2_KnowVisMathCode",
         "text": [
          "5.64",
          "0.01",
          "0.51",
          "0.01"
         ],
         "textposition": "auto",
         "type": "bar",
         "x": [
          "knowledge",
          "visual",
          "math",
          "coding"
         ],
         "xaxis": "x2",
         "y": [
          5.6402457309481,
          0.00686573189278611,
          0.5107403448420207,
          0.010869250370289496
         ],
         "yaxis": "y2"
        },
        {
         "name": "Comb3_LangPhyVisMathCode",
         "text": [
          "3.80",
          "0.00",
          "0.11",
          "2.99",
          "0.00"
         ],
         "textposition": "auto",
         "type": "bar",
         "x": [
          "language",
          "physics",
          "visual",
          "math",
          "coding"
         ],
         "xaxis": "x3",
         "y": [
          3.8020931454818214,
          0,
          0.11313037243386821,
          2.9865572971155174,
          0.0017704350712383994
         ],
         "yaxis": "y3"
        },
        {
         "name": "Comb4_KnowMathCode",
         "text": [
          "5.59",
          "0.56",
          "0.01"
         ],
         "textposition": "auto",
         "type": "bar",
         "x": [
          "knowledge",
          "math",
          "coding"
         ],
         "xaxis": "x4",
         "y": [
          5.587613820094859,
          0.560143650783117,
          0.009882212079787867
         ],
         "yaxis": "y4"
        }
       ],
       "layout": {
        "annotations": [
         {
          "font": {
           "size": 16
          },
          "showarrow": false,
          "text": "Comb1_KnowPuzVisMathCode",
          "x": 0.225,
          "xanchor": "center",
          "xref": "paper",
          "y": 1,
          "yanchor": "bottom",
          "yref": "paper"
         },
         {
          "font": {
           "size": 16
          },
          "showarrow": false,
          "text": "Comb2_KnowVisMathCode",
          "x": 0.775,
          "xanchor": "center",
          "xref": "paper",
          "y": 1,
          "yanchor": "bottom",
          "yref": "paper"
         },
         {
          "font": {
           "size": 16
          },
          "showarrow": false,
          "text": "Comb3_LangPhyVisMathCode",
          "x": 0.225,
          "xanchor": "center",
          "xref": "paper",
          "y": 0.425,
          "yanchor": "bottom",
          "yref": "paper"
         },
         {
          "font": {
           "size": 16
          },
          "showarrow": false,
          "text": "Comb4_KnowMathCode",
          "x": 0.775,
          "xanchor": "center",
          "xref": "paper",
          "y": 0.425,
          "yanchor": "bottom",
          "yref": "paper"
         }
        ],
        "height": 700,
        "margin": {
         "t": 100
        },
        "showlegend": false,
        "template": {
         "data": {
          "bar": [
           {
            "error_x": {
             "color": "#2a3f5f"
            },
            "error_y": {
             "color": "#2a3f5f"
            },
            "marker": {
             "line": {
              "color": "#E5ECF6",
              "width": 0.5
             },
             "pattern": {
              "fillmode": "overlay",
              "size": 10,
              "solidity": 0.2
             }
            },
            "type": "bar"
           }
          ],
          "barpolar": [
           {
            "marker": {
             "line": {
              "color": "#E5ECF6",
              "width": 0.5
             },
             "pattern": {
              "fillmode": "overlay",
              "size": 10,
              "solidity": 0.2
             }
            },
            "type": "barpolar"
           }
          ],
          "carpet": [
           {
            "aaxis": {
             "endlinecolor": "#2a3f5f",
             "gridcolor": "white",
             "linecolor": "white",
             "minorgridcolor": "white",
             "startlinecolor": "#2a3f5f"
            },
            "baxis": {
             "endlinecolor": "#2a3f5f",
             "gridcolor": "white",
             "linecolor": "white",
             "minorgridcolor": "white",
             "startlinecolor": "#2a3f5f"
            },
            "type": "carpet"
           }
          ],
          "choropleth": [
           {
            "colorbar": {
             "outlinewidth": 0,
             "ticks": ""
            },
            "type": "choropleth"
           }
          ],
          "contour": [
           {
            "colorbar": {
             "outlinewidth": 0,
             "ticks": ""
            },
            "colorscale": [
             [
              0,
              "#0d0887"
             ],
             [
              0.1111111111111111,
              "#46039f"
             ],
             [
              0.2222222222222222,
              "#7201a8"
             ],
             [
              0.3333333333333333,
              "#9c179e"
             ],
             [
              0.4444444444444444,
              "#bd3786"
             ],
             [
              0.5555555555555556,
              "#d8576b"
             ],
             [
              0.6666666666666666,
              "#ed7953"
             ],
             [
              0.7777777777777778,
              "#fb9f3a"
             ],
             [
              0.8888888888888888,
              "#fdca26"
             ],
             [
              1,
              "#f0f921"
             ]
            ],
            "type": "contour"
           }
          ],
          "contourcarpet": [
           {
            "colorbar": {
             "outlinewidth": 0,
             "ticks": ""
            },
            "type": "contourcarpet"
           }
          ],
          "heatmap": [
           {
            "colorbar": {
             "outlinewidth": 0,
             "ticks": ""
            },
            "colorscale": [
             [
              0,
              "#0d0887"
             ],
             [
              0.1111111111111111,
              "#46039f"
             ],
             [
              0.2222222222222222,
              "#7201a8"
             ],
             [
              0.3333333333333333,
              "#9c179e"
             ],
             [
              0.4444444444444444,
              "#bd3786"
             ],
             [
              0.5555555555555556,
              "#d8576b"
             ],
             [
              0.6666666666666666,
              "#ed7953"
             ],
             [
              0.7777777777777778,
              "#fb9f3a"
             ],
             [
              0.8888888888888888,
              "#fdca26"
             ],
             [
              1,
              "#f0f921"
             ]
            ],
            "type": "heatmap"
           }
          ],
          "histogram": [
           {
            "marker": {
             "pattern": {
              "fillmode": "overlay",
              "size": 10,
              "solidity": 0.2
             }
            },
            "type": "histogram"
           }
          ],
          "histogram2d": [
           {
            "colorbar": {
             "outlinewidth": 0,
             "ticks": ""
            },
            "colorscale": [
             [
              0,
              "#0d0887"
             ],
             [
              0.1111111111111111,
              "#46039f"
             ],
             [
              0.2222222222222222,
              "#7201a8"
             ],
             [
              0.3333333333333333,
              "#9c179e"
             ],
             [
              0.4444444444444444,
              "#bd3786"
             ],
             [
              0.5555555555555556,
              "#d8576b"
             ],
             [
              0.6666666666666666,
              "#ed7953"
             ],
             [
              0.7777777777777778,
              "#fb9f3a"
             ],
             [
              0.8888888888888888,
              "#fdca26"
             ],
             [
              1,
              "#f0f921"
             ]
            ],
            "type": "histogram2d"
           }
          ],
          "histogram2dcontour": [
           {
            "colorbar": {
             "outlinewidth": 0,
             "ticks": ""
            },
            "colorscale": [
             [
              0,
              "#0d0887"
             ],
             [
              0.1111111111111111,
              "#46039f"
             ],
             [
              0.2222222222222222,
              "#7201a8"
             ],
             [
              0.3333333333333333,
              "#9c179e"
             ],
             [
              0.4444444444444444,
              "#bd3786"
             ],
             [
              0.5555555555555556,
              "#d8576b"
             ],
             [
              0.6666666666666666,
              "#ed7953"
             ],
             [
              0.7777777777777778,
              "#fb9f3a"
             ],
             [
              0.8888888888888888,
              "#fdca26"
             ],
             [
              1,
              "#f0f921"
             ]
            ],
            "type": "histogram2dcontour"
           }
          ],
          "mesh3d": [
           {
            "colorbar": {
             "outlinewidth": 0,
             "ticks": ""
            },
            "type": "mesh3d"
           }
          ],
          "parcoords": [
           {
            "line": {
             "colorbar": {
              "outlinewidth": 0,
              "ticks": ""
             }
            },
            "type": "parcoords"
           }
          ],
          "pie": [
           {
            "automargin": true,
            "type": "pie"
           }
          ],
          "scatter": [
           {
            "fillpattern": {
             "fillmode": "overlay",
             "size": 10,
             "solidity": 0.2
            },
            "type": "scatter"
           }
          ],
          "scatter3d": [
           {
            "line": {
             "colorbar": {
              "outlinewidth": 0,
              "ticks": ""
             }
            },
            "marker": {
             "colorbar": {
              "outlinewidth": 0,
              "ticks": ""
             }
            },
            "type": "scatter3d"
           }
          ],
          "scattercarpet": [
           {
            "marker": {
             "colorbar": {
              "outlinewidth": 0,
              "ticks": ""
             }
            },
            "type": "scattercarpet"
           }
          ],
          "scattergeo": [
           {
            "marker": {
             "colorbar": {
              "outlinewidth": 0,
              "ticks": ""
             }
            },
            "type": "scattergeo"
           }
          ],
          "scattergl": [
           {
            "marker": {
             "colorbar": {
              "outlinewidth": 0,
              "ticks": ""
             }
            },
            "type": "scattergl"
           }
          ],
          "scattermap": [
           {
            "marker": {
             "colorbar": {
              "outlinewidth": 0,
              "ticks": ""
             }
            },
            "type": "scattermap"
           }
          ],
          "scattermapbox": [
           {
            "marker": {
             "colorbar": {
              "outlinewidth": 0,
              "ticks": ""
             }
            },
            "type": "scattermapbox"
           }
          ],
          "scatterpolar": [
           {
            "marker": {
             "colorbar": {
              "outlinewidth": 0,
              "ticks": ""
             }
            },
            "type": "scatterpolar"
           }
          ],
          "scatterpolargl": [
           {
            "marker": {
             "colorbar": {
              "outlinewidth": 0,
              "ticks": ""
             }
            },
            "type": "scatterpolargl"
           }
          ],
          "scatterternary": [
           {
            "marker": {
             "colorbar": {
              "outlinewidth": 0,
              "ticks": ""
             }
            },
            "type": "scatterternary"
           }
          ],
          "surface": [
           {
            "colorbar": {
             "outlinewidth": 0,
             "ticks": ""
            },
            "colorscale": [
             [
              0,
              "#0d0887"
             ],
             [
              0.1111111111111111,
              "#46039f"
             ],
             [
              0.2222222222222222,
              "#7201a8"
             ],
             [
              0.3333333333333333,
              "#9c179e"
             ],
             [
              0.4444444444444444,
              "#bd3786"
             ],
             [
              0.5555555555555556,
              "#d8576b"
             ],
             [
              0.6666666666666666,
              "#ed7953"
             ],
             [
              0.7777777777777778,
              "#fb9f3a"
             ],
             [
              0.8888888888888888,
              "#fdca26"
             ],
             [
              1,
              "#f0f921"
             ]
            ],
            "type": "surface"
           }
          ],
          "table": [
           {
            "cells": {
             "fill": {
              "color": "#EBF0F8"
             },
             "line": {
              "color": "white"
             }
            },
            "header": {
             "fill": {
              "color": "#C8D4E3"
             },
             "line": {
              "color": "white"
             }
            },
            "type": "table"
           }
          ]
         },
         "layout": {
          "annotationdefaults": {
           "arrowcolor": "#2a3f5f",
           "arrowhead": 0,
           "arrowwidth": 1
          },
          "autotypenumbers": "strict",
          "coloraxis": {
           "colorbar": {
            "outlinewidth": 0,
            "ticks": ""
           }
          },
          "colorscale": {
           "diverging": [
            [
             0,
             "#8e0152"
            ],
            [
             0.1,
             "#c51b7d"
            ],
            [
             0.2,
             "#de77ae"
            ],
            [
             0.3,
             "#f1b6da"
            ],
            [
             0.4,
             "#fde0ef"
            ],
            [
             0.5,
             "#f7f7f7"
            ],
            [
             0.6,
             "#e6f5d0"
            ],
            [
             0.7,
             "#b8e186"
            ],
            [
             0.8,
             "#7fbc41"
            ],
            [
             0.9,
             "#4d9221"
            ],
            [
             1,
             "#276419"
            ]
           ],
           "sequential": [
            [
             0,
             "#0d0887"
            ],
            [
             0.1111111111111111,
             "#46039f"
            ],
            [
             0.2222222222222222,
             "#7201a8"
            ],
            [
             0.3333333333333333,
             "#9c179e"
            ],
            [
             0.4444444444444444,
             "#bd3786"
            ],
            [
             0.5555555555555556,
             "#d8576b"
            ],
            [
             0.6666666666666666,
             "#ed7953"
            ],
            [
             0.7777777777777778,
             "#fb9f3a"
            ],
            [
             0.8888888888888888,
             "#fdca26"
            ],
            [
             1,
             "#f0f921"
            ]
           ],
           "sequentialminus": [
            [
             0,
             "#0d0887"
            ],
            [
             0.1111111111111111,
             "#46039f"
            ],
            [
             0.2222222222222222,
             "#7201a8"
            ],
            [
             0.3333333333333333,
             "#9c179e"
            ],
            [
             0.4444444444444444,
             "#bd3786"
            ],
            [
             0.5555555555555556,
             "#d8576b"
            ],
            [
             0.6666666666666666,
             "#ed7953"
            ],
            [
             0.7777777777777778,
             "#fb9f3a"
            ],
            [
             0.8888888888888888,
             "#fdca26"
            ],
            [
             1,
             "#f0f921"
            ]
           ]
          },
          "colorway": [
           "#636efa",
           "#EF553B",
           "#00cc96",
           "#ab63fa",
           "#FFA15A",
           "#19d3f3",
           "#FF6692",
           "#B6E880",
           "#FF97FF",
           "#FECB52"
          ],
          "font": {
           "color": "#2a3f5f"
          },
          "geo": {
           "bgcolor": "white",
           "lakecolor": "white",
           "landcolor": "#E5ECF6",
           "showlakes": true,
           "showland": true,
           "subunitcolor": "white"
          },
          "hoverlabel": {
           "align": "left"
          },
          "hovermode": "closest",
          "mapbox": {
           "style": "light"
          },
          "paper_bgcolor": "white",
          "plot_bgcolor": "#E5ECF6",
          "polar": {
           "angularaxis": {
            "gridcolor": "white",
            "linecolor": "white",
            "ticks": ""
           },
           "bgcolor": "#E5ECF6",
           "radialaxis": {
            "gridcolor": "white",
            "linecolor": "white",
            "ticks": ""
           }
          },
          "scene": {
           "xaxis": {
            "backgroundcolor": "#E5ECF6",
            "gridcolor": "white",
            "gridwidth": 2,
            "linecolor": "white",
            "showbackground": true,
            "ticks": "",
            "zerolinecolor": "white"
           },
           "yaxis": {
            "backgroundcolor": "#E5ECF6",
            "gridcolor": "white",
            "gridwidth": 2,
            "linecolor": "white",
            "showbackground": true,
            "ticks": "",
            "zerolinecolor": "white"
           },
           "zaxis": {
            "backgroundcolor": "#E5ECF6",
            "gridcolor": "white",
            "gridwidth": 2,
            "linecolor": "white",
            "showbackground": true,
            "ticks": "",
            "zerolinecolor": "white"
           }
          },
          "shapedefaults": {
           "line": {
            "color": "#2a3f5f"
           }
          },
          "ternary": {
           "aaxis": {
            "gridcolor": "white",
            "linecolor": "white",
            "ticks": ""
           },
           "baxis": {
            "gridcolor": "white",
            "linecolor": "white",
            "ticks": ""
           },
           "bgcolor": "#E5ECF6",
           "caxis": {
            "gridcolor": "white",
            "linecolor": "white",
            "ticks": ""
           }
          },
          "title": {
           "x": 0.05
          },
          "xaxis": {
           "automargin": true,
           "gridcolor": "white",
           "linecolor": "white",
           "ticks": "",
           "title": {
            "standoff": 15
           },
           "zerolinecolor": "white",
           "zerolinewidth": 2
          },
          "yaxis": {
           "automargin": true,
           "gridcolor": "white",
           "linecolor": "white",
           "ticks": "",
           "title": {
            "standoff": 15
           },
           "zerolinecolor": "white",
           "zerolinewidth": 2
          }
         }
        },
        "title": {
         "text": "Polynomial Category Weights for ace_attorney (harness_true_deg1)"
        },
        "xaxis": {
         "anchor": "y",
         "domain": [
          0,
          0.45
         ]
        },
        "xaxis2": {
         "anchor": "y2",
         "domain": [
          0.55,
          1
         ]
        },
        "xaxis3": {
         "anchor": "y3",
         "domain": [
          0,
          0.45
         ]
        },
        "xaxis4": {
         "anchor": "y4",
         "domain": [
          0.55,
          1
         ]
        },
        "yaxis": {
         "anchor": "x",
         "domain": [
          0.575,
          1
         ]
        },
        "yaxis2": {
         "anchor": "x2",
         "domain": [
          0.575,
          1
         ]
        },
        "yaxis3": {
         "anchor": "x3",
         "domain": [
          0,
          0.425
         ]
        },
        "yaxis4": {
         "anchor": "x4",
         "domain": [
          0,
          0.425
         ]
        }
       }
      }
     },
     "metadata": {},
     "output_type": "display_data"
    },
    {
     "name": "stdout",
     "output_type": "stream",
     "text": [
      "\n",
      "--- Visualizing Polynomial Weights for Game: candy_crush ---\n"
     ]
    },
    {
     "data": {
      "application/vnd.plotly.v1+json": {
       "config": {
        "plotlyServerURL": "https://plot.ly"
       },
       "data": [
        {
         "name": "Comb1_KnowPuzVisMathCode",
         "text": [
          "2.19",
          "3.33",
          "0.00",
          "0.92",
          "1.59"
         ],
         "textposition": "auto",
         "type": "bar",
         "x": [
          "knowledge",
          "puzzle",
          "visual",
          "math",
          "coding"
         ],
         "xaxis": "x",
         "y": [
          2.1915052923022786,
          3.3302215618464386,
          0.002148792739330092,
          0.9181421368289242,
          1.5858271395179848
         ],
         "yaxis": "y"
        },
        {
         "name": "Comb2_KnowVisMathCode",
         "text": [
          "3.90",
          "0.00",
          "1.38",
          "2.36"
         ],
         "textposition": "auto",
         "type": "bar",
         "x": [
          "knowledge",
          "visual",
          "math",
          "coding"
         ],
         "xaxis": "x2",
         "y": [
          3.898941162006051,
          0.002790496455223841,
          1.3813114560456359,
          2.3598084679485094
         ],
         "yaxis": "y2"
        },
        {
         "name": "Comb3_LangPhyVisMathCode",
         "text": [
          "0.80",
          "4.47",
          "0.00",
          "0.24",
          "2.35"
         ],
         "textposition": "auto",
         "type": "bar",
         "x": [
          "language",
          "physics",
          "visual",
          "math",
          "coding"
         ],
         "xaxis": "x3",
         "y": [
          0.7969137487581313,
          4.4685567485672175,
          0,
          0.2406687300853211,
          2.345523521737974
         ],
         "yaxis": "y3"
        },
        {
         "name": "Comb4_KnowMathCode",
         "text": [
          "3.86",
          "1.40",
          "2.36"
         ],
         "textposition": "auto",
         "type": "bar",
         "x": [
          "knowledge",
          "math",
          "coding"
         ],
         "xaxis": "x4",
         "y": [
          3.864843753765309,
          1.4032171183814417,
          2.358653701583324
         ],
         "yaxis": "y4"
        }
       ],
       "layout": {
        "annotations": [
         {
          "font": {
           "size": 16
          },
          "showarrow": false,
          "text": "Comb1_KnowPuzVisMathCode",
          "x": 0.225,
          "xanchor": "center",
          "xref": "paper",
          "y": 1,
          "yanchor": "bottom",
          "yref": "paper"
         },
         {
          "font": {
           "size": 16
          },
          "showarrow": false,
          "text": "Comb2_KnowVisMathCode",
          "x": 0.775,
          "xanchor": "center",
          "xref": "paper",
          "y": 1,
          "yanchor": "bottom",
          "yref": "paper"
         },
         {
          "font": {
           "size": 16
          },
          "showarrow": false,
          "text": "Comb3_LangPhyVisMathCode",
          "x": 0.225,
          "xanchor": "center",
          "xref": "paper",
          "y": 0.425,
          "yanchor": "bottom",
          "yref": "paper"
         },
         {
          "font": {
           "size": 16
          },
          "showarrow": false,
          "text": "Comb4_KnowMathCode",
          "x": 0.775,
          "xanchor": "center",
          "xref": "paper",
          "y": 0.425,
          "yanchor": "bottom",
          "yref": "paper"
         }
        ],
        "height": 700,
        "margin": {
         "t": 100
        },
        "showlegend": false,
        "template": {
         "data": {
          "bar": [
           {
            "error_x": {
             "color": "#2a3f5f"
            },
            "error_y": {
             "color": "#2a3f5f"
            },
            "marker": {
             "line": {
              "color": "#E5ECF6",
              "width": 0.5
             },
             "pattern": {
              "fillmode": "overlay",
              "size": 10,
              "solidity": 0.2
             }
            },
            "type": "bar"
           }
          ],
          "barpolar": [
           {
            "marker": {
             "line": {
              "color": "#E5ECF6",
              "width": 0.5
             },
             "pattern": {
              "fillmode": "overlay",
              "size": 10,
              "solidity": 0.2
             }
            },
            "type": "barpolar"
           }
          ],
          "carpet": [
           {
            "aaxis": {
             "endlinecolor": "#2a3f5f",
             "gridcolor": "white",
             "linecolor": "white",
             "minorgridcolor": "white",
             "startlinecolor": "#2a3f5f"
            },
            "baxis": {
             "endlinecolor": "#2a3f5f",
             "gridcolor": "white",
             "linecolor": "white",
             "minorgridcolor": "white",
             "startlinecolor": "#2a3f5f"
            },
            "type": "carpet"
           }
          ],
          "choropleth": [
           {
            "colorbar": {
             "outlinewidth": 0,
             "ticks": ""
            },
            "type": "choropleth"
           }
          ],
          "contour": [
           {
            "colorbar": {
             "outlinewidth": 0,
             "ticks": ""
            },
            "colorscale": [
             [
              0,
              "#0d0887"
             ],
             [
              0.1111111111111111,
              "#46039f"
             ],
             [
              0.2222222222222222,
              "#7201a8"
             ],
             [
              0.3333333333333333,
              "#9c179e"
             ],
             [
              0.4444444444444444,
              "#bd3786"
             ],
             [
              0.5555555555555556,
              "#d8576b"
             ],
             [
              0.6666666666666666,
              "#ed7953"
             ],
             [
              0.7777777777777778,
              "#fb9f3a"
             ],
             [
              0.8888888888888888,
              "#fdca26"
             ],
             [
              1,
              "#f0f921"
             ]
            ],
            "type": "contour"
           }
          ],
          "contourcarpet": [
           {
            "colorbar": {
             "outlinewidth": 0,
             "ticks": ""
            },
            "type": "contourcarpet"
           }
          ],
          "heatmap": [
           {
            "colorbar": {
             "outlinewidth": 0,
             "ticks": ""
            },
            "colorscale": [
             [
              0,
              "#0d0887"
             ],
             [
              0.1111111111111111,
              "#46039f"
             ],
             [
              0.2222222222222222,
              "#7201a8"
             ],
             [
              0.3333333333333333,
              "#9c179e"
             ],
             [
              0.4444444444444444,
              "#bd3786"
             ],
             [
              0.5555555555555556,
              "#d8576b"
             ],
             [
              0.6666666666666666,
              "#ed7953"
             ],
             [
              0.7777777777777778,
              "#fb9f3a"
             ],
             [
              0.8888888888888888,
              "#fdca26"
             ],
             [
              1,
              "#f0f921"
             ]
            ],
            "type": "heatmap"
           }
          ],
          "histogram": [
           {
            "marker": {
             "pattern": {
              "fillmode": "overlay",
              "size": 10,
              "solidity": 0.2
             }
            },
            "type": "histogram"
           }
          ],
          "histogram2d": [
           {
            "colorbar": {
             "outlinewidth": 0,
             "ticks": ""
            },
            "colorscale": [
             [
              0,
              "#0d0887"
             ],
             [
              0.1111111111111111,
              "#46039f"
             ],
             [
              0.2222222222222222,
              "#7201a8"
             ],
             [
              0.3333333333333333,
              "#9c179e"
             ],
             [
              0.4444444444444444,
              "#bd3786"
             ],
             [
              0.5555555555555556,
              "#d8576b"
             ],
             [
              0.6666666666666666,
              "#ed7953"
             ],
             [
              0.7777777777777778,
              "#fb9f3a"
             ],
             [
              0.8888888888888888,
              "#fdca26"
             ],
             [
              1,
              "#f0f921"
             ]
            ],
            "type": "histogram2d"
           }
          ],
          "histogram2dcontour": [
           {
            "colorbar": {
             "outlinewidth": 0,
             "ticks": ""
            },
            "colorscale": [
             [
              0,
              "#0d0887"
             ],
             [
              0.1111111111111111,
              "#46039f"
             ],
             [
              0.2222222222222222,
              "#7201a8"
             ],
             [
              0.3333333333333333,
              "#9c179e"
             ],
             [
              0.4444444444444444,
              "#bd3786"
             ],
             [
              0.5555555555555556,
              "#d8576b"
             ],
             [
              0.6666666666666666,
              "#ed7953"
             ],
             [
              0.7777777777777778,
              "#fb9f3a"
             ],
             [
              0.8888888888888888,
              "#fdca26"
             ],
             [
              1,
              "#f0f921"
             ]
            ],
            "type": "histogram2dcontour"
           }
          ],
          "mesh3d": [
           {
            "colorbar": {
             "outlinewidth": 0,
             "ticks": ""
            },
            "type": "mesh3d"
           }
          ],
          "parcoords": [
           {
            "line": {
             "colorbar": {
              "outlinewidth": 0,
              "ticks": ""
             }
            },
            "type": "parcoords"
           }
          ],
          "pie": [
           {
            "automargin": true,
            "type": "pie"
           }
          ],
          "scatter": [
           {
            "fillpattern": {
             "fillmode": "overlay",
             "size": 10,
             "solidity": 0.2
            },
            "type": "scatter"
           }
          ],
          "scatter3d": [
           {
            "line": {
             "colorbar": {
              "outlinewidth": 0,
              "ticks": ""
             }
            },
            "marker": {
             "colorbar": {
              "outlinewidth": 0,
              "ticks": ""
             }
            },
            "type": "scatter3d"
           }
          ],
          "scattercarpet": [
           {
            "marker": {
             "colorbar": {
              "outlinewidth": 0,
              "ticks": ""
             }
            },
            "type": "scattercarpet"
           }
          ],
          "scattergeo": [
           {
            "marker": {
             "colorbar": {
              "outlinewidth": 0,
              "ticks": ""
             }
            },
            "type": "scattergeo"
           }
          ],
          "scattergl": [
           {
            "marker": {
             "colorbar": {
              "outlinewidth": 0,
              "ticks": ""
             }
            },
            "type": "scattergl"
           }
          ],
          "scattermap": [
           {
            "marker": {
             "colorbar": {
              "outlinewidth": 0,
              "ticks": ""
             }
            },
            "type": "scattermap"
           }
          ],
          "scattermapbox": [
           {
            "marker": {
             "colorbar": {
              "outlinewidth": 0,
              "ticks": ""
             }
            },
            "type": "scattermapbox"
           }
          ],
          "scatterpolar": [
           {
            "marker": {
             "colorbar": {
              "outlinewidth": 0,
              "ticks": ""
             }
            },
            "type": "scatterpolar"
           }
          ],
          "scatterpolargl": [
           {
            "marker": {
             "colorbar": {
              "outlinewidth": 0,
              "ticks": ""
             }
            },
            "type": "scatterpolargl"
           }
          ],
          "scatterternary": [
           {
            "marker": {
             "colorbar": {
              "outlinewidth": 0,
              "ticks": ""
             }
            },
            "type": "scatterternary"
           }
          ],
          "surface": [
           {
            "colorbar": {
             "outlinewidth": 0,
             "ticks": ""
            },
            "colorscale": [
             [
              0,
              "#0d0887"
             ],
             [
              0.1111111111111111,
              "#46039f"
             ],
             [
              0.2222222222222222,
              "#7201a8"
             ],
             [
              0.3333333333333333,
              "#9c179e"
             ],
             [
              0.4444444444444444,
              "#bd3786"
             ],
             [
              0.5555555555555556,
              "#d8576b"
             ],
             [
              0.6666666666666666,
              "#ed7953"
             ],
             [
              0.7777777777777778,
              "#fb9f3a"
             ],
             [
              0.8888888888888888,
              "#fdca26"
             ],
             [
              1,
              "#f0f921"
             ]
            ],
            "type": "surface"
           }
          ],
          "table": [
           {
            "cells": {
             "fill": {
              "color": "#EBF0F8"
             },
             "line": {
              "color": "white"
             }
            },
            "header": {
             "fill": {
              "color": "#C8D4E3"
             },
             "line": {
              "color": "white"
             }
            },
            "type": "table"
           }
          ]
         },
         "layout": {
          "annotationdefaults": {
           "arrowcolor": "#2a3f5f",
           "arrowhead": 0,
           "arrowwidth": 1
          },
          "autotypenumbers": "strict",
          "coloraxis": {
           "colorbar": {
            "outlinewidth": 0,
            "ticks": ""
           }
          },
          "colorscale": {
           "diverging": [
            [
             0,
             "#8e0152"
            ],
            [
             0.1,
             "#c51b7d"
            ],
            [
             0.2,
             "#de77ae"
            ],
            [
             0.3,
             "#f1b6da"
            ],
            [
             0.4,
             "#fde0ef"
            ],
            [
             0.5,
             "#f7f7f7"
            ],
            [
             0.6,
             "#e6f5d0"
            ],
            [
             0.7,
             "#b8e186"
            ],
            [
             0.8,
             "#7fbc41"
            ],
            [
             0.9,
             "#4d9221"
            ],
            [
             1,
             "#276419"
            ]
           ],
           "sequential": [
            [
             0,
             "#0d0887"
            ],
            [
             0.1111111111111111,
             "#46039f"
            ],
            [
             0.2222222222222222,
             "#7201a8"
            ],
            [
             0.3333333333333333,
             "#9c179e"
            ],
            [
             0.4444444444444444,
             "#bd3786"
            ],
            [
             0.5555555555555556,
             "#d8576b"
            ],
            [
             0.6666666666666666,
             "#ed7953"
            ],
            [
             0.7777777777777778,
             "#fb9f3a"
            ],
            [
             0.8888888888888888,
             "#fdca26"
            ],
            [
             1,
             "#f0f921"
            ]
           ],
           "sequentialminus": [
            [
             0,
             "#0d0887"
            ],
            [
             0.1111111111111111,
             "#46039f"
            ],
            [
             0.2222222222222222,
             "#7201a8"
            ],
            [
             0.3333333333333333,
             "#9c179e"
            ],
            [
             0.4444444444444444,
             "#bd3786"
            ],
            [
             0.5555555555555556,
             "#d8576b"
            ],
            [
             0.6666666666666666,
             "#ed7953"
            ],
            [
             0.7777777777777778,
             "#fb9f3a"
            ],
            [
             0.8888888888888888,
             "#fdca26"
            ],
            [
             1,
             "#f0f921"
            ]
           ]
          },
          "colorway": [
           "#636efa",
           "#EF553B",
           "#00cc96",
           "#ab63fa",
           "#FFA15A",
           "#19d3f3",
           "#FF6692",
           "#B6E880",
           "#FF97FF",
           "#FECB52"
          ],
          "font": {
           "color": "#2a3f5f"
          },
          "geo": {
           "bgcolor": "white",
           "lakecolor": "white",
           "landcolor": "#E5ECF6",
           "showlakes": true,
           "showland": true,
           "subunitcolor": "white"
          },
          "hoverlabel": {
           "align": "left"
          },
          "hovermode": "closest",
          "mapbox": {
           "style": "light"
          },
          "paper_bgcolor": "white",
          "plot_bgcolor": "#E5ECF6",
          "polar": {
           "angularaxis": {
            "gridcolor": "white",
            "linecolor": "white",
            "ticks": ""
           },
           "bgcolor": "#E5ECF6",
           "radialaxis": {
            "gridcolor": "white",
            "linecolor": "white",
            "ticks": ""
           }
          },
          "scene": {
           "xaxis": {
            "backgroundcolor": "#E5ECF6",
            "gridcolor": "white",
            "gridwidth": 2,
            "linecolor": "white",
            "showbackground": true,
            "ticks": "",
            "zerolinecolor": "white"
           },
           "yaxis": {
            "backgroundcolor": "#E5ECF6",
            "gridcolor": "white",
            "gridwidth": 2,
            "linecolor": "white",
            "showbackground": true,
            "ticks": "",
            "zerolinecolor": "white"
           },
           "zaxis": {
            "backgroundcolor": "#E5ECF6",
            "gridcolor": "white",
            "gridwidth": 2,
            "linecolor": "white",
            "showbackground": true,
            "ticks": "",
            "zerolinecolor": "white"
           }
          },
          "shapedefaults": {
           "line": {
            "color": "#2a3f5f"
           }
          },
          "ternary": {
           "aaxis": {
            "gridcolor": "white",
            "linecolor": "white",
            "ticks": ""
           },
           "baxis": {
            "gridcolor": "white",
            "linecolor": "white",
            "ticks": ""
           },
           "bgcolor": "#E5ECF6",
           "caxis": {
            "gridcolor": "white",
            "linecolor": "white",
            "ticks": ""
           }
          },
          "title": {
           "x": 0.05
          },
          "xaxis": {
           "automargin": true,
           "gridcolor": "white",
           "linecolor": "white",
           "ticks": "",
           "title": {
            "standoff": 15
           },
           "zerolinecolor": "white",
           "zerolinewidth": 2
          },
          "yaxis": {
           "automargin": true,
           "gridcolor": "white",
           "linecolor": "white",
           "ticks": "",
           "title": {
            "standoff": 15
           },
           "zerolinecolor": "white",
           "zerolinewidth": 2
          }
         }
        },
        "title": {
         "text": "Polynomial Category Weights for candy_crush (harness_true_deg1)"
        },
        "xaxis": {
         "anchor": "y",
         "domain": [
          0,
          0.45
         ]
        },
        "xaxis2": {
         "anchor": "y2",
         "domain": [
          0.55,
          1
         ]
        },
        "xaxis3": {
         "anchor": "y3",
         "domain": [
          0,
          0.45
         ]
        },
        "xaxis4": {
         "anchor": "y4",
         "domain": [
          0.55,
          1
         ]
        },
        "yaxis": {
         "anchor": "x",
         "domain": [
          0.575,
          1
         ]
        },
        "yaxis2": {
         "anchor": "x2",
         "domain": [
          0.575,
          1
         ]
        },
        "yaxis3": {
         "anchor": "x3",
         "domain": [
          0,
          0.425
         ]
        },
        "yaxis4": {
         "anchor": "x4",
         "domain": [
          0,
          0.425
         ]
        }
       }
      }
     },
     "metadata": {},
     "output_type": "display_data"
    },
    {
     "name": "stdout",
     "output_type": "stream",
     "text": [
      "\n",
      "--- Visualizing Polynomial Weights for Game: sokoban ---\n"
     ]
    },
    {
     "data": {
      "application/vnd.plotly.v1+json": {
       "config": {
        "plotlyServerURL": "https://plot.ly"
       },
       "data": [
        {
         "name": "Comb1_KnowPuzVisMathCode",
         "text": [
          "1.52",
          "3.03",
          "0.60",
          "1.66",
          "1.09"
         ],
         "textposition": "auto",
         "type": "bar",
         "x": [
          "knowledge",
          "puzzle",
          "visual",
          "math",
          "coding"
         ],
         "xaxis": "x",
         "y": [
          1.522003128366926,
          3.0327201448141903,
          0.6024354384570683,
          1.6562979917271718,
          1.089754652970484
         ],
         "yaxis": "y"
        },
        {
         "name": "Comb2_KnowVisMathCode",
         "text": [
          "3.14",
          "0.02",
          "2.67",
          "2.03"
         ],
         "textposition": "auto",
         "type": "bar",
         "x": [
          "knowledge",
          "visual",
          "math",
          "coding"
         ],
         "xaxis": "x2",
         "y": [
          3.1435308405890723,
          0.015284801599137237,
          2.667465788784196,
          2.028272602130582
         ],
         "yaxis": "y2"
        },
        {
         "name": "Comb3_LangPhyVisMathCode",
         "text": [
          "0.40",
          "0.86",
          "0.01",
          "4.13",
          "2.44"
         ],
         "textposition": "auto",
         "type": "bar",
         "x": [
          "language",
          "physics",
          "visual",
          "math",
          "coding"
         ],
         "xaxis": "x3",
         "y": [
          0.39856789359145345,
          0.8626880436768918,
          0.010876258323912837,
          4.133106161906976,
          2.4354999845013365
         ],
         "yaxis": "y3"
        },
        {
         "name": "Comb4_KnowMathCode",
         "text": [
          "3.13",
          "2.68",
          "2.03"
         ],
         "textposition": "auto",
         "type": "bar",
         "x": [
          "knowledge",
          "math",
          "coding"
         ],
         "xaxis": "x4",
         "y": [
          3.1346059282093663,
          2.6754785565889327,
          2.0289809624437902
         ],
         "yaxis": "y4"
        }
       ],
       "layout": {
        "annotations": [
         {
          "font": {
           "size": 16
          },
          "showarrow": false,
          "text": "Comb1_KnowPuzVisMathCode",
          "x": 0.225,
          "xanchor": "center",
          "xref": "paper",
          "y": 1,
          "yanchor": "bottom",
          "yref": "paper"
         },
         {
          "font": {
           "size": 16
          },
          "showarrow": false,
          "text": "Comb2_KnowVisMathCode",
          "x": 0.775,
          "xanchor": "center",
          "xref": "paper",
          "y": 1,
          "yanchor": "bottom",
          "yref": "paper"
         },
         {
          "font": {
           "size": 16
          },
          "showarrow": false,
          "text": "Comb3_LangPhyVisMathCode",
          "x": 0.225,
          "xanchor": "center",
          "xref": "paper",
          "y": 0.425,
          "yanchor": "bottom",
          "yref": "paper"
         },
         {
          "font": {
           "size": 16
          },
          "showarrow": false,
          "text": "Comb4_KnowMathCode",
          "x": 0.775,
          "xanchor": "center",
          "xref": "paper",
          "y": 0.425,
          "yanchor": "bottom",
          "yref": "paper"
         }
        ],
        "height": 700,
        "margin": {
         "t": 100
        },
        "showlegend": false,
        "template": {
         "data": {
          "bar": [
           {
            "error_x": {
             "color": "#2a3f5f"
            },
            "error_y": {
             "color": "#2a3f5f"
            },
            "marker": {
             "line": {
              "color": "#E5ECF6",
              "width": 0.5
             },
             "pattern": {
              "fillmode": "overlay",
              "size": 10,
              "solidity": 0.2
             }
            },
            "type": "bar"
           }
          ],
          "barpolar": [
           {
            "marker": {
             "line": {
              "color": "#E5ECF6",
              "width": 0.5
             },
             "pattern": {
              "fillmode": "overlay",
              "size": 10,
              "solidity": 0.2
             }
            },
            "type": "barpolar"
           }
          ],
          "carpet": [
           {
            "aaxis": {
             "endlinecolor": "#2a3f5f",
             "gridcolor": "white",
             "linecolor": "white",
             "minorgridcolor": "white",
             "startlinecolor": "#2a3f5f"
            },
            "baxis": {
             "endlinecolor": "#2a3f5f",
             "gridcolor": "white",
             "linecolor": "white",
             "minorgridcolor": "white",
             "startlinecolor": "#2a3f5f"
            },
            "type": "carpet"
           }
          ],
          "choropleth": [
           {
            "colorbar": {
             "outlinewidth": 0,
             "ticks": ""
            },
            "type": "choropleth"
           }
          ],
          "contour": [
           {
            "colorbar": {
             "outlinewidth": 0,
             "ticks": ""
            },
            "colorscale": [
             [
              0,
              "#0d0887"
             ],
             [
              0.1111111111111111,
              "#46039f"
             ],
             [
              0.2222222222222222,
              "#7201a8"
             ],
             [
              0.3333333333333333,
              "#9c179e"
             ],
             [
              0.4444444444444444,
              "#bd3786"
             ],
             [
              0.5555555555555556,
              "#d8576b"
             ],
             [
              0.6666666666666666,
              "#ed7953"
             ],
             [
              0.7777777777777778,
              "#fb9f3a"
             ],
             [
              0.8888888888888888,
              "#fdca26"
             ],
             [
              1,
              "#f0f921"
             ]
            ],
            "type": "contour"
           }
          ],
          "contourcarpet": [
           {
            "colorbar": {
             "outlinewidth": 0,
             "ticks": ""
            },
            "type": "contourcarpet"
           }
          ],
          "heatmap": [
           {
            "colorbar": {
             "outlinewidth": 0,
             "ticks": ""
            },
            "colorscale": [
             [
              0,
              "#0d0887"
             ],
             [
              0.1111111111111111,
              "#46039f"
             ],
             [
              0.2222222222222222,
              "#7201a8"
             ],
             [
              0.3333333333333333,
              "#9c179e"
             ],
             [
              0.4444444444444444,
              "#bd3786"
             ],
             [
              0.5555555555555556,
              "#d8576b"
             ],
             [
              0.6666666666666666,
              "#ed7953"
             ],
             [
              0.7777777777777778,
              "#fb9f3a"
             ],
             [
              0.8888888888888888,
              "#fdca26"
             ],
             [
              1,
              "#f0f921"
             ]
            ],
            "type": "heatmap"
           }
          ],
          "histogram": [
           {
            "marker": {
             "pattern": {
              "fillmode": "overlay",
              "size": 10,
              "solidity": 0.2
             }
            },
            "type": "histogram"
           }
          ],
          "histogram2d": [
           {
            "colorbar": {
             "outlinewidth": 0,
             "ticks": ""
            },
            "colorscale": [
             [
              0,
              "#0d0887"
             ],
             [
              0.1111111111111111,
              "#46039f"
             ],
             [
              0.2222222222222222,
              "#7201a8"
             ],
             [
              0.3333333333333333,
              "#9c179e"
             ],
             [
              0.4444444444444444,
              "#bd3786"
             ],
             [
              0.5555555555555556,
              "#d8576b"
             ],
             [
              0.6666666666666666,
              "#ed7953"
             ],
             [
              0.7777777777777778,
              "#fb9f3a"
             ],
             [
              0.8888888888888888,
              "#fdca26"
             ],
             [
              1,
              "#f0f921"
             ]
            ],
            "type": "histogram2d"
           }
          ],
          "histogram2dcontour": [
           {
            "colorbar": {
             "outlinewidth": 0,
             "ticks": ""
            },
            "colorscale": [
             [
              0,
              "#0d0887"
             ],
             [
              0.1111111111111111,
              "#46039f"
             ],
             [
              0.2222222222222222,
              "#7201a8"
             ],
             [
              0.3333333333333333,
              "#9c179e"
             ],
             [
              0.4444444444444444,
              "#bd3786"
             ],
             [
              0.5555555555555556,
              "#d8576b"
             ],
             [
              0.6666666666666666,
              "#ed7953"
             ],
             [
              0.7777777777777778,
              "#fb9f3a"
             ],
             [
              0.8888888888888888,
              "#fdca26"
             ],
             [
              1,
              "#f0f921"
             ]
            ],
            "type": "histogram2dcontour"
           }
          ],
          "mesh3d": [
           {
            "colorbar": {
             "outlinewidth": 0,
             "ticks": ""
            },
            "type": "mesh3d"
           }
          ],
          "parcoords": [
           {
            "line": {
             "colorbar": {
              "outlinewidth": 0,
              "ticks": ""
             }
            },
            "type": "parcoords"
           }
          ],
          "pie": [
           {
            "automargin": true,
            "type": "pie"
           }
          ],
          "scatter": [
           {
            "fillpattern": {
             "fillmode": "overlay",
             "size": 10,
             "solidity": 0.2
            },
            "type": "scatter"
           }
          ],
          "scatter3d": [
           {
            "line": {
             "colorbar": {
              "outlinewidth": 0,
              "ticks": ""
             }
            },
            "marker": {
             "colorbar": {
              "outlinewidth": 0,
              "ticks": ""
             }
            },
            "type": "scatter3d"
           }
          ],
          "scattercarpet": [
           {
            "marker": {
             "colorbar": {
              "outlinewidth": 0,
              "ticks": ""
             }
            },
            "type": "scattercarpet"
           }
          ],
          "scattergeo": [
           {
            "marker": {
             "colorbar": {
              "outlinewidth": 0,
              "ticks": ""
             }
            },
            "type": "scattergeo"
           }
          ],
          "scattergl": [
           {
            "marker": {
             "colorbar": {
              "outlinewidth": 0,
              "ticks": ""
             }
            },
            "type": "scattergl"
           }
          ],
          "scattermap": [
           {
            "marker": {
             "colorbar": {
              "outlinewidth": 0,
              "ticks": ""
             }
            },
            "type": "scattermap"
           }
          ],
          "scattermapbox": [
           {
            "marker": {
             "colorbar": {
              "outlinewidth": 0,
              "ticks": ""
             }
            },
            "type": "scattermapbox"
           }
          ],
          "scatterpolar": [
           {
            "marker": {
             "colorbar": {
              "outlinewidth": 0,
              "ticks": ""
             }
            },
            "type": "scatterpolar"
           }
          ],
          "scatterpolargl": [
           {
            "marker": {
             "colorbar": {
              "outlinewidth": 0,
              "ticks": ""
             }
            },
            "type": "scatterpolargl"
           }
          ],
          "scatterternary": [
           {
            "marker": {
             "colorbar": {
              "outlinewidth": 0,
              "ticks": ""
             }
            },
            "type": "scatterternary"
           }
          ],
          "surface": [
           {
            "colorbar": {
             "outlinewidth": 0,
             "ticks": ""
            },
            "colorscale": [
             [
              0,
              "#0d0887"
             ],
             [
              0.1111111111111111,
              "#46039f"
             ],
             [
              0.2222222222222222,
              "#7201a8"
             ],
             [
              0.3333333333333333,
              "#9c179e"
             ],
             [
              0.4444444444444444,
              "#bd3786"
             ],
             [
              0.5555555555555556,
              "#d8576b"
             ],
             [
              0.6666666666666666,
              "#ed7953"
             ],
             [
              0.7777777777777778,
              "#fb9f3a"
             ],
             [
              0.8888888888888888,
              "#fdca26"
             ],
             [
              1,
              "#f0f921"
             ]
            ],
            "type": "surface"
           }
          ],
          "table": [
           {
            "cells": {
             "fill": {
              "color": "#EBF0F8"
             },
             "line": {
              "color": "white"
             }
            },
            "header": {
             "fill": {
              "color": "#C8D4E3"
             },
             "line": {
              "color": "white"
             }
            },
            "type": "table"
           }
          ]
         },
         "layout": {
          "annotationdefaults": {
           "arrowcolor": "#2a3f5f",
           "arrowhead": 0,
           "arrowwidth": 1
          },
          "autotypenumbers": "strict",
          "coloraxis": {
           "colorbar": {
            "outlinewidth": 0,
            "ticks": ""
           }
          },
          "colorscale": {
           "diverging": [
            [
             0,
             "#8e0152"
            ],
            [
             0.1,
             "#c51b7d"
            ],
            [
             0.2,
             "#de77ae"
            ],
            [
             0.3,
             "#f1b6da"
            ],
            [
             0.4,
             "#fde0ef"
            ],
            [
             0.5,
             "#f7f7f7"
            ],
            [
             0.6,
             "#e6f5d0"
            ],
            [
             0.7,
             "#b8e186"
            ],
            [
             0.8,
             "#7fbc41"
            ],
            [
             0.9,
             "#4d9221"
            ],
            [
             1,
             "#276419"
            ]
           ],
           "sequential": [
            [
             0,
             "#0d0887"
            ],
            [
             0.1111111111111111,
             "#46039f"
            ],
            [
             0.2222222222222222,
             "#7201a8"
            ],
            [
             0.3333333333333333,
             "#9c179e"
            ],
            [
             0.4444444444444444,
             "#bd3786"
            ],
            [
             0.5555555555555556,
             "#d8576b"
            ],
            [
             0.6666666666666666,
             "#ed7953"
            ],
            [
             0.7777777777777778,
             "#fb9f3a"
            ],
            [
             0.8888888888888888,
             "#fdca26"
            ],
            [
             1,
             "#f0f921"
            ]
           ],
           "sequentialminus": [
            [
             0,
             "#0d0887"
            ],
            [
             0.1111111111111111,
             "#46039f"
            ],
            [
             0.2222222222222222,
             "#7201a8"
            ],
            [
             0.3333333333333333,
             "#9c179e"
            ],
            [
             0.4444444444444444,
             "#bd3786"
            ],
            [
             0.5555555555555556,
             "#d8576b"
            ],
            [
             0.6666666666666666,
             "#ed7953"
            ],
            [
             0.7777777777777778,
             "#fb9f3a"
            ],
            [
             0.8888888888888888,
             "#fdca26"
            ],
            [
             1,
             "#f0f921"
            ]
           ]
          },
          "colorway": [
           "#636efa",
           "#EF553B",
           "#00cc96",
           "#ab63fa",
           "#FFA15A",
           "#19d3f3",
           "#FF6692",
           "#B6E880",
           "#FF97FF",
           "#FECB52"
          ],
          "font": {
           "color": "#2a3f5f"
          },
          "geo": {
           "bgcolor": "white",
           "lakecolor": "white",
           "landcolor": "#E5ECF6",
           "showlakes": true,
           "showland": true,
           "subunitcolor": "white"
          },
          "hoverlabel": {
           "align": "left"
          },
          "hovermode": "closest",
          "mapbox": {
           "style": "light"
          },
          "paper_bgcolor": "white",
          "plot_bgcolor": "#E5ECF6",
          "polar": {
           "angularaxis": {
            "gridcolor": "white",
            "linecolor": "white",
            "ticks": ""
           },
           "bgcolor": "#E5ECF6",
           "radialaxis": {
            "gridcolor": "white",
            "linecolor": "white",
            "ticks": ""
           }
          },
          "scene": {
           "xaxis": {
            "backgroundcolor": "#E5ECF6",
            "gridcolor": "white",
            "gridwidth": 2,
            "linecolor": "white",
            "showbackground": true,
            "ticks": "",
            "zerolinecolor": "white"
           },
           "yaxis": {
            "backgroundcolor": "#E5ECF6",
            "gridcolor": "white",
            "gridwidth": 2,
            "linecolor": "white",
            "showbackground": true,
            "ticks": "",
            "zerolinecolor": "white"
           },
           "zaxis": {
            "backgroundcolor": "#E5ECF6",
            "gridcolor": "white",
            "gridwidth": 2,
            "linecolor": "white",
            "showbackground": true,
            "ticks": "",
            "zerolinecolor": "white"
           }
          },
          "shapedefaults": {
           "line": {
            "color": "#2a3f5f"
           }
          },
          "ternary": {
           "aaxis": {
            "gridcolor": "white",
            "linecolor": "white",
            "ticks": ""
           },
           "baxis": {
            "gridcolor": "white",
            "linecolor": "white",
            "ticks": ""
           },
           "bgcolor": "#E5ECF6",
           "caxis": {
            "gridcolor": "white",
            "linecolor": "white",
            "ticks": ""
           }
          },
          "title": {
           "x": 0.05
          },
          "xaxis": {
           "automargin": true,
           "gridcolor": "white",
           "linecolor": "white",
           "ticks": "",
           "title": {
            "standoff": 15
           },
           "zerolinecolor": "white",
           "zerolinewidth": 2
          },
          "yaxis": {
           "automargin": true,
           "gridcolor": "white",
           "linecolor": "white",
           "ticks": "",
           "title": {
            "standoff": 15
           },
           "zerolinecolor": "white",
           "zerolinewidth": 2
          }
         }
        },
        "title": {
         "text": "Polynomial Category Weights for sokoban (harness_true_deg1)"
        },
        "xaxis": {
         "anchor": "y",
         "domain": [
          0,
          0.45
         ]
        },
        "xaxis2": {
         "anchor": "y2",
         "domain": [
          0.55,
          1
         ]
        },
        "xaxis3": {
         "anchor": "y3",
         "domain": [
          0,
          0.45
         ]
        },
        "xaxis4": {
         "anchor": "y4",
         "domain": [
          0.55,
          1
         ]
        },
        "yaxis": {
         "anchor": "x",
         "domain": [
          0.575,
          1
         ]
        },
        "yaxis2": {
         "anchor": "x2",
         "domain": [
          0.575,
          1
         ]
        },
        "yaxis3": {
         "anchor": "x3",
         "domain": [
          0,
          0.425
         ]
        },
        "yaxis4": {
         "anchor": "x4",
         "domain": [
          0,
          0.425
         ]
        }
       }
      }
     },
     "metadata": {},
     "output_type": "display_data"
    },
    {
     "name": "stdout",
     "output_type": "stream",
     "text": [
      "\n",
      "--- Visualizing Polynomial Weights for Game: super_mario_bros ---\n"
     ]
    },
    {
     "data": {
      "application/vnd.plotly.v1+json": {
       "config": {
        "plotlyServerURL": "https://plot.ly"
       },
       "data": [
        {
         "name": "Comb1_KnowPuzVisMathCode",
         "text": [
          "0.00",
          "0.00",
          "0.00",
          "2.36",
          "0.20"
         ],
         "textposition": "auto",
         "type": "bar",
         "x": [
          "knowledge",
          "puzzle",
          "visual",
          "math",
          "coding"
         ],
         "xaxis": "x",
         "y": [
          0,
          0,
          0,
          2.360752758083194,
          0.19719242591105485
         ],
         "yaxis": "y"
        },
        {
         "name": "Comb2_KnowVisMathCode",
         "text": [
          "0.00",
          "0.00",
          "2.36",
          "0.20"
         ],
         "textposition": "auto",
         "type": "bar",
         "x": [
          "knowledge",
          "visual",
          "math",
          "coding"
         ],
         "xaxis": "x2",
         "y": [
          0,
          0,
          2.362157651018744,
          0.19937815496217384
         ],
         "yaxis": "y2"
        },
        {
         "name": "Comb3_LangPhyVisMathCode",
         "text": [
          "0.32",
          "2.47",
          "0.00",
          "0.01",
          "0.00"
         ],
         "textposition": "auto",
         "type": "bar",
         "x": [
          "language",
          "physics",
          "visual",
          "math",
          "coding"
         ],
         "xaxis": "x3",
         "y": [
          0.3236274494333752,
          2.4725039058219394,
          0,
          0.009940218710082948,
          0
         ],
         "yaxis": "y3"
        },
        {
         "name": "Comb4_KnowMathCode",
         "text": [
          "0.00",
          "2.36",
          "0.20"
         ],
         "textposition": "auto",
         "type": "bar",
         "x": [
          "knowledge",
          "math",
          "coding"
         ],
         "xaxis": "x4",
         "y": [
          0,
          2.3582613810121904,
          0.19773428947355184
         ],
         "yaxis": "y4"
        }
       ],
       "layout": {
        "annotations": [
         {
          "font": {
           "size": 16
          },
          "showarrow": false,
          "text": "Comb1_KnowPuzVisMathCode",
          "x": 0.225,
          "xanchor": "center",
          "xref": "paper",
          "y": 1,
          "yanchor": "bottom",
          "yref": "paper"
         },
         {
          "font": {
           "size": 16
          },
          "showarrow": false,
          "text": "Comb2_KnowVisMathCode",
          "x": 0.775,
          "xanchor": "center",
          "xref": "paper",
          "y": 1,
          "yanchor": "bottom",
          "yref": "paper"
         },
         {
          "font": {
           "size": 16
          },
          "showarrow": false,
          "text": "Comb3_LangPhyVisMathCode",
          "x": 0.225,
          "xanchor": "center",
          "xref": "paper",
          "y": 0.425,
          "yanchor": "bottom",
          "yref": "paper"
         },
         {
          "font": {
           "size": 16
          },
          "showarrow": false,
          "text": "Comb4_KnowMathCode",
          "x": 0.775,
          "xanchor": "center",
          "xref": "paper",
          "y": 0.425,
          "yanchor": "bottom",
          "yref": "paper"
         }
        ],
        "height": 700,
        "margin": {
         "t": 100
        },
        "showlegend": false,
        "template": {
         "data": {
          "bar": [
           {
            "error_x": {
             "color": "#2a3f5f"
            },
            "error_y": {
             "color": "#2a3f5f"
            },
            "marker": {
             "line": {
              "color": "#E5ECF6",
              "width": 0.5
             },
             "pattern": {
              "fillmode": "overlay",
              "size": 10,
              "solidity": 0.2
             }
            },
            "type": "bar"
           }
          ],
          "barpolar": [
           {
            "marker": {
             "line": {
              "color": "#E5ECF6",
              "width": 0.5
             },
             "pattern": {
              "fillmode": "overlay",
              "size": 10,
              "solidity": 0.2
             }
            },
            "type": "barpolar"
           }
          ],
          "carpet": [
           {
            "aaxis": {
             "endlinecolor": "#2a3f5f",
             "gridcolor": "white",
             "linecolor": "white",
             "minorgridcolor": "white",
             "startlinecolor": "#2a3f5f"
            },
            "baxis": {
             "endlinecolor": "#2a3f5f",
             "gridcolor": "white",
             "linecolor": "white",
             "minorgridcolor": "white",
             "startlinecolor": "#2a3f5f"
            },
            "type": "carpet"
           }
          ],
          "choropleth": [
           {
            "colorbar": {
             "outlinewidth": 0,
             "ticks": ""
            },
            "type": "choropleth"
           }
          ],
          "contour": [
           {
            "colorbar": {
             "outlinewidth": 0,
             "ticks": ""
            },
            "colorscale": [
             [
              0,
              "#0d0887"
             ],
             [
              0.1111111111111111,
              "#46039f"
             ],
             [
              0.2222222222222222,
              "#7201a8"
             ],
             [
              0.3333333333333333,
              "#9c179e"
             ],
             [
              0.4444444444444444,
              "#bd3786"
             ],
             [
              0.5555555555555556,
              "#d8576b"
             ],
             [
              0.6666666666666666,
              "#ed7953"
             ],
             [
              0.7777777777777778,
              "#fb9f3a"
             ],
             [
              0.8888888888888888,
              "#fdca26"
             ],
             [
              1,
              "#f0f921"
             ]
            ],
            "type": "contour"
           }
          ],
          "contourcarpet": [
           {
            "colorbar": {
             "outlinewidth": 0,
             "ticks": ""
            },
            "type": "contourcarpet"
           }
          ],
          "heatmap": [
           {
            "colorbar": {
             "outlinewidth": 0,
             "ticks": ""
            },
            "colorscale": [
             [
              0,
              "#0d0887"
             ],
             [
              0.1111111111111111,
              "#46039f"
             ],
             [
              0.2222222222222222,
              "#7201a8"
             ],
             [
              0.3333333333333333,
              "#9c179e"
             ],
             [
              0.4444444444444444,
              "#bd3786"
             ],
             [
              0.5555555555555556,
              "#d8576b"
             ],
             [
              0.6666666666666666,
              "#ed7953"
             ],
             [
              0.7777777777777778,
              "#fb9f3a"
             ],
             [
              0.8888888888888888,
              "#fdca26"
             ],
             [
              1,
              "#f0f921"
             ]
            ],
            "type": "heatmap"
           }
          ],
          "histogram": [
           {
            "marker": {
             "pattern": {
              "fillmode": "overlay",
              "size": 10,
              "solidity": 0.2
             }
            },
            "type": "histogram"
           }
          ],
          "histogram2d": [
           {
            "colorbar": {
             "outlinewidth": 0,
             "ticks": ""
            },
            "colorscale": [
             [
              0,
              "#0d0887"
             ],
             [
              0.1111111111111111,
              "#46039f"
             ],
             [
              0.2222222222222222,
              "#7201a8"
             ],
             [
              0.3333333333333333,
              "#9c179e"
             ],
             [
              0.4444444444444444,
              "#bd3786"
             ],
             [
              0.5555555555555556,
              "#d8576b"
             ],
             [
              0.6666666666666666,
              "#ed7953"
             ],
             [
              0.7777777777777778,
              "#fb9f3a"
             ],
             [
              0.8888888888888888,
              "#fdca26"
             ],
             [
              1,
              "#f0f921"
             ]
            ],
            "type": "histogram2d"
           }
          ],
          "histogram2dcontour": [
           {
            "colorbar": {
             "outlinewidth": 0,
             "ticks": ""
            },
            "colorscale": [
             [
              0,
              "#0d0887"
             ],
             [
              0.1111111111111111,
              "#46039f"
             ],
             [
              0.2222222222222222,
              "#7201a8"
             ],
             [
              0.3333333333333333,
              "#9c179e"
             ],
             [
              0.4444444444444444,
              "#bd3786"
             ],
             [
              0.5555555555555556,
              "#d8576b"
             ],
             [
              0.6666666666666666,
              "#ed7953"
             ],
             [
              0.7777777777777778,
              "#fb9f3a"
             ],
             [
              0.8888888888888888,
              "#fdca26"
             ],
             [
              1,
              "#f0f921"
             ]
            ],
            "type": "histogram2dcontour"
           }
          ],
          "mesh3d": [
           {
            "colorbar": {
             "outlinewidth": 0,
             "ticks": ""
            },
            "type": "mesh3d"
           }
          ],
          "parcoords": [
           {
            "line": {
             "colorbar": {
              "outlinewidth": 0,
              "ticks": ""
             }
            },
            "type": "parcoords"
           }
          ],
          "pie": [
           {
            "automargin": true,
            "type": "pie"
           }
          ],
          "scatter": [
           {
            "fillpattern": {
             "fillmode": "overlay",
             "size": 10,
             "solidity": 0.2
            },
            "type": "scatter"
           }
          ],
          "scatter3d": [
           {
            "line": {
             "colorbar": {
              "outlinewidth": 0,
              "ticks": ""
             }
            },
            "marker": {
             "colorbar": {
              "outlinewidth": 0,
              "ticks": ""
             }
            },
            "type": "scatter3d"
           }
          ],
          "scattercarpet": [
           {
            "marker": {
             "colorbar": {
              "outlinewidth": 0,
              "ticks": ""
             }
            },
            "type": "scattercarpet"
           }
          ],
          "scattergeo": [
           {
            "marker": {
             "colorbar": {
              "outlinewidth": 0,
              "ticks": ""
             }
            },
            "type": "scattergeo"
           }
          ],
          "scattergl": [
           {
            "marker": {
             "colorbar": {
              "outlinewidth": 0,
              "ticks": ""
             }
            },
            "type": "scattergl"
           }
          ],
          "scattermap": [
           {
            "marker": {
             "colorbar": {
              "outlinewidth": 0,
              "ticks": ""
             }
            },
            "type": "scattermap"
           }
          ],
          "scattermapbox": [
           {
            "marker": {
             "colorbar": {
              "outlinewidth": 0,
              "ticks": ""
             }
            },
            "type": "scattermapbox"
           }
          ],
          "scatterpolar": [
           {
            "marker": {
             "colorbar": {
              "outlinewidth": 0,
              "ticks": ""
             }
            },
            "type": "scatterpolar"
           }
          ],
          "scatterpolargl": [
           {
            "marker": {
             "colorbar": {
              "outlinewidth": 0,
              "ticks": ""
             }
            },
            "type": "scatterpolargl"
           }
          ],
          "scatterternary": [
           {
            "marker": {
             "colorbar": {
              "outlinewidth": 0,
              "ticks": ""
             }
            },
            "type": "scatterternary"
           }
          ],
          "surface": [
           {
            "colorbar": {
             "outlinewidth": 0,
             "ticks": ""
            },
            "colorscale": [
             [
              0,
              "#0d0887"
             ],
             [
              0.1111111111111111,
              "#46039f"
             ],
             [
              0.2222222222222222,
              "#7201a8"
             ],
             [
              0.3333333333333333,
              "#9c179e"
             ],
             [
              0.4444444444444444,
              "#bd3786"
             ],
             [
              0.5555555555555556,
              "#d8576b"
             ],
             [
              0.6666666666666666,
              "#ed7953"
             ],
             [
              0.7777777777777778,
              "#fb9f3a"
             ],
             [
              0.8888888888888888,
              "#fdca26"
             ],
             [
              1,
              "#f0f921"
             ]
            ],
            "type": "surface"
           }
          ],
          "table": [
           {
            "cells": {
             "fill": {
              "color": "#EBF0F8"
             },
             "line": {
              "color": "white"
             }
            },
            "header": {
             "fill": {
              "color": "#C8D4E3"
             },
             "line": {
              "color": "white"
             }
            },
            "type": "table"
           }
          ]
         },
         "layout": {
          "annotationdefaults": {
           "arrowcolor": "#2a3f5f",
           "arrowhead": 0,
           "arrowwidth": 1
          },
          "autotypenumbers": "strict",
          "coloraxis": {
           "colorbar": {
            "outlinewidth": 0,
            "ticks": ""
           }
          },
          "colorscale": {
           "diverging": [
            [
             0,
             "#8e0152"
            ],
            [
             0.1,
             "#c51b7d"
            ],
            [
             0.2,
             "#de77ae"
            ],
            [
             0.3,
             "#f1b6da"
            ],
            [
             0.4,
             "#fde0ef"
            ],
            [
             0.5,
             "#f7f7f7"
            ],
            [
             0.6,
             "#e6f5d0"
            ],
            [
             0.7,
             "#b8e186"
            ],
            [
             0.8,
             "#7fbc41"
            ],
            [
             0.9,
             "#4d9221"
            ],
            [
             1,
             "#276419"
            ]
           ],
           "sequential": [
            [
             0,
             "#0d0887"
            ],
            [
             0.1111111111111111,
             "#46039f"
            ],
            [
             0.2222222222222222,
             "#7201a8"
            ],
            [
             0.3333333333333333,
             "#9c179e"
            ],
            [
             0.4444444444444444,
             "#bd3786"
            ],
            [
             0.5555555555555556,
             "#d8576b"
            ],
            [
             0.6666666666666666,
             "#ed7953"
            ],
            [
             0.7777777777777778,
             "#fb9f3a"
            ],
            [
             0.8888888888888888,
             "#fdca26"
            ],
            [
             1,
             "#f0f921"
            ]
           ],
           "sequentialminus": [
            [
             0,
             "#0d0887"
            ],
            [
             0.1111111111111111,
             "#46039f"
            ],
            [
             0.2222222222222222,
             "#7201a8"
            ],
            [
             0.3333333333333333,
             "#9c179e"
            ],
            [
             0.4444444444444444,
             "#bd3786"
            ],
            [
             0.5555555555555556,
             "#d8576b"
            ],
            [
             0.6666666666666666,
             "#ed7953"
            ],
            [
             0.7777777777777778,
             "#fb9f3a"
            ],
            [
             0.8888888888888888,
             "#fdca26"
            ],
            [
             1,
             "#f0f921"
            ]
           ]
          },
          "colorway": [
           "#636efa",
           "#EF553B",
           "#00cc96",
           "#ab63fa",
           "#FFA15A",
           "#19d3f3",
           "#FF6692",
           "#B6E880",
           "#FF97FF",
           "#FECB52"
          ],
          "font": {
           "color": "#2a3f5f"
          },
          "geo": {
           "bgcolor": "white",
           "lakecolor": "white",
           "landcolor": "#E5ECF6",
           "showlakes": true,
           "showland": true,
           "subunitcolor": "white"
          },
          "hoverlabel": {
           "align": "left"
          },
          "hovermode": "closest",
          "mapbox": {
           "style": "light"
          },
          "paper_bgcolor": "white",
          "plot_bgcolor": "#E5ECF6",
          "polar": {
           "angularaxis": {
            "gridcolor": "white",
            "linecolor": "white",
            "ticks": ""
           },
           "bgcolor": "#E5ECF6",
           "radialaxis": {
            "gridcolor": "white",
            "linecolor": "white",
            "ticks": ""
           }
          },
          "scene": {
           "xaxis": {
            "backgroundcolor": "#E5ECF6",
            "gridcolor": "white",
            "gridwidth": 2,
            "linecolor": "white",
            "showbackground": true,
            "ticks": "",
            "zerolinecolor": "white"
           },
           "yaxis": {
            "backgroundcolor": "#E5ECF6",
            "gridcolor": "white",
            "gridwidth": 2,
            "linecolor": "white",
            "showbackground": true,
            "ticks": "",
            "zerolinecolor": "white"
           },
           "zaxis": {
            "backgroundcolor": "#E5ECF6",
            "gridcolor": "white",
            "gridwidth": 2,
            "linecolor": "white",
            "showbackground": true,
            "ticks": "",
            "zerolinecolor": "white"
           }
          },
          "shapedefaults": {
           "line": {
            "color": "#2a3f5f"
           }
          },
          "ternary": {
           "aaxis": {
            "gridcolor": "white",
            "linecolor": "white",
            "ticks": ""
           },
           "baxis": {
            "gridcolor": "white",
            "linecolor": "white",
            "ticks": ""
           },
           "bgcolor": "#E5ECF6",
           "caxis": {
            "gridcolor": "white",
            "linecolor": "white",
            "ticks": ""
           }
          },
          "title": {
           "x": 0.05
          },
          "xaxis": {
           "automargin": true,
           "gridcolor": "white",
           "linecolor": "white",
           "ticks": "",
           "title": {
            "standoff": 15
           },
           "zerolinecolor": "white",
           "zerolinewidth": 2
          },
          "yaxis": {
           "automargin": true,
           "gridcolor": "white",
           "linecolor": "white",
           "ticks": "",
           "title": {
            "standoff": 15
           },
           "zerolinecolor": "white",
           "zerolinewidth": 2
          }
         }
        },
        "title": {
         "text": "Polynomial Category Weights for super_mario_bros (harness_true_deg1)"
        },
        "xaxis": {
         "anchor": "y",
         "domain": [
          0,
          0.45
         ]
        },
        "xaxis2": {
         "anchor": "y2",
         "domain": [
          0.55,
          1
         ]
        },
        "xaxis3": {
         "anchor": "y3",
         "domain": [
          0,
          0.45
         ]
        },
        "xaxis4": {
         "anchor": "y4",
         "domain": [
          0.55,
          1
         ]
        },
        "yaxis": {
         "anchor": "x",
         "domain": [
          0.575,
          1
         ]
        },
        "yaxis2": {
         "anchor": "x2",
         "domain": [
          0.575,
          1
         ]
        },
        "yaxis3": {
         "anchor": "x3",
         "domain": [
          0,
          0.425
         ]
        },
        "yaxis4": {
         "anchor": "x4",
         "domain": [
          0,
          0.425
         ]
        }
       }
      }
     },
     "metadata": {},
     "output_type": "display_data"
    },
    {
     "name": "stdout",
     "output_type": "stream",
     "text": [
      "\n",
      "--- Visualizing Polynomial Weights for Game: tetris ---\n"
     ]
    },
    {
     "data": {
      "application/vnd.plotly.v1+json": {
       "config": {
        "plotlyServerURL": "https://plot.ly"
       },
       "data": [
        {
         "name": "Comb1_KnowPuzVisMathCode",
         "text": [
          "0.00",
          "6.56",
          "0.97",
          "0.01",
          "0.46"
         ],
         "textposition": "auto",
         "type": "bar",
         "x": [
          "knowledge",
          "puzzle",
          "visual",
          "math",
          "coding"
         ],
         "xaxis": "x",
         "y": [
          0.00007608581701719908,
          6.559590212626979,
          0.9658057806432601,
          0.00656849621692145,
          0.45880047260317397
         ],
         "yaxis": "y"
        },
        {
         "name": "Comb2_KnowVisMathCode",
         "text": [
          "3.69",
          "0.15",
          "1.06",
          "2.11"
         ],
         "textposition": "auto",
         "type": "bar",
         "x": [
          "knowledge",
          "visual",
          "math",
          "coding"
         ],
         "xaxis": "x2",
         "y": [
          3.688930728737149,
          0.15375500008570384,
          1.0598926260923731,
          2.1051954888917646
         ],
         "yaxis": "y2"
        },
        {
         "name": "Comb3_LangPhyVisMathCode",
         "text": [
          "1.71",
          "0.00",
          "0.64",
          "2.67",
          "2.34"
         ],
         "textposition": "auto",
         "type": "bar",
         "x": [
          "language",
          "physics",
          "visual",
          "math",
          "coding"
         ],
         "xaxis": "x3",
         "y": [
          1.7085708699423083,
          0,
          0.6354745287454153,
          2.6681537757628964,
          2.3425759930351147
         ],
         "yaxis": "y3"
        },
        {
         "name": "Comb4_KnowMathCode",
         "text": [
          "3.67",
          "1.21",
          "2.14"
         ],
         "textposition": "auto",
         "type": "bar",
         "x": [
          "knowledge",
          "math",
          "coding"
         ],
         "xaxis": "x4",
         "y": [
          3.6718526306235675,
          1.2116269114880078,
          2.140737736379029
         ],
         "yaxis": "y4"
        }
       ],
       "layout": {
        "annotations": [
         {
          "font": {
           "size": 16
          },
          "showarrow": false,
          "text": "Comb1_KnowPuzVisMathCode",
          "x": 0.225,
          "xanchor": "center",
          "xref": "paper",
          "y": 1,
          "yanchor": "bottom",
          "yref": "paper"
         },
         {
          "font": {
           "size": 16
          },
          "showarrow": false,
          "text": "Comb2_KnowVisMathCode",
          "x": 0.775,
          "xanchor": "center",
          "xref": "paper",
          "y": 1,
          "yanchor": "bottom",
          "yref": "paper"
         },
         {
          "font": {
           "size": 16
          },
          "showarrow": false,
          "text": "Comb3_LangPhyVisMathCode",
          "x": 0.225,
          "xanchor": "center",
          "xref": "paper",
          "y": 0.425,
          "yanchor": "bottom",
          "yref": "paper"
         },
         {
          "font": {
           "size": 16
          },
          "showarrow": false,
          "text": "Comb4_KnowMathCode",
          "x": 0.775,
          "xanchor": "center",
          "xref": "paper",
          "y": 0.425,
          "yanchor": "bottom",
          "yref": "paper"
         }
        ],
        "height": 700,
        "margin": {
         "t": 100
        },
        "showlegend": false,
        "template": {
         "data": {
          "bar": [
           {
            "error_x": {
             "color": "#2a3f5f"
            },
            "error_y": {
             "color": "#2a3f5f"
            },
            "marker": {
             "line": {
              "color": "#E5ECF6",
              "width": 0.5
             },
             "pattern": {
              "fillmode": "overlay",
              "size": 10,
              "solidity": 0.2
             }
            },
            "type": "bar"
           }
          ],
          "barpolar": [
           {
            "marker": {
             "line": {
              "color": "#E5ECF6",
              "width": 0.5
             },
             "pattern": {
              "fillmode": "overlay",
              "size": 10,
              "solidity": 0.2
             }
            },
            "type": "barpolar"
           }
          ],
          "carpet": [
           {
            "aaxis": {
             "endlinecolor": "#2a3f5f",
             "gridcolor": "white",
             "linecolor": "white",
             "minorgridcolor": "white",
             "startlinecolor": "#2a3f5f"
            },
            "baxis": {
             "endlinecolor": "#2a3f5f",
             "gridcolor": "white",
             "linecolor": "white",
             "minorgridcolor": "white",
             "startlinecolor": "#2a3f5f"
            },
            "type": "carpet"
           }
          ],
          "choropleth": [
           {
            "colorbar": {
             "outlinewidth": 0,
             "ticks": ""
            },
            "type": "choropleth"
           }
          ],
          "contour": [
           {
            "colorbar": {
             "outlinewidth": 0,
             "ticks": ""
            },
            "colorscale": [
             [
              0,
              "#0d0887"
             ],
             [
              0.1111111111111111,
              "#46039f"
             ],
             [
              0.2222222222222222,
              "#7201a8"
             ],
             [
              0.3333333333333333,
              "#9c179e"
             ],
             [
              0.4444444444444444,
              "#bd3786"
             ],
             [
              0.5555555555555556,
              "#d8576b"
             ],
             [
              0.6666666666666666,
              "#ed7953"
             ],
             [
              0.7777777777777778,
              "#fb9f3a"
             ],
             [
              0.8888888888888888,
              "#fdca26"
             ],
             [
              1,
              "#f0f921"
             ]
            ],
            "type": "contour"
           }
          ],
          "contourcarpet": [
           {
            "colorbar": {
             "outlinewidth": 0,
             "ticks": ""
            },
            "type": "contourcarpet"
           }
          ],
          "heatmap": [
           {
            "colorbar": {
             "outlinewidth": 0,
             "ticks": ""
            },
            "colorscale": [
             [
              0,
              "#0d0887"
             ],
             [
              0.1111111111111111,
              "#46039f"
             ],
             [
              0.2222222222222222,
              "#7201a8"
             ],
             [
              0.3333333333333333,
              "#9c179e"
             ],
             [
              0.4444444444444444,
              "#bd3786"
             ],
             [
              0.5555555555555556,
              "#d8576b"
             ],
             [
              0.6666666666666666,
              "#ed7953"
             ],
             [
              0.7777777777777778,
              "#fb9f3a"
             ],
             [
              0.8888888888888888,
              "#fdca26"
             ],
             [
              1,
              "#f0f921"
             ]
            ],
            "type": "heatmap"
           }
          ],
          "histogram": [
           {
            "marker": {
             "pattern": {
              "fillmode": "overlay",
              "size": 10,
              "solidity": 0.2
             }
            },
            "type": "histogram"
           }
          ],
          "histogram2d": [
           {
            "colorbar": {
             "outlinewidth": 0,
             "ticks": ""
            },
            "colorscale": [
             [
              0,
              "#0d0887"
             ],
             [
              0.1111111111111111,
              "#46039f"
             ],
             [
              0.2222222222222222,
              "#7201a8"
             ],
             [
              0.3333333333333333,
              "#9c179e"
             ],
             [
              0.4444444444444444,
              "#bd3786"
             ],
             [
              0.5555555555555556,
              "#d8576b"
             ],
             [
              0.6666666666666666,
              "#ed7953"
             ],
             [
              0.7777777777777778,
              "#fb9f3a"
             ],
             [
              0.8888888888888888,
              "#fdca26"
             ],
             [
              1,
              "#f0f921"
             ]
            ],
            "type": "histogram2d"
           }
          ],
          "histogram2dcontour": [
           {
            "colorbar": {
             "outlinewidth": 0,
             "ticks": ""
            },
            "colorscale": [
             [
              0,
              "#0d0887"
             ],
             [
              0.1111111111111111,
              "#46039f"
             ],
             [
              0.2222222222222222,
              "#7201a8"
             ],
             [
              0.3333333333333333,
              "#9c179e"
             ],
             [
              0.4444444444444444,
              "#bd3786"
             ],
             [
              0.5555555555555556,
              "#d8576b"
             ],
             [
              0.6666666666666666,
              "#ed7953"
             ],
             [
              0.7777777777777778,
              "#fb9f3a"
             ],
             [
              0.8888888888888888,
              "#fdca26"
             ],
             [
              1,
              "#f0f921"
             ]
            ],
            "type": "histogram2dcontour"
           }
          ],
          "mesh3d": [
           {
            "colorbar": {
             "outlinewidth": 0,
             "ticks": ""
            },
            "type": "mesh3d"
           }
          ],
          "parcoords": [
           {
            "line": {
             "colorbar": {
              "outlinewidth": 0,
              "ticks": ""
             }
            },
            "type": "parcoords"
           }
          ],
          "pie": [
           {
            "automargin": true,
            "type": "pie"
           }
          ],
          "scatter": [
           {
            "fillpattern": {
             "fillmode": "overlay",
             "size": 10,
             "solidity": 0.2
            },
            "type": "scatter"
           }
          ],
          "scatter3d": [
           {
            "line": {
             "colorbar": {
              "outlinewidth": 0,
              "ticks": ""
             }
            },
            "marker": {
             "colorbar": {
              "outlinewidth": 0,
              "ticks": ""
             }
            },
            "type": "scatter3d"
           }
          ],
          "scattercarpet": [
           {
            "marker": {
             "colorbar": {
              "outlinewidth": 0,
              "ticks": ""
             }
            },
            "type": "scattercarpet"
           }
          ],
          "scattergeo": [
           {
            "marker": {
             "colorbar": {
              "outlinewidth": 0,
              "ticks": ""
             }
            },
            "type": "scattergeo"
           }
          ],
          "scattergl": [
           {
            "marker": {
             "colorbar": {
              "outlinewidth": 0,
              "ticks": ""
             }
            },
            "type": "scattergl"
           }
          ],
          "scattermap": [
           {
            "marker": {
             "colorbar": {
              "outlinewidth": 0,
              "ticks": ""
             }
            },
            "type": "scattermap"
           }
          ],
          "scattermapbox": [
           {
            "marker": {
             "colorbar": {
              "outlinewidth": 0,
              "ticks": ""
             }
            },
            "type": "scattermapbox"
           }
          ],
          "scatterpolar": [
           {
            "marker": {
             "colorbar": {
              "outlinewidth": 0,
              "ticks": ""
             }
            },
            "type": "scatterpolar"
           }
          ],
          "scatterpolargl": [
           {
            "marker": {
             "colorbar": {
              "outlinewidth": 0,
              "ticks": ""
             }
            },
            "type": "scatterpolargl"
           }
          ],
          "scatterternary": [
           {
            "marker": {
             "colorbar": {
              "outlinewidth": 0,
              "ticks": ""
             }
            },
            "type": "scatterternary"
           }
          ],
          "surface": [
           {
            "colorbar": {
             "outlinewidth": 0,
             "ticks": ""
            },
            "colorscale": [
             [
              0,
              "#0d0887"
             ],
             [
              0.1111111111111111,
              "#46039f"
             ],
             [
              0.2222222222222222,
              "#7201a8"
             ],
             [
              0.3333333333333333,
              "#9c179e"
             ],
             [
              0.4444444444444444,
              "#bd3786"
             ],
             [
              0.5555555555555556,
              "#d8576b"
             ],
             [
              0.6666666666666666,
              "#ed7953"
             ],
             [
              0.7777777777777778,
              "#fb9f3a"
             ],
             [
              0.8888888888888888,
              "#fdca26"
             ],
             [
              1,
              "#f0f921"
             ]
            ],
            "type": "surface"
           }
          ],
          "table": [
           {
            "cells": {
             "fill": {
              "color": "#EBF0F8"
             },
             "line": {
              "color": "white"
             }
            },
            "header": {
             "fill": {
              "color": "#C8D4E3"
             },
             "line": {
              "color": "white"
             }
            },
            "type": "table"
           }
          ]
         },
         "layout": {
          "annotationdefaults": {
           "arrowcolor": "#2a3f5f",
           "arrowhead": 0,
           "arrowwidth": 1
          },
          "autotypenumbers": "strict",
          "coloraxis": {
           "colorbar": {
            "outlinewidth": 0,
            "ticks": ""
           }
          },
          "colorscale": {
           "diverging": [
            [
             0,
             "#8e0152"
            ],
            [
             0.1,
             "#c51b7d"
            ],
            [
             0.2,
             "#de77ae"
            ],
            [
             0.3,
             "#f1b6da"
            ],
            [
             0.4,
             "#fde0ef"
            ],
            [
             0.5,
             "#f7f7f7"
            ],
            [
             0.6,
             "#e6f5d0"
            ],
            [
             0.7,
             "#b8e186"
            ],
            [
             0.8,
             "#7fbc41"
            ],
            [
             0.9,
             "#4d9221"
            ],
            [
             1,
             "#276419"
            ]
           ],
           "sequential": [
            [
             0,
             "#0d0887"
            ],
            [
             0.1111111111111111,
             "#46039f"
            ],
            [
             0.2222222222222222,
             "#7201a8"
            ],
            [
             0.3333333333333333,
             "#9c179e"
            ],
            [
             0.4444444444444444,
             "#bd3786"
            ],
            [
             0.5555555555555556,
             "#d8576b"
            ],
            [
             0.6666666666666666,
             "#ed7953"
            ],
            [
             0.7777777777777778,
             "#fb9f3a"
            ],
            [
             0.8888888888888888,
             "#fdca26"
            ],
            [
             1,
             "#f0f921"
            ]
           ],
           "sequentialminus": [
            [
             0,
             "#0d0887"
            ],
            [
             0.1111111111111111,
             "#46039f"
            ],
            [
             0.2222222222222222,
             "#7201a8"
            ],
            [
             0.3333333333333333,
             "#9c179e"
            ],
            [
             0.4444444444444444,
             "#bd3786"
            ],
            [
             0.5555555555555556,
             "#d8576b"
            ],
            [
             0.6666666666666666,
             "#ed7953"
            ],
            [
             0.7777777777777778,
             "#fb9f3a"
            ],
            [
             0.8888888888888888,
             "#fdca26"
            ],
            [
             1,
             "#f0f921"
            ]
           ]
          },
          "colorway": [
           "#636efa",
           "#EF553B",
           "#00cc96",
           "#ab63fa",
           "#FFA15A",
           "#19d3f3",
           "#FF6692",
           "#B6E880",
           "#FF97FF",
           "#FECB52"
          ],
          "font": {
           "color": "#2a3f5f"
          },
          "geo": {
           "bgcolor": "white",
           "lakecolor": "white",
           "landcolor": "#E5ECF6",
           "showlakes": true,
           "showland": true,
           "subunitcolor": "white"
          },
          "hoverlabel": {
           "align": "left"
          },
          "hovermode": "closest",
          "mapbox": {
           "style": "light"
          },
          "paper_bgcolor": "white",
          "plot_bgcolor": "#E5ECF6",
          "polar": {
           "angularaxis": {
            "gridcolor": "white",
            "linecolor": "white",
            "ticks": ""
           },
           "bgcolor": "#E5ECF6",
           "radialaxis": {
            "gridcolor": "white",
            "linecolor": "white",
            "ticks": ""
           }
          },
          "scene": {
           "xaxis": {
            "backgroundcolor": "#E5ECF6",
            "gridcolor": "white",
            "gridwidth": 2,
            "linecolor": "white",
            "showbackground": true,
            "ticks": "",
            "zerolinecolor": "white"
           },
           "yaxis": {
            "backgroundcolor": "#E5ECF6",
            "gridcolor": "white",
            "gridwidth": 2,
            "linecolor": "white",
            "showbackground": true,
            "ticks": "",
            "zerolinecolor": "white"
           },
           "zaxis": {
            "backgroundcolor": "#E5ECF6",
            "gridcolor": "white",
            "gridwidth": 2,
            "linecolor": "white",
            "showbackground": true,
            "ticks": "",
            "zerolinecolor": "white"
           }
          },
          "shapedefaults": {
           "line": {
            "color": "#2a3f5f"
           }
          },
          "ternary": {
           "aaxis": {
            "gridcolor": "white",
            "linecolor": "white",
            "ticks": ""
           },
           "baxis": {
            "gridcolor": "white",
            "linecolor": "white",
            "ticks": ""
           },
           "bgcolor": "#E5ECF6",
           "caxis": {
            "gridcolor": "white",
            "linecolor": "white",
            "ticks": ""
           }
          },
          "title": {
           "x": 0.05
          },
          "xaxis": {
           "automargin": true,
           "gridcolor": "white",
           "linecolor": "white",
           "ticks": "",
           "title": {
            "standoff": 15
           },
           "zerolinecolor": "white",
           "zerolinewidth": 2
          },
          "yaxis": {
           "automargin": true,
           "gridcolor": "white",
           "linecolor": "white",
           "ticks": "",
           "title": {
            "standoff": 15
           },
           "zerolinecolor": "white",
           "zerolinewidth": 2
          }
         }
        },
        "title": {
         "text": "Polynomial Category Weights for tetris (harness_true_deg1)"
        },
        "xaxis": {
         "anchor": "y",
         "domain": [
          0,
          0.45
         ]
        },
        "xaxis2": {
         "anchor": "y2",
         "domain": [
          0.55,
          1
         ]
        },
        "xaxis3": {
         "anchor": "y3",
         "domain": [
          0,
          0.45
         ]
        },
        "xaxis4": {
         "anchor": "y4",
         "domain": [
          0.55,
          1
         ]
        },
        "yaxis": {
         "anchor": "x",
         "domain": [
          0.575,
          1
         ]
        },
        "yaxis2": {
         "anchor": "x2",
         "domain": [
          0.575,
          1
         ]
        },
        "yaxis3": {
         "anchor": "x3",
         "domain": [
          0,
          0.425
         ]
        },
        "yaxis4": {
         "anchor": "x4",
         "domain": [
          0,
          0.425
         ]
        }
       }
      }
     },
     "metadata": {},
     "output_type": "display_data"
    },
    {
     "name": "stdout",
     "output_type": "stream",
     "text": [
      "\n",
      "--- Visualizing Polynomial Weights for Game: twenty_forty_eight ---\n"
     ]
    },
    {
     "data": {
      "application/vnd.plotly.v1+json": {
       "config": {
        "plotlyServerURL": "https://plot.ly"
       },
       "data": [
        {
         "name": "Comb1_KnowPuzVisMathCode",
         "text": [
          "0.01",
          "6.67",
          "0.82",
          "0.00",
          "0.00"
         ],
         "textposition": "auto",
         "type": "bar",
         "x": [
          "knowledge",
          "puzzle",
          "visual",
          "math",
          "coding"
         ],
         "xaxis": "x",
         "y": [
          0.007488020793017313,
          6.669941379868095,
          0.8205821870649624,
          0.003469785909669696,
          0
         ],
         "yaxis": "y"
        },
        {
         "name": "Comb2_KnowVisMathCode",
         "text": [
          "2.75",
          "1.71",
          "0.60",
          "1.10"
         ],
         "textposition": "auto",
         "type": "bar",
         "x": [
          "knowledge",
          "visual",
          "math",
          "coding"
         ],
         "xaxis": "x2",
         "y": [
          2.7450790028725334,
          1.7117065642915723,
          0.5982760079104744,
          1.1038427770323542
         ],
         "yaxis": "y2"
        },
        {
         "name": "Comb3_LangPhyVisMathCode",
         "text": [
          "1.47",
          "0.00",
          "2.07",
          "1.69",
          "1.22"
         ],
         "textposition": "auto",
         "type": "bar",
         "x": [
          "language",
          "physics",
          "visual",
          "math",
          "coding"
         ],
         "xaxis": "x3",
         "y": [
          1.4734033447323507,
          0,
          2.065298892681565,
          1.6939375797082248,
          1.2244652945974963
         ],
         "yaxis": "y3"
        },
        {
         "name": "Comb4_KnowMathCode",
         "text": [
          "2.83",
          "1.96",
          "1.38"
         ],
         "textposition": "auto",
         "type": "bar",
         "x": [
          "knowledge",
          "math",
          "coding"
         ],
         "xaxis": "x4",
         "y": [
          2.8326002863758823,
          1.9583100753960663,
          1.3827378811081419
         ],
         "yaxis": "y4"
        }
       ],
       "layout": {
        "annotations": [
         {
          "font": {
           "size": 16
          },
          "showarrow": false,
          "text": "Comb1_KnowPuzVisMathCode",
          "x": 0.225,
          "xanchor": "center",
          "xref": "paper",
          "y": 1,
          "yanchor": "bottom",
          "yref": "paper"
         },
         {
          "font": {
           "size": 16
          },
          "showarrow": false,
          "text": "Comb2_KnowVisMathCode",
          "x": 0.775,
          "xanchor": "center",
          "xref": "paper",
          "y": 1,
          "yanchor": "bottom",
          "yref": "paper"
         },
         {
          "font": {
           "size": 16
          },
          "showarrow": false,
          "text": "Comb3_LangPhyVisMathCode",
          "x": 0.225,
          "xanchor": "center",
          "xref": "paper",
          "y": 0.425,
          "yanchor": "bottom",
          "yref": "paper"
         },
         {
          "font": {
           "size": 16
          },
          "showarrow": false,
          "text": "Comb4_KnowMathCode",
          "x": 0.775,
          "xanchor": "center",
          "xref": "paper",
          "y": 0.425,
          "yanchor": "bottom",
          "yref": "paper"
         }
        ],
        "height": 700,
        "margin": {
         "t": 100
        },
        "showlegend": false,
        "template": {
         "data": {
          "bar": [
           {
            "error_x": {
             "color": "#2a3f5f"
            },
            "error_y": {
             "color": "#2a3f5f"
            },
            "marker": {
             "line": {
              "color": "#E5ECF6",
              "width": 0.5
             },
             "pattern": {
              "fillmode": "overlay",
              "size": 10,
              "solidity": 0.2
             }
            },
            "type": "bar"
           }
          ],
          "barpolar": [
           {
            "marker": {
             "line": {
              "color": "#E5ECF6",
              "width": 0.5
             },
             "pattern": {
              "fillmode": "overlay",
              "size": 10,
              "solidity": 0.2
             }
            },
            "type": "barpolar"
           }
          ],
          "carpet": [
           {
            "aaxis": {
             "endlinecolor": "#2a3f5f",
             "gridcolor": "white",
             "linecolor": "white",
             "minorgridcolor": "white",
             "startlinecolor": "#2a3f5f"
            },
            "baxis": {
             "endlinecolor": "#2a3f5f",
             "gridcolor": "white",
             "linecolor": "white",
             "minorgridcolor": "white",
             "startlinecolor": "#2a3f5f"
            },
            "type": "carpet"
           }
          ],
          "choropleth": [
           {
            "colorbar": {
             "outlinewidth": 0,
             "ticks": ""
            },
            "type": "choropleth"
           }
          ],
          "contour": [
           {
            "colorbar": {
             "outlinewidth": 0,
             "ticks": ""
            },
            "colorscale": [
             [
              0,
              "#0d0887"
             ],
             [
              0.1111111111111111,
              "#46039f"
             ],
             [
              0.2222222222222222,
              "#7201a8"
             ],
             [
              0.3333333333333333,
              "#9c179e"
             ],
             [
              0.4444444444444444,
              "#bd3786"
             ],
             [
              0.5555555555555556,
              "#d8576b"
             ],
             [
              0.6666666666666666,
              "#ed7953"
             ],
             [
              0.7777777777777778,
              "#fb9f3a"
             ],
             [
              0.8888888888888888,
              "#fdca26"
             ],
             [
              1,
              "#f0f921"
             ]
            ],
            "type": "contour"
           }
          ],
          "contourcarpet": [
           {
            "colorbar": {
             "outlinewidth": 0,
             "ticks": ""
            },
            "type": "contourcarpet"
           }
          ],
          "heatmap": [
           {
            "colorbar": {
             "outlinewidth": 0,
             "ticks": ""
            },
            "colorscale": [
             [
              0,
              "#0d0887"
             ],
             [
              0.1111111111111111,
              "#46039f"
             ],
             [
              0.2222222222222222,
              "#7201a8"
             ],
             [
              0.3333333333333333,
              "#9c179e"
             ],
             [
              0.4444444444444444,
              "#bd3786"
             ],
             [
              0.5555555555555556,
              "#d8576b"
             ],
             [
              0.6666666666666666,
              "#ed7953"
             ],
             [
              0.7777777777777778,
              "#fb9f3a"
             ],
             [
              0.8888888888888888,
              "#fdca26"
             ],
             [
              1,
              "#f0f921"
             ]
            ],
            "type": "heatmap"
           }
          ],
          "histogram": [
           {
            "marker": {
             "pattern": {
              "fillmode": "overlay",
              "size": 10,
              "solidity": 0.2
             }
            },
            "type": "histogram"
           }
          ],
          "histogram2d": [
           {
            "colorbar": {
             "outlinewidth": 0,
             "ticks": ""
            },
            "colorscale": [
             [
              0,
              "#0d0887"
             ],
             [
              0.1111111111111111,
              "#46039f"
             ],
             [
              0.2222222222222222,
              "#7201a8"
             ],
             [
              0.3333333333333333,
              "#9c179e"
             ],
             [
              0.4444444444444444,
              "#bd3786"
             ],
             [
              0.5555555555555556,
              "#d8576b"
             ],
             [
              0.6666666666666666,
              "#ed7953"
             ],
             [
              0.7777777777777778,
              "#fb9f3a"
             ],
             [
              0.8888888888888888,
              "#fdca26"
             ],
             [
              1,
              "#f0f921"
             ]
            ],
            "type": "histogram2d"
           }
          ],
          "histogram2dcontour": [
           {
            "colorbar": {
             "outlinewidth": 0,
             "ticks": ""
            },
            "colorscale": [
             [
              0,
              "#0d0887"
             ],
             [
              0.1111111111111111,
              "#46039f"
             ],
             [
              0.2222222222222222,
              "#7201a8"
             ],
             [
              0.3333333333333333,
              "#9c179e"
             ],
             [
              0.4444444444444444,
              "#bd3786"
             ],
             [
              0.5555555555555556,
              "#d8576b"
             ],
             [
              0.6666666666666666,
              "#ed7953"
             ],
             [
              0.7777777777777778,
              "#fb9f3a"
             ],
             [
              0.8888888888888888,
              "#fdca26"
             ],
             [
              1,
              "#f0f921"
             ]
            ],
            "type": "histogram2dcontour"
           }
          ],
          "mesh3d": [
           {
            "colorbar": {
             "outlinewidth": 0,
             "ticks": ""
            },
            "type": "mesh3d"
           }
          ],
          "parcoords": [
           {
            "line": {
             "colorbar": {
              "outlinewidth": 0,
              "ticks": ""
             }
            },
            "type": "parcoords"
           }
          ],
          "pie": [
           {
            "automargin": true,
            "type": "pie"
           }
          ],
          "scatter": [
           {
            "fillpattern": {
             "fillmode": "overlay",
             "size": 10,
             "solidity": 0.2
            },
            "type": "scatter"
           }
          ],
          "scatter3d": [
           {
            "line": {
             "colorbar": {
              "outlinewidth": 0,
              "ticks": ""
             }
            },
            "marker": {
             "colorbar": {
              "outlinewidth": 0,
              "ticks": ""
             }
            },
            "type": "scatter3d"
           }
          ],
          "scattercarpet": [
           {
            "marker": {
             "colorbar": {
              "outlinewidth": 0,
              "ticks": ""
             }
            },
            "type": "scattercarpet"
           }
          ],
          "scattergeo": [
           {
            "marker": {
             "colorbar": {
              "outlinewidth": 0,
              "ticks": ""
             }
            },
            "type": "scattergeo"
           }
          ],
          "scattergl": [
           {
            "marker": {
             "colorbar": {
              "outlinewidth": 0,
              "ticks": ""
             }
            },
            "type": "scattergl"
           }
          ],
          "scattermap": [
           {
            "marker": {
             "colorbar": {
              "outlinewidth": 0,
              "ticks": ""
             }
            },
            "type": "scattermap"
           }
          ],
          "scattermapbox": [
           {
            "marker": {
             "colorbar": {
              "outlinewidth": 0,
              "ticks": ""
             }
            },
            "type": "scattermapbox"
           }
          ],
          "scatterpolar": [
           {
            "marker": {
             "colorbar": {
              "outlinewidth": 0,
              "ticks": ""
             }
            },
            "type": "scatterpolar"
           }
          ],
          "scatterpolargl": [
           {
            "marker": {
             "colorbar": {
              "outlinewidth": 0,
              "ticks": ""
             }
            },
            "type": "scatterpolargl"
           }
          ],
          "scatterternary": [
           {
            "marker": {
             "colorbar": {
              "outlinewidth": 0,
              "ticks": ""
             }
            },
            "type": "scatterternary"
           }
          ],
          "surface": [
           {
            "colorbar": {
             "outlinewidth": 0,
             "ticks": ""
            },
            "colorscale": [
             [
              0,
              "#0d0887"
             ],
             [
              0.1111111111111111,
              "#46039f"
             ],
             [
              0.2222222222222222,
              "#7201a8"
             ],
             [
              0.3333333333333333,
              "#9c179e"
             ],
             [
              0.4444444444444444,
              "#bd3786"
             ],
             [
              0.5555555555555556,
              "#d8576b"
             ],
             [
              0.6666666666666666,
              "#ed7953"
             ],
             [
              0.7777777777777778,
              "#fb9f3a"
             ],
             [
              0.8888888888888888,
              "#fdca26"
             ],
             [
              1,
              "#f0f921"
             ]
            ],
            "type": "surface"
           }
          ],
          "table": [
           {
            "cells": {
             "fill": {
              "color": "#EBF0F8"
             },
             "line": {
              "color": "white"
             }
            },
            "header": {
             "fill": {
              "color": "#C8D4E3"
             },
             "line": {
              "color": "white"
             }
            },
            "type": "table"
           }
          ]
         },
         "layout": {
          "annotationdefaults": {
           "arrowcolor": "#2a3f5f",
           "arrowhead": 0,
           "arrowwidth": 1
          },
          "autotypenumbers": "strict",
          "coloraxis": {
           "colorbar": {
            "outlinewidth": 0,
            "ticks": ""
           }
          },
          "colorscale": {
           "diverging": [
            [
             0,
             "#8e0152"
            ],
            [
             0.1,
             "#c51b7d"
            ],
            [
             0.2,
             "#de77ae"
            ],
            [
             0.3,
             "#f1b6da"
            ],
            [
             0.4,
             "#fde0ef"
            ],
            [
             0.5,
             "#f7f7f7"
            ],
            [
             0.6,
             "#e6f5d0"
            ],
            [
             0.7,
             "#b8e186"
            ],
            [
             0.8,
             "#7fbc41"
            ],
            [
             0.9,
             "#4d9221"
            ],
            [
             1,
             "#276419"
            ]
           ],
           "sequential": [
            [
             0,
             "#0d0887"
            ],
            [
             0.1111111111111111,
             "#46039f"
            ],
            [
             0.2222222222222222,
             "#7201a8"
            ],
            [
             0.3333333333333333,
             "#9c179e"
            ],
            [
             0.4444444444444444,
             "#bd3786"
            ],
            [
             0.5555555555555556,
             "#d8576b"
            ],
            [
             0.6666666666666666,
             "#ed7953"
            ],
            [
             0.7777777777777778,
             "#fb9f3a"
            ],
            [
             0.8888888888888888,
             "#fdca26"
            ],
            [
             1,
             "#f0f921"
            ]
           ],
           "sequentialminus": [
            [
             0,
             "#0d0887"
            ],
            [
             0.1111111111111111,
             "#46039f"
            ],
            [
             0.2222222222222222,
             "#7201a8"
            ],
            [
             0.3333333333333333,
             "#9c179e"
            ],
            [
             0.4444444444444444,
             "#bd3786"
            ],
            [
             0.5555555555555556,
             "#d8576b"
            ],
            [
             0.6666666666666666,
             "#ed7953"
            ],
            [
             0.7777777777777778,
             "#fb9f3a"
            ],
            [
             0.8888888888888888,
             "#fdca26"
            ],
            [
             1,
             "#f0f921"
            ]
           ]
          },
          "colorway": [
           "#636efa",
           "#EF553B",
           "#00cc96",
           "#ab63fa",
           "#FFA15A",
           "#19d3f3",
           "#FF6692",
           "#B6E880",
           "#FF97FF",
           "#FECB52"
          ],
          "font": {
           "color": "#2a3f5f"
          },
          "geo": {
           "bgcolor": "white",
           "lakecolor": "white",
           "landcolor": "#E5ECF6",
           "showlakes": true,
           "showland": true,
           "subunitcolor": "white"
          },
          "hoverlabel": {
           "align": "left"
          },
          "hovermode": "closest",
          "mapbox": {
           "style": "light"
          },
          "paper_bgcolor": "white",
          "plot_bgcolor": "#E5ECF6",
          "polar": {
           "angularaxis": {
            "gridcolor": "white",
            "linecolor": "white",
            "ticks": ""
           },
           "bgcolor": "#E5ECF6",
           "radialaxis": {
            "gridcolor": "white",
            "linecolor": "white",
            "ticks": ""
           }
          },
          "scene": {
           "xaxis": {
            "backgroundcolor": "#E5ECF6",
            "gridcolor": "white",
            "gridwidth": 2,
            "linecolor": "white",
            "showbackground": true,
            "ticks": "",
            "zerolinecolor": "white"
           },
           "yaxis": {
            "backgroundcolor": "#E5ECF6",
            "gridcolor": "white",
            "gridwidth": 2,
            "linecolor": "white",
            "showbackground": true,
            "ticks": "",
            "zerolinecolor": "white"
           },
           "zaxis": {
            "backgroundcolor": "#E5ECF6",
            "gridcolor": "white",
            "gridwidth": 2,
            "linecolor": "white",
            "showbackground": true,
            "ticks": "",
            "zerolinecolor": "white"
           }
          },
          "shapedefaults": {
           "line": {
            "color": "#2a3f5f"
           }
          },
          "ternary": {
           "aaxis": {
            "gridcolor": "white",
            "linecolor": "white",
            "ticks": ""
           },
           "baxis": {
            "gridcolor": "white",
            "linecolor": "white",
            "ticks": ""
           },
           "bgcolor": "#E5ECF6",
           "caxis": {
            "gridcolor": "white",
            "linecolor": "white",
            "ticks": ""
           }
          },
          "title": {
           "x": 0.05
          },
          "xaxis": {
           "automargin": true,
           "gridcolor": "white",
           "linecolor": "white",
           "ticks": "",
           "title": {
            "standoff": 15
           },
           "zerolinecolor": "white",
           "zerolinewidth": 2
          },
          "yaxis": {
           "automargin": true,
           "gridcolor": "white",
           "linecolor": "white",
           "ticks": "",
           "title": {
            "standoff": 15
           },
           "zerolinecolor": "white",
           "zerolinewidth": 2
          }
         }
        },
        "title": {
         "text": "Polynomial Category Weights for twenty_forty_eight (harness_true_deg1)"
        },
        "xaxis": {
         "anchor": "y",
         "domain": [
          0,
          0.45
         ]
        },
        "xaxis2": {
         "anchor": "y2",
         "domain": [
          0.55,
          1
         ]
        },
        "xaxis3": {
         "anchor": "y3",
         "domain": [
          0,
          0.45
         ]
        },
        "xaxis4": {
         "anchor": "y4",
         "domain": [
          0.55,
          1
         ]
        },
        "yaxis": {
         "anchor": "x",
         "domain": [
          0.575,
          1
         ]
        },
        "yaxis2": {
         "anchor": "x2",
         "domain": [
          0.575,
          1
         ]
        },
        "yaxis3": {
         "anchor": "x3",
         "domain": [
          0,
          0.425
         ]
        },
        "yaxis4": {
         "anchor": "x4",
         "domain": [
          0,
          0.425
         ]
        }
       }
      }
     },
     "metadata": {},
     "output_type": "display_data"
    }
   ],
   "source": [
    "### Visualize polynomial category weights\n",
    "import plotly.graph_objects as go\n",
    "from plotly.subplots import make_subplots\n",
    "import math # For ceil\n",
    "\n",
    "def visualize_polynomial_category_weights(polynomial_results):\n",
    "    \"\"\"\n",
    "    Visualizes the feature weights of the original selected categories from\n",
    "    the polynomial model results using bar charts.\n",
    "\n",
    "    Args:\n",
    "        polynomial_results (dict): The output from run_polynomial_analysis_notebook.\n",
    "                                   Structure: {game: {combo_name: {harness_deg_key: {config:..., feature_weights:...}}}}\n",
    "    \"\"\"\n",
    "    if not polynomial_results:\n",
    "        print(\"Polynomial results are empty. No weights to visualize.\")\n",
    "        return\n",
    "\n",
    "    for game_name, game_data in polynomial_results.items():\n",
    "        if not game_data:\n",
    "            print(f\"No combination data for game: {game_name}\")\n",
    "            continue\n",
    "\n",
    "        print(f\"\\n--- Visualizing Polynomial Weights for Game: {game_name} ---\")\n",
    "\n",
    "        num_combinations = len(game_data)\n",
    "        if num_combinations == 0:\n",
    "            continue\n",
    "\n",
    "        # Determine subplot layout (e.g., 2 columns)\n",
    "        cols = 2\n",
    "        rows = math.ceil(num_combinations / cols)\n",
    "        \n",
    "        # Collect all unique harness_deg_keys to create separate figures if they differ\n",
    "        # Or, decide on a strategy, e.g., only plot for a specific degree or harness.\n",
    "        # For simplicity here, let's assume we primarily care about one harness/degree combo\n",
    "        # or we plot the first one found for each game-combination.\n",
    "        # A more robust solution would iterate or allow selection of harness_deg_key.\n",
    "\n",
    "        # Let's find all unique harness_deg_keys to make plots for each if they exist.\n",
    "        all_harness_deg_keys_in_game = set()\n",
    "        for comb_name, comb_data in game_data.items():\n",
    "            all_harness_deg_keys_in_game.update(comb_data.keys())\n",
    "\n",
    "        for harness_deg_key_to_plot in sorted(list(all_harness_deg_keys_in_game)):\n",
    "            \n",
    "            # Filter combinations that actually have this harness_deg_key\n",
    "            valid_combs_for_this_key = {\n",
    "                cn: cd[harness_deg_key_to_plot] \n",
    "                for cn, cd in game_data.items() \n",
    "                if harness_deg_key_to_plot in cd and 'config' in cd[harness_deg_key_to_plot] and 'feature_weights' in cd[harness_deg_key_to_plot]\n",
    "            }\n",
    "\n",
    "            if not valid_combs_for_this_key:\n",
    "                continue\n",
    "\n",
    "            num_valid_combinations = len(valid_combs_for_this_key)\n",
    "            cols_fig = 2\n",
    "            rows_fig = math.ceil(num_valid_combinations / cols_fig)\n",
    "            \n",
    "            if num_valid_combinations == 0:\n",
    "                continue\n",
    "\n",
    "            fig_title = f\"Polynomial Category Weights for {game_name} ({harness_deg_key_to_plot})\"\n",
    "            try:\n",
    "                fig = make_subplots(\n",
    "                    rows=rows_fig, cols=cols_fig,\n",
    "                    subplot_titles=[f\"{cn}\" for cn in valid_combs_for_this_key.keys()],\n",
    "                    vertical_spacing=0.15, horizontal_spacing=0.1\n",
    "                )\n",
    "            except Exception as e:\n",
    "                print(f\"Error creating subplots for {game_name} ({harness_deg_key_to_plot}): {e}. Number of combs: {num_valid_combinations}\")\n",
    "                print(f\"Subplot titles attempted: {[f'{cn}' for cn in valid_combs_for_this_key.keys()]}\")\n",
    "                continue\n",
    "\n",
    "\n",
    "            current_row, current_col = 1, 1\n",
    "            for comb_idx, (comb_name, comb_run_data) in enumerate(valid_combs_for_this_key.items()):\n",
    "                config = comb_run_data.get('config')\n",
    "                weights = comb_run_data.get('feature_weights')\n",
    "\n",
    "                if not config or not weights:\n",
    "                    print(f\"Skipping {game_name} - {comb_name} ({harness_deg_key_to_plot}): Missing config or weights.\")\n",
    "                    continue\n",
    "\n",
    "                r_categories_used = config.get('R_categories_used', [])\n",
    "                if not r_categories_used:\n",
    "                    # print(f\"Skipping {game_name} - {comb_name} ({harness_deg_key_to_plot}): No R_categories_used in config.\")\n",
    "                    continue\n",
    "                \n",
    "                # Filter weights to only include the base R_categories_used\n",
    "                base_category_weights = {cat: weights.get(cat, 0.0) for cat in r_categories_used}\n",
    "                \n",
    "                categories_to_plot = list(base_category_weights.keys())\n",
    "                weights_to_plot = list(base_category_weights.values())\n",
    "\n",
    "                if not categories_to_plot:\n",
    "                    # print(f\"No base category weights to plot for {game_name} - {comb_name} ({harness_deg_key_to_plot}).\")\n",
    "                    # Add an empty trace to keep subplot structure if needed, or just skip\n",
    "                    # fig.add_trace(go.Bar(x=[], y=[]), row=current_row, col=current_col)\n",
    "                    pass # Or handle by not incrementing subplot index\n",
    "                else:\n",
    "                    fig.add_trace(\n",
    "                        go.Bar(name=comb_name, x=categories_to_plot, y=weights_to_plot,\n",
    "                               text= [f'{w:.2f}' for w in weights_to_plot], textposition='auto'),\n",
    "                        row=current_row, col=current_col\n",
    "                    )\n",
    "\n",
    "                current_col += 1\n",
    "                if current_col > cols_fig:\n",
    "                    current_col = 1\n",
    "                    current_row += 1\n",
    "            \n",
    "            if fig.data: # Only show if there's something to plot\n",
    "                fig.update_layout(\n",
    "                    title_text=fig_title,\n",
    "                    height=350 * rows_fig, # Adjust height based on number of rows\n",
    "                    showlegend=False,\n",
    "                    margin=dict(t=100) # Add top margin for main title\n",
    "                )\n",
    "                fig.show()\n",
    "\n",
    "\n",
    "polynomial_results_file = POLYNOMIAL_MODEL_RESULTS_JSON_PATH # Or your POLYNOMIAL_MODEL_RESULTS_JSON_PATH\n",
    "all_polynomial_results_loaded = {}\n",
    "try:\n",
    "    with open(polynomial_results_file, 'r') as f:\n",
    "        all_polynomial_results_loaded = json.load(f)\n",
    "    print(f\"Successfully loaded polynomial results from {polynomial_results_file}\")\n",
    "except FileNotFoundError:\n",
    "    print(f\"Error: Polynomial results file not found at {polynomial_results_file}\")\n",
    "except json.JSONDecodeError:\n",
    "    print(f\"Error: Could not decode JSON from {polynomial_results_file}\")\n",
    "except Exception as e:\n",
    "    print(f\"An unexpected error occurred while loading {polynomial_results_file}: {e}\")\n",
    "\n",
    "if all_polynomial_results_loaded:\n",
    "    visualize_polynomial_category_weights(all_polynomial_results_loaded)\n",
    "else:\n",
    "    # If you have `all_polynomial_results` in memory from the previous step:\n",
    "    # visualize_polynomial_category_weights(all_polynomial_results)\n",
    "    print(\"Please ensure 'all_polynomial_results' is available or loaded correctly.\")"
   ]
  },
  {
   "cell_type": "markdown",
   "metadata": {},
   "source": [
    "### Correlation Study\n",
    "1. Correlation Map\n",
    "2. Feature Decomposition"
   ]
  },
  {
   "cell_type": "code",
   "execution_count": 7,
   "metadata": {},
   "outputs": [],
   "source": [
    "import pandas as pd\n",
    "import numpy as np\n",
    "from scipy.stats import pearsonr, rankdata\n",
    "import seaborn as sns\n",
    "import matplotlib.pyplot as plt\n",
    "from sklearn.manifold import TSNE\n",
    "from collections import defaultdict\n",
    "from itertools import chain\n",
    "import numpy as np\n",
    "import cvxpy as cp\n",
    "from scipy.optimize import minimize, LinearConstraint\n"
   ]
  },
  {
   "cell_type": "code",
   "execution_count": 8,
   "metadata": {},
   "outputs": [],
   "source": [
    "def factorize_with_scipy_no_bias(Y, d, lambda_l1=0.01, lambda_l2_m=0.01, lambda_l2_b=0.01):\n",
    "    T, S = Y.shape\n",
    "\n",
    "    def unpack(x):\n",
    "        M = x[:T*d].reshape(T, d)\n",
    "        B = x[T*d:T*d + S*d].reshape(S, d)\n",
    "        return M, B\n",
    "\n",
    "    def loss_fn(x):\n",
    "        M, B = unpack(x)\n",
    "        Y_hat = M @ B.T # change this line to handle null values in Y, so for positions if nan values in Y, don't need to compute the Y_hat\n",
    "            \n",
    "        mask = ~np.isnan(Y)\n",
    "        \n",
    "        loss = np.sum((Y[mask] - Y_hat[mask])**2)\n",
    "        l1 = lambda_l1 * np.sum(np.abs(B))\n",
    "        l2 = lambda_l2_m * np.sum(M**2) + lambda_l2_b * np.sum(B**2) \n",
    "        \n",
    "        # Soft constraint loss: encourage M[2, k] <= M[3, k] for all k\n",
    "        # soft_constraint = np.sum(np.maximum(M[2] - M[3], 0.0)**2)\n",
    "        # pairwise = lambda_pair * soft_constraint\n",
    "\n",
    "        return loss + l1 + l2\n",
    "\n",
    "    x0 = np.random.rand((T + S) * d)\n",
    "    \n",
    "    bounds = [(0, None)] * len(x0)\n",
    "    res = minimize(loss_fn, x0, bounds=bounds, method='L-BFGS-B', options={\n",
    "        'maxfun': 50000,     # maximum number of function evaluations\n",
    "        'maxiter': 50000,    # maximum number of iterations\n",
    "        'disp': True        # optional: print progress\n",
    "    })\n",
    "    success, loss = res.success, res.fun\n",
    "\n",
    "    M_opt, B_opt = unpack(res.x)\n",
    "    return M_opt, B_opt, success, loss\n",
    "\n",
    "def factorize_with_scipy_bias(Y, d, lambda_l1=0.01, lambda_l2_m=0.01, lambda_l2_b=0.01):\n",
    "    T, S = Y.shape\n",
    "\n",
    "    def unpack(x):\n",
    "        M = x[:T*d].reshape(T, d)\n",
    "        B = x[T*d:T*d + S*d].reshape(S, d)\n",
    "        v = x[T*d + S*d:].reshape(S)  # Benchmark bias\n",
    "        return M, B, v\n",
    "    \n",
    "    def loss_fn(x):\n",
    "        M, B, v = unpack(x)\n",
    "        Y_hat = M @ B.T + v[None, :]  # Add benchmark bias\n",
    "        \n",
    "        mask = ~np.isnan(Y)\n",
    "\n",
    "        loss = np.sum((Y[mask] - Y_hat[mask])**2)\n",
    "        l1 = lambda_l1 * np.sum(np.abs(B))\n",
    "        l2 = lambda_l2_m * np.sum(M**2) + lambda_l2_b * np.sum(B**2) \n",
    "        \n",
    "        return loss + l1 + l2\n",
    "\n",
    "    # Initial values\n",
    "    x0 = np.random.rand((T + S) * d + S)\n",
    "    \n",
    "    bounds = [(0, None)] * len(x0)\n",
    "    res = minimize(loss_fn, x0, bounds=bounds, method='L-BFGS-B',options={\n",
    "        'maxfun': 50000,     # maximum number of function evaluations\n",
    "        'maxiter': 50000,    # maximum number of iterations\n",
    "        'disp': True        # optional: print progress\n",
    "    })\n",
    "    success, loss = res.success, res.fun\n",
    "\n",
    "    M_opt, B_opt, v_opt = unpack(res.x)\n",
    "    return M_opt, B_opt, v_opt, success, loss"
   ]
  },
  {
   "cell_type": "code",
   "execution_count": 9,
   "metadata": {},
   "outputs": [],
   "source": [
    "benchmark_data = {\n",
    "    \"MMLU-Pro\": [78.4, 82.7, 84.1, 79.4, 69.1, 83.5, 85.6, 80.6],\n",
    "    \"GPQA\": [59.1, 75.3, 80.3, 67.7, 53, 73, 83.6, 74.5],\n",
    "    \"HLE\": [4.08, 9.04, 17.8, 5.68, 2.72, 7.96, 20.32, 18.08],\n",
    "    \"HLE(Text)\": [4.32, 7.89, 18.38, 5.34, 2.32, 7.75, 20.57, 18.9],\n",
    "    \"Emma-mini Physics\": [38, 65, 81, None, 44, 49, 76, 77],\n",
    "    \"PHYBench\": [None, 15.3, 36.9, None, 7, 18, 34.8, 29.4], \n",
    "    \"EnigmaEval\": [0.91, 4.23, 2.36, 0.58, 0.8, 5.56, 11.91, 9.21], \n",
    "    \"nyt-connections\": [17.7, 33.6, 42.5, 19.1, 25.2, 70.8, 79.5, 68.8], \n",
    "    \"VISTA\": [38.72, 48.23, 54.65, 38.33, 37.99, 45.25, 50.07, 51.79], \n",
    "    \"chatbot Arena_vision\": [1183, 1208, 1379, 1185, 1126, 1231, 1302, 1265], \n",
    "    \"MMMU\": [68.9, 76, 81.5, 72.6, 68.1, 77.7, 80.1, 79.7], \n",
    "    \"Math 500\": [72.4, 91.6, 95.2, 85.2, 74, 90.4, 94.6, 94.2], \n",
    "    \"AIME 2025\": [4.6, 40, 84.2, 17.5, 9.6, 69.6, 83.8, 82.7], \n",
    "    \"EMMA-mini Math\": [30, 45, 60, None, 30, 41, 48, 56],\n",
    "    \"LiveBench-Math\": [50.54, 79, 88.63, 60.58, 41.48, 79.28, 85, 84.9], \n",
    "    \"LiveBench-Coding\": [73.9, 73.19, 72.87, 54.19, 69.29, 57.14, 76.71, 79.98], \n",
    "    \"BigCodeBench Pass@1\": [30.4, 35.8, 33.1, 28.4, 31.1, 35.5, None, None], \n",
    "    \"Aider polyglot coding\": [51.6, 64.9, 76.9, 15.6, 18.2, 61.7, 79.6, 72], \n",
    "    \"LiveBench-Language\": [54.48, 68.27, 71.81, 49.65, 44.68, 72.15, 76, 66.05],\n",
    "    \"Multi Challenge\": [43.2, 51.58, 49.91, 32.06, 27.81, 44.93, 56.51, 42.99],\n",
    "    \"Sokoban\": [0, 2.3, 4.3, 0, 0, 2.3, 8, 5.3],\n",
    "    # \"SMB\": [1267.7, 1418.7, 1498.3, 1468.7, 2047.3, 855, 3445, 1448],\n",
    "    \"Tetris\": [14.7, 16.3, 23.3, 10.3, 14, 35, 43, 25.3],\n",
    "    \"2048\": [108.2, 113.3, 117.3, 106.0, 106.7, 128.9, 128, 120.6],\n",
    "    \"Candy Crush\": [106.0, 484, 416.3, 128.7, 147.3, 159, 647, 487.3],\n",
    "    \"Ace Attorney\": [2, 7, 7, 0, 0, 16, 16, 4]\n",
    "}\n",
    "benchmark_df = pd.DataFrame(benchmark_data).reset_index(drop=True)\n",
    "\n",
    "columns_to_normalize = [\"Sokoban\", \"Tetris\", \"2048\", \"Candy Crush\", \"Ace Attorney\"]\n",
    "\n",
    "# Normalizing only the specified columns\n",
    "# benchmark_df[columns_to_normalize] = benchmark_df[columns_to_normalize].apply(\n",
    "#     lambda x: (x - x.min()) / (x.max() - x.min()) * 99 + 1\n",
    "# )\n",
    "\n",
    "model_names = [\"claude-3-5-sonnet-20241022\", \"claude-3-7-sonnet-20250219\", \n",
    "               \"gemini-2.5-pro-preview-05-06\", \"llama-4-maverick-17b-128e-instruct-fp8\",\n",
    "               \"gpt-4o-2024-11-20\", \"o1-2024-12-17\", \"o3-2025-04-16\", \"o4-mini-2025-04-16\"]"
   ]
  },
  {
   "cell_type": "code",
   "execution_count": 10,
   "metadata": {},
   "outputs": [
    {
     "name": "stdout",
     "output_type": "stream",
     "text": [
      "Found 83 entries in final_updated_df with harness=True to consider for updates.\n",
      "Applied 0 raw score updates to the benchmark data.\n",
      "Normalizing updated scores for columns: ['Sokoban', 'Tetris', '2048', 'Candy Crush', 'Ace Attorney']\n"
     ]
    }
   ],
   "source": [
    "# Create a mapping from model name to its integer index (row number in benchmark_df)\n",
    "model_to_idx = {name: i for i, name in enumerate(model_names)}\n",
    "\n",
    "# --- Step 1: Update Raw Scores in benchmark_df ---\n",
    "# Make a copy to avoid modifying the original benchmark_df if it's needed elsewhere\n",
    "updated_benchmark_df = benchmark_df.copy()\n",
    "\n",
    "# Assuming final_updated_df contains updates for harness=True.\n",
    "# If your benchmark_df implicitly represents harness=True, this is fine.\n",
    "# If not, you might need a more specific way to map harness conditions.\n",
    "updates_to_apply = final_updated_df[final_updated_df['harness'] == True].copy()\n",
    "print(f\"Found {len(updates_to_apply)} entries in final_updated_df with harness=True to consider for updates.\")\n",
    "\n",
    "updates_applied_count = 0\n",
    "for _, row in updates_to_apply.iterrows():\n",
    "    model_from_final = row['model_name']\n",
    "    game_from_final = row['game_name']\n",
    "    score_from_final = row['avg_score_from_rank']\n",
    "\n",
    "    if model_from_final in model_to_idx:\n",
    "        idx_in_benchmark = model_to_idx[model_from_final] # Get the row index for the model\n",
    "\n",
    "        if game_from_final in updated_benchmark_df.columns:\n",
    "            # print(f\"Updating (Raw): Model '{model_from_final}' (Row {idx_in_benchmark}), Game '{game_from_final}', New Raw Score: {score_from_final}\")\n",
    "            updated_benchmark_df.loc[idx_in_benchmark, game_from_final] = score_from_final\n",
    "            updates_applied_count += 1\n",
    "        # else:\n",
    "            # print(f\"Skipping Update: Game '{game_from_final}' (for model '{model_from_final}') not a column in benchmark_df.\")\n",
    "    # else:\n",
    "        # print(f\"Skipping Update: Model '{model_from_final}' from final_updated_df not in the provided 'model_names' list.\")\n",
    "print(f\"Applied {updates_applied_count} raw score updates to the benchmark data.\")\n",
    "\n",
    "# --- Step 2: Normalize Updated Scores ---\n",
    "columns_to_normalize = [\"Sokoban\", \"Tetris\", \"2048\", \"Candy Crush\", \"Ace Attorney\"]\n",
    "existing_cols_for_norm = [col for col in columns_to_normalize if col in updated_benchmark_df.columns]\n",
    "\n",
    "if existing_cols_for_norm:\n",
    "    print(f\"Normalizing updated scores for columns: {existing_cols_for_norm}\")\n",
    "\n",
    "    def normalize_column_safely(column_series):\n",
    "        numeric_series = pd.to_numeric(column_series, errors='coerce')\n",
    "        min_val = numeric_series.min()\n",
    "        max_val = numeric_series.max()\n",
    "\n",
    "        if pd.isna(min_val) or pd.isna(max_val) or min_val == max_val:\n",
    "            result_series = pd.Series([pd.NA] * len(numeric_series), index=numeric_series.index, dtype=float)\n",
    "            valid_numeric_mask = numeric_series.notna()\n",
    "            result_series[valid_numeric_mask] = 1.0 # Default to 1 if no range or all same\n",
    "            return result_series\n",
    "        else:\n",
    "            return (numeric_series - min_val) / (max_val - min_val) * 99 + 1\n",
    "\n",
    "    updated_benchmark_df[existing_cols_for_norm] = updated_benchmark_df[existing_cols_for_norm].apply(normalize_column_safely)\n",
    "else:\n",
    "    print(\"Warning: None of the specified columns for normalization were found in updated_benchmark_df.\")\n"
   ]
  },
  {
   "cell_type": "code",
   "execution_count": 11,
   "metadata": {},
   "outputs": [
    {
     "data": {
      "image/png": "[encoded data removed]",
      "text/plain": [
       "<Figure size 1000x400 with 2 Axes>"
      ]
     },
     "metadata": {},
     "output_type": "display_data"
    }
   ],
   "source": [
    "# draw correlation map\n",
    "fig, ax = plt.subplots(1, 2, figsize=(10, 4))\n",
    "titles = [\"t-SNE based on scores\", \"t-SNE based on ranks\"]\n",
    "\n",
    "# Convert to numpy array, forcing all values to be float (NaNs for invalid values)\n",
    "values = np.array([np.array(row, dtype=np.float64) for row in benchmark_data.values()], dtype=np.float64)\n",
    "keys = list(benchmark_data.keys())  # Start with all keys\n",
    "\n",
    "# Remove rows with any NaN values\n",
    "mask = ~np.isnan(values).any(axis=1)\n",
    "values = values[mask]\n",
    "keys = [keys[i] for i in range(len(keys)) if mask[i]]  # Only keep keys for valid rows\n",
    "\n",
    "# Normalize each column (feature-wise) instead of row-wise\n",
    "min_vals = np.nanmin(values, axis=0, keepdims=True)\n",
    "max_vals = np.nanmax(values, axis=0, keepdims=True)\n",
    "range_vals = np.where(max_vals - min_vals == 0, 1, max_vals - min_vals)\n",
    "normal_values = (values - min_vals) / range_vals\n",
    "\n",
    "# Apply t-SNE (reduce to 2D for visualization)\n",
    "for i in range(2):\n",
    "    tsne = TSNE(n_components=2, perplexity=7, random_state=0)\n",
    "    tsne_result = tsne.fit_transform(normal_values if i == 0 else np.apply_along_axis(rankdata, axis=1, arr=normal_values))\n",
    "    \n",
    "    ax[i].scatter(tsne_result[:, 0], tsne_result[:, 1])\n",
    "    for j, key in enumerate(keys):\n",
    "        ax[i].text(tsne_result[j, 0], tsne_result[j, 1], key, fontsize=9)\n",
    "    \n",
    "    ax[i].set_title(titles[i])\n",
    "    ax[i].set_xlabel(\"t-SNE 1\")\n",
    "    ax[i].set_ylabel(\"t-SNE 2\")\n",
    "    ax[i].set_xticks([])\n",
    "    ax[i].set_yticks([])\n",
    "\n",
    "plt.tight_layout()\n",
    "plt.savefig('tsne.png', dpi=300, bbox_inches='tight')\n",
    "plt.show()"
   ]
  },
  {
   "cell_type": "code",
   "execution_count": 12,
   "metadata": {},
   "outputs": [
    {
     "data": {
      "image/png": "[encoded data removed]",
      "text/plain": [
       "<Figure size 1100x900 with 2 Axes>"
      ]
     },
     "metadata": {},
     "output_type": "display_data"
    }
   ],
   "source": [
    "corr_matrix = benchmark_df.corr(method='spearman')\n",
    "mask = np.triu(np.ones_like(corr_matrix, dtype=bool))\n",
    "plt.figure(figsize=(11, 9))\n",
    "sns.heatmap(\n",
    "    corr_matrix,\n",
    "    mask=mask,  # apply the mask here\n",
    "    annot=False,\n",
    "    fmt=\".2f\",\n",
    "    cmap=\"coolwarm\",\n",
    "    center=0.4,\n",
    "    linewidths=0.5,\n",
    "    vmin=-0.2,\n",
    "    vmax=1.0\n",
    ")\n",
    "plt.title(\"Benchmark Correlation Matrix\")\n",
    "plt.show()\n",
    "\n"
   ]
  },
  {
   "cell_type": "code",
   "execution_count": 13,
   "metadata": {},
   "outputs": [
    {
     "name": "stdout",
     "output_type": "stream",
     "text": [
      "False 3.474114723859116\n",
      "benchmark:\n",
      "[0.42 0.00 0.15 0.43] MMLU-Pro\n",
      "[0.46 0.18 0.00 0.36] GPQA\n",
      "[0.48 0.29 0.15 0.08] HLE\n",
      "[0.48 0.29 0.15 0.08] HLE(Text)\n",
      "[0.79 0.21 0.00 0.00] Emma-mini Physics\n",
      "[0.93 0.00 0.07 0.00] PHYBench\n",
      "[0.16 0.29 0.46 0.09] EnigmaEval\n",
      "[0.36 0.00 0.64 0.00] nyt-connections\n",
      "[0.58 0.29 0.00 0.13] VISTA\n",
      "[0.69 0.04 0.12 0.16] chatbot Arena_vision\n",
      "[0.69 0.04 0.12 0.16] MMMU\n",
      "[0.73 0.13 0.04 0.10] Math 500\n",
      "[0.76 0.00 0.20 0.04] AIME 2025\n",
      "[0.77 0.23 0.00 0.00] EMMA-mini Math\n",
      "[0.69 0.04 0.12 0.16] LiveBench-Math\n",
      "[0.10 0.75 0.05 0.09] LiveBench-Coding\n",
      "[0.20 0.39 0.41 0.00] BigCodeBench Pass@1\n",
      "[0.37 0.31 0.10 0.23] Aider polyglot coding\n",
      "[0.25 0.00 0.29 0.46] LiveBench-Language\n",
      "[0.15 0.19 0.00 0.66] Multi Challenge\n",
      "[0.44 0.27 0.28 0.01] Sokoban\n",
      "[0.22 0.11 0.51 0.16] Tetris\n",
      "[0.22 0.03 0.60 0.14] 2048\n",
      "[0.36 0.35 0.28 0.00] Candy Crush\n",
      "[0.18 0.00 0.37 0.45] Ace Attorney\n"
     ]
    },
    {
     "data": {
      "image/png": "[encoded data removed]",
      "text/plain": [
       "<Figure size 1440x300 with 4 Axes>"
      ]
     },
     "metadata": {},
     "output_type": "display_data"
    }
   ],
   "source": [
    "\n",
    "benchmark_ranks = {}\n",
    "for benchmark, scores in benchmark_data.items():\n",
    "    scores_array = np.array(scores, dtype=np.float64)\n",
    "    valid_mask = ~np.isnan(scores_array)\n",
    "    ranks = np.full_like(scores_array, fill_value=np.nan, dtype=np.float64)\n",
    "    ranks[valid_mask] = rankdata(scores_array[valid_mask], method='average')\n",
    "    benchmark_ranks[benchmark] = ranks.tolist()\n",
    "benchmark_df_rank = pd.DataFrame(benchmark_ranks)\n",
    "np.random.seed(12)  \n",
    "feature_num = 4\n",
    "Y = (benchmark_df_rank*0.2).to_numpy()\n",
    "bias = False\n",
    "\n",
    "M_hat, B_hat,  success, loss = factorize_with_scipy_no_bias(Y,feature_num, lambda_l1=0.08, lambda_l2_m=0.01, lambda_l2_b=0.00)\n",
    "print(success, loss)\n",
    "\n",
    "np.set_printoptions(suppress=True, precision=2)\n",
    "\n",
    "normalized = B_hat / B_hat.sum(axis=1, keepdims=True)\n",
    "\n",
    "print(\"benchmark:\")\n",
    "if bias:\n",
    "    for bench, feature, feature_normalized, b in zip(benchmark_df.columns, B_hat, normalized, v):\n",
    "        formatted = \" \".join(f\"{x:.2f}\" for x in feature)\n",
    "        formatted_normalized = \" \".join(f\"{x:.2f}\" for x in feature_normalized)\n",
    "        bias_formatted = f\"{b:.2f}\"\n",
    "        print(f\"[{formatted}] [{formatted_normalized}] {bias_formatted} {bench}\")\n",
    "else:\n",
    "    for bench, feature, feature_normalized in zip(benchmark_df.columns, B_hat, normalized):\n",
    "        formatted = \" \".join(f\"{x:.2f}\" for x in feature)\n",
    "        formatted_normalized = \" \".join(f\"{x:.2f}\" for x in feature_normalized)\n",
    "        print(f\"[{formatted_normalized}] {bench}\")\n",
    "feature_names = [f\"Feature_{i+1}\" for i in range(normalized.shape[1])]\n",
    "bench_names   = list(benchmark_df.columns)\n",
    "\n",
    "# rows = features, columns = benchmarks\n",
    "bench_feature_df = pd.DataFrame(\n",
    "    normalized.T,           # transpose ⇒ shape (5, n_benchmarks)\n",
    "    index=feature_names,     # 5 feature rows\n",
    "    columns=bench_names      # one column per benchmark\n",
    ")\n",
    "# ------------------------------------------------------------------\n",
    "# 1)  CONFIG --------------------------------------------------------\n",
    "# ------------------------------------------------------------------\n",
    "BASELINE = ['Sokoban', 'Tetris', '2048', 'Candy Crush', 'Ace Attorney']\n",
    "TOP_K    = 3                     # “highest three” you asked for\n",
    "\n",
    "# your existing colour dictionary (extend it on‑the‑fly if new labels appear)\n",
    "model_colors = {\n",
    "    'Multi Challenge': '#66c2a5', 'MMLU-Pro': '#fc8d62', 'GPQA': '#8da0cb',\n",
    "    'Sokoban': '#e78ac3', 'SMB': '#a6d854', 'Tetris': '#ffd92f',\n",
    "    '2048': '#e5c494', 'Candy Crush': '#b3b3b3', 'Ace Attorney': '#1f78b4',\n",
    "    'NYT-connections': '#fb8072', 'Math 500': '#80b1d3', 'AIME 2025': '#fdb462',\n",
    "    'MGSM': '#bebada', 'VISTA': '#ffed6f', 'HLE': '#bc80bd',\n",
    "    'MMMU': '#fccde5', 'EnigmaEval': '#ccebc5'\n",
    "}\n",
    "\n",
    "# ------------------------------------------------------------------\n",
    "# 2)  BUILD LABELS + WEIGHTS FOR EVERY FEATURE ---------------------\n",
    "# ------------------------------------------------------------------\n",
    "labels_per_feat  = []\n",
    "weights_per_feat = []\n",
    "\n",
    "for feat_name, row in bench_feature_df.iterrows():\n",
    "    # pick top‑K non‑baseline benchmarks\n",
    "    top_other = (\n",
    "        row.drop(BASELINE)      # exclude always‑keep columns\n",
    "           .sort_values(ascending=False)\n",
    "           .head(TOP_K)\n",
    "           .index.tolist()\n",
    "    )\n",
    "    ordered_labels = top_other + BASELINE          # preserve the order you used before\n",
    "    labels_per_feat.append(ordered_labels)\n",
    "    weights_per_feat.append(row[ordered_labels].values)\n",
    "\n",
    "# ------------------------------------------------------------------\n",
    "# 3)  GUARANTEE A COLOUR FOR EVERY LABEL ---------------------------\n",
    "# ------------------------------------------------------------------\n",
    "needed = set(chain(*labels_per_feat)) - model_colors.keys()\n",
    "if needed:                                 # assign any still‑missing labels a palette colour\n",
    "    extra_palette = sns.color_palette(\"tab20\", len(needed))\n",
    "    model_colors.update(dict(zip(needed, extra_palette)))\n",
    "\n",
    "# ------------------------------------------------------------------\n",
    "# 4)  PLOT ----------------------------------------------------------\n",
    "# ------------------------------------------------------------------\n",
    "n_feat = len(labels_per_feat)\n",
    "fig, axes = plt.subplots(1, n_feat, figsize=(3.6 * n_feat, 3))\n",
    "plt.subplots_adjust(wspace=0.4)\n",
    "\n",
    "for i, (ax, labels, weights) in enumerate(zip(axes, labels_per_feat, weights_per_feat)):\n",
    "    bar_colors = [model_colors[l] for l in labels]\n",
    "    ax.barh(labels, weights, color=bar_colors)\n",
    "\n",
    "    ax.set_title(f\"Feature {i+1}\", fontsize=12)\n",
    "    ax.set_xlabel(\"Weight\", fontsize=12)\n",
    "    ax.tick_params(axis='both', labelsize=11)\n",
    "    ax.set_xlim(0, weights.max() * 1.1)\n",
    "\n",
    "    ax.invert_yaxis()\n",
    "    ax.spines[['top', 'right']].set_visible(False)\n",
    "    # dashed line separating “top‑K” and baseline for quick visual cue\n",
    "    ax.hlines(y=len(labels) - len(BASELINE) - 0.5,\n",
    "              xmin=0, xmax=1, colors='gray', linestyles='--',\n",
    "              transform=ax.get_yaxis_transform())\n",
    "\n",
    "plt.tight_layout()\n",
    "plt.savefig(\"low‑rank_consistent_colours.png\", dpi=300, bbox_inches='tight')\n",
    "plt.show()"
   ]
  }
 ],
 "metadata": {
  "kernelspec": {
   "display_name": "game_agent_env",
   "language": "python",
   "name": "python3"
  },
  "language_info": {
   "codemirror_mode": {
    "name": "ipython",
    "version": 3
   },
   "file_extension": ".py",
   "mimetype": "text/x-python",
   "name": "python",
   "nbconvert_exporter": "python",
   "pygments_lexer": "ipython3",
   "version": "3.10.16"
  }
 },
 "nbformat": 4,
 "nbformat_minor": 2
}
